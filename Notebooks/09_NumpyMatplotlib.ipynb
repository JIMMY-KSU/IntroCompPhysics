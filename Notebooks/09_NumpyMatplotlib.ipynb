{
 "metadata": {
  "name": "",
  "signature": "sha256:e56f6046a34d2643ff676100faa72df6b789a648947fc34972db4233b791c573"
 },
 "nbformat": 3,
 "nbformat_minor": 0,
 "worksheets": [
  {
   "cells": [
    {
     "cell_type": "markdown",
     "metadata": {},
     "source": [
      "# Physics 296\n",
      "## Lecture 09 - More Numpy and Matplotlib"
     ]
    },
    {
     "cell_type": "markdown",
     "metadata": {},
     "source": [
      "<img src=\"http://matplotlib.org/_static/logo2.png\" width=400px>"
     ]
    },
    {
     "cell_type": "markdown",
     "metadata": {},
     "source": [
      "## Last Time\n",
      "\n",
      "- reading and writing numerical data to files\n",
      "- an introduction to numpy arrays\n",
      "\n",
      "## Today\n",
      "- multidimensional arrays with numpy\n",
      "- introduction to plotting with matplotlib\n"
     ]
    },
    {
     "cell_type": "markdown",
     "metadata": {},
     "source": [
      "## NumPy\n",
      "\n",
      "Recall: NumPy is the fundamental package needed for scientific computing with Python. It contains among other things:\n",
      "- a powerful N-dimensional array object \n",
      "- sophisticated and optimized array (broadcasting) functions\n",
      "- tools for integrating C/C++ and Fortran code \n",
      "- useful linear algebra, Fourier transform, and random number capabilities\n",
      "\n",
      "We can import all this functionality using the `import` command.  It is customary to use the shortform `np`"
     ]
    },
    {
     "cell_type": "code",
     "collapsed": false,
     "input": [
      "import numpy as np"
     ],
     "language": "python",
     "metadata": {},
     "outputs": [],
     "prompt_number": 2
    },
    {
     "cell_type": "markdown",
     "metadata": {},
     "source": [
      "### Multi-dimensional arrays\n",
      "\n",
      "We can create them with nested lists"
     ]
    },
    {
     "cell_type": "code",
     "collapsed": false,
     "input": [
      "M = np.array([[1,2,3,4],[5,6,7,8]])\n",
      "M"
     ],
     "language": "python",
     "metadata": {},
     "outputs": [
      {
       "metadata": {},
       "output_type": "pyout",
       "prompt_number": 3,
       "text": [
        "array([[1, 2, 3, 4],\n",
        "       [5, 6, 7, 8]])"
       ]
      }
     ],
     "prompt_number": 3
    },
    {
     "cell_type": "code",
     "collapsed": false,
     "input": [
      "# `shape` gives us information about an array\n",
      "M.shape"
     ],
     "language": "python",
     "metadata": {},
     "outputs": [
      {
       "metadata": {},
       "output_type": "pyout",
       "prompt_number": 4,
       "text": [
        "(2, 4)"
       ]
      }
     ],
     "prompt_number": 4
    },
    {
     "cell_type": "code",
     "collapsed": false,
     "input": [
      "# while `size` gives us the total number of elements\n",
      "M.size"
     ],
     "language": "python",
     "metadata": {},
     "outputs": [
      {
       "metadata": {},
       "output_type": "pyout",
       "prompt_number": 5,
       "text": [
        "8"
       ]
      }
     ],
     "prompt_number": 5
    },
    {
     "cell_type": "code",
     "collapsed": false,
     "input": [
      "# index using a simple list of indices\n",
      "M[1,3]"
     ],
     "language": "python",
     "metadata": {},
     "outputs": [
      {
       "metadata": {},
       "output_type": "pyout",
       "prompt_number": 6,
       "text": [
        "8"
       ]
      }
     ],
     "prompt_number": 6
    },
    {
     "cell_type": "markdown",
     "metadata": {},
     "source": [
      "We can pass our array creation functions the size of a desired multi-dimensional array"
     ]
    },
    {
     "cell_type": "code",
     "collapsed": false,
     "input": [
      "M1 = np.ones([3,3])\n",
      "M1"
     ],
     "language": "python",
     "metadata": {},
     "outputs": [
      {
       "metadata": {},
       "output_type": "pyout",
       "prompt_number": 7,
       "text": [
        "array([[ 1.,  1.,  1.],\n",
        "       [ 1.,  1.,  1.],\n",
        "       [ 1.,  1.,  1.]])"
       ]
      }
     ],
     "prompt_number": 7
    },
    {
     "cell_type": "code",
     "collapsed": false,
     "input": [
      "# can go beyond matrices\n",
      "M0 = np.zeros([3,3,3])\n",
      "M0"
     ],
     "language": "python",
     "metadata": {},
     "outputs": [
      {
       "metadata": {},
       "output_type": "pyout",
       "prompt_number": 8,
       "text": [
        "array([[[ 0.,  0.,  0.],\n",
        "        [ 0.,  0.,  0.],\n",
        "        [ 0.,  0.,  0.]],\n",
        "\n",
        "       [[ 0.,  0.,  0.],\n",
        "        [ 0.,  0.,  0.],\n",
        "        [ 0.,  0.,  0.]],\n",
        "\n",
        "       [[ 0.,  0.,  0.],\n",
        "        [ 0.,  0.,  0.],\n",
        "        [ 0.,  0.,  0.]]])"
       ]
      }
     ],
     "prompt_number": 8
    },
    {
     "cell_type": "code",
     "collapsed": false,
     "input": [
      "# there are some speical matrix creaters\n",
      "II = np.identity(4)\n",
      "II"
     ],
     "language": "python",
     "metadata": {},
     "outputs": [
      {
       "metadata": {},
       "output_type": "pyout",
       "prompt_number": 9,
       "text": [
        "array([[ 1.,  0.,  0.,  0.],\n",
        "       [ 0.,  1.,  0.,  0.],\n",
        "       [ 0.,  0.,  1.,  0.],\n",
        "       [ 0.,  0.,  0.,  1.]])"
       ]
      }
     ],
     "prompt_number": 9
    },
    {
     "cell_type": "markdown",
     "metadata": {},
     "source": [
      "<div class=\"row\">\n",
      "<div class=\"span alert alert-info\">\n",
      "<h2> Programming Challenge</h2>\n",
      "<h3> Create the following 5x5 matrix </h3>\n",
      "</div>\n",
      "</div>\n",
      "\n",
      "<table>\n",
      "  <tr>\n",
      "    <td >0</td>\n",
      "    <td>1</td>\n",
      "    <td >2</td>\n",
      "    <td >3</td>\n",
      "    <td >4</td>\n",
      "  </tr>\n",
      "  <tr>\n",
      "    <td class=\"tg-s6z2\">10</td>\n",
      "    <td class=\"tg-031e\">11</td>\n",
      "    <td class=\"tg-031e\">12</td>\n",
      "    <td class=\"tg-031e\">13</td>\n",
      "    <td class=\"tg-031e\">14</td>\n",
      "  </tr>\n",
      "  <tr>\n",
      "    <td class=\"tg-s6z2\">20</td>\n",
      "    <td class=\"tg-031e\">21</td>\n",
      "    <td class=\"tg-031e\">22</td>\n",
      "    <td class=\"tg-031e\">23</td>\n",
      "    <td class=\"tg-031e\">24</td>\n",
      "  </tr>\n",
      "  <tr>\n",
      "    <td class=\"tg-s6z2\">30</td>\n",
      "    <td class=\"tg-031e\">31</td>\n",
      "    <td class=\"tg-031e\">32</td>\n",
      "    <td class=\"tg-031e\">33</td>\n",
      "    <td class=\"tg-031e\">34</td>\n",
      "  </tr>\n",
      "  <tr>\n",
      "    <td class=\"tg-s6z2\">40</td>\n",
      "    <td class=\"tg-031e\">41</td>\n",
      "    <td class=\"tg-031e\">42</td>\n",
      "    <td class=\"tg-031e\">43</td>\n",
      "    <td class=\"tg-031e\">44</td>\n",
      "  </tr>\n",
      "</table>"
     ]
    },
    {
     "cell_type": "code",
     "collapsed": false,
     "input": [
      "M = np.array([[10*j+i for i in range(5)] for j in range(5)])\n",
      "print M"
     ],
     "language": "python",
     "metadata": {},
     "outputs": [
      {
       "output_type": "stream",
       "stream": "stdout",
       "text": [
        "[[ 0  1  2  3  4]\n",
        " [10 11 12 13 14]\n",
        " [20 21 22 23 24]\n",
        " [30 31 32 33 34]\n",
        " [40 41 42 43 44]]\n"
       ]
      }
     ],
     "prompt_number": 10
    },
    {
     "cell_type": "markdown",
     "metadata": {},
     "source": [
      "### Matrix slicing"
     ]
    },
    {
     "cell_type": "code",
     "collapsed": false,
     "input": [
      "M[0,2:4]"
     ],
     "language": "python",
     "metadata": {},
     "outputs": [
      {
       "metadata": {},
       "output_type": "pyout",
       "prompt_number": 11,
       "text": [
        "array([2, 3])"
       ]
      }
     ],
     "prompt_number": 11
    },
    {
     "cell_type": "code",
     "collapsed": false,
     "input": [
      "M[1:3,1:3]"
     ],
     "language": "python",
     "metadata": {},
     "outputs": [
      {
       "metadata": {},
       "output_type": "pyout",
       "prompt_number": 12,
       "text": [
        "array([[11, 12],\n",
        "       [21, 22]])"
       ]
      }
     ],
     "prompt_number": 12
    },
    {
     "cell_type": "code",
     "collapsed": false,
     "input": [
      "M[:,2]"
     ],
     "language": "python",
     "metadata": {},
     "outputs": [
      {
       "metadata": {},
       "output_type": "pyout",
       "prompt_number": 13,
       "text": [
        "array([ 2, 12, 22, 32, 42])"
       ]
      }
     ],
     "prompt_number": 13
    },
    {
     "cell_type": "code",
     "collapsed": false,
     "input": [
      "M[2::2,::3]"
     ],
     "language": "python",
     "metadata": {},
     "outputs": [
      {
       "metadata": {},
       "output_type": "pyout",
       "prompt_number": 14,
       "text": [
        "array([[20, 23],\n",
        "       [40, 43]])"
       ]
      }
     ],
     "prompt_number": 14
    },
    {
     "cell_type": "markdown",
     "metadata": {},
     "source": [
      "<div class=\"row\">\n",
      "<div class=\"span alert alert-error\">\n",
      "Slices are references to memory in the original array.  If any slice changs, the data in the array will change.\n",
      "</div>\n",
      "</div>"
     ]
    },
    {
     "cell_type": "code",
     "collapsed": false,
     "input": [
      "M[2::2,::3] = -1000\n",
      "M"
     ],
     "language": "python",
     "metadata": {},
     "outputs": [
      {
       "metadata": {},
       "output_type": "pyout",
       "prompt_number": 15,
       "text": [
        "array([[    0,     1,     2,     3,     4],\n",
        "       [   10,    11,    12,    13,    14],\n",
        "       [-1000,    21,    22, -1000,    24],\n",
        "       [   30,    31,    32,    33,    34],\n",
        "       [-1000,    41,    42, -1000,    44]])"
       ]
      }
     ],
     "prompt_number": 15
    },
    {
     "cell_type": "markdown",
     "metadata": {},
     "source": [
      "We need to use copies to avoid this problem"
     ]
    },
    {
     "cell_type": "code",
     "collapsed": false,
     "input": [
      "M2 = np.copy(M)\n",
      "M2"
     ],
     "language": "python",
     "metadata": {},
     "outputs": [
      {
       "metadata": {},
       "output_type": "pyout",
       "prompt_number": 16,
       "text": [
        "array([[    0,     1,     2,     3,     4],\n",
        "       [   10,    11,    12,    13,    14],\n",
        "       [-1000,    21,    22, -1000,    24],\n",
        "       [   30,    31,    32,    33,    34],\n",
        "       [-1000,    41,    42, -1000,    44]])"
       ]
      }
     ],
     "prompt_number": 16
    },
    {
     "cell_type": "code",
     "collapsed": false,
     "input": [
      "M2[2::2,::3] = 1000\n",
      "M2"
     ],
     "language": "python",
     "metadata": {},
     "outputs": [
      {
       "metadata": {},
       "output_type": "pyout",
       "prompt_number": 17,
       "text": [
        "array([[   0,    1,    2,    3,    4],\n",
        "       [  10,   11,   12,   13,   14],\n",
        "       [1000,   21,   22, 1000,   24],\n",
        "       [  30,   31,   32,   33,   34],\n",
        "       [1000,   41,   42, 1000,   44]])"
       ]
      }
     ],
     "prompt_number": 17
    },
    {
     "cell_type": "code",
     "collapsed": false,
     "input": [
      "M"
     ],
     "language": "python",
     "metadata": {},
     "outputs": [
      {
       "metadata": {},
       "output_type": "pyout",
       "prompt_number": 18,
       "text": [
        "array([[    0,     1,     2,     3,     4],\n",
        "       [   10,    11,    12,    13,    14],\n",
        "       [-1000,    21,    22, -1000,    24],\n",
        "       [   30,    31,    32,    33,    34],\n",
        "       [-1000,    41,    42, -1000,    44]])"
       ]
      }
     ],
     "prompt_number": 18
    },
    {
     "cell_type": "markdown",
     "metadata": {},
     "source": [
      "### Reading/Writing arrays to/from disk\n",
      "\n",
      "We can use np.loadtxt() and np.savetxt() to drastically simplify numerical file input/output.  Let's redo our programming challenge with numpy"
     ]
    },
    {
     "cell_type": "code",
     "collapsed": false,
     "input": [
      "# loadtxt ignores comments with '#' by default\n",
      "data = np.loadtxt('Examples/sho_energy.dat')\n",
      "\n",
      "# construct the total energy\n",
      "energy = data[:,0] + data[:,1]\n",
      "\n",
      "# Compute the average along the '0th' axis, rows here\n",
      "ave_energy = np.average(energy,0)\n",
      "\n",
      "# compute the standard deviation\n",
      "std_energy = np.std(energy,0)\n",
      "\n",
      "# Output the results\n",
      "print '%16s\\t%16s' % ('Average Energy','Std. Deviation')\n",
      "print '%16.8f\\t%16.8f' % (ave_energy,std_energy)"
     ],
     "language": "python",
     "metadata": {},
     "outputs": [
      {
       "output_type": "stream",
       "stream": "stdout",
       "text": [
        "  Average Energy\t  Std. Deviation\n",
        "      0.66699128\t      0.11669583\n"
       ]
      }
     ],
     "prompt_number": 19
    },
    {
     "cell_type": "markdown",
     "metadata": {},
     "source": [
      "## Matplotlib\n",
      "\n",
      "This is an extremely flexible plotting library that can do almost everything we need from simple 1d plots, to matrices of supbplots, 3d plots and animations with full support for LaTeX.  It was created by John Hunter as a replacement for matlab, so many of the command may be familiar to you already.\n",
      "\n",
      "<img src=\"http://matplotlib.org/_static/John-hunter-crop-2.jpg\">\n",
      "\n",
      "<blockquote>\n",
      "Matplotlib tries to make easy things easy and hard things possible.\n",
      "  -- John Hunter\n",
      "</blockquote>\n",
      "\n",
      "Nobody can memorize all the configuration options and plot types.  Plan to make heavy use of the example code on the matplotlib website:\n",
      "\n",
      "http://matplotlib.org\n",
      "\n",
      "There are many different ways to import it.  It is conventional to use:"
     ]
    },
    {
     "cell_type": "code",
     "collapsed": false,
     "input": [
      "import matplotlib.pyplot as plt"
     ],
     "language": "python",
     "metadata": {},
     "outputs": [],
     "prompt_number": 20
    },
    {
     "cell_type": "markdown",
     "metadata": {},
     "source": [
      "Historically (I still do this sometimes) people used `import pylab as pl` which is a convenicnce module that imports both pyplot and numpy in one package.  It is better programming form to use:\n",
      "\n",
      "    import numpy as np\n",
      "    import matplotlib.pyplot as plt\n",
      "\n",
      "as there is no guarentee that as `numpy` continues to evolve, all its latest features will be in pylab.\n",
      "\n",
      "If you are using the iPython notebook, you can have plots displayed inline using an iPython magic:"
     ]
    },
    {
     "cell_type": "code",
     "collapsed": false,
     "input": [
      "%matplotlib inline"
     ],
     "language": "python",
     "metadata": {},
     "outputs": [],
     "prompt_number": 21
    },
    {
     "cell_type": "markdown",
     "metadata": {},
     "source": [
      "If you are writing scripts or using canopy, you will need to explicitly type the `plt.show()` command to see a plot appear.\n",
      "\n",
      "<div class=\"row\">\n",
      "<div class=\"span alert alert-error\">\n",
      "The default backend (GUI display) will differ depending on your OS.  Some may draw the plot to the screen without the use of the `show` command, but it is good practice to use it.\n",
      "</div>\n",
      "</div>"
     ]
    },
    {
     "cell_type": "markdown",
     "metadata": {},
     "source": [
      "### Basic plotting "
     ]
    },
    {
     "cell_type": "code",
     "collapsed": false,
     "input": [
      "# Our first plot, a list\n",
      "plt.plot([0,1,4,9,15])"
     ],
     "language": "python",
     "metadata": {},
     "outputs": [
      {
       "metadata": {},
       "output_type": "pyout",
       "prompt_number": 22,
       "text": [
        "[<matplotlib.lines.Line2D at 0x10d1bc610>]"
       ]
      },
      {
       "metadata": {},
       "output_type": "display_data",
       "png": "[encoded data removed]",
       "text": [
        "<matplotlib.figure.Figure at 0x10d1109d0>"
       ]
      }
     ],
     "prompt_number": 22
    },
    {
     "cell_type": "markdown",
     "metadata": {},
     "source": [
      "Providing a single list to `plot()` causes the x-axis to be taken as the integer indices of the list."
     ]
    },
    {
     "cell_type": "code",
     "collapsed": false,
     "input": [
      "# can use all the python tricks we have learned so far\n",
      "x = range(6)\n",
      "plt.plot(x,[xi**2 for xi in x])"
     ],
     "language": "python",
     "metadata": {},
     "outputs": [
      {
       "metadata": {},
       "output_type": "pyout",
       "prompt_number": 23,
       "text": [
        "[<matplotlib.lines.Line2D at 0x10d217490>]"
       ]
      },
      {
       "metadata": {},
       "output_type": "display_data",
       "png": "[encoded data removed]",
       "text": [
        "<matplotlib.figure.Figure at 0x10d110950>"
       ]
      }
     ],
     "prompt_number": 23
    },
    {
     "cell_type": "code",
     "collapsed": false,
     "input": [
      "# We can use numpy array operations to simplify things\n",
      "x = np.arange(0,6,0.001)\n",
      "plt.plot(x,x**2)"
     ],
     "language": "python",
     "metadata": {},
     "outputs": [
      {
       "metadata": {},
       "output_type": "pyout",
       "prompt_number": 24,
       "text": [
        "[<matplotlib.lines.Line2D at 0x10d347510>]"
       ]
      },
      {
       "metadata": {},
       "output_type": "display_data",
       "png": "[encoded data removed]",
       "text": [
        "<matplotlib.figure.Figure at 0x10d1108d0>"
       ]
      }
     ],
     "prompt_number": 24
    },
    {
     "cell_type": "markdown",
     "metadata": {},
     "source": [
      "### Combining data\n",
      "\n",
      "Until we explicitly issue the `show()` command or shange the figure number with `figure(num=?)` all data will be included on the same plot"
     ]
    },
    {
     "cell_type": "code",
     "collapsed": false,
     "input": [
      "plt.figure(num=3)\n",
      "plt.plot(x,x**1.5)\n",
      "plt.plot(x,x**2)\n",
      "plt.plot(x,x**2.5)"
     ],
     "language": "python",
     "metadata": {},
     "outputs": [
      {
       "metadata": {},
       "output_type": "pyout",
       "prompt_number": 25,
       "text": [
        "[<matplotlib.lines.Line2D at 0x10d87de10>]"
       ]
      },
      {
       "metadata": {},
       "output_type": "display_data",
       "png": "[encoded data removed]",
       "text": [
        "<matplotlib.figure.Figure at 0x10d377410>"
       ]
      }
     ],
     "prompt_number": 25
    },
    {
     "cell_type": "code",
     "collapsed": false,
     "input": [
      "# we could have included them all in a single line\n",
      "plt.plot(x,x**1.5,x,x**2,x,x**2.5)"
     ],
     "language": "python",
     "metadata": {},
     "outputs": [
      {
       "metadata": {},
       "output_type": "pyout",
       "prompt_number": 26,
       "text": [
        "[<matplotlib.lines.Line2D at 0x10d9b3bd0>,\n",
        " <matplotlib.lines.Line2D at 0x10d7e26d0>,\n",
        " <matplotlib.lines.Line2D at 0x10d7e2d90>]"
       ]
      },
      {
       "metadata": {},
       "output_type": "display_data",
       "png": "[encoded data removed]",
       "text": [
        "<matplotlib.figure.Figure at 0x10d347450>"
       ]
      }
     ],
     "prompt_number": 26
    },
    {
     "cell_type": "markdown",
     "metadata": {},
     "source": [
      "### Customizing\n",
      "\n",
      "There are multitudinous ways to customize the look of yoru plots"
     ]
    },
    {
     "cell_type": "code",
     "collapsed": false,
     "input": [
      "# grids\n",
      "plt.plot(x,0*x,x,x,x,-x)\n",
      "plt.grid(True)"
     ],
     "language": "python",
     "metadata": {},
     "outputs": [
      {
       "metadata": {},
       "output_type": "display_data",
       "png": "[encoded data removed]",
       "text": [
        "<matplotlib.figure.Figure at 0x10d395310>"
       ]
      }
     ],
     "prompt_number": 27
    },
    {
     "cell_type": "code",
     "collapsed": false,
     "input": [
      "# specifying axes bounds, labels and titles\n",
      "y = x - 4*x**2 + x**3\n",
      "plt.plot(x,y)\n",
      "plt.xlim(1,3)\n",
      "plt.ylim(-8,0)\n",
      "plt.xlabel('x')\n",
      "plt.ylabel('y')\n",
      "plt.title(r'$y = x - 4x^2 + x^3$')"
     ],
     "language": "python",
     "metadata": {},
     "outputs": [
      {
       "metadata": {},
       "output_type": "pyout",
       "prompt_number": 28,
       "text": [
        "<matplotlib.text.Text at 0x10db5f9d0>"
       ]
      },
      {
       "metadata": {},
       "output_type": "display_data",
       "png": "[encoded data removed]",
       "text": [
        "<matplotlib.figure.Figure at 0x10db15550>"
       ]
      }
     ],
     "prompt_number": 28
    },
    {
     "cell_type": "code",
     "collapsed": false,
     "input": [
      "# adding a legend\n",
      "plt.plot(x,0*x,label=r'$y=0$')\n",
      "plt.plot(x,y,label=r'$y=x-4x^2+x^3$')\n",
      "plt.plot(x,-y,label=r'$y=-x+4x^2-x^3$')\n",
      "plt.ylim(-20,20)\n",
      "plt.legend(loc='upper left', fontsize=13)"
     ],
     "language": "python",
     "metadata": {},
     "outputs": [
      {
       "metadata": {},
       "output_type": "pyout",
       "prompt_number": 29,
       "text": [
        "<matplotlib.legend.Legend at 0x10d813450>"
       ]
      },
      {
       "metadata": {},
       "output_type": "display_data",
       "png": "[encoded data removed]",
       "text": [
        "<matplotlib.figure.Figure at 0x10d706a50>"
       ]
      }
     ],
     "prompt_number": 29
    },
    {
     "cell_type": "markdown",
     "metadata": {},
     "source": [
      "`legend` locations are: \u2018best\u2019, \u2018upper right\u2019, \u2018upper left\u2019, \u2018lower left\u2019, \u2018lower right\u2019, \u2018right\u2019, \u2018center left\u2019, \u2018center right\u2019, \u2018lower center\u2019, \u2018upper center\u2019 and \u2018center\u2019\n",
      "\n",
      "<div class=\"row\">\n",
      "<div class=\"span alert alert-success\">\n",
      "If any label argument is set to the literal string `_nolegend_`, then\n",
      "that line is excluded from the legend.</div>\n",
      "</div>"
     ]
    }
   ],
   "metadata": {}
  }
 ]
}