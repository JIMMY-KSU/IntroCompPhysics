{
 "cells": [
  {
   "cell_type": "markdown",
   "metadata": {},
   "source": [
    "# Physics 256\n",
    "## Random Number Generators\n",
    "\n",
    "<img src=\"http://www.idquantique.com/wordpress/wp-content/uploads/Quantis-Appliance-Side-v2-Cropped.jpg\" width=600px>\n",
    "\n",
    "http://www.idquantique.com/random-number-generation/"
   ]
  },
  {
   "cell_type": "markdown",
   "metadata": {},
   "source": [
    "## Last Time\n",
    "\n",
    "- Error scaling for high dimensional quadrature\n",
    "- Monte Carlo Integration\n",
    "\n",
    "## Today\n",
    "\n",
    "- Generation and testing of pseudorandom numbers\n",
    "- Tower sampling\n"
   ]
  },
  {
   "cell_type": "markdown",
   "metadata": {},
   "source": [
    "## Setting up the Notebook"
   ]
  },
  {
   "cell_type": "code",
   "execution_count": 1,
   "metadata": {
    "collapsed": false
   },
   "outputs": [],
   "source": [
    "import matplotlib.pyplot as plt\n",
    "import numpy as np\n",
    "%matplotlib inline\n",
    "plt.style.use('notebook');\n",
    "%config InlineBackend.figure_format = 'retina'\n",
    "colors = [\"#2078B5\", \"#FF7F0F\", \"#2CA12C\", \"#D72827\", \"#9467BE\", \"#8C574B\",\n",
    "            \"#E478C2\", \"#808080\", \"#BCBE20\", \"#17BED0\", \"#AEC8E9\", \"#FFBC79\", \n",
    "            \"#98E08B\", \"#FF9896\", \"#C6B1D6\", \"#C59D94\", \"#F8B7D3\", \"#C8C8C8\", \n",
    "           \"#DCDC8E\", \"#9EDAE6\"]"
   ]
  },
  {
   "cell_type": "markdown",
   "metadata": {},
   "source": [
    "## Generation of Random Numbers\n",
    "\n",
    "### What is a random number?\n",
    "\n",
    "- There is really no such thing, definitely not on a deterministic classical computer\n",
    "- Loose term applied to a sequence of independent numbers drawn randomly from some distribution\n",
    "- Typically we select integer or real values on some finite domain\n",
    "\n",
    "What of the simplest ways to generate uniformly distrubted random numbers on $[0,1]$ is the **Linear Congruential Generator** (LCG).\n",
    "\n",
    "Consider the map (recursion relation) which generates integers between $0$ and $m-1$:\n",
    "\n",
    "\\begin{equation}\n",
    "X_{n+1} = (a X_n + c) \\mod m\n",
    "\\end{equation}\n",
    "\n",
    "where $a$ is known as the multiplier, $c$ is the increment and $m$ the modulus.  Starting from an initial **seed** value $X_0$ we generate the list of numbers:\n",
    "\n",
    "\\begin{align*}\n",
    "X_0 &= \\text{seed} \\newline\n",
    "X_1 &= (a X_0 + c) \\mod m \\newline\n",
    "X_2 &= \\{a [a (X_0 + c) \\mod m] + c\\} \\mod m \\newline\n",
    "\\vdots &\n",
    "\\end{align*}\n",
    "\n",
    "Then, a uniform number $x_n \\in \\mathcal{U}_{[0,1]}$ can be computed as:\n",
    "\n",
    "\\begin{equation}\n",
    "x_n = \\frac{X_n}{m} .\n",
    "\\end{equation}\n",
    "\n",
    "\n"
   ]
  },
  {
   "cell_type": "markdown",
   "metadata": {},
   "source": [
    "<div class=\"span alert alert-success\">\n",
    "<h2>Programming challenge </h2>\n",
    "Use Monte Carlo integration to aproximate the integral of the $2$-dimensional function $f(\\vec{x})$ on the unit square.\n",
    "</div>\n",
    "\n",
    "\\begin{equation}\n",
    "I = \\int_{-1/2}^{1/2} dx \\int_{-1/2}^{1/2} dx \\mathrm{e}^{-x^2 -y^2 -x^2 y^2}\n",
    "\\end{equation}"
   ]
  },
  {
   "cell_type": "code",
   "execution_count": null,
   "metadata": {
    "collapsed": true
   },
   "outputs": [],
   "source": []
  }
 ],
 "metadata": {
  "kernelspec": {
   "display_name": "Python 3",
   "language": "python",
   "name": "python3"
  },
  "language_info": {
   "codemirror_mode": {
    "name": "ipython",
    "version": 3
   },
   "file_extension": ".py",
   "mimetype": "text/x-python",
   "name": "python",
   "nbconvert_exporter": "python",
   "pygments_lexer": "ipython3",
   "version": "3.5.2"
  }
 },
 "nbformat": 4,
 "nbformat_minor": 0
}
