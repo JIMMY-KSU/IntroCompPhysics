{
 "cells": [
  {
   "cell_type": "markdown",
   "metadata": {},
   "source": [
    "# Physics 256\n",
    "## Random Number Generators\n",
    "\n",
    "<img src=\"http://www.idquantique.com/wordpress/wp-content/uploads/Quantis-Appliance-Side-v2-Cropped.jpg\" width=600px>\n",
    "\n",
    "http://www.idquantique.com/random-number-generation/"
   ]
  },
  {
   "cell_type": "markdown",
   "metadata": {},
   "source": [
    "## Last Time\n",
    "\n",
    "- Error scaling for high dimensional quadrature\n",
    "- Monte Carlo Integration\n",
    "\n",
    "## Today\n",
    "\n",
    "- Generation and testing of pseudorandom numbers\n",
    "- Tower sampling\n"
   ]
  },
  {
   "cell_type": "markdown",
   "metadata": {},
   "source": [
    "## Setting up the Notebook"
   ]
  },
  {
   "cell_type": "code",
   "execution_count": null,
   "metadata": {
    "collapsed": false
   },
   "outputs": [],
   "source": [
    "import matplotlib.pyplot as plt\n",
    "import numpy as np\n",
    "%matplotlib inline\n",
    "plt.style.use('notebook');\n",
    "%config InlineBackend.figure_format = 'retina'\n",
    "colors = [\"#2078B5\", \"#FF7F0F\", \"#2CA12C\", \"#D72827\", \"#9467BE\", \"#8C574B\",\n",
    "            \"#E478C2\", \"#808080\", \"#BCBE20\", \"#17BED0\", \"#AEC8E9\", \"#FFBC79\", \n",
    "            \"#98E08B\", \"#FF9896\", \"#C6B1D6\", \"#C59D94\", \"#F8B7D3\", \"#C8C8C8\", \n",
    "           \"#DCDC8E\", \"#9EDAE6\"]"
   ]
  },
  {
   "cell_type": "markdown",
   "metadata": {},
   "source": [
    "## Generation of Random Numbers\n",
    "\n",
    "### What is a random number?\n",
    "\n",
    "- There is really no such thing, definitely not on a deterministic classical computer\n",
    "- Loose term applied to a sequence of independent numbers drawn randomly from some distribution\n",
    "- Typically we select integer or real values on some finite domain\n",
    "\n",
    "What of the simplest ways to generate uniformly distrubted random numbers on $[0,1]$ is the **Linear Congruential Generator** (LCG).\n",
    "\n",
    "Consider the map (recursion relation) which generates integers between $0$ and $m-1$:\n",
    "\n",
    "\\begin{equation}\n",
    "X_{n+1} = (a X_n + c) \\mod m\n",
    "\\end{equation}\n",
    "\n",
    "where $a$ is known as the multiplier, $c$ is the increment and $m$ the modulus.  Starting from an initial **seed** value $X_0$ we generate the list of numbers:\n",
    "\n",
    "\\begin{align*}\n",
    "X_0 &= \\text{seed} \\newline\n",
    "X_1 &= (a X_0 + c) \\mod m \\newline\n",
    "X_2 &= \\{a [a (X_0 + c) \\mod m] + c\\} \\mod m \\newline\n",
    "\\vdots &\n",
    "\\end{align*}\n",
    "\n",
    "Then, a uniform number $x_n \\in \\mathcal{U}_{[0,1]}$ can be computed as:\n",
    "\n",
    "\\begin{equation}\n",
    "x_n = \\frac{X_n}{m} .\n",
    "\\end{equation}\n",
    "\n",
    "\n"
   ]
  },
  {
   "cell_type": "markdown",
   "metadata": {},
   "source": [
    "<div class=\"span alert alert-success\">\n",
    "<h2>Programming challenge </h2>\n",
    "Write a LCG function with $a=16807$, $c=0$, $m=2^{31}-1$ and $seed=332$ that generates a list of *pseudorandom* uniform numbers of length $N=1000$ on [0,1].\n",
    "</div>\n",
    "\n",
    "<!--\n",
    "    m = 2**32-1\n",
    "    a = 6\n",
    "    c = 7\n",
    "    U = 3\n",
    "-->"
   ]
  },
  {
   "cell_type": "code",
   "execution_count": null,
   "metadata": {
    "collapsed": false
   },
   "outputs": [],
   "source": [
    "def lcg_rand(a,c,m,seed,N=1):\n",
    "    '''A linear congruential pseudrandom number generator'''\n",
    "    x = np.zeros([N])\n",
    "    ###\n",
    "    # INSERT CODE HERE\n",
    "    ###\n",
    "    return x\n",
    "\n",
    "N = 1000\n",
    "a,c,m,seed = 16807,0,2**31-1,332\n",
    "x = lcg_rand(a,c,m,seed,N)"
   ]
  },
  {
   "cell_type": "markdown",
   "metadata": {},
   "source": [
    "We can test for uniformity by examining a histogram"
   ]
  },
  {
   "cell_type": "code",
   "execution_count": null,
   "metadata": {
    "collapsed": false
   },
   "outputs": [],
   "source": [
    "# the histogram of the data\n",
    "n, bins, patches = plt.hist(x, 20, normed=1, ec='w')\n",
    "plt.xlabel('x')\n",
    "plt.ylabel('p(x)')"
   ]
  },
  {
   "cell_type": "markdown",
   "metadata": {},
   "source": [
    "## Optimal Values for the LCG\n",
    "\n",
    "1. $c$ is relatively prime to m\n",
    "2. $b=a-1$ is a multiple of $p$ for every prime number $p$ dividing $m$\n",
    "3. $b$ is a multiple of 4 if $m$ is a multiple of 4\n",
    "\n",
    "Numerical Recipes suggests:\n",
    "\n",
    "\\begin{align*}\n",
    "a &= 1664525 \\newline\n",
    "c &= 1013904223 \\newline\n",
    "m &= 2^{32}\n",
    "\\end{align*}\n",
    "\n",
    "We can also test the overall statistics (but not correlations) by looking at the mean and variance over the uniform probability distribution p(x) = 1$.\n",
    "\n",
    "\\begin{equation}\n",
    "\\langle x \\rangle = \\mu = \\int_0^1 p(x) x dx \n",
    "= \\int_0^1 x dx \n",
    "= \\left. \\frac{x^2}{2}\\right \\rvert_0^1 \n",
    "= \\frac{1}{2}\n",
    "\\end{equation}\n",
    "\n",
    "\\begin{equation}\n",
    "\\sigma^2 = \\langle(x-\\mu)^2\\rangle = \\int_0^1 \\left(x-\\frac{1}{2}\\right)^2 dx =  \\int_0^1 \\left(x^2 - x +\\frac{1}{4}\\right) dx\n",
    "= \\frac{1}{3} - \\frac{1}{2} + \\frac{1}{4} = \\frac{1}{12}\n",
    "\\end{equation}\n",
    "\n",
    "so $\\sigma = \\frac{1}{\\sqrt{12}} \\simeq 0.2886$"
   ]
  },
  {
   "cell_type": "code",
   "execution_count": null,
   "metadata": {
    "collapsed": false
   },
   "outputs": [],
   "source": [
    "a,c,m,seed = 1664525,1013904223,2**32,13523\n",
    "x = lcg_rand(a,c,m,seed,10000)\n",
    "\n",
    "print(np.average(x),np.std(x))"
   ]
  },
  {
   "cell_type": "markdown",
   "metadata": {},
   "source": [
    "We can also visually inspect for correlations by plotting $x_i vs. x_{i+1}$"
   ]
  },
  {
   "cell_type": "code",
   "execution_count": null,
   "metadata": {
    "collapsed": false
   },
   "outputs": [],
   "source": [
    "plt.figure(figsize=(5,5))\n",
    "plt.plot(x[:-1],x[1:],'o', ms=3, mew=0)\n",
    "plt.xlabel(r'$x_i$')\n",
    "plt.ylabel(r'$x_{i+1}$')"
   ]
  },
  {
   "cell_type": "markdown",
   "metadata": {},
   "source": [
    "## Tower Sampling\n",
    "\n",
    "We can use the uniform distribution of (pseudo) random numbers in many ways, including sampling $N$ discrete events, each with their own probabilities $p_0,p_1,\\ldots,p_{N-1}$.  Since something *must* happen, we know\n",
    "\n",
    "\\begin{equation}\n",
    "\\sum_{i=0}^{n-1} p_i = 1\n",
    "\\end{equation}\n",
    "\n",
    "We can use our uniformly distributed random numbers $x\\in \\mathcal{U}_{[0,1]}$ to sample this discrete distribution by exploiting the fact that each event occupies a width $p_i$ in the probability interval. i.e. for a given random number $x$:\n",
    "\n",
    "\\begin{align*}\n",
    "0 &\\leftarrow 0 \\le x < p_0 \\newline\n",
    "1 &\\leftarrow p_0 \\le x < p_0 + p_1 \\newline\n",
    "2 &\\leftarrow p_0 + p_1 \\le x < p_0 + p_1 + p_2 \\newline\n",
    "&\\vdots \\newline\n",
    "N-1 &\\leftarrow p_0 + \\cdots + p_{N-2} \\le x < 1 .\n",
    "\\end{align*}\n",
    "\n",
    "Note that the relevant quantity here is the **cumulative probability**:\n",
    "\n",
    "\\begin{equation}\n",
    "{P}_i = \\sum_{k=0}^i p_k\n",
    "\\end{equation}\n",
    "\n",
    "which for continuous distribution is:\n",
    "\n",
    "\\begin{equation}\n",
    "{P}(x) = \\int_{-\\infty}^x p(x) dx\n",
    "\\end{equation}\n",
    "\n",
    "In practice, we simply make a list of cumulative probabilites and figure out where to insert $x$."
   ]
  },
  {
   "cell_type": "code",
   "execution_count": null,
   "metadata": {
    "collapsed": false
   },
   "outputs": [],
   "source": [
    "# Suppose we have 6 outcomes (eg. an unfair die) with the following propbabilites\n",
    "p = [0.22181816, 0.16939565, 0.16688735, 0.06891783, 0.19622408, 0.17675693]\n",
    "\n",
    "# generate the CDF\n",
    "P = [np.sum(p[:i+1]) for i in range(len(p))]\n",
    "\n",
    "plt.plot(P)\n",
    "plt.xlabel('n')\n",
    "plt.ylabel('P(x)')\n",
    "plt.title('Cumulative Probability Distribution')"
   ]
  },
  {
   "cell_type": "code",
   "execution_count": null,
   "metadata": {
    "collapsed": false
   },
   "outputs": [],
   "source": [
    "# Generate N random numbers sampled according to the tower, searchsorted is *fast*\n",
    "N = 10000\n",
    "events = np.searchsorted(P,np.random.random(N))\n",
    "plt.plot(p,'o', mec='None')\n",
    "plt.hist(events, bins=len(p), normed=True, range=(-0.5,len(p) - 0.5), ec='w')\n",
    "plt.xlabel('x')\n",
    "plt.ylabel('p(x)')\n",
    "plt.xlim(-0.5,5.5)\n",
    "plt.title('Tower Sampling')"
   ]
  },
  {
   "cell_type": "markdown",
   "metadata": {},
   "source": [
    "## Sampling Continous Distributions\n",
    "\n",
    "We can extend the *tower sampling* concept to any continuous probability distribution. Our starting point will be the uniform distribution which satisfies:\n",
    "\n",
    "\\begin{equation}\n",
    "p(x) dx = \\left \\{\n",
    "\\begin{array}[rcl]\n",
    "dx & ; & 0 \\le x \\le 1 \\\\\n",
    "0 & ; & \\text{otherwise} \n",
    "\\end{array}\n",
    "\\right.\n",
    "\\end{equation}\n",
    "\n",
    "such that:\n",
    "\n",
    "\\begin{equation}\n",
    "\\int_{-\\infty}^{\\infty} p(x) dx = 1.\n",
    "\\end{equation}\n",
    "\n",
    "Now, we want to sample some new random variables $y$ from some probability distribution $p(y)$.  This requires we identify a mapping $x\\leftrightarrow y$ such that probability is conserved, i.e.\n",
    "\n",
    "\\begin{equation}\n",
    "p(y) dy = p(x) dx \\Rightarrow p(y) = \\frac{dx}{dy}  p(x) .\n",
    "\\end{equation}\n",
    "\n",
    "We can integrate both sides:\n",
    "\n",
    "\\begin{equation}\n",
    "P(y) = \\int_{-\\infty}^y p(y') dy' = \\int_{-\\infty}^{y} \\frac{dx}{dy'}  p(x) dy' = \\int_0^y \\frac{dx}{dy'} dy' = x(y)\n",
    "\\end{equation}\n",
    "\n",
    "Therefore, if we can invert the CDF $P(y)$ we can get $y = P^{-1}(x)$ for a uniformly distributed $x$.\n",
    "\n",
    "Let's see how this works for a few specific examples.\n",
    "\n",
    "\n",
    "### Example 1\n",
    "Generate a uniform random number $y$ on the domain $[a,b]$.\n",
    "\n",
    "We have: \n",
    "\\begin{equation}\n",
    "p(y) = \\left \\{\n",
    "\\begin{array}[rcl]\n",
    "{} \\frac{1}{b-a} & ; & a \\le y \\le b \\\\\n",
    "0 & ; & \\text{otherwise} \n",
    "\\end{array}\n",
    "\\right.\n",
    "\\end{equation}\n",
    "\n",
    "So\n",
    "\n",
    "\\begin{equation}\n",
    "x(y) =\\int_a^y p(y') dy' = \\int_a^y \\frac{dy'}{b-a} = \\left.\\frac{y'}{b-a} \\right \\rvert_a^y = \\frac{y-a}{b-a}\n",
    "\\end{equation}\n",
    "\n",
    "so $y = (b-a)x + a$,  our well known result.\n",
    "\n",
    "### Example 2\n",
    "Consider sampling from the exponential distribution for $y\\ge 0$:\n",
    "\n",
    "\\begin{equation}\n",
    "p(y) = \\lambda \\mathrm{e}^{-\\lambda y}.\n",
    "\\end{equation}\n",
    "\n",
    "As before:\n",
    "\n",
    "\\begin{equation}\n",
    "x(y) =\\int_0^y p(y') dy' = \\lambda \\int_0^y \\mathrm{e}^{-\\lambda y'}dy' = \\left.-\\mathrm{e}^{-\\lambda y'} \\right \\rvert_0^y = 1 - \\mathrm{e}^{-\\lambda y} .\n",
    "\\end{equation}\n",
    "\n",
    "Solving for $x$:\n",
    "\n",
    "\\begin{align*}\n",
    "\\mathrm{e}^{-\\lambda y} &= 1-x \\newline\n",
    "-\\lambda y &= \\ln (1-x) \\newline\n",
    "y &= -\\frac{1}{\\lambda} \\ln (1-x) \n",
    "\\end{align*}\n",
    "\n",
    "which gives $y \\in [0,\\infty)$ for $x \\in [0,1)$.\n",
    "\n",
    "<br />\n",
    "<div class=\"span alert alert-danger\">\n",
    "Note: we need to be careful with our uniform random number $x$ as it can formally take on the end point value $x=1$. \n",
    "</div>"
   ]
  },
  {
   "cell_type": "code",
   "execution_count": null,
   "metadata": {
    "collapsed": false
   },
   "outputs": [],
   "source": [
    "def p(y,λ):\n",
    "    return λ*np.exp(-λ*y)\n",
    "\n",
    "N = 10000\n",
    "λ = 0.5\n",
    "y = np.linspace(0,100,N)\n",
    "plt.plot(y,p(y,λ),color=colors[0], label=r'$%3.1f\\mathrm{e}^{-%3.1fy}$'%(λ,λ))\n",
    "\n",
    "# sample y from a uniform x\n",
    "x = np.random.random(N)\n",
    "sampled_y = -(1/λ)*np.log(1-x)\n",
    "\n",
    "plt.hist(sampled_y, bins=100, normed=True, ec='w', label='sampled');\n",
    "plt.xlim(0,10);\n",
    "plt.xlabel('y')\n",
    "plt.ylabel('p(y)')\n",
    "plt.title('Exponential Distribution')\n",
    "plt.legend(loc='upper right')"
   ]
  },
  {
   "cell_type": "markdown",
   "metadata": {},
   "source": [
    "## Next Time:\n",
    "What happens if we can't analytically invert $P(y)$?"
   ]
  },
  {
   "cell_type": "code",
   "execution_count": null,
   "metadata": {
    "collapsed": true
   },
   "outputs": [],
   "source": []
  }
 ],
 "metadata": {
  "kernelspec": {
   "display_name": "Python 3",
   "language": "python",
   "name": "python3"
  },
  "language_info": {
   "codemirror_mode": {
    "name": "ipython",
    "version": 3
   },
   "file_extension": ".py",
   "mimetype": "text/x-python",
   "name": "python",
   "nbconvert_exporter": "python",
   "pygments_lexer": "ipython3",
   "version": "3.5.2"
  }
 },
 "nbformat": 4,
 "nbformat_minor": 0
}
