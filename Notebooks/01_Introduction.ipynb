{
 "cells": [
  {
   "cell_type": "markdown",
   "metadata": {},
   "source": [
    "# Physics 256 - Computational Physics\n",
    "## Lecture 01 - Some Featuers"
   ]
  },
  {
   "cell_type": "markdown",
   "metadata": {},
   "source": [
    "### Querying python floats"
   ]
  },
  {
   "cell_type": "code",
   "execution_count": null,
   "metadata": {
    "collapsed": false
   },
   "outputs": [],
   "source": [
    "import sys\n",
    "sys.float_info"
   ]
  },
  {
   "cell_type": "markdown",
   "metadata": {},
   "source": [
    "### Python Dynamic Typing\n",
    "\n",
    "\\begin{align}\n",
    "f(N) &= \\sum_{n=1}^{N} \\frac{1}{n} \\\\\n",
    "&= \\sum_{n=N}^{1} \\frac{1}{n}\n",
    "\\end{align}\n",
    "\n",
    "$$ f(100) = \\frac{14466636279520351160221518043104131447711}{2788815009188499086581352357412492142272}\n",
    "$$"
   ]
  },
  {
   "cell_type": "code",
   "execution_count": null,
   "metadata": {
    "collapsed": false
   },
   "outputs": [],
   "source": [
    "N = 100\n",
    "\n",
    "# the exact answer for N = 100\n",
    "f100 = 14466636279520351160221518043104131447711 / 2788815009188499086581352357412492142272\n",
    "\n",
    "# initialize the sums\n",
    "s1 = 0.0\n",
    "s2 = 0.0\n",
    "\n",
    "# forward sum\n",
    "for n in range(1,N+1):\n",
    "    s1 += 1.0/n\n",
    "\n",
    "# backward sum\n",
    "for n in range(N,0,-1):\n",
    "    s2 += 1.0/n\n",
    "\n",
    "# output results\n",
    "print('f(100)  = %.16f'%f100)\n",
    "print('s1      = %.16f'%s1)\n",
    "print('s2      = %.16f'%s2)\n",
    "print('|s1-s2| = %.2E' % (abs(s1-s2)))"
   ]
  },
  {
   "cell_type": "markdown",
   "metadata": {},
   "source": [
    "### The Mandelbrot Set\n",
    "\n",
    "$$ f(z) = z^2 + z_0 $$\n",
    "\n",
    "Consider the sequence: \n",
    "\n",
    "$$(0,f(0),f(f(0)),\\ldots)$$"
   ]
  },
  {
   "cell_type": "code",
   "execution_count": null,
   "metadata": {
    "collapsed": true
   },
   "outputs": [],
   "source": []
  }
 ],
 "metadata": {
  "kernelspec": {
   "display_name": "Python 3",
   "language": "python",
   "name": "python3"
  },
  "language_info": {
   "codemirror_mode": {
    "name": "ipython",
    "version": 3
   },
   "file_extension": ".py",
   "mimetype": "text/x-python",
   "name": "python",
   "nbconvert_exporter": "python",
   "pygments_lexer": "ipython3",
   "version": "3.4.5"
  }
 },
 "nbformat": 4,
 "nbformat_minor": 1
}
