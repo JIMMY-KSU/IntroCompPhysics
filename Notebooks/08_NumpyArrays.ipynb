{
 "cells": [
  {
   "cell_type": "markdown",
   "metadata": {},
   "source": [
    "# Physics 296\n",
    "## Lecture 08 - I/O & Numpy"
   ]
  },
  {
   "cell_type": "markdown",
   "metadata": {},
   "source": [
    "<img src=\"http://www.numpy.org/_static/numpy_logo.png\" width=300px>"
   ]
  },
  {
   "cell_type": "markdown",
   "metadata": {},
   "source": [
    "## Last Time\n",
    "\n",
    "- wrote a module to compute $\\pi$ in various ways\n",
    "- saw Monte Carlo for the first time!\n",
    "- file input/output\n",
    "\n",
    "## Today\n",
    "- working with numerical data\n",
    "- introduction to Numpy\n"
   ]
  },
  {
   "cell_type": "markdown",
   "metadata": {},
   "source": [
    "<div class=\"span alert alert-success\">\n",
    "<h2> Team programming challenge </h2>\n",
    "<h3> Average energy for the simple harmonic oscillator at finite temperature</h3>\n",
    "</div>\n",
    "\n",
    "I have uploaded a data file on BlackBoard in the Week 03 Course Materials called `sho_energy.dat`.  The line contains column headings with units in kelvin.\n",
    "\n",
    "The next set of lines contain quantum Monte Carlo measurements for the kinetic and potential energy of the simple harmonic osscilator at $T = 0.5~\\mathrm{K}$ where $\\hbar \\omega/k_{\\mathrm{B}} = 1$.  The exact answer is known to be:\n",
    "\\begin{equation}\n",
    "E(T) = \\frac{\\hbar \\omega}{2} \\coth \\frac{\\hbar \\omega}{2 k_{\\mathrm{B}} T}.\n",
    "\\end{equation}\n",
    "\n",
    "Download the data file to your computer and write a program that loads the file from disk and computes the average total energy of all lines.  If you have extra time, compare with the exact result."
   ]
  },
  {
   "cell_type": "code",
   "execution_count": null,
   "metadata": {
    "collapsed": false
   },
   "outputs": [],
   "source": [
    "!cat datac/sho_energy.dat"
   ]
  },
  {
   "cell_type": "code",
   "execution_count": null,
   "metadata": {
    "collapsed": false
   },
   "outputs": [],
   "source": [
    "%load \"Examples/sho_average.py\""
   ]
  },
  {
   "cell_type": "code",
   "execution_count": null,
   "metadata": {
    "collapsed": false
   },
   "outputs": [],
   "source": [
    "# sho_average.py\n",
    "# Compute the average energy of the simple harmonic osscilator from an input\n",
    "# file\n",
    "\n",
    "import math\n",
    "\n",
    "# -----------------------------------------------------------------------------\n",
    "def sho_energy(T):\n",
    "    '''Return the energy of a simple harmonic osscilator at temperature T.'''\n",
    "    # \\hbar \\omega / k_B = 1\n",
    "    return 0.5/math.tanh(0.5/T)\n",
    "\n",
    "\n",
    "# -----------------------------------------------------------------------------\n",
    "def main():\n",
    "    # open the file for reading\n",
    "    data_file = open('sho_energy.dat', 'r')\n",
    "\n",
    "    # get the column labels\n",
    "    data_labels = data_file.readline()\n",
    "\n",
    "    # split it at the spaces\n",
    "    labels = data_labels.split()\n",
    "\n",
    "    # remove the comment character\n",
    "    labels.remove('#')\n",
    "\n",
    "    # create an empty dictionary that will hold the data\n",
    "    data = {}\n",
    "\n",
    "    # initialize it with empty lists\n",
    "    for label in labels:\n",
    "        data[label] = []\n",
    "\n",
    "    # go through each line of the file\n",
    "    for line in data_file.readlines():\n",
    "        \n",
    "        # get a list of columns\n",
    "        values = line.split()\n",
    "        \n",
    "        # go through each value, convert to float and add to our list\n",
    "        for n,value in enumerate(values):\n",
    "            data[labels[n]].append(float(value))\n",
    "\n",
    "    # close the file\n",
    "    data_file.close()\n",
    "\n",
    "    # now that we have all the data, we can compute the averages\n",
    "    data_average = {}\n",
    "    for label in labels:\n",
    "        data_average[label] = 0.0\n",
    "        \n",
    "        for value in data[label]:\n",
    "            data_average[label] += value\n",
    "\n",
    "        data_average[label] /= len(data[label]) \n",
    "            \n",
    "    print 'Total Energy = %6.3f K' % (data_average['Kinetic'] + data_average['Potential'])\n",
    "    print 'Exact Energy = %6.3f K' % sho_energy(0.5)\n",
    "\n",
    "# -----------------------------------------------------------------------------\n",
    "if __name__ == '__main__':\n",
    "    main()\n"
   ]
  },
  {
   "cell_type": "markdown",
   "metadata": {},
   "source": [
    "## NumPy\n",
    "\n",
    "NumPy is the fundamental package needed for scientific computing with Python. It contains among other things:\n",
    "- a powerful N-dimensional array object \n",
    "- sophisticated and optimized array (broadcasting) functions\n",
    "- tools for integrating C/C++ and Fortran code \n",
    "- useful linear algebra, Fourier transform, and random number capabilities\n",
    "\n",
    "We can import all this functionality using the `import` command.  It is customary to use the shortform `np`"
   ]
  },
  {
   "cell_type": "code",
   "execution_count": null,
   "metadata": {
    "collapsed": false
   },
   "outputs": [],
   "source": [
    "import numpy as np"
   ]
  },
  {
   "cell_type": "markdown",
   "metadata": {},
   "source": [
    "NumPy contains array-optimized versions of all the standard library math functions."
   ]
  },
  {
   "cell_type": "code",
   "execution_count": null,
   "metadata": {
    "collapsed": false
   },
   "outputs": [],
   "source": [
    "print np.sqrt(1.234)\n",
    "\n",
    "# can deal with complex numbers\n",
    "print np.conjugate(1+3j)"
   ]
  },
  {
   "cell_type": "markdown",
   "metadata": {},
   "source": [
    "The most important part of NumPy for us is the array datatype.  We can create arrays using:\n",
    "- python lists\n",
    "- special functions `zeros`, `ones`, `arange`, `linspace`, etc.\n",
    "- directy from files"
   ]
  },
  {
   "cell_type": "markdown",
   "metadata": {},
   "source": [
    "### Creation from lists"
   ]
  },
  {
   "cell_type": "code",
   "execution_count": null,
   "metadata": {
    "collapsed": false
   },
   "outputs": [],
   "source": [
    "a = np.array([0,1,2,3,4])"
   ]
  },
  {
   "cell_type": "code",
   "execution_count": null,
   "metadata": {
    "collapsed": false
   },
   "outputs": [],
   "source": [
    "# It will try to dynamically guess\n",
    "# the type unless we specify with ‘dtype’\n",
    "a = np.array([0,1,2],dtype=float)\n",
    "a"
   ]
  },
  {
   "cell_type": "markdown",
   "metadata": {},
   "source": [
    "<div class=\"row\">\n",
    "<div class=\"span alert alert-error\">\n",
    "Numpy arrays are **statically typed**.  This allows them to be extremely fast with highly optimized array operations.  However, we cannot use them as heterogenous object collections.\n",
    "</div>\n",
    "</div>\n"
   ]
  },
  {
   "cell_type": "code",
   "execution_count": null,
   "metadata": {
    "collapsed": false
   },
   "outputs": [],
   "source": [
    "a[0] = 'hello'"
   ]
  },
  {
   "cell_type": "code",
   "execution_count": null,
   "metadata": {
    "collapsed": false
   },
   "outputs": [],
   "source": [
    "# use dtype to see the type of an array\n",
    "a.dtype"
   ]
  },
  {
   "cell_type": "markdown",
   "metadata": {},
   "source": [
    "### Using array creation functions"
   ]
  },
  {
   "cell_type": "code",
   "execution_count": null,
   "metadata": {
    "collapsed": false
   },
   "outputs": [],
   "source": [
    "# `arange` is like `range` except it can produce lists of floats\n",
    "a = np.arange(0,10,0.5)\n",
    "a"
   ]
  },
  {
   "cell_type": "code",
   "execution_count": null,
   "metadata": {
    "collapsed": false
   },
   "outputs": [],
   "source": [
    "# zeros and ones work as expected\n",
    "a0 = np.zeros(10)\n",
    "a1 = np.ones(10)\n",
    "\n",
    "a2 = np.zeros_like(a1)\n",
    "\n",
    "print a0\n",
    "print a1"
   ]
  },
  {
   "cell_type": "code",
   "execution_count": null,
   "metadata": {
    "collapsed": false
   },
   "outputs": [],
   "source": [
    "# linspace allows us to divide a region in to N linear pieces\n",
    "a = np.linspace(0,1,10)\n",
    "a"
   ]
  },
  {
   "cell_type": "code",
   "execution_count": null,
   "metadata": {
    "collapsed": false
   },
   "outputs": [],
   "source": [
    "# `logspace` can do the same for exponential functions\n",
    "l = np.logspace(0, 10, 10, base=np.e)\n",
    "l"
   ]
  },
  {
   "cell_type": "markdown",
   "metadata": {},
   "source": [
    "<div class=\"row\">\n",
    "<div class=\"span alert alert-error\">\n",
    "Note that when using linspace, the endpoints are included!!!\n",
    "</div>\n",
    "</div>\n",
    "\n",
    "The numpy routines are **much** faster than the built in python methods"
   ]
  },
  {
   "cell_type": "code",
   "execution_count": null,
   "metadata": {
    "collapsed": false
   },
   "outputs": [],
   "source": [
    "# making an array of squares\n",
    "%timeit [i**2 for i in range(1000)]"
   ]
  },
  {
   "cell_type": "code",
   "execution_count": null,
   "metadata": {
    "collapsed": false
   },
   "outputs": [],
   "source": [
    "%timeit np.arange(1000)**2"
   ]
  },
  {
   "cell_type": "markdown",
   "metadata": {},
   "source": [
    "### Indexing\n",
    "\n",
    "Works exactly the same as for python lists"
   ]
  },
  {
   "cell_type": "code",
   "execution_count": null,
   "metadata": {
    "collapsed": false
   },
   "outputs": [],
   "source": [
    "a = np.arange(10)**3\n",
    "print a\n",
    "print a[1]\n",
    "print a[:3]\n",
    "print a[-1:-3:-1]"
   ]
  },
  {
   "cell_type": "markdown",
   "metadata": {},
   "source": [
    "## Getting help\n",
    "\n",
    "In addition to the regular help command, numpy has interactive help"
   ]
  },
  {
   "cell_type": "code",
   "execution_count": null,
   "metadata": {
    "collapsed": false
   },
   "outputs": [],
   "source": [
    "np.lookfor('create array')"
   ]
  },
  {
   "cell_type": "code",
   "execution_count": null,
   "metadata": {
    "collapsed": false
   },
   "outputs": [],
   "source": [
    "help(np.diagflat)"
   ]
  },
  {
   "cell_type": "markdown",
   "metadata": {},
   "source": [
    "### Array operations\n",
    "\n",
    "These work on an element-by-element basis, and operate mathematically, unlike python lists"
   ]
  },
  {
   "cell_type": "code",
   "execution_count": null,
   "metadata": {
    "collapsed": false
   },
   "outputs": [],
   "source": [
    "a1 = np.arange(0.0,2.0*np.pi,np.pi/6)\n",
    "a1\n",
    "a2 = np.ones_like(a1)"
   ]
  },
  {
   "cell_type": "code",
   "execution_count": null,
   "metadata": {
    "collapsed": false
   },
   "outputs": [],
   "source": [
    "a1 + a2"
   ]
  },
  {
   "cell_type": "code",
   "execution_count": null,
   "metadata": {
    "collapsed": false
   },
   "outputs": [],
   "source": [
    "2*(a1+a2)"
   ]
  },
  {
   "cell_type": "code",
   "execution_count": null,
   "metadata": {
    "collapsed": false
   },
   "outputs": [],
   "source": [
    "(a1+a2)**3"
   ]
  },
  {
   "cell_type": "code",
   "execution_count": null,
   "metadata": {
    "collapsed": false
   },
   "outputs": [],
   "source": [
    "np.log(a1+a2)"
   ]
  },
  {
   "cell_type": "markdown",
   "metadata": {},
   "source": [
    "### Multi-dimensional arrays\n",
    "\n",
    "We can create them with nested lists"
   ]
  },
  {
   "cell_type": "code",
   "execution_count": null,
   "metadata": {
    "collapsed": false
   },
   "outputs": [],
   "source": [
    "M = np.array([[1,2,3,4],[5,6,7,8]])\n",
    "M"
   ]
  },
  {
   "cell_type": "code",
   "execution_count": null,
   "metadata": {
    "collapsed": false
   },
   "outputs": [],
   "source": [
    "# `shape` gives us information about an array\n",
    "M.shape"
   ]
  },
  {
   "cell_type": "code",
   "execution_count": null,
   "metadata": {
    "collapsed": false
   },
   "outputs": [],
   "source": [
    "# while `size` gives us the total number of elements\n",
    "M.size"
   ]
  },
  {
   "cell_type": "code",
   "execution_count": null,
   "metadata": {
    "collapsed": false
   },
   "outputs": [],
   "source": [
    "# index using a simple list of indices\n",
    "M[1,3]"
   ]
  },
  {
   "cell_type": "markdown",
   "metadata": {},
   "source": [
    "We can pass our array creation functions the size of a desired multi-dimensional array"
   ]
  },
  {
   "cell_type": "code",
   "execution_count": null,
   "metadata": {
    "collapsed": false
   },
   "outputs": [],
   "source": [
    "M1 = np.ones([3,3])\n",
    "M1"
   ]
  },
  {
   "cell_type": "code",
   "execution_count": null,
   "metadata": {
    "collapsed": false
   },
   "outputs": [],
   "source": [
    "# can go beyond matrices\n",
    "M0 = np.zeros([3,3,3])\n",
    "M0"
   ]
  },
  {
   "cell_type": "code",
   "execution_count": null,
   "metadata": {
    "collapsed": false
   },
   "outputs": [],
   "source": [
    "# there are some speical matrix creaters\n",
    "II = np.identity(4)\n",
    "II"
   ]
  }
 ],
 "metadata": {
  "kernelspec": {
   "display_name": "Python 3",
   "language": "python",
   "name": "python3"
  },
  "language_info": {
   "codemirror_mode": {
    "name": "ipython",
    "version": 3
   },
   "file_extension": ".py",
   "mimetype": "text/x-python",
   "name": "python",
   "nbconvert_exporter": "python",
   "pygments_lexer": "ipython3",
   "version": "3.5.2"
  }
 },
 "nbformat": 4,
 "nbformat_minor": 0
}
