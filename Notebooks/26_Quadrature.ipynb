{
 "cells": [
  {
   "cell_type": "markdown",
   "metadata": {},
   "source": [
    "# Physics 256\n",
    "## Numerical Quadrature\n",
    "\n",
    "<img src=\"https://upload.wikimedia.org/wikipedia/commons/f/f2/Integral_as_region_under_curve.svg\" width=500px>"
   ]
  },
  {
   "cell_type": "markdown",
   "metadata": {},
   "source": [
    "## Last Time\n",
    "\n",
    "- Simultaneous over relaxation (SOR)\n",
    "- Application to the Poisson equation (finite charge density)\n",
    "\n",
    "## Today\n",
    "\n",
    "- Solving for the magnetic field\n",
    "- Approximating integrals"
   ]
  },
  {
   "cell_type": "markdown",
   "metadata": {},
   "source": [
    "## Setting up the Notebook"
   ]
  },
  {
   "cell_type": "code",
   "execution_count": null,
   "metadata": {
    "collapsed": false
   },
   "outputs": [],
   "source": [
    "import matplotlib.pyplot as plt\n",
    "import numpy as np\n",
    "%matplotlib inline\n",
    "plt.style.use('notebook');\n",
    "%config InlineBackend.figure_format = 'retina'\n",
    "colors = [\"#2078B5\", \"#FF7F0F\", \"#2CA12C\", \"#D72827\", \"#9467BE\", \"#8C574B\",\n",
    "            \"#E478C2\", \"#808080\", \"#BCBE20\", \"#17BED0\", \"#AEC8E9\", \"#FFBC79\", \n",
    "            \"#98E08B\", \"#FF9896\", \"#C6B1D6\", \"#C59D94\", \"#F8B7D3\", \"#C8C8C8\", \n",
    "           \"#DCDC8E\", \"#9EDAE6\"]"
   ]
  },
  {
   "cell_type": "markdown",
   "metadata": {},
   "source": [
    "## The Biot-Savart Law\n",
    "\n",
    "The integral form of one of Maxwell's equations allows us to solve for the magnetic field $\\vec{B}$ for situations with constant current:\n",
    "\n",
    "\\begin{equation}\n",
    "\\vec{B}(\\vec{r}) = \\frac{\\mu_0}{4\\pi} \\int_C \\frac{I \\vec{d\\ell} \\times \\vec{r'}}{r'^3}\n",
    "\\end{equation}\n",
    "\n",
    "where $C$ is a curve parameterizing the wire carying current and $\\vec{r'}$ is the distance between the current element $\\vec{d\\ell}$ and the point of measurement $\\vec{r}$.\n",
    "\n",
    "### Example: Field outside a helix.\n",
    "\n",
    "Find the magnetic field around a current carrying helical wire that wraps around the $y$-axis parameterized by $w(t) = \\left(\\cos(\\omega t),t,\\sin(\\omega t)\\right)$ for $t \\in (-4\\pi,4\\pi)$."
   ]
  },
  {
   "cell_type": "code",
   "execution_count": null,
   "metadata": {
    "collapsed": false
   },
   "outputs": [],
   "source": [
    "from mpl_toolkits.mplot3d import Axes3D\n",
    "from scipy.constants import pi as π\n",
    "\n",
    "ω = 5\n",
    "\n",
    "fig = plt.figure(figsize=plt.figaspect(1))\n",
    "ax = fig.gca(projection='3d')\n",
    "\n",
    "q = np.linspace(-16,16,1000)\n",
    "t = np.linspace(-4*π, 4*π, 1000)\n",
    "x = np.cos(ω*t)\n",
    "y = t\n",
    "z = np.sin(ω*t)\n",
    "ax.plot(np.zeros_like(q),np.zeros_like(q),q, color='k', linewidth=1)\n",
    "ax.plot(q,np.zeros_like(q),np.zeros_like(q), color='k', linewidth=1)\n",
    "ax.plot(np.zeros_like(q),q,np.zeros_like(q), color='k', linewidth=1)\n",
    "ax.plot(x, y, z)\n",
    "ax.text(0,0,18, 'z', fontsize='18')\n",
    "ax.text(0,18,0, 'y', fontsize='18')\n",
    "ax.text(18,0,0, 'x', fontsize='18')\n",
    "ax.view_init(25, 30)\n",
    "plt.axis('off');"
   ]
  },
  {
   "cell_type": "markdown",
   "metadata": {},
   "source": [
    "We find:\n",
    "\n",
    "\\begin{equation}\n",
    "\\vec{B} = \\frac{\\mu_0 I}{2\\pi} \\int_{-4\\pi}^{4\\pi} dt \\frac{\\left(z-\\omega\\sin \\omega t - \\omega\\cos \\omega t(y-t), \\omega\\sin \\omega t(z-\\omega\\sin \\omega t) + \\omega\\cos \\omega t (x-\\omega\\cos \\omega t), - \\omega \\sin \\omega t(y-t) - x + \\omega \\cos \\omega t \\right)}{\\left[(x-\\cos \\omega t)^2 + (y-t)^2 + (z-\\sin \\omega t)^2\\right]^{3/2}}\n",
    "\\end{equation}\n",
    "\n",
    "This integral cannot be solved analytically *except* at some high-symmetry points.  Can we construct a general numerical method to do this?"
   ]
  },
  {
   "cell_type": "code",
   "execution_count": null,
   "metadata": {
    "collapsed": false
   },
   "outputs": [],
   "source": [
    "def dBx(t,x,y,z,ω):\n",
    "    '''x-component of the B field (in units of μ0I)'''\n",
    "    r = (x-np.cos(ω*t))**2+(y-t)**2+(z-np.sin(ω*t))**2\n",
    "    return (1/(2.0*π))*(z - ω*np.sin(ω*t) - ω*np.cos(ω*t)*(y-t))/r**3/2\n",
    "\n",
    "def dBy(t,x,y,z,ω):\n",
    "    '''y-component of the B field (in units of μ0I)'''\n",
    "    r = (x-np.cos(ω*t))**2+(y-t)**2+(z-np.sin(ω*t))**2\n",
    "    return (1/(2.0*π))*(ω*np.sin(ω*t)*(z-ω*np.sin(ω*t))+ω*np.cos(ω*t)*(x-ω*np.cos(ω*t)))/r**3/2\n",
    "\n",
    "def dBz(t,x,y,z,ω):\n",
    "    '''z-component of the B field (in units of μ0I)'''\n",
    "    r = (x-np.cos(ω*t))**2+(y-t)**2+(z-np.sin(ω*t))**2\n",
    "    return (1/(2.0*π))*(-ω*np.sin(ω*t)*(y-t)-x+ω*np.cos(ω*t))/r**3/2"
   ]
  },
  {
   "cell_type": "markdown",
   "metadata": {},
   "source": [
    "## Newton-Cotes Quadrature\n",
    "\n",
    "Consider the general definite integral:\n",
    "\n",
    "\\begin{equation}\n",
    "I = \\int_a^b f(x) dx\n",
    "\\end{equation}\n",
    "\n",
    "and consider breaking up the region of integration into $N$ equally sized regions of size:\n",
    "\n",
    "\\begin{equation}\n",
    "\\Delta x = \\frac{b-a}{N}\n",
    "\\end{equation}\n",
    "\n",
    "where $N \\in \\mathbb{Z} \\gg 1$.  The first step is to break up the integral into $N$ pieces:\n",
    "\n",
    "\\begin{align}\n",
    "I &= \\int_a^b f(x) dx \\newline\n",
    "&= \\int_{x_0}^{x_1} f(x) dx + \\int_{x_1}^{x_2} f(x) dx + \\cdots + \\int_{x_{N-1}}^{x_N} f(x) dx \\newline\n",
    "&= \\sum_{i=0}^{N-1} \\int_{x_i}^{x_{i+1}} f(x) dx\n",
    "\\end{align}\n",
    "\n",
    "where we have defined $x_i = a + i\\Delta x$.  Different numerical integration algorthims correspond to different approximations for the *top* of the panels.\n",
    "\n",
    "### Rectangular Rule\n",
    "\n",
    "We replace the function with a constant value:\n",
    "\n",
    "\\begin{equation}\n",
    "I_R = \\int_{a}^{b} f(x) dx \\approx \\sum_{i=0}^{N-1} f(x_i) \\Delta x .\n",
    "\\end{equation}\n",
    "\n",
    "### Trapezoidal Rule\n",
    "We can do better using a Taylor expansion at lowest order which provides a linear approximation to the function. \n",
    "\n",
    "\\begin{align}\n",
    "I_i &= \\int_{x_i}^{x_{i+1}} f(x) dx \\approx \\Delta x \\left[f(x_i) + \\frac{1}{2}\\left(f(x_{i+1})-f(x_i)\\right) \\right] \\newline\n",
    "&\\approx  \\frac{\\Delta x}{2} \\left[f(x_{i+1}) + f(x_i) \\right]\n",
    "\\end{align}\n",
    "\n",
    "Summing over all panels:\n",
    "\n",
    "\\begin{equation}\n",
    "I_T   \\approx \\frac{\\Delta x}{2} \\left[f(a) + f(b) \\right] +  \\sum_{i=1}^{N-1} f(x_i) \\Delta x .\n",
    "\\end{equation}\n",
    "\n",
    "<div class=\"span alert alert-success\">\n",
    "<h2>  Programming challenge </h2>\n",
    "\n",
    "Complete the code below to implement the trapezoidal rule.\n",
    "\n",
    "</div>"
   ]
  },
  {
   "cell_type": "code",
   "execution_count": null,
   "metadata": {
    "collapsed": true
   },
   "outputs": [],
   "source": [
    "def trapezoidal_rule(f,x,*params):\n",
    "    '''The trapezoidal rule for numerical integration of f(x) over x.'''\n",
    "    \n",
    "    a,b = x[0],x[-1]\n",
    "    Δx = x[1] - x[0]\n",
    "    I = 0\n",
    "    \n",
    "    ### \n",
    "    # INSERT CODE HERE\n",
    "    ###\n",
    "    \n",
    "    return I"
   ]
  },
  {
   "cell_type": "markdown",
   "metadata": {},
   "source": [
    "### Let's look at the magnetic field components along the $y$-axis"
   ]
  },
  {
   "cell_type": "code",
   "execution_count": null,
   "metadata": {
    "collapsed": false
   },
   "outputs": [],
   "source": [
    "N = 500\n",
    "t = np.linspace(-4*π,4*π,N)\n",
    "\n",
    "# along the axis\n",
    "y = np.linspace(-20,20,N)\n",
    "x,z = 0,0\n",
    "\n",
    "Bx = np.zeros_like(y)\n",
    "By = np.zeros_like(y)\n",
    "Bz = np.zeros_like(y)\n",
    "\n",
    "for i in range(N):\n",
    "    Bx[i] = trapezoidal_rule(dBx,t,x,y[i],z,ω)\n",
    "    By[i] = trapezoidal_rule(dBy,t,x,y[i],z,ω)\n",
    "    Bz[i] = trapezoidal_rule(dBz,t,x,y[i],z,ω)"
   ]
  },
  {
   "cell_type": "code",
   "execution_count": null,
   "metadata": {
    "collapsed": false
   },
   "outputs": [],
   "source": [
    "plt.plot(y,Bx,label=r'$B_x(0,y,0)$')\n",
    "plt.plot(y,By, label=r'$B_y(0,y,0)$')\n",
    "plt.plot(y,Bz, label=r'$B_z(0,y,0)$')\n",
    "\n",
    "plt.legend(frameon=True, loc='lower right')\n",
    "plt.xlabel('y')\n",
    "plt.ylabel(r'$B/\\mu_0 I$')"
   ]
  },
  {
   "cell_type": "markdown",
   "metadata": {},
   "source": [
    "## How do we determine the error in these expressions?\n",
    "\n",
    "Consider the [Euler-Maclaurin series](https://en.wikipedia.org/wiki/Euler%E2%80%93Maclaurin_formula) for the discrete function $f(i)$:\n",
    "\n",
    "\\begin{equation}\n",
    "\\sum_{i=0}^{N-1} f(i) = \\int_0^N f(u) du - \\frac{1}{2} \\left[f(0) + f(N) \\right] + \\sum_{k=1}^\\infty \\frac{B_{2k}}{(2k\\!)} \\left[f^{(2k-1)}(N) - f^{(2k-1)}(0) \\right] (\\Delta x)^{2k-1}\n",
    "\\end{equation}\n",
    "\n",
    "where $B_{2k}$ are the [Bernoulii numbers](https://en.wikipedia.org/wiki/Bernoulli_number) and $f^{(k)} = d^k f(u)/du^k$.\n",
    "\n",
    "If we make the variable transformation: $x = u \\delta x + a$ then $u =0 \\Rightarrow x=a$ and $u=N \\Rightarrow x=b$.  Also on the LHS, when $u=i$ we have the discrete position $x_i$.  We can write:\n",
    "\n",
    "\\begin{equation}\n",
    "\\sum_{i=0}^{N-1} f(x_i) = \\frac{1}{\\Delta x} \\int_{a}^{b} f(x) dx - \\frac{1}{2}\\left[ f(a) + f(b)\\right] +  \\sum_{k=1}^\\infty \\frac{B_{2k}}{(2k\\!)} \\left[f^{(2k-1)}(b) - f^{(2k-1)}(a) \\right] (\\Delta x)^{2k-1}\n",
    "\\end{equation}\n",
    "\n",
    "and multiplying by $\\Delta x$ and rearranging such that our integral $I$ is on the LHS we find:\n",
    "\n",
    "\\begin{equation}\n",
    "\\int_{a}^{b} f(x) dx = \\sum_{i=0}^{N-1} \\Delta x f(x_i) + \\frac{\\Delta x}{2}\\left[ f(a) + f(b)\\right]  -  \\frac{(\\Delta x)^2}{12} \\left[f'(b) - f'(a) \\right] + \\mathrm{O}\\left(\\Delta x^4\\right) .\n",
    "\\end{equation}\n",
    "\n",
    "Therefore we see that the errors are:\n",
    "\n",
    "\\begin{eqnarray}\n",
    "\\text{Rectangular:} \\quad & \\quad \\mathrm{O}{\\left(\\Delta x\\right)} \\newline\n",
    "\\text{Trapezoidal:} \\quad & \\quad \\mathrm{O}{\\left(\\Delta x^2\\right)}\n",
    "\\end{eqnarray}\n",
    "\n",
    "where we note that things can go seriously wrong when we have a divergent derivative at the endpoints. "
   ]
  },
  {
   "cell_type": "code",
   "execution_count": null,
   "metadata": {
    "collapsed": true
   },
   "outputs": [],
   "source": []
  }
 ],
 "metadata": {
  "kernelspec": {
   "display_name": "Python 3",
   "language": "python",
   "name": "python3"
  },
  "language_info": {
   "codemirror_mode": {
    "name": "ipython",
    "version": 3
   },
   "file_extension": ".py",
   "mimetype": "text/x-python",
   "name": "python",
   "nbconvert_exporter": "python",
   "pygments_lexer": "ipython3",
   "version": "3.5.2"
  }
 },
 "nbformat": 4,
 "nbformat_minor": 0
}
