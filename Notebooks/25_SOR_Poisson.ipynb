{
 "cells": [
  {
   "cell_type": "markdown",
   "metadata": {},
   "source": [
    "# Physics 256\n",
    "## The Poisson Equation\n",
    "\n",
    "\\begin{equation}\n",
    "\\nabla \\cdot \\vec{E} = \\frac{\\rho}{\\varepsilon_0}\n",
    "\\end{equation}\n"
   ]
  },
  {
   "cell_type": "markdown",
   "metadata": {},
   "source": [
    "## Last Time\n",
    "\n",
    "- Relaxation methods including:\n",
    " - Jacobi method\n",
    " - Guass-Seidel method\n",
    "- Computing the electric field\n",
    "\n",
    "## Today\n",
    "\n",
    "- Simultaneous over relaxation (SOR)\n",
    "- Application to the Poisson equation (finite charge density)"
   ]
  },
  {
   "cell_type": "markdown",
   "metadata": {},
   "source": [
    "## Setting up the Notebook"
   ]
  },
  {
   "cell_type": "code",
   "execution_count": 2,
   "metadata": {
    "collapsed": false
   },
   "outputs": [],
   "source": [
    "import matplotlib.pyplot as plt\n",
    "import numpy as np\n",
    "%matplotlib inline\n",
    "plt.style.use('notebook');\n",
    "%config InlineBackend.figure_format = 'retina'\n",
    "colors = [\"#2078B5\", \"#FF7F0F\", \"#2CA12C\", \"#D72827\", \"#9467BE\", \"#8C574B\",\n",
    "            \"#E478C2\", \"#808080\", \"#BCBE20\", \"#17BED0\", \"#AEC8E9\", \"#FFBC79\", \n",
    "            \"#98E08B\", \"#FF9896\", \"#C6B1D6\", \"#C59D94\", \"#F8B7D3\", \"#C8C8C8\", \n",
    "           \"#DCDC8E\", \"#9EDAE6\"]"
   ]
  },
  {
   "cell_type": "markdown",
   "metadata": {},
   "source": [
    "## Jacobi and Gauss-Seidel Methods\n",
    "\n",
    "Last time, we derived iterative relaxation methods to solve the Laplace equation in two dimensions:\n",
    "\n",
    "\\begin{equation}\n",
    "V(i,j) = \\frac{1}{4} \\left[V(i+1,j) + V(i-1,j) + V(i,j+1) + V(i,j-1)  \\right].\n",
    "\\end{equation}\n",
    "\n",
    "Both had poor $\\mathrm{O}(N^2)$ scaling and have limited applicability for fine grids.  The main advance of Gauss-Seidel was to update the potential *in place* using new values as they become available.  We can extend this idea to take a *larger* relaxation step.\n",
    "\n",
    "## Simultaneous Over Relaxtion (SOR)\n",
    "\n",
    "At each grid point $(i,j)$ we defined\n",
    "\n",
    "\\begin{equation}\n",
    "\\Delta V(i,j) = V_{\\rm new} (i,j) - V_{\\rm old}(i,j)\n",
    "\\end{equation}\n",
    "\n",
    "where $V_{\\rm new}$ is computed with the expression above. The Gauss-Seidel method can then be written as:\n",
    "\n",
    "\\begin{equation}\n",
    "V_{\\rm new}(i,j) = V_{\\rm old}(i,j) + \\alpha \\Delta V(i,j) \n",
    "\\end{equation}\n",
    "\n",
    "where $\\alpha = 1$.  However, we can arbitrarily increase the value of $\\alpha$, in particular:\n",
    "\n",
    "\\begin{align}\n",
    "\\alpha = 1 \\quad & : \\quad \\rm {Gauss-Seidel} \\newline\n",
    "1 < \\alpha < 2 \\quad & : \\quad \\rm {SOR} \\newline\n",
    "\\alpha \\ge 2 \\quad & : \\quad \\rm {Unstable}.\n",
    "\\end{align}\n",
    "\n",
    "The optimal value of $1 < \\alpha < 2$ to use depends on the particular proglem.  For elliptical PDEs with Dirichlet boundary condtiions it can be estimated as:\n",
    "\n",
    "\\begin{equation}\n",
    "\\alpha \\approx \\frac{2}{1+\\pi/L}.\n",
    "\\end{equation}\n",
    "\n",
    "\n",
    "### Coding\n",
    "\n",
    "Starting from the expression above, it is convenient to write:\n",
    "\\begin{align}\n",
    "V_{\\rm new}(i,j) &= V_{\\rm old}(i,j) + \\alpha \\Delta V(i,j) \\newline &= \\frac{\\alpha}{4} \\left[V(i+1,j) + V(i-1,j) + V(i,j+1) + V(i,j-1)  \\right] + (1-\\alpha)V(i,j) .\n",
    "\\end{align}\n",
    "\n",
    "Let's code it up."
   ]
  },
  {
   "cell_type": "code",
   "execution_count": null,
   "metadata": {
    "collapsed": true
   },
   "outputs": [],
   "source": [
    "def SOR_update(V,α,mask):\n",
    "    '''Update the potential according to the Simultaneous-Over-Relaxation method.'''\n",
    "    \n",
    "    # here we use a mask which tells us which elements should be updated\n",
    "    ΔV = 0.0\n",
    "    for i in range(mask.shape[0]):\n",
    "        for j in range(mask.shape[1]):\n",
    "            if mask[i,j]:\n",
    "                V_old = V[i,j]\n",
    "                V[i,j] = (α/4)*(V[i-1,j] + V[i+1,j] + V[i,j+1] + V[i,j-1]) + (1-α)*V_old\n",
    "                ΔV += abs(V_old-V[i,j])\n",
    "\n",
    "    return ΔV"
   ]
  },
  {
   "cell_type": "markdown",
   "metadata": {},
   "source": [
    "## Box inside a Box\n",
    "\n",
    "Find the potential everywhere the nested box shown below.  We assume that the inner box spans -1/5 ... 1/5 in the $x$ and $y$ directions."
   ]
  },
  {
   "cell_type": "code",
   "execution_count": 3,
   "metadata": {
    "collapsed": false
   },
   "outputs": [
    {
     "data": {
      "image/png": "[encoded data removed]",
      "text/plain": [
       "<matplotlib.figure.Figure at 0x10b2513c8>"
      ]
     },
     "metadata": {
      "image/png": {
       "height": 347,
       "width": 395
      }
     },
     "output_type": "display_data"
    }
   ],
   "source": [
    "plt.axis('off')\n",
    "plt.plot((-1,-1),(-1,1),'k', lw=15)\n",
    "plt.plot((1,1),(-1,1),'k', lw=15)\n",
    "plt.plot((-1,1),(1,1),'k', lw=15)\n",
    "plt.plot((-1,1),(-1,-1),'k', lw=15)\n",
    "\n",
    "plt.plot((-0.2,-0.2),(-0.2,0.2),'r', lw=10)\n",
    "plt.plot((0.2,0.2),(-0.2,0.2),'b', lw=10)\n",
    "plt.plot((-0.2,0.2),(0.2,0.2),'r', lw=10)\n",
    "plt.plot((-0.2,0.2),(-0.2,-0.2),'r', lw=10)\n",
    "\n",
    "cV = [0,0,0,0]\n",
    "for i,loc in enumerate([(-1.25,0),(0,-1.15),(1.15,0),(0,1.05)]):\n",
    "    plt.text(*loc,r'$V=%d$'%cV[i], fontsize=20, ha='center')\n",
    "\n",
    "plt.text(0,0.28,r'$V=1$', fontsize=20, ha='center')\n",
    "plt.text(0.5,0.0,r'$V=-1$', fontsize=20, va ='center', ha='center')\n",
    "\n",
    "plt.axes().set_aspect('equal')"
   ]
  },
  {
   "cell_type": "markdown",
   "metadata": {},
   "source": [
    "###  Initialze the potential"
   ]
  },
  {
   "cell_type": "code",
   "execution_count": null,
   "metadata": {
    "collapsed": true
   },
   "outputs": [],
   "source": [
    "def init(N):\n",
    "    '''Initialize the potential with boundary conditions.'''\n",
    "\n",
    "    # the potential\n",
    "    V  = np.zeros([N,N])\n",
    "    \n",
    "    # the mask\n",
    "    mask = np.ones([N,N], dtype=int)\n",
    "\n",
    "    # set the boundary conditions \n",
    "    box_min = int(N/2) - int(0.5*N/5)\n",
    "    box_max = int(N/2) + int(0.5*N/5)\n",
    "    \n",
    "    V[box_min:box_max,box_min] = 1\n",
    "    V[box_min:box_max,box_max] = -1\n",
    "    V[box_min,box_min:box_max] = 1\n",
    "    V[box_max,box_min:box_max] = 1\n",
    "        \n",
    "    # set the mask\n",
    "    mask[box_min:box_max,box_min] = 0\n",
    "    mask[box_min:box_max,box_max] = 0\n",
    "    mask[box_min,box_min:box_max] = 0\n",
    "    mask[box_max,box_min:box_max] = 0\n",
    "    mask[:,0] = 0\n",
    "    mask[:,-1] = 0\n",
    "    mask[0,:] = 0\n",
    "    mask[-1,:] = 0\n",
    "\n",
    "    return V,mask"
   ]
  },
  {
   "cell_type": "markdown",
   "metadata": {},
   "source": [
    "###  Iterate until convergence"
   ]
  },
  {
   "cell_type": "code",
   "execution_count": null,
   "metadata": {
    "collapsed": false
   },
   "outputs": [],
   "source": [
    "%matplotlib notebook\n",
    "from matplotlib import animation\n",
    "\n",
    "# the number of lattice points in the x and y direction\n",
    "N = 51\n",
    "\n",
    "# the tolerance for convergence\n",
    "ϵ = 1.0E-5\n",
    "\n",
    "# the over-relaxation parameter\n",
    "α = 1.9\n",
    "\n",
    "# initialize \n",
    "V,mask = init(N)\n",
    "\n",
    "# Plot the initial configuration\n",
    "fig = plt.figure(figsize=(7,4))\n",
    "plt.xlabel('x')\n",
    "plt.ylabel('y')\n",
    "ims = [[plt.imshow(V, cmap=plt.get_cmap('bwr'), animated=True)]]\n",
    "cb = plt.colorbar(label='Electric Potential', pad=0.1)\n",
    "\n",
    "\n",
    "# Iterate until convergence\n",
    "n = 0\n",
    "ΔV = 1.0\n",
    "\n",
    "while ΔV/(N*N) > ϵ:\n",
    "    ΔV = SOR_update(V,α,mask)\n",
    "    \n",
    "    # plot the intermediate results\n",
    "    if n < 200:\n",
    "        ims.append([plt.imshow(V, extent=[-1,1,-1,1], cmap=plt.get_cmap('bwr'), animated=True)])\n",
    "        \n",
    "    if n > 1000: \n",
    "        break\n",
    "    n+= 1\\\n",
    "\n",
    "print(\"ΔV = %8.5E in %d steps\" % ((ΔV/N**2),n))\n",
    "# animate the final result\n",
    "anim = animation.ArtistAnimation(fig, ims, interval=10, blit=False, repeat_delay=1, repeat=True)"
   ]
  },
  {
   "cell_type": "markdown",
   "metadata": {},
   "source": [
    "## The Poisson Equation\n",
    "\n",
    "So far we have used relaxation methods to solve the Laplace equation, i.e. we find the potential in the absence of any charges.  When we have some fixed charge density, we must solve the Poisson equation:\n",
    "\n",
    "\\begin{equation}\n",
    "\\nabla^2 V = \\frac{\\rho(x,y,z)}{\\varepsilon_0}\n",
    "\\end{equation}\n",
    "\n",
    "where $\\rho(x,y,z)$ is the charge density and $\\varepsilon_0$ is the permittivity of free space.  Performing the same discretization procedure as before and taking an isotropic grid: $\\Delta x = \\Delta y = \\Delta z = \\Delta$ we find:\n",
    "\n",
    "\\begin{equation}\n",
    "V(i,j,k) = \\frac{1}{6} \\left[V(i+1,j,k) + V(i-1,j,k) + V(i,j+1,k) + V(i,j-1,k) +V(i,j,k+1) + V(i,j,k-1) \\right] + \\frac{\\rho(i,j,k)\\Delta^2}{6\\varepsilon_0}.\n",
    "\\end{equation}\n",
    "\n",
    "The choice of boundary conditions can be a bit tricky in these problems.\n",
    "\n",
    "<div class=\"span alert alert-success\">\n",
    "<h2> Team Programming challenge </h2>\n",
    "\n",
    "Find the potential due to a single charge at the origin with $q = \\Delta \\varepsilon_0$ thus $\\rho(0,0,0) = q/\\Delta^3 =  \\varepsilon_0 /\\Delta^2$.\n",
    "<br /><br />\n",
    "\n",
    "<strong>Hint: </strong> Carefully consider your boundary conditions.  What should the potential be for $r\\gg 1$?\n",
    "</div>\n",
    "\n",
    "<!-- \n",
    "                    V[i,j,k] = (α/6)*(V[i-1,j,k] + V[i+1,j,k] + V[i,j+1,k] + V[i,j-1,k] + \n",
    "                                      V[i,j,k+1] + V[i,j,k-1] + ρ[i,j,k]*Δ**2) + (1-α)*V_old\n",
    "                                      \n",
    "-->"
   ]
  },
  {
   "cell_type": "code",
   "execution_count": null,
   "metadata": {
    "collapsed": false
   },
   "outputs": [],
   "source": [
    "def init_poisson(N,Δ):\n",
    "    '''Initialize the potential with boundary conditions.'''\n",
    "\n",
    "    # midpoint\n",
    "    mid = int(N/2)\n",
    "    \n",
    "    # potential, charge density and mask\n",
    "    V  = np.zeros([N,N,N],dtype=float)\n",
    "    ρ = np.zeros_like(V)\n",
    "    mask = np.ones([N,N,N],dtype=int)\n",
    "    \n",
    "    ###\n",
    "    # INITIALIZE MASK\n",
    "    ###\n",
    "    \n",
    "    ###\n",
    "    # INITIALIZE ρ\n",
    "    ###\n",
    "\n",
    "    return V,ρ,mask\n"
   ]
  },
  {
   "cell_type": "code",
   "execution_count": null,
   "metadata": {
    "collapsed": true
   },
   "outputs": [],
   "source": [
    "def SOR_update_3D(V,ρ,α,Δ,mask):\n",
    "    '''Update the potential according to the Simultaneous-Over-Relaxation method.'''\n",
    "    \n",
    "    # here we use a mask which tells us which elements should be updated\n",
    "    ΔV = 0.0\n",
    "    for i in range(mask.shape[0]):\n",
    "        for j in range(mask.shape[1]):\n",
    "            for k in range(mask.shape[2]):\n",
    "                if mask[i,j,k]:\n",
    "                    V_old = V[i,j,k]\n",
    "                    ###\n",
    "                    # INSERT CODE HERE\n",
    "                    ###\n",
    "\n",
    "                    ΔV += abs(V_old-V[i,j,k])\n",
    "    return ΔV"
   ]
  },
  {
   "cell_type": "code",
   "execution_count": null,
   "metadata": {
    "collapsed": false
   },
   "outputs": [],
   "source": [
    "%matplotlib inline\n",
    "\n",
    "# the number of lattice points in each direction\n",
    "N = 11\n",
    "\n",
    "# box and grid size\n",
    "L = 1.0\n",
    "Δ = L/N\n",
    "\n",
    "# the tolerance for convergence\n",
    "ϵ = 1.0E-5\n",
    "\n",
    "# the over-relaxation parameter\n",
    "α = 1.5\n",
    "\n",
    "# initialize \n",
    "V,ρ,mask = init_poisson(N,Δ)\n",
    "\n",
    "# Iterate until convergence\n",
    "ΔV = 100.0\n",
    "while ΔV/(N**3) > ϵ:\n",
    "    ### \n",
    "    # INSERT CODE HERE\n",
    "    ###\n",
    "\n",
    "print(\"ΔV = %8.5E in %d steps\" % ((ΔV/N**3),n))\n",
    "\n",
    "# plot the final result as a contour plot\n",
    "X,Y = np.meshgrid(np.linspace(-L/2,L/2,N), np.linspace(-L/2,L/2,N))\n",
    "cs = plt.contourf(X,Y,np.transpose(V[:,:,int(N/2)]),10,cmap=plt.get_cmap('bwr'))\n",
    "cb = plt.colorbar(label='Electric Potential', pad=0.1)\n",
    "plt.xlabel('x')\n",
    "plt.ylabel('y')\n",
    "plt.axes().set_aspect('equal')"
   ]
  }
 ],
 "metadata": {
  "kernelspec": {
   "display_name": "Python 3",
   "language": "python",
   "name": "python3"
  },
  "language_info": {
   "codemirror_mode": {
    "name": "ipython",
    "version": 3
   },
   "file_extension": ".py",
   "mimetype": "text/x-python",
   "name": "python",
   "nbconvert_exporter": "python",
   "pygments_lexer": "ipython3",
   "version": "3.5.2"
  }
 },
 "nbformat": 4,
 "nbformat_minor": 0
}
