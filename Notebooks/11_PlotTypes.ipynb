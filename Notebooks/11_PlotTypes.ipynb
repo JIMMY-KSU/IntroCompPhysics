{
 "cells": [
  {
   "cell_type": "markdown",
   "metadata": {},
   "source": [
    "# Physics 256\n",
    "## Lecture 11 - Plot Types"
   ]
  },
  {
   "cell_type": "markdown",
   "metadata": {},
   "source": [
    "<img src=\"http://matplotlib.org/_static/logo2.png\" width=400px>"
   ]
  },
  {
   "cell_type": "markdown",
   "metadata": {},
   "source": [
    "## Last Time\n",
    "\n",
    "- using LaTeX in plot labels\n",
    "- meshgrid for multi-dimensional data sets\n",
    "- plot customization\n",
    "\n",
    "## Today\n",
    "\n",
    "- plot types\n"
   ]
  },
  {
   "cell_type": "markdown",
   "metadata": {},
   "source": [
    "## Plotting with Matplotlib"
   ]
  },
  {
   "cell_type": "code",
   "execution_count": null,
   "metadata": {
    "collapsed": false
   },
   "outputs": [],
   "source": [
    "import matplotlib.pyplot as plt\n",
    "import numpy as np\n",
    "%matplotlib inline\n",
    "plt.style.use('notebook');\n",
    "%config InlineBackend.figure_format = 'retina'\n",
    "colors = [\"#2078B5\", \"#FF7F0F\", \"#2CA12C\", \"#D72827\", \"#9467BE\", \"#8C574B\",\n",
    "            \"#E478C2\", \"#808080\", \"#BCBE20\", \"#17BED0\", \"#AEC8E9\", \"#FFBC79\", \n",
    "            \"#98E08B\", \"#FF9896\", \"#C6B1D6\", \"#C59D94\", \"#F8B7D3\", \"#C8C8C8\", \n",
    "           \"#DCDC8E\", \"#9EDAE6\"]"
   ]
  },
  {
   "cell_type": "markdown",
   "metadata": {},
   "source": [
    "<div class=\"span alert alert-success\">\n",
    "<h2> Team Programming challenge </h2>\n",
    "<h3> Determine a graphical solution for x(a) (with at least 6 points) to the transcendental equation: </h3>\n",
    "</div>\n",
    "\\begin{equation}\n",
    "x = \\tanh\\left(\\frac{x}{a} \\right)\n",
    "\\end{equation}"
   ]
  },
  {
   "cell_type": "code",
   "execution_count": null,
   "metadata": {
    "collapsed": false
   },
   "outputs": [],
   "source": [
    "%load 'data/transcendental.py'"
   ]
  },
  {
   "cell_type": "markdown",
   "metadata": {},
   "source": [
    "## Plot Types\n",
    "\n",
    "Matplotlib includes almost any imaginable type of chart or graph.  A good starting point to determine what is the best type of graph for your particular data is:"
   ]
  },
  {
   "cell_type": "code",
   "execution_count": null,
   "metadata": {
    "collapsed": false
   },
   "outputs": [],
   "source": [
    "from IPython.display import Image\n",
    "Image(filename='choosing_a_good_chart.png')"
   ]
  },
  {
   "cell_type": "markdown",
   "metadata": {},
   "source": [
    "### Histograms"
   ]
  },
  {
   "cell_type": "code",
   "execution_count": null,
   "metadata": {
    "collapsed": false
   },
   "outputs": [],
   "source": [
    "plt.figure(1)\n",
    "# get 10000 gaussian distributed random numbers\n",
    "h = np.random.randn(10000)\n",
    "\n",
    "# the number of bins for our histogram\n",
    "numBins = 50\n",
    "plt.hist(h,numBins,edgecolor='w', normed=True, alpha=0.5)\n",
    "\n",
    "# let's add the theoretical value\n",
    "x = np.arange(-5,5,0.01)\n",
    "y = np.exp(-x**2/2)/np.sqrt(2.0*np.pi)\n",
    "plt.plot(x,y,'-', color=colors[0])\n",
    "\n",
    "# we can save our figure to disk\n",
    "plt.savefig('output/histogram.pdf')"
   ]
  },
  {
   "cell_type": "markdown",
   "metadata": {},
   "source": [
    "### Errorbars"
   ]
  },
  {
   "cell_type": "code",
   "execution_count": null,
   "metadata": {
    "collapsed": false
   },
   "outputs": [],
   "source": [
    "# errorbars\n",
    "plt.figure(2)\n",
    "x = np.arange(0, 4, 0.2) \n",
    "y = np.exp(-x) \n",
    "dy = 0.1 * np.abs(np.random.randn(len(y))) \n",
    "dx = 0.1 * np.abs(np.random.randn(len(y))) \n",
    "plt.errorbar(x,y,xerr=dx,yerr=dy,marker='s',markersize=8.0,capsize=6.0,elinewidth=1.0)"
   ]
  },
  {
   "cell_type": "markdown",
   "metadata": {},
   "source": [
    "### Bar charts"
   ]
  },
  {
   "cell_type": "code",
   "execution_count": null,
   "metadata": {
    "collapsed": false
   },
   "outputs": [],
   "source": [
    "list(bar.keys())"
   ]
  },
  {
   "cell_type": "code",
   "execution_count": null,
   "metadata": {
    "collapsed": false
   },
   "outputs": [],
   "source": [
    "plt.figure(3)\n",
    "bar = {'A': 40, 'B': 70, 'C': 30, 'D': 85} \n",
    "for i, key in enumerate(bar): \n",
    "    plt.bar(i, bar[key], alpha=0.5,color=colors[i])\n",
    "\n",
    "plt.xticks(np.arange(len(bar))+0.4,list(bar.keys()))\n",
    "plt.yticks(list(bar.values()))"
   ]
  },
  {
   "cell_type": "markdown",
   "metadata": {},
   "source": [
    "### Pie charts"
   ]
  },
  {
   "cell_type": "code",
   "execution_count": null,
   "metadata": {
    "collapsed": false
   },
   "outputs": [],
   "source": [
    "# pie chart\n",
    "plt.figure(4,figsize=(6,6));\n",
    "aleast = {'Boston':92, 'New York':79, 'Tampa Bay':65, 'Toronto':86, 'Baltimore':85}\n",
    "explode = [0.0, 0.0, 0.0, 0.0, 0.1] \n",
    "plt.pie(list(aleast.values()), labels=list(aleast.keys()), explode=explode, autopct='%3.1f%%', colors=colors[:]); "
   ]
  },
  {
   "cell_type": "markdown",
   "metadata": {},
   "source": [
    "### Scatter plots\n",
    "\n",
    "Useful and effecient for large amounts of data points"
   ]
  },
  {
   "cell_type": "code",
   "execution_count": null,
   "metadata": {
    "collapsed": false
   },
   "outputs": [],
   "source": [
    "# scatter graph\n",
    "plt.figure(5);\n",
    "x = np.random.randn(1000) \n",
    "y = np.random.randn(1000) \n",
    "size = 50*np.random.randn(1000) \n",
    "col = np.random.rand(1000) \n",
    "plt.scatter(x, y, s=size, c=col)"
   ]
  },
  {
   "cell_type": "markdown",
   "metadata": {},
   "source": [
    "### Polar plots"
   ]
  },
  {
   "cell_type": "code",
   "execution_count": null,
   "metadata": {
    "collapsed": false
   },
   "outputs": [],
   "source": [
    "# polar plot \n",
    "plt.figure(6);\n",
    "theta = np.linspace(0, 2.0*np.pi, 100) \n",
    "plt.polar(3*theta, theta/5); \n",
    "plt.polar(theta, np.cos(4*theta)); "
   ]
  },
  {
   "cell_type": "markdown",
   "metadata": {},
   "source": [
    "### Annotating plots"
   ]
  },
  {
   "cell_type": "code",
   "execution_count": null,
   "metadata": {
    "collapsed": false
   },
   "outputs": [],
   "source": [
    "# Produce a linear plot with an intercept\n",
    "    \n",
    "iL = np.linspace(0, 0.1, 100)\n",
    "yint = 0.15\n",
    "y = yint + 2.0*iL\n",
    "plt.plot(iL,y,marker='None', linestyle='-')\n",
    "plt.axis([0,0.09,0,0.4])\n",
    "plt.xlabel(r'$1/L$')\n",
    "plt.ylabel(r'$f(L)$')\n",
    "\n",
    "# Our first label in data coordinates\n",
    "plt.text(0.002,0.20,r'$f(0) = 0.15$', fontsize=18)\n",
    "    \n",
    "# The label in figure coordinates\n",
    "plt.figtext(0.2,0.2,'intercept = 0.15', fontsize=18, color=colors[1])\n",
    "    \n",
    "# Add a label and an arrow\n",
    "plt.annotate(r'$L \\to \\infty$',xy=(0, 0.15), xytext=(0.02, 0.08),\\\n",
    "             fontsize=30, color=colors[2],\\\n",
    "             arrowprops=dict(color=colors[2],shrink=0.1))"
   ]
  }
 ],
 "metadata": {
  "kernelspec": {
   "display_name": "Python 3",
   "language": "python",
   "name": "python3"
  },
  "language_info": {
   "codemirror_mode": {
    "name": "ipython",
    "version": 3
   },
   "file_extension": ".py",
   "mimetype": "text/x-python",
   "name": "python",
   "nbconvert_exporter": "python",
   "pygments_lexer": "ipython3",
   "version": "3.5.2"
  }
 },
 "nbformat": 4,
 "nbformat_minor": 0
}
