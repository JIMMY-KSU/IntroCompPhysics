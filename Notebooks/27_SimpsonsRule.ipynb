{
 "cells": [
  {
   "cell_type": "markdown",
   "metadata": {},
   "source": [
    "# Physics 256\n",
    "## Simpson's Rule\n",
    "\n",
    "<img src=\"https://upload.wikimedia.org/wikipedia/en/6/67/Simpsonsrule2.gif\" width=500px>"
   ]
  },
  {
   "cell_type": "markdown",
   "metadata": {},
   "source": [
    "## Last Time\n",
    "\n",
    "- Solving for the magnetic field\n",
    "- Approximating integrals\n",
    " - Rectangular rule\n",
    " - Trapezoidal rule\n",
    "\n",
    "## Today\n",
    "\n",
    "- Simpson's rule\n",
    "- Improper and divergent integrals"
   ]
  },
  {
   "cell_type": "markdown",
   "metadata": {},
   "source": [
    "## Setting up the Notebook"
   ]
  },
  {
   "cell_type": "code",
   "execution_count": 1,
   "metadata": {
    "collapsed": false
   },
   "outputs": [],
   "source": [
    "import matplotlib.pyplot as plt\n",
    "import numpy as np\n",
    "%matplotlib inline\n",
    "plt.style.use('notebook');\n",
    "%config InlineBackend.figure_format = 'retina'\n",
    "colors = [\"#2078B5\", \"#FF7F0F\", \"#2CA12C\", \"#D72827\", \"#9467BE\", \"#8C574B\",\n",
    "            \"#E478C2\", \"#808080\", \"#BCBE20\", \"#17BED0\", \"#AEC8E9\", \"#FFBC79\", \n",
    "            \"#98E08B\", \"#FF9896\", \"#C6B1D6\", \"#C59D94\", \"#F8B7D3\", \"#C8C8C8\", \n",
    "           \"#DCDC8E\", \"#9EDAE6\"]"
   ]
  },
  {
   "cell_type": "markdown",
   "metadata": {},
   "source": [
    "## Better Quadrature\n",
    "\n",
    "We want to come up with a better scaling approximation to the definite integral:\n",
    "\n",
    "\\begin{equation}\n",
    "I = \\int_a^b f(x) dx\n",
    "\\end{equation}\n",
    "\n",
    "where we break up the region of integration into $N$ equally sized regions of size:\n",
    "\n",
    "\\begin{equation}\n",
    "\\Delta x = \\frac{b-a}{N}.\n",
    "\\end{equation}\n",
    "\n",
    "Our previous methods approximated the integral of a single panel $I_i = \\int_{x_i}^{x_{i+1}} f(x) dx$ using a $0^{th}$ or $1^{st}$ order polynomial.  Now, let's use a $2^{nd}$ order polynomial:\n",
    "\n",
    "\\begin{equation}\n",
    "P(x) = \\alpha + \\beta x + \\gamma x^2\n",
    "\\end{equation}\n",
    "\n",
    "where we need to fix the coefficients $\\alpha,\\beta,\\gamma$. Doing this is straightforward but tedius.  The final answer is: \n",
    "\n",
    "\\begin{equation}\n",
    "I_i + I_{i+1} \\approx \\frac{\\Delta x}{3} \\left[f(x_i) + 4 f(x_{i+1}) + f(x_{i+2}) \\right]\n",
    "\\end{equation}\n",
    "\n",
    "which needs to be summed over all panels:\n",
    "\n",
    "\\begin{equation}\n",
    "I_{\\rm simps} \\approx \\frac{\\Delta x}{3} \\left[f(a) + f(b) + 4\\sum_{i=1}^{N/2} f(x_{2i-1}) + \\sum_{i=1}^{N/2-1} f(x_{2i}) \\right]\n",
    "\\end{equation}\n",
    "\n",
    "<div class=\"span alert alert-danger\">\n",
    "Note: we need an even number of panels.\n",
    "</div>\n",
    "\n",
    "Let's code it up!"
   ]
  },
  {
   "cell_type": "code",
   "execution_count": 6,
   "metadata": {
    "collapsed": true
   },
   "outputs": [],
   "source": [
    "def simpsons_rule(f,x,*params):\n",
    "    '''The trapezoidal rule for numerical integration of f(x) over x.'''\n",
    "    \n",
    "    a,b = x[0],x[-1]\n",
    "    Δx = x[1] - x[0]\n",
    "    N = x.size\n",
    "    \n",
    "    I = (f(a,*params) + f(b,*params))/3.0\n",
    "    I += (4.0/3.0)*sum([f(a+i*Δx,*params) for i in range(1,N,2)])\n",
    "    I += (2.0/3.0)*sum([f(a+i*Δx,*params) for i in range(2,N,2)])\n",
    "    return Δx*I"
   ]
  },
  {
   "cell_type": "markdown",
   "metadata": {},
   "source": [
    "<div class=\"span alert alert-success\">\n",
    "<h2>Programming challenge </h2>\n",
    "Use Simpson's rule to evaluate the error function at $x=1$ and examine how the error (as computed by comparing with the exact result in scipy.special.erf scales with $\\Delta x$.\n",
    "</div>\n",
    "\n",
    "\\begin{equation}\n",
    "\\mathrm{erf}(x) = \\frac{2}{\\sqrt{\\pi}} \\int_0^x \\mathrm{e}^{-t^2} dt \n",
    "\\end{equation}"
   ]
  },
  {
   "cell_type": "code",
   "execution_count": 30,
   "metadata": {
    "collapsed": false
   },
   "outputs": [
    {
     "name": "stdout",
     "output_type": "stream",
     "text": [
      "[ 0.1228301   0.05647147  0.02705859  0.01324656  0.00655414  0.00325998\n",
      "  0.00162574  0.00081181] [  4   8  16  32  64 128 256 512]\n"
     ]
    }
   ],
   "source": [
    "from scipy.constants import pi as  π\n",
    "from scipy.special import erf\n",
    "\n",
    "def erf_kernel(t):\n",
    "    '''The error function kernel.'''\n",
    "    return 2.0/np.sqrt(π)*np.exp(-t*t)\n",
    "    \n",
    "N = np.array([2**n for n in range(2,10)])\n",
    "Δx = []\n",
    "error = []\n",
    "for j,cN in enumerate(N):\n",
    "    x = np.linspace(0,1,cN)\n",
    "    error.append(np.abs(simpsons_rule(erf_kernel,x))-erf(1.0))\n",
    "error = np.array(error)  \n",
    "print(error,N)\n",
    "#plt.plot(Δx,error)"
   ]
  },
  {
   "cell_type": "code",
   "execution_count": 35,
   "metadata": {
    "collapsed": false
   },
   "outputs": [
    {
     "data": {
      "text/plain": [
       "(0, 1.1)"
      ]
     },
     "execution_count": 35,
     "metadata": {},
     "output_type": "execute_result"
    },
    {
     "data": {
      "image/png": "[encoded data removed]",
      "text/plain": [
       "<matplotlib.figure.Figure at 0x10c944390>"
      ]
     },
     "metadata": {
      "image/png": {
       "height": 325,
       "width": 521
      }
     },
     "output_type": "display_data"
    }
   ],
   "source": [
    "Δx = 0.01\n",
    "N = np.array([2**n for n in range(2,12)])\n",
    "\n",
    "res = []\n",
    "x = []\n",
    "for cN in N:\n",
    "    cx = np.arange(0,cN*Δx,Δx)\n",
    "    res.append(simpsons_rule(erf_kernel,cx))\n",
    "    x.append(cx[-1])\n",
    "             \n",
    "plt.plot(x,res,'o')\n",
    "ex = np.linspace(0,10,1000)\n",
    "plt.plot(ex,erf(ex))\n",
    "    \n",
    "plt.ylim(0,1.1)"
   ]
  },
  {
   "cell_type": "code",
   "execution_count": null,
   "metadata": {
    "collapsed": true
   },
   "outputs": [],
   "source": []
  }
 ],
 "metadata": {
  "kernelspec": {
   "display_name": "Python 3",
   "language": "python",
   "name": "python3"
  },
  "language_info": {
   "codemirror_mode": {
    "name": "ipython",
    "version": 3
   },
   "file_extension": ".py",
   "mimetype": "text/x-python",
   "name": "python",
   "nbconvert_exporter": "python",
   "pygments_lexer": "ipython3",
   "version": "3.5.2"
  }
 },
 "nbformat": 4,
 "nbformat_minor": 0
}
