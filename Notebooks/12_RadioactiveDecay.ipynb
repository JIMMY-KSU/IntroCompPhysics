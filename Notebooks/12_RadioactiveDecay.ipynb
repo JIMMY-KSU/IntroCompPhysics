{
 "cells": [
  {
   "cell_type": "markdown",
   "metadata": {},
   "source": [
    "# Physics 256\n",
    "## Radioactive Decay"
   ]
  },
  {
   "cell_type": "markdown",
   "metadata": {},
   "source": [
    "<img src=\"https://upload.wikimedia.org/wikipedia/commons/thumb/7/79/Alpha_Decay.svg/500px-Alpha_Decay.svg.png\" width=400px>"
   ]
  },
  {
   "cell_type": "markdown",
   "metadata": {},
   "source": [
    "## Last Time\n",
    "\n",
    "- plot types in Matplotlib\n",
    "- graphical solutions of transcendental equations\n",
    "\n",
    "## Today\n",
    "\n",
    "- Radioactive Decay\n"
   ]
  },
  {
   "cell_type": "markdown",
   "metadata": {},
   "source": [
    "## Setting up the Notebook"
   ]
  },
  {
   "cell_type": "code",
   "execution_count": null,
   "metadata": {
    "collapsed": false
   },
   "outputs": [],
   "source": [
    "import matplotlib.pyplot as plt\n",
    "import numpy as np\n",
    "%matplotlib inline\n",
    "plt.style.use('notebook');\n",
    "%config InlineBackend.figure_format = 'retina'"
   ]
  },
  {
   "cell_type": "markdown",
   "metadata": {},
   "source": [
    "## Radioactive Decay\n",
    "\n",
    "We want to analyze the radioactive decay of some sample where there are $N(t)$ atoms at some time $t$.  The behavior of $N(t)$ is governed by the differential equation:\n",
    "\n",
    "\\begin{equation}\n",
    "\\frac{dN}{dt} = -\\frac{N}{\\tau}\n",
    "\\tag{1}\n",
    "\\end{equation}\n",
    "\n",
    "where $\\tau$ is the time constant of the decay.  The solution to this first order differential equation can be found by separation and integration:\n",
    "\n",
    "\\begin{align}\n",
    "\\int_{N(0)}^{N(t)} \\frac{dN}{N} &= - \\int_0^t \\frac{dt}{\\tau} \\\\\n",
    "\\log\\frac{N(t)}{N(0)} &= -\\frac{t}{\\tau} \\\\\n",
    "N(t) &= N(0) \\mathrm{e}^{-t/\\tau}\n",
    "\\end{align}"
   ]
  },
  {
   "cell_type": "markdown",
   "metadata": {},
   "source": [
    "### Plot $N(t)/N(0)$ vs. $t/\\tau$"
   ]
  },
  {
   "cell_type": "code",
   "execution_count": null,
   "metadata": {
    "collapsed": false
   },
   "outputs": [],
   "source": [
    "t = np.arange(0,5,0.1)\n",
    "plt.plot(t,np.exp(-t))\n",
    "plt.ylabel(r'$N(t)/N_0$')\n",
    "plt.xlabel(r'$t/\\tau$')"
   ]
  },
  {
   "cell_type": "markdown",
   "metadata": {
    "collapsed": false
   },
   "source": [
    "## A Numerical Approach\n",
    "\n",
    "### Question: How do we approximate the ODE on a discrete set of grid points?"
   ]
  },
  {
   "cell_type": "markdown",
   "metadata": {},
   "source": [
    "### Taylor Expansions\n",
    "\n",
    "\\begin{equation}\n",
    "f(t+\\Delta t) = f(t) + \\frac{df}{dt}\\Delta t + \\frac{1}{2} \\frac{d^2 f}{dt^2} \\Delta t^2 + \\mathrm{O}\\left(\\Delta t^3\\right)\n",
    "\\end{equation}\n",
    "\n",
    "if $\\Delta t \\ll 1$ we can rearrange to get the discrete **forward derivative**:\n",
    "\n",
    "\\begin{equation}\n",
    "\\frac{df(t)}{dt} = \\frac{f(t+\\Delta t) - f(t)}{\\Delta t} + \\mathrm{O}\\left(\\Delta t\\right) .\n",
    "\\end{equation}\n",
    "\n",
    "### Application to the Radioactive Decay Problem\n",
    "\n",
    "We have:\n",
    "\\begin{align}\n",
    "\\frac{dN(t)}{dt} & = -\\frac{N}{\\tau} \\\\\n",
    "\\Rightarrow \\frac{N(t+\\Delta t) - N(t)}{\\Delta t} &= -\\frac{N(t)}{\\tau} + \\mathrm{O}\\left(\\Delta t\\right) \\\\\n",
    "N(t+\\Delta t) &\\approx \\left(1-\\frac{\\Delta t}{\\tau}\\right)N(t)\n",
    "\\end{align}\n",
    " \n",
    "\n",
    "If we define an array $t/\\tau = n \\Delta t$ where $n \\in \\mathbb{Z}$ is an integer then this is a simple iterative initial value problem.  The **accuracy** of the numerical solution depends on the size of $\\Delta t$.  This approach using the lowest order approximation to the derivitive is called the **Euler Method**."
   ]
  },
  {
   "cell_type": "markdown",
   "metadata": {},
   "source": [
    "<div class=\"span alert alert-success\">\n",
    "<h2> Team Programming challenge </h2>\n",
    "Write a program that employs the Euler Method to solve the radioactive decay problem and compare with the exact solution.\n",
    "</div>\n"
   ]
  },
  {
   "cell_type": "code",
   "execution_count": null,
   "metadata": {
    "collapsed": false
   },
   "outputs": [],
   "source": [
    "%run ../../Examples/Simple_ODEs/radioactive_decay.py"
   ]
  },
  {
   "cell_type": "code",
   "execution_count": null,
   "metadata": {
    "collapsed": false
   },
   "outputs": [],
   "source": [
    "%load ../../Examples/Simple_ODEs/radioactive_decay.py"
   ]
  }
 ],
 "metadata": {
  "kernelspec": {
   "display_name": "Python 3",
   "language": "python",
   "name": "python3"
  },
  "language_info": {
   "codemirror_mode": {
    "name": "ipython",
    "version": 3
   },
   "file_extension": ".py",
   "mimetype": "text/x-python",
   "name": "python",
   "nbconvert_exporter": "python",
   "pygments_lexer": "ipython3",
   "version": "3.5.2"
  }
 },
 "nbformat": 4,
 "nbformat_minor": 0
}
