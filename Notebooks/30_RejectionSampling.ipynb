{
 "cells": [
  {
   "cell_type": "markdown",
   "metadata": {},
   "source": [
    "# Physics 256\n",
    "## Rejection Sampling\n",
    "\n",
    "<img src=\"data/rejection.svg\" width=600px>\n",
    "\n"
   ]
  },
  {
   "cell_type": "markdown",
   "metadata": {},
   "source": [
    "## Last Time\n",
    "\n",
    "- Generation and testing of pseudorandom numbers\n",
    "- Tower sampling\n",
    "\n",
    "## Today\n",
    "\n",
    "- Exponential distribution\n",
    "- Box-Muller for Gaussian random numbers\n",
    "- Rejection Sampling\n"
   ]
  },
  {
   "cell_type": "markdown",
   "metadata": {},
   "source": [
    "## Setting up the Notebook"
   ]
  },
  {
   "cell_type": "code",
   "execution_count": null,
   "metadata": {
    "collapsed": false
   },
   "outputs": [],
   "source": [
    "import matplotlib.pyplot as plt\n",
    "import numpy as np\n",
    "%matplotlib inline\n",
    "plt.style.use('notebook');\n",
    "%config InlineBackend.figure_format = 'retina'\n",
    "colors = [\"#2078B5\", \"#FF7F0F\", \"#2CA12C\", \"#D72827\", \"#9467BE\", \"#8C574B\",\n",
    "            \"#E478C2\", \"#808080\", \"#BCBE20\", \"#17BED0\", \"#AEC8E9\", \"#FFBC79\", \n",
    "            \"#98E08B\", \"#FF9896\", \"#C6B1D6\", \"#C59D94\", \"#F8B7D3\", \"#C8C8C8\", \n",
    "           \"#DCDC8E\", \"#9EDAE6\"]"
   ]
  },
  {
   "cell_type": "markdown",
   "metadata": {},
   "source": [
    "## Sampling Continous Distributions\n",
    "\n",
    "Last time we saw that we can sample from any continuous probability distribution $p(y)$ using only uniformly distributed random numbers $x$:\n",
    "\n",
    "\\begin{equation}\n",
    "P(y) = \\int_{-\\infty}^y p(y') dy' = \\int_{-\\infty}^{y} \\frac{dx}{dy'}  p_u(x) dy' = \\int_0^y \\frac{dx}{dy'} dy' = x(y)\n",
    "\\end{equation}\n",
    "\n",
    "So $y = P^{-1}(x)$ for $x \\in \\mathcal{U}_{[0,1]}$.\n",
    "\n",
    "\n",
    "### Example 2\n",
    "Consider sampling from the exponential distribution for $y\\ge 0$:\n",
    "\n",
    "\\begin{equation}\n",
    "p(y) = \\lambda \\mathrm{e}^{-\\lambda y}.\n",
    "\\end{equation}\n",
    "\n",
    "As before:\n",
    "\n",
    "\\begin{equation}\n",
    "x(y) =\\int_0^y p(y') dy' = \\lambda \\int_0^y \\mathrm{e}^{-\\lambda y'}dy' = \\left.-\\mathrm{e}^{-\\lambda y'} \\right \\rvert_0^y = 1 - \\mathrm{e}^{-\\lambda y} .\n",
    "\\end{equation}\n",
    "\n",
    "Solving for $x$:\n",
    "\n",
    "\\begin{align*}\n",
    "\\mathrm{e}^{-\\lambda y} &= 1-x \\newline\n",
    "-\\lambda y &= \\ln (1-x) \\newline\n",
    "y &= -\\frac{1}{\\lambda} \\ln (1-x) \n",
    "\\end{align*}\n",
    "\n",
    "which gives $y \\in [0,\\infty)$ for $x \\in [0,1)$.\n",
    "\n",
    "<br />\n",
    "<div class=\"span alert alert-danger\">\n",
    "Note: we need to be careful with our uniform random number $x$ as it can formally take on the end point value $x=1$. \n",
    "</div>"
   ]
  },
  {
   "cell_type": "markdown",
   "metadata": {},
   "source": [
    "<div class=\"span alert alert-success\">\n",
    "<h2>Programming challenge </h2>\n",
    "Generate $N=1000$ exponentially distributed random numbers with $\\lambda = 0.5$ and check their distribution using a histogram.\n",
    "</div>"
   ]
  },
  {
   "cell_type": "code",
   "execution_count": null,
   "metadata": {
    "collapsed": false
   },
   "outputs": [],
   "source": [
    "def p(y,λ):\n",
    "    return ### INSERT CODE HERE\n",
    "\n",
    "N = 1000\n",
    "λ = 0.5\n",
    "y = np.linspace(0,100,N)\n",
    "plt.plot(y,p(y,λ),color=colors[0], label=r'$%3.1f\\mathrm{e}^{-%3.1fy}$'%(λ,λ))\n",
    "\n",
    "# sample y from a uniform x\n",
    "###\n",
    "# INSERT CODE HERE\n",
    "###\n",
    "\n",
    "plt.hist(sampled_y, bins=100, normed=True, ec='w', label='sampled', fc=colors=[0], alpha=0.2);\n",
    "plt.xlim(0,10);\n",
    "plt.xlabel('y')\n",
    "plt.ylabel('p(y)')\n",
    "plt.title('Exponential Distribution')\n",
    "plt.legend(loc='upper right')"
   ]
  },
  {
   "cell_type": "markdown",
   "metadata": {},
   "source": [
    "## Gaussian Distributed Random Numbers\n",
    "\n",
    "Consider the normal or Gaussian probability distribution with mean $\\mu=0$:\n",
    "\n",
    "\\begin{equation}\n",
    "p_n(y) = \\frac{1}{\\sqrt{2\\pi\\sigma^2}} \\mathrm{e}^{-y^2/2\\sigma^2}.\n",
    "\\end{equation}\n",
    "\n",
    "We have already seen the cumulative distribution function: \n",
    "\n",
    "\\begin{align*}\n",
    "P_n(y) &= \\int_{-\\infty}^{y} p_n(y') \\newline\n",
    "&=\\frac{1}{2}\\left[1 + \\mathrm{erf}\\left(\\frac{y}{\\sqrt{2} \\sigma}\\right) \\right]\n",
    "\\end{align*}\n",
    "\n",
    "which cannot be analytically inverted.  However, we can use the same trick that is used to evaluate Gaussian integrals, i.e. extending our calculation to higher dimensions.  In this case, that means considering the multivariate probability distribution:\n",
    "\n",
    "\\begin{equation}\n",
    "p_n(x,y) = p_n(x)p_n(y) = \\frac{1}{2\\pi\\sigma^2} \\mathrm{e}^{-(x^2+y^2)/2\\sigma^2}.\n",
    "\\end{equation}\n",
    "\n",
    "Let us transform to polar coordinates defined by:\n",
    "\n",
    "\\begin{align*}\n",
    "r &= \\sqrt{x^2+y^2} \\newline\n",
    "\\theta &= \\tan^{-1} \\left(\\frac{y}{x}\\right)\n",
    "\\end{align*}\n",
    "\n",
    "thus:\n",
    "\n",
    "\\begin{equation}\n",
    "p_n(x,y)dx dy = \\frac{1}{2\\pi\\sigma^2} \\mathrm{e}^{-r^2/2\\sigma^2} r dr d\\theta .\n",
    "\\end{equation}\n",
    "\n",
    "Defining\n",
    "\n",
    "\\begin{equation}\n",
    "\\rho = \\frac{r^2}{2\\sigma^2}  \\Rightarrow d\\rho = \\frac{r dr}{\\sigma^2}\n",
    "\\end{equation}\n",
    "\n",
    "we have:\n",
    "\n",
    "\\begin{align*}\n",
    "x &= \\sqrt{2\\rho}\\sigma \\cos\\theta \\newline\n",
    "y &= \\sqrt{2\\rho}\\sigma \\sin\\theta \\newline\n",
    "\\end{align*}\n",
    "\n",
    "and\n",
    "\n",
    "\\begin{equation}\n",
    "p_n(x,y)dx dy = \\frac{1}{2\\pi} \\mathrm{e}^{-\\rho} d\\rho d\\theta .\n",
    "\\end{equation}\n",
    "\n",
    "We know how to sample both scaled uniform random numbers $\\theta \\in \\mathcal{U}_{[0,2\\pi]}$ and exponentially distributed random numbers $\\rho \\in \\mathrm{e}^{-\\rho}$.  Therefore we can write:\n",
    "\n",
    "\\begin{align*}\n",
    "x &= \\sqrt{-2\\ln(1-x_1)}\\sigma \\cos(2\\pi x_2) \\newline\n",
    "y &= \\sqrt{-2\\ln(1-x_1)}\\sigma \\sin(2\\pi x_2)\n",
    "\\end{align*}\n",
    "\n",
    "where $x_1,x_2 \\in \\mathcal{U}_{[0,1)}$, i.e. 2 uniformly distributed random numbers can be used to get two Gaussian distributed random numbers.  This is known as the **Box-Muller** method."
   ]
  },
  {
   "cell_type": "code",
   "execution_count": null,
   "metadata": {
    "collapsed": false
   },
   "outputs": [],
   "source": [
    "from scipy.constants import pi as π\n",
    "N = 100000\n",
    "\n",
    "# our uniform random numbers\n",
    "x1 = np.random.random(N)\n",
    "x2 = np.random.random(N)\n",
    "\n",
    "# generate the Box-Muller values\n",
    "x = np.sqrt(-2.0*np.log(1-x1))*np.cos(2.0*π*x2)\n",
    "y = np.sqrt(-2.0*np.log(1-x1))*np.cos(2.0*π*x2)\n",
    "\n",
    "# combine them into 1 array\n",
    "r = np.hstack([x,y])\n",
    "\n",
    "# produce a plot comparing with the actual distribution\n",
    "px = np.linspace(-4,4,1000)\n",
    "plt.plot(px,np.exp(-px**2/2)/np.sqrt(2*π), color=colors[0], label=r'$\\frac{1}{\\sqrt{2\\pi}}\\mathrm{e}^{-y^2/2}$')\n",
    "plt.hist(r, bins=100, normed=True, ec='w', label='sampled',fc=colors[0], alpha=0.2)\n",
    "plt.xlabel('y')\n",
    "plt.ylabel('p(y)')\n",
    "plt.xlim(-4,4)\n",
    "plt.title('Box-Muller')\n",
    "plt.legend(loc='upper left')"
   ]
  },
  {
   "cell_type": "markdown",
   "metadata": {},
   "source": [
    "## Rejection Sampling\n",
    "\n",
    "What do we do if we can't invert the cumulative distribution function and we are out of tricks?  The technique, known as **von Neumann rejection** is similar to how we computed $\\pi$ by throwing stones into a pond.  \n",
    "\n",
    "Consider some probability distribution function $p(x)$ whose cumulative distribution function $P(x)$ cannot be inverted.  Suppose we want to sample this function over the finite range $[x_{\\rm min},x_{\\rm max}]$ where $p_{\\rm max}$ is the maximal value of $p(x)$ on this interval.  Then we can:\n",
    "\n",
    "1. Generate a sequence of $N$ uniformly distributed random numbers $x_i \\in \\mathcal{U}_{[x_{\\rm min},x_{\\rm max}]}$\n",
    "2. Generate a second sequence of $N$ uniformly distribted random numbers $y_i \\in \\mathcal{U}_{[0,p_{\\rm max}]}$\n",
    "3. Keep only those elements in the first sequence $x_i$ that have $y_i < p(x_i)$\n",
    "\n",
    "The resulting set of $x_j$ values will be distributed according to $p(x)$.   This works by throwing away unlikely results.\n",
    "\n",
    "<br />\n",
    "<div class=\"span alert alert-warning\">\n",
    "Note: Our probability distribution must be bounded and have a finite range. \n",
    "</div>\n",
    "\n",
    "Easiest to understand via an example.\n",
    "\n",
    "### Example\n",
    "Sample $N=10^4$ random numbers from the function:\n",
    "\n",
    "\\begin{equation}\n",
    "f(x) = \\frac{1}{\\sqrt{\\cosh(x)}}\n",
    "\\end{equation}\n",
    "\n",
    "on the region $[-5,5]$.\n",
    "\n",
    "#### Step 1: at present, $f(x)$ it not normalized so we need to turn it into a probability distribution."
   ]
  },
  {
   "cell_type": "code",
   "execution_count": null,
   "metadata": {
    "collapsed": false
   },
   "outputs": [],
   "source": [
    "from scipy import integrate\n",
    "xmin,xmax = -5,5\n",
    "\n",
    "f = lambda x: 1.0/np.sqrt(np.cosh(x))\n",
    "A = 1.0/integrate.quad(f, xmin, xmax)[0]\n",
    "print(A)\n",
    "\n",
    "p = lambda x: A*f(x)"
   ]
  },
  {
   "cell_type": "markdown",
   "metadata": {},
   "source": [
    "#### Step 2: determine the maximual value of $p(x)$ on the interval"
   ]
  },
  {
   "cell_type": "code",
   "execution_count": null,
   "metadata": {
    "collapsed": false
   },
   "outputs": [],
   "source": [
    "# Let's start by plotting\n",
    "px = np.linspace(xmin,xmax,10000)\n",
    "plt.plot(px,p(px), color=colors[0], label=r'$\\frac{%4.2f}{\\sqrt{\\cosh(x)}}$'%A)\n",
    "plt.xlabel('x')\n",
    "plt.ylabel('p(x)')\n",
    "plt.xlim(-5,5);\n",
    "plt.legend()"
   ]
  },
  {
   "cell_type": "markdown",
   "metadata": {},
   "source": [
    "Thus, the maxima will appear at $x=0$.  We could also use [``scipy.optimize.minimize``](https://docs.scipy.org/doc/scipy/reference/generated/scipy.optimize.minimize.html#scipy.optimize.minimize) to minimize $-p(x)$"
   ]
  },
  {
   "cell_type": "code",
   "execution_count": null,
   "metadata": {
    "collapsed": false
   },
   "outputs": [],
   "source": [
    "print('p(0) = ',p(0))\n",
    "\n",
    "from scipy.optimize import minimize\n",
    "pmax = -minimize(lambda x: -p(x),-5).fun\n",
    "print('max p(x) = ',pmax)"
   ]
  },
  {
   "cell_type": "markdown",
   "metadata": {},
   "source": [
    "#### Step 3: Generate the two lists of random numbers"
   ]
  },
  {
   "cell_type": "code",
   "execution_count": null,
   "metadata": {
    "collapsed": false
   },
   "outputs": [],
   "source": [
    "N = 10**4\n",
    "x = xmin + (xmax-xmin)*np.random.random(N)\n",
    "y = p(0)*np.random.random(N)"
   ]
  },
  {
   "cell_type": "markdown",
   "metadata": {},
   "source": [
    "#### Step 4: perform the rejection"
   ]
  },
  {
   "cell_type": "code",
   "execution_count": null,
   "metadata": {
    "collapsed": false
   },
   "outputs": [],
   "source": [
    "accepted = np.array([])\n",
    "for i in range(N):\n",
    "    if y[i] < p(x[i]):\n",
    "        accepted = np.append(accepted,x[i])"
   ]
  },
  {
   "cell_type": "markdown",
   "metadata": {},
   "source": [
    "#### Check that it works!"
   ]
  },
  {
   "cell_type": "code",
   "execution_count": null,
   "metadata": {
    "collapsed": false
   },
   "outputs": [],
   "source": [
    "plt.plot(px,p(px),color=colors[0], label=r'$\\frac{%4.2f}{\\sqrt{\\cosh(x)}}$'%A)\n",
    "plt.hist(accepted, bins=100, normed=True, ec='w', label='sampled', fc=colors[0], alpha=0.2)\n",
    "plt.xlabel('x')\n",
    "plt.ylabel('p(x)')\n",
    "plt.xlim(-5,5);\n",
    "plt.legend()"
   ]
  },
  {
   "cell_type": "markdown",
   "metadata": {},
   "source": [
    "#### Let's see what the process actually looks like"
   ]
  },
  {
   "cell_type": "code",
   "execution_count": null,
   "metadata": {
    "collapsed": false
   },
   "outputs": [],
   "source": [
    "x_accepted = x[y < p(x)]\n",
    "y_accepted = y[y < p(x)]\n",
    "\n",
    "x_rejected = x[y >= p(x)]\n",
    "y_rejected= y[y >= p(x)]\n",
    "\n",
    "plt.axhline(y=pmax, color='gray', lw=2, label='p(0)')\n",
    "plt.plot(px,p(px),color=colors[0], label=r'$\\frac{%4.2f}{\\sqrt{\\cosh(x)}}$'%A)\n",
    "\n",
    "plt.plot(x_accepted,y_accepted,'o', mfc='None', mec=colors[0], ms=3, label='accepted')\n",
    "plt.plot(x_rejected,y_rejected,'x', mfc='None', mec=colors[1], ms=3, label='rejected')\n",
    "plt.xlabel('x')\n",
    "plt.ylabel('p(x)')\n",
    "plt.xlim(-5,5);\n",
    "plt.legend(loc='upper right', frameon=True, framealpha=0.9)\n",
    "plt.savefig('data/rejection.svg')"
   ]
  }
 ],
 "metadata": {
  "kernelspec": {
   "display_name": "Python 3",
   "language": "python",
   "name": "python3"
  },
  "language_info": {
   "codemirror_mode": {
    "name": "ipython",
    "version": 3
   },
   "file_extension": ".py",
   "mimetype": "text/x-python",
   "name": "python",
   "nbconvert_exporter": "python",
   "pygments_lexer": "ipython3",
   "version": "3.5.2"
  }
 },
 "nbformat": 4,
 "nbformat_minor": 0
}
