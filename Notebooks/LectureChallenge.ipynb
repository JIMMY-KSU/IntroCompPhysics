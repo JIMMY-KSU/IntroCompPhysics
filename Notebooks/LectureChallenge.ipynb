{
 "metadata": {
  "name": "",
  "signature": "sha256:e7362e177b03b8a0ab151abbbbac6f419143de294643f3f1b5c623265a22ab5f"
 },
 "nbformat": 3,
 "nbformat_minor": 0,
 "worksheets": [
  {
   "cells": [
    {
     "cell_type": "markdown",
     "metadata": {},
     "source": [
      "# Lecture Challenges"
     ]
    },
    {
     "cell_type": "markdown",
     "metadata": {},
     "source": [
      "----\n",
      "## Lecture 01\n",
      "\n",
      "## 1. Generate a sequence of N Fibonacci numbers"
     ]
    },
    {
     "cell_type": "markdown",
     "metadata": {},
     "source": [
      "### Nathan Nichols"
     ]
    },
    {
     "cell_type": "code",
     "collapsed": false,
     "input": [
      "for N in range(1,(int(raw_input('How many Fibonacci numbers do you want? \\n'))+1)):\n",
      "   print int((1/(5**.5))*((((1+(5**.5))/2)**N)-(((1-(5**.5))/2)**N)))"
     ],
     "language": "python",
     "metadata": {},
     "outputs": []
    },
    {
     "cell_type": "markdown",
     "metadata": {},
     "source": [
      "### Ben Himberg"
     ]
    },
    {
     "cell_type": "code",
     "collapsed": false,
     "input": [
      "def fib(A,B,C):\n",
      "    print(A + B)\n",
      "    if(C != 0): fib(B,A+B,C-1)\n",
      "\n",
      "#calling the function\n",
      "fib(0,1,int(raw_input('Enter the length of the sequence: ')))"
     ],
     "language": "python",
     "metadata": {},
     "outputs": []
    },
    {
     "cell_type": "markdown",
     "metadata": {},
     "source": [
      "## 2. Write a program to determine if two integers are coprime"
     ]
    },
    {
     "cell_type": "markdown",
     "metadata": {},
     "source": [
      "### Dan Allman"
     ]
    },
    {
     "cell_type": "code",
     "collapsed": false,
     "input": [
      "def gcd (a,b):  #function to determine greatest common denominator of two numbers,based on the Euclidean algorithm.\n",
      "    while b != 0: #terminate when b=0, indicating last step of euclidean algorithm is complete. \n",
      "        a,b = b, a%b #Note that if a<b, this step will simply exchange the two integers, as required in the algorithm.\n",
      "    return a  #greatest common denominator\n",
      "\n",
      "def cptest (i,j):  #test the gcd of two numbers. If gcd=1, then the two are coprime.\n",
      "    if gcd(i,j) != 1:\n",
      "        print '%i and %i are not coprime integers. Their gcd is %i.' % (i,j,gcd(i,j))\n",
      "    else:\n",
      "        print '%i and %i are coprime integers.' % (i,j)\n",
      "\n",
      "cptest(int(raw_input('1st number: ')), int(raw_input('2nd number: ')))"
     ],
     "language": "python",
     "metadata": {},
     "outputs": []
    },
    {
     "cell_type": "markdown",
     "metadata": {},
     "source": [
      "### Kyle Robertson"
     ]
    },
    {
     "cell_type": "code",
     "collapsed": false,
     "input": [
      "a = input('What is the first number?: ')\n",
      "b = input('What is the second number?: ')\n",
      "\n",
      "Afactorlist = []\n",
      "for i in range(a): \n",
      "    i += 1\n",
      "    mod = a % i\n",
      "    if mod == 0:\n",
      "        Afactorlist.append(i)\n",
      "    else:\n",
      "        None \n",
      " \n",
      "Bfactorlist = []\n",
      "for i in range(b): \n",
      "    i += 1\n",
      "    mod = b % i\n",
      "    if mod == 0:\n",
      "        Bfactorlist.append(i)\n",
      "    else:\n",
      "        None \n",
      "\n",
      "commonfactors = []\n",
      "for i in Afactorlist:\n",
      "    for j in Bfactorlist:\n",
      "        if i == j:\n",
      "            commonfactors.append(i)\n",
      "        else:\n",
      "            None\n",
      "\n",
      "length = len(commonfactors)\n",
      "if length > 1:\n",
      "    print \"\\nYour numbers are not coprime\"\n",
      "else:\n",
      "    print \"\\nYour numbers are coprime!\" "
     ],
     "language": "python",
     "metadata": {},
     "outputs": []
    },
    {
     "cell_type": "markdown",
     "metadata": {},
     "source": [
      "----\n",
      "## Lecture 02\n",
      "\n",
      "## 1. Build Pascal's triangle and output the formatted triangle to the terminal\n",
      "Pascal's triangle starts with a single 1 at the top, then each row after that is built from the previous one, where the first and last number on the row are the first and last number of the previous row, and each number in-between is the sum of the two numbers to the left and righ on the previous row. The n<sup>th</sup> row has n numbers on it. It looks like this:\n",
      "\n",
      "<code>\n",
      "    1\n",
      "   1 1\n",
      "  1 2 1\n",
      " 1 3 3 1\n",
      "1 4 6 4 1\n",
      "...\n",
      "</code>"
     ]
    },
    {
     "cell_type": "markdown",
     "metadata": {},
     "source": [
      "## Nathan Nichols"
     ]
    },
    {
     "cell_type": "code",
     "collapsed": false,
     "input": [
      "import math\n",
      "for x in range(int(raw_input('How many rows of Pascal\\'s triangle do you want? \\n'))):\n",
      "   print ' '.join('%4d'%(math.factorial(x)/(math.factorial(y)*math.factorial(x-y))) for y in range(x+1)).center(100)"
     ],
     "language": "python",
     "metadata": {},
     "outputs": [
      {
       "name": "stdout",
       "output_type": "stream",
       "stream": "stdout",
       "text": [
        "How many rows of Pascal's triangle do you want? \n",
        "10\n"
       ]
      },
      {
       "output_type": "stream",
       "stream": "stdout",
       "text": [
        "                                                   1                                                \n",
        "                                                1    1                                              \n",
        "                                              1    2    1                                           \n",
        "                                           1    3    3    1                                         \n",
        "                                         1    4    6    4    1                                      \n",
        "                                      1    5   10   10    5    1                                    \n",
        "                                    1    6   15   20   15    6    1                                 \n",
        "                                 1    7   21   35   35   21    7    1                               \n",
        "                               1    8   28   56   70   56   28    8    1                            \n",
        "                            1    9   36   84  126  126   84   36    9    1                          \n"
       ]
      }
     ],
     "prompt_number": 2
    },
    {
     "cell_type": "markdown",
     "metadata": {},
     "source": [
      "## Ben Himberg"
     ]
    },
    {
     "cell_type": "code",
     "collapsed": false,
     "input": [
      "#import numpy\n",
      "from numpy import *\n",
      "\n",
      "#going to build it, then print it\n",
      "def create_triangle(depth):\n",
      "    #start with a zero'd matrix depthxdepth\n",
      "    triangle = zeros((depth,depth),dtype=int)\n",
      "    #fill first row and first col with 1s\n",
      "    for i in range(depth):\n",
      "        triangle[0,i] = 1\n",
      "        triangle[i,0] = 1\n",
      "    #fill remainder of triangle\n",
      "    for i in range(depth):\n",
      "        for j in range(depth):\n",
      "            if i != 0 and j != 0:\n",
      "                triangle[i,j] = triangle[i-1,j] + triangle[i,j-1]\n",
      "    return triangle\n",
      "\n",
      "def create_row_string(triangle, diagonal, depth):\n",
      "    i = 0\n",
      "    j = diagonal\n",
      "    s = \"\"\n",
      "    while(i != depth and j != -1):\n",
      "        s += \"%i \" % triangle[i,j]\n",
      "        i += 1\n",
      "        j -= 1\n",
      "    return s\n",
      "\n",
      "def print_triangle(depth):\n",
      "    triangle = create_triangle(depth)\n",
      "    max_len = len(create_row_string(triangle,depth-1, depth))\n",
      "    for i in range(depth-1):\n",
      "        s = create_row_string(triangle, i, depth)\n",
      "        f = \"{:^%i}\" % (max_len)\n",
      "        print f.format(s)\n",
      "    print create_row_string(triangle,depth-1,depth)\n",
      "\n",
      "print_triangle(20)"
     ],
     "language": "python",
     "metadata": {},
     "outputs": [
      {
       "output_type": "stream",
       "stream": "stdout",
       "text": [
        "                                               1                                                \n",
        "                                              1 1                                               \n",
        "                                             1 2 1                                              \n",
        "                                            1 3 3 1                                             \n",
        "                                           1 4 6 4 1                                            \n",
        "                                         1 5 10 10 5 1                                          \n",
        "                                       1 6 15 20 15 6 1                                         \n",
        "                                      1 7 21 35 35 21 7 1                                       \n",
        "                                    1 8 28 56 70 56 28 8 1                                      \n",
        "                                  1 9 36 84 126 126 84 36 9 1                                   \n",
        "                              1 10 45 120 210 252 210 120 45 10 1                               \n",
        "                            1 11 55 165 330 462 462 330 165 55 11 1                             \n",
        "                          1 12 66 220 495 792 924 792 495 220 66 12 1                           \n",
        "                      1 13 78 286 715 1287 1716 1716 1287 715 286 78 13 1                       \n",
        "                  1 14 91 364 1001 2002 3003 3432 3003 2002 1001 364 91 14 1                    \n",
        "               1 15 105 455 1365 3003 5005 6435 6435 5005 3003 1365 455 105 15 1                \n",
        "           1 16 120 560 1820 4368 8008 11440 12870 11440 8008 4368 1820 560 120 16 1            \n",
        "       1 17 136 680 2380 6188 12376 19448 24310 24310 19448 12376 6188 2380 680 136 17 1        \n",
        "    1 18 153 816 3060 8568 18564 31824 43758 48620 43758 31824 18564 8568 3060 816 153 18 1     \n",
        "1 19 171 969 3876 11628 27132 50388 75582 92378 92378 75582 50388 27132 11628 3876 969 171 19 1 \n"
       ]
      }
     ],
     "prompt_number": 3
    },
    {
     "cell_type": "markdown",
     "metadata": {},
     "source": [
      "## 2. Solve the 8 Queen's Problem\n",
      "How can you place eight chess queens on an 8\u00d78 chessboard so that no two queens threaten each other?"
     ]
    },
    {
     "cell_type": "markdown",
     "metadata": {},
     "source": [
      "### Dan & Kyle"
     ]
    },
    {
     "cell_type": "code",
     "collapsed": false,
     "input": [
      "import numpy as np\n",
      "import random\n",
      "def MarkBoard(a, b, board, N):\n",
      "    board[a,b] = 1\n",
      "    for i in range(N):\n",
      "        if i == a:\n",
      "            None\n",
      "        else:\n",
      "            board[i,b] = 2\n",
      "        if i == b:\n",
      "            None\n",
      "        else:\n",
      "            board[a,i] = 2     \n",
      "    for i in range(N):\n",
      "        i +=1 \n",
      "        if ((a+i) < N) and ((b+i) < N):\n",
      "            board[a+i,b+i] = 2\n",
      "        if ((a-i) >=0) and ((b-i) >= 0):\n",
      "            board[a-i,b-i] = 2\n",
      "        if ((a-i) >= 0) and ((b+i) < N):\n",
      "            board[a-i,b+i] = 2\n",
      "        if ((a+i) < N) and ((b-i) >= 0):\n",
      "            board[a+i,b-i] = 2\n",
      "    return board\n",
      "def PlaceQueens(board, N,QueenCounter):\n",
      "    for i in range(N):\n",
      "        for j in range(N):\n",
      "            if board[i,j] == 0:\n",
      "                board = MarkBoard(i,j,board,N)\n",
      "                QueenCounter+=1              \n",
      "    return QueenCounter, board\n",
      "def main():\n",
      "    N=8\n",
      "    board = np.zeros([N,N])\n",
      "    QueenCounter = 1\n",
      "    while QueenCounter < N:\n",
      "        a1 = random.randrange(0,N,1)\n",
      "        b1 = random.randrange(0,N,1)\n",
      "        MarkBoard(a1,b1,board,N)\n",
      "        QueenCounter, board = PlaceQueens(board,N, QueenCounter)\n",
      "        if QueenCounter < N:\n",
      "            board = np.zeros([N,N])\n",
      "            QueenCounter = 1\n",
      "        else: \n",
      "            None \n",
      "    print board\n",
      "main()"
     ],
     "language": "python",
     "metadata": {},
     "outputs": [
      {
       "output_type": "stream",
       "stream": "stdout",
       "text": [
        "[[ 2.  1.  2.  2.  2.  2.  2.  2.]\n",
        " [ 2.  2.  2.  1.  2.  2.  2.  2.]\n",
        " [ 2.  2.  2.  2.  2.  1.  2.  2.]\n",
        " [ 2.  2.  2.  2.  2.  2.  2.  1.]\n",
        " [ 2.  2.  1.  2.  2.  2.  2.  2.]\n",
        " [ 1.  2.  2.  2.  2.  2.  2.  2.]\n",
        " [ 2.  2.  2.  2.  2.  2.  1.  2.]\n",
        " [ 2.  2.  2.  2.  1.  2.  2.  2.]]\n"
       ]
      }
     ],
     "prompt_number": 4
    },
    {
     "cell_type": "markdown",
     "metadata": {},
     "source": [
      "### Joshuah Heath"
     ]
    },
    {
     "cell_type": "code",
     "collapsed": false,
     "input": [
      "# -*- coding: utf-8 -*-\n",
      "\"\"\"\n",
      "Created on Fri Aug 29 10:28:43 2014\n",
      "\n",
      "In-class Assignment \n",
      "File: Queens.py\n",
      "@author: heath_j\n",
      "==========================================================================\n",
      "Code to calculate the solutions and number of solutions\n",
      "in the N-Queens problem\n",
      "\n",
      "Joshuah T. Heath\n",
      "\n",
      "\"\"\"\n",
      "\n",
      "from itertools import permutations\n",
      "from numpy import *\n",
      "#import permutations from the itertools library and the numpy library\n",
      "\n",
      "def main():\n",
      "    Qlist=[] #set an empty list of chessboards where the Queen's are arranged in the wanted fashion\n",
      "    print \"This program gives solutions to the n-Queens Problem, with n queens on an nxn chessboard.\"\n",
      "    N=input(\"Please enter the value for n: \")\n",
      "    Y=raw_input(\"Would like to see each chessboard, with 1's representing queens?(y/n) \")\n",
      "    B=raw_input(\"Would like to know how many solutions there are?(y/n) \")\n",
      "    print #empty print statement for aesthetic reasons\n",
      "    for q in permutations(range(N)): \n",
      "    #this line is the key to the code working. Here, we denote an NxN chessboard with N queens\n",
      "    #as a list of numbers up to N. For example, let's say we have one configuration as\n",
      "    #(1,2,0,3,5,4,6,7). This tell's us that one queen is in the 0th column, 1st row, that\n",
      "    #the other queen is in the 1st column, 2nd row, and so on. With this, we automatically\n",
      "    #have one queen per row and column, thus solving the rook problem. Now, we need to solve\n",
      "    #the bishop problem\n",
      "        q=list(q)\n",
      "        Q=zeros([len(q),len(q)]) \n",
      "        #in this and the next for loop, we generate our board from the permutation array,\n",
      "        #with 1's representing queens\n",
      "        for i in range(len(q)):\n",
      "            Q[q[i],i]=1\n",
      "        QM=fliplr(Q) #generate a mirror of the board Q\n",
      "        Tlist=[] #set two empty lists\n",
      "        TMlist=[]\n",
      "        #in the for loop below, we calculate the trace of the board and the mirror \n",
      "        #of the board. If the sum of the set of traces is 1, then we know we have no\n",
      "        #doubles on the diagonals\n",
      "        for j in range(-(len(Q)-1),len(Q)):\n",
      "            T=Q.trace(offset=j,axis1=0,axis2=1,dtype=None,out=None)\n",
      "            TM=QM.trace(offset=j,axis1=0,axis2=1,dtype=None,out=None)\n",
      "            Tlist.append(T)\n",
      "            TMlist.append(TM)\n",
      "        if sum(list(set(Tlist)))==sum(list(set(TMlist)))==1:\n",
      "            if Y==\"y\":#print Q if we asked for it\n",
      "                print Q\n",
      "                print #blank print for aesthetic reasons\n",
      "            Qlist.append(Q)\n",
      "    if B=='y':#give the length of Qlist if we asked for it\n",
      "        print \"The total number of solutions to the %i-Queens problem is %i\" %(N,len(Qlist))\n",
      "    \n",
      "main()"
     ],
     "language": "python",
     "metadata": {},
     "outputs": []
    },
    {
     "cell_type": "markdown",
     "metadata": {},
     "source": [
      "### Nathan Nichols"
     ]
    },
    {
     "cell_type": "code",
     "collapsed": false,
     "input": [
      "# The eight queens problem can be significantly reduced by restricting each\n",
      "# queens position to each row (or column).  This reduces the number of possible\n",
      "# queen placement combinations from C(64,8) to 8^8.  I will use this to my\n",
      "# advandage in the brute force method that follows.\n",
      "\n",
      "# I want a variable to hold the board length\n",
      "n = 8\n",
      "# I want to create an empty list to hold all\n",
      "# possible queen placement positions\n",
      "a=[[]]\n",
      "\n",
      "# The next section of code iterates over each element of a\n",
      "# Each iteration appends an element of a with 1,2,3,or 4.\n",
      "# The first iteration gives [[1], [2], [3], [4]]\n",
      "# while the second iteration gives [[1, 1], [1, 2], ... , [4, 3], [4, 4]]\n",
      "# The if not statement rejects boards where a queen threatens another queen\n",
      "# in the same row.\n",
      "for d in range(n):\n",
      "   a = [b+[c+1] for b in a for c in range(n) if not c+1 in b]\n",
      "# A queen is threatened diagonally by another queen if the absolute value of\n",
      "# the slope of the line determined by their coordinates is equal to one\n",
      "\n",
      "for aa in a:\n",
      "   if not any([abs(float(aa[i]-aa[j])/float(i-j)) == 1 for i,x in enumerate(aa) for j,y in enumerate(aa) if not i-j == 0]):\n",
      "       print(list(enumerate(aa, start=1)))"
     ],
     "language": "python",
     "metadata": {},
     "outputs": [
      {
       "output_type": "stream",
       "stream": "stdout",
       "text": [
        "[(1, 1), (2, 5), (3, 8), (4, 6), (5, 3), (6, 7), (7, 2), (8, 4)]\n",
        "[(1, 1), (2, 6), (3, 8), (4, 3), (5, 7), (6, 4), (7, 2), (8, 5)]\n",
        "[(1, 1), (2, 7), (3, 4), (4, 6), (5, 8), (6, 2), (7, 5), (8, 3)]"
       ]
      },
      {
       "output_type": "stream",
       "stream": "stdout",
       "text": [
        "\n",
        "[(1, 1), (2, 7), (3, 5), (4, 8), (5, 2), (6, 4), (7, 6), (8, 3)]\n",
        "[(1, 2), (2, 4), (3, 6), (4, 8), (5, 3), (6, 1), (7, 7), (8, 5)]"
       ]
      },
      {
       "output_type": "stream",
       "stream": "stdout",
       "text": [
        "\n",
        "[(1, 2), (2, 5), (3, 7), (4, 1), (5, 3), (6, 8), (7, 6), (8, 4)]\n",
        "[(1, 2), (2, 5), (3, 7), (4, 4), (5, 1), (6, 8), (7, 6), (8, 3)]\n",
        "[(1, 2), (2, 6), (3, 1), (4, 7), (5, 4), (6, 8), (7, 3), (8, 5)]"
       ]
      },
      {
       "output_type": "stream",
       "stream": "stdout",
       "text": [
        "\n",
        "[(1, 2), (2, 6), (3, 8), (4, 3), (5, 1), (6, 4), (7, 7), (8, 5)]\n",
        "[(1, 2), (2, 7), (3, 3), (4, 6), (5, 8), (6, 5), (7, 1), (8, 4)]\n",
        "[(1, 2), (2, 7), (3, 5), (4, 8), (5, 1), (6, 4), (7, 6), (8, 3)]"
       ]
      },
      {
       "output_type": "stream",
       "stream": "stdout",
       "text": [
        "\n",
        "[(1, 2), (2, 8), (3, 6), (4, 1), (5, 3), (6, 5), (7, 7), (8, 4)]\n",
        "[(1, 3), (2, 1), (3, 7), (4, 5), (5, 8), (6, 2), (7, 4), (8, 6)]"
       ]
      },
      {
       "output_type": "stream",
       "stream": "stdout",
       "text": [
        "\n",
        "[(1, 3), (2, 5), (3, 2), (4, 8), (5, 1), (6, 7), (7, 4), (8, 6)]"
       ]
      },
      {
       "output_type": "stream",
       "stream": "stdout",
       "text": [
        "\n",
        "[(1, 3), (2, 5), (3, 2), (4, 8), (5, 6), (6, 4), (7, 7), (8, 1)]\n",
        "[(1, 3), (2, 5), (3, 7), (4, 1), (5, 4), (6, 2), (7, 8), (8, 6)]\n",
        "[(1, 3), (2, 5), (3, 8), (4, 4), (5, 1), (6, 7), (7, 2), (8, 6)]\n",
        "[(1, 3), (2, 6), (3, 2), (4, 5), (5, 8), (6, 1), (7, 7), (8, 4)]\n",
        "[(1, 3), (2, 6), (3, 2), (4, 7), (5, 1), (6, 4), (7, 8), (8, 5)]\n",
        "[(1, 3), (2, 6), (3, 2), (4, 7), (5, 5), (6, 1), (7, 8), (8, 4)]\n",
        "[(1, 3), (2, 6), (3, 4), (4, 1), (5, 8), (6, 5), (7, 7), (8, 2)]\n",
        "[(1, 3), (2, 6), (3, 4), (4, 2), (5, 8), (6, 5), (7, 7), (8, 1)]\n",
        "[(1, 3), (2, 6), (3, 8), (4, 1), (5, 4), (6, 7), (7, 5), (8, 2)]"
       ]
      },
      {
       "output_type": "stream",
       "stream": "stdout",
       "text": [
        "\n",
        "[(1, 3), (2, 6), (3, 8), (4, 1), (5, 5), (6, 7), (7, 2), (8, 4)]\n",
        "[(1, 3), (2, 6), (3, 8), (4, 2), (5, 4), (6, 1), (7, 7), (8, 5)]\n",
        "[(1, 3), (2, 7), (3, 2), (4, 8), (5, 5), (6, 1), (7, 4), (8, 6)]\n",
        "[(1, 3), (2, 7), (3, 2), (4, 8), (5, 6), (6, 4), (7, 1), (8, 5)]\n",
        "[(1, 3), (2, 8), (3, 4), (4, 7), (5, 1), (6, 6), (7, 2), (8, 5)]"
       ]
      },
      {
       "output_type": "stream",
       "stream": "stdout",
       "text": [
        "\n",
        "[(1, 4), (2, 1), (3, 5), (4, 8), (5, 2), (6, 7), (7, 3), (8, 6)]\n",
        "[(1, 4), (2, 1), (3, 5), (4, 8), (5, 6), (6, 3), (7, 7), (8, 2)]\n",
        "[(1, 4), (2, 2), (3, 5), (4, 8), (5, 6), (6, 1), (7, 3), (8, 7)]"
       ]
      },
      {
       "output_type": "stream",
       "stream": "stdout",
       "text": [
        "\n",
        "[(1, 4), (2, 2), (3, 7), (4, 3), (5, 6), (6, 8), (7, 1), (8, 5)]\n",
        "[(1, 4), (2, 2), (3, 7), (4, 3), (5, 6), (6, 8), (7, 5), (8, 1)]\n",
        "[(1, 4), (2, 2), (3, 7), (4, 5), (5, 1), (6, 8), (7, 6), (8, 3)]\n",
        "[(1, 4), (2, 2), (3, 8), (4, 5), (5, 7), (6, 1), (7, 3), (8, 6)]\n",
        "[(1, 4), (2, 2), (3, 8), (4, 6), (5, 1), (6, 3), (7, 5), (8, 7)]\n",
        "[(1, 4), (2, 6), (3, 1), (4, 5), (5, 2), (6, 8), (7, 3), (8, 7)]"
       ]
      },
      {
       "output_type": "stream",
       "stream": "stdout",
       "text": [
        "\n",
        "[(1, 4), (2, 6), (3, 8), (4, 2), (5, 7), (6, 1), (7, 3), (8, 5)]\n",
        "[(1, 4), (2, 6), (3, 8), (4, 3), (5, 1), (6, 7), (7, 5), (8, 2)]\n",
        "[(1, 4), (2, 7), (3, 1), (4, 8), (5, 5), (6, 2), (7, 6), (8, 3)]\n",
        "[(1, 4), (2, 7), (3, 3), (4, 8), (5, 2), (6, 5), (7, 1), (8, 6)]"
       ]
      },
      {
       "output_type": "stream",
       "stream": "stdout",
       "text": [
        "\n",
        "[(1, 4), (2, 7), (3, 5), (4, 2), (5, 6), (6, 1), (7, 3), (8, 8)]\n",
        "[(1, 4), (2, 7), (3, 5), (4, 3), (5, 1), (6, 6), (7, 8), (8, 2)]\n",
        "[(1, 4), (2, 8), (3, 1), (4, 3), (5, 6), (6, 2), (7, 7), (8, 5)]\n",
        "[(1, 4), (2, 8), (3, 1), (4, 5), (5, 7), (6, 2), (7, 6), (8, 3)]\n",
        "[(1, 4), (2, 8), (3, 5), (4, 3), (5, 1), (6, 7), (7, 2), (8, 6)]\n",
        "[(1, 5), (2, 1), (3, 4), (4, 6), (5, 8), (6, 2), (7, 7), (8, 3)]"
       ]
      },
      {
       "output_type": "stream",
       "stream": "stdout",
       "text": [
        "\n",
        "[(1, 5), (2, 1), (3, 8), (4, 4), (5, 2), (6, 7), (7, 3), (8, 6)]\n",
        "[(1, 5), (2, 1), (3, 8), (4, 6), (5, 3), (6, 7), (7, 2), (8, 4)]\n",
        "[(1, 5), (2, 2), (3, 4), (4, 6), (5, 8), (6, 3), (7, 1), (8, 7)]\n",
        "[(1, 5), (2, 2), (3, 4), (4, 7), (5, 3), (6, 8), (7, 6), (8, 1)]\n",
        "[(1, 5), (2, 2), (3, 6), (4, 1), (5, 7), (6, 4), (7, 8), (8, 3)]\n",
        "[(1, 5), (2, 2), (3, 8), (4, 1), (5, 4), (6, 7), (7, 3), (8, 6)]"
       ]
      },
      {
       "output_type": "stream",
       "stream": "stdout",
       "text": [
        "\n",
        "[(1, 5), (2, 3), (3, 1), (4, 6), (5, 8), (6, 2), (7, 4), (8, 7)]\n",
        "[(1, 5), (2, 3), (3, 1), (4, 7), (5, 2), (6, 8), (7, 6), (8, 4)]\n",
        "[(1, 5), (2, 3), (3, 8), (4, 4), (5, 7), (6, 1), (7, 6), (8, 2)]\n",
        "[(1, 5), (2, 7), (3, 1), (4, 3), (5, 8), (6, 6), (7, 4), (8, 2)]"
       ]
      },
      {
       "output_type": "stream",
       "stream": "stdout",
       "text": [
        "\n",
        "[(1, 5), (2, 7), (3, 1), (4, 4), (5, 2), (6, 8), (7, 6), (8, 3)]\n",
        "[(1, 5), (2, 7), (3, 2), (4, 4), (5, 8), (6, 1), (7, 3), (8, 6)]\n",
        "[(1, 5), (2, 7), (3, 2), (4, 6), (5, 3), (6, 1), (7, 4), (8, 8)]\n",
        "[(1, 5), (2, 7), (3, 2), (4, 6), (5, 3), (6, 1), (7, 8), (8, 4)]\n",
        "[(1, 5), (2, 7), (3, 4), (4, 1), (5, 3), (6, 8), (7, 6), (8, 2)]\n",
        "[(1, 5), (2, 8), (3, 4), (4, 1), (5, 3), (6, 6), (7, 2), (8, 7)]"
       ]
      },
      {
       "output_type": "stream",
       "stream": "stdout",
       "text": [
        "\n",
        "[(1, 5), (2, 8), (3, 4), (4, 1), (5, 7), (6, 2), (7, 6), (8, 3)]\n",
        "[(1, 6), (2, 1), (3, 5), (4, 2), (5, 8), (6, 3), (7, 7), (8, 4)]\n",
        "[(1, 6), (2, 2), (3, 7), (4, 1), (5, 3), (6, 5), (7, 8), (8, 4)]"
       ]
      },
      {
       "output_type": "stream",
       "stream": "stdout",
       "text": [
        "\n",
        "[(1, 6), (2, 2), (3, 7), (4, 1), (5, 4), (6, 8), (7, 5), (8, 3)]\n",
        "[(1, 6), (2, 3), (3, 1), (4, 7), (5, 5), (6, 8), (7, 2), (8, 4)]\n",
        "[(1, 6), (2, 3), (3, 1), (4, 8), (5, 4), (6, 2), (7, 7), (8, 5)]\n",
        "[(1, 6), (2, 3), (3, 1), (4, 8), (5, 5), (6, 2), (7, 4), (8, 7)]\n",
        "[(1, 6), (2, 3), (3, 5), (4, 7), (5, 1), (6, 4), (7, 2), (8, 8)]\n",
        "[(1, 6), (2, 3), (3, 5), (4, 8), (5, 1), (6, 4), (7, 2), (8, 7)]\n",
        "[(1, 6), (2, 3), (3, 7), (4, 2), (5, 4), (6, 8), (7, 1), (8, 5)]\n",
        "[(1, 6), (2, 3), (3, 7), (4, 2), (5, 8), (6, 5), (7, 1), (8, 4)]\n",
        "[(1, 6), (2, 3), (3, 7), (4, 4), (5, 1), (6, 8), (7, 2), (8, 5)]\n",
        "[(1, 6), (2, 4), (3, 1), (4, 5), (5, 8), (6, 2), (7, 7), (8, 3)]"
       ]
      },
      {
       "output_type": "stream",
       "stream": "stdout",
       "text": [
        "\n",
        "[(1, 6), (2, 4), (3, 2), (4, 8), (5, 5), (6, 7), (7, 1), (8, 3)]\n",
        "[(1, 6), (2, 4), (3, 7), (4, 1), (5, 3), (6, 5), (7, 2), (8, 8)]\n",
        "[(1, 6), (2, 4), (3, 7), (4, 1), (5, 8), (6, 2), (7, 5), (8, 3)]\n",
        "[(1, 6), (2, 8), (3, 2), (4, 4), (5, 1), (6, 7), (7, 5), (8, 3)]"
       ]
      },
      {
       "output_type": "stream",
       "stream": "stdout",
       "text": [
        "\n",
        "[(1, 7), (2, 1), (3, 3), (4, 8), (5, 6), (6, 4), (7, 2), (8, 5)]\n",
        "[(1, 7), (2, 2), (3, 4), (4, 1), (5, 8), (6, 5), (7, 3), (8, 6)]"
       ]
      },
      {
       "output_type": "stream",
       "stream": "stdout",
       "text": [
        "\n",
        "[(1, 7), (2, 2), (3, 6), (4, 3), (5, 1), (6, 4), (7, 8), (8, 5)]\n",
        "[(1, 7), (2, 3), (3, 1), (4, 6), (5, 8), (6, 5), (7, 2), (8, 4)]\n",
        "[(1, 7), (2, 3), (3, 8), (4, 2), (5, 5), (6, 1), (7, 6), (8, 4)]"
       ]
      },
      {
       "output_type": "stream",
       "stream": "stdout",
       "text": [
        "\n",
        "[(1, 7), (2, 4), (3, 2), (4, 5), (5, 8), (6, 1), (7, 3), (8, 6)]\n",
        "[(1, 7), (2, 4), (3, 2), (4, 8), (5, 6), (6, 1), (7, 3), (8, 5)]\n",
        "[(1, 7), (2, 5), (3, 3), (4, 1), (5, 6), (6, 8), (7, 2), (8, 4)]"
       ]
      },
      {
       "output_type": "stream",
       "stream": "stdout",
       "text": [
        "\n",
        "[(1, 8), (2, 2), (3, 4), (4, 1), (5, 7), (6, 5), (7, 3), (8, 6)]"
       ]
      },
      {
       "output_type": "stream",
       "stream": "stdout",
       "text": [
        "\n",
        "[(1, 8), (2, 2), (3, 5), (4, 3), (5, 1), (6, 7), (7, 4), (8, 6)]\n",
        "[(1, 8), (2, 3), (3, 1), (4, 6), (5, 2), (6, 5), (7, 7), (8, 4)]\n",
        "[(1, 8), (2, 4), (3, 1), (4, 3), (5, 6), (6, 2), (7, 7), (8, 5)]"
       ]
      },
      {
       "output_type": "stream",
       "stream": "stdout",
       "text": [
        "\n"
       ]
      }
     ],
     "prompt_number": 5
    },
    {
     "cell_type": "markdown",
     "metadata": {},
     "source": [
      "### Follow up\n",
      "\n",
      "For visualization of the board, check out:\n",
      "    https://github.com/jiffyclub/ipythonblocks"
     ]
    },
    {
     "cell_type": "markdown",
     "metadata": {},
     "source": [
      "----\n",
      "## Lecture 03\n",
      "\n",
      "### 1. English number words\n",
      "\n",
      "On financial documents (like cheques) sometimes it is required to write out numbers in full words, i.e. **175 = one hundred and seventy five**.  Write a program that takes a non-negative integer from the command line and outputs the result in words with propper formatting."
     ]
    },
    {
     "cell_type": "markdown",
     "metadata": {},
     "source": [
      "### Ben Himberg"
     ]
    },
    {
     "cell_type": "code",
     "collapsed": false,
     "input": [
      "#create the dictionary\n",
      "counting = {0:'zero',1:'one',2:'two',3:'three',4:'four',5:'five',6:'six',7:'seven',8:'eight',9:'nine',\n",
      "        10:'ten',11:'eleven',12:'twelve',13:'thirteen',14:'fourteen',15:'fifteen',16:'sixteen',\n",
      "        17:'seventeen', 18:'eighteen', 19:'nineteen', 20:'twenty',30:'thirty',40:'fourty',50:'fifty',\n",
      "        60:'sixty',70:'seventy',80:'eighty',90:'ninety',100:'hundred',1000:'thousand',1000000:'million'}\n",
      "\n",
      "#creates an english representation of N. For interesting results, remove high\n",
      "#pairs from the dictionary (for example you could remove all numbers after 70\n",
      "#to count in 'seventy'\n",
      "def create_string(nums, N):\n",
      "    #deal with direct case\n",
      "    if N in list(nums.keys()):\n",
      "        return nums[N] + ' '\n",
      "    \n",
      "    #pull out the (sorted, zero removed) list of keys\n",
      "    keys = sorted(list(nums.keys()), reverse=True)[:-1]\n",
      "    \n",
      "    #make a copy of N\n",
      "    val = N\n",
      "    \n",
      "    #initialize string\n",
      "    s = ''\n",
      "    \n",
      "    #deal with the negative case\n",
      "    if val < 0:\n",
      "        s += 'negative '\n",
      "        val *= -1\n",
      "    \n",
      "    #finally create our string\n",
      "    for divisor in keys:\n",
      "        #num should remain an integer\n",
      "        num = int(val / divisor)\n",
      "        if num > 0:\n",
      "            #store the remainder in val\n",
      "            val %= divisor\n",
      "            #numbers less than 100 are not counted (i.e. 'one hundred' vs 'one ninety'\n",
      "            #the min/max is for the special case our dictionary only goes up to say 70\n",
      "            if divisor >= min(100,max(keys)):\n",
      "                s += create_string(nums, num)\n",
      "            #write in divisor\n",
      "            s += nums[divisor] + ' '\n",
      "    \n",
      "    return s\n",
      "\n",
      "print create_string(counting, 14783)"
     ],
     "language": "python",
     "metadata": {},
     "outputs": []
    },
    {
     "cell_type": "markdown",
     "metadata": {},
     "source": [
      "### Dan Allman"
     ]
    },
    {
     "cell_type": "code",
     "collapsed": false,
     "input": [
      "#List all the required words to convert a number to a word\n",
      "ones = [\"\", \"one \",\"two \",\"three \",\"four \", \"five \",\n",
      "     \"six \",\"seven \",\"eight \",\"nine \"]\n",
      "tens = [\"ten \",\"eleven \",\"twelve \",\"thirteen \", \"fourteen \",\n",
      "    \"fifteen \",\"sixteen \",\"seventeen \",\"eighteen \",\"nineteen \"]\n",
      "twenties = [\"\",\"\",\"twenty \",\"thirty \",\"forty \",\n",
      "    \"fifty \",\"sixty \",\"seventy \",\"eighty \",\"ninety \"]\n",
      "thousands = [\"\",\"thousand \",\"million \", \"billion \", \"trillion \",\n",
      "    \"quadrillion \", \"quintillion \", \"sextillion \", \"septillion \",\"octillion \",\n",
      "    \"nonillion \", \"decillion \", \"undecillion \", \"duodecillion \", \"tredecillion \",\n",
      "    \"quattuordecillion \", \"sexdecillion \", \"septendecillion \", \"octodecillion \",\n",
      "    \"novemdecillion \", \"vigintillion \"]\n",
      "\n",
      "def numlessthan1000(m): #Number of units in the thousands,millions,billions,...place in words\n",
      "    mstr=str(m)\n",
      "    length=len(mstr)\n",
      "    if length==3:\n",
      "        if 10<=int(mstr[1:])<20:\n",
      "            word=ones[int(mstr[0])]+'hundred '+tens[divmod(int(mstr[1:]),10)]\n",
      "        elif int(mstr[1:])<10:\n",
      "            word=ones[int(mstr[0])]+'hundred '+ones[int(mstr[1:])]\n",
      "        elif 20<=int(mstr[1:])<100:\n",
      "            word=ones[int(mstr[0])]+'hundred '+twenties[divmod(int(mstr[1:]),10)[0]]+ones[int(mstr[-1])]\n",
      "    elif length==2:\n",
      "        if 10<=m<20:\n",
      "            word=tens[int(mstr[-1])]\n",
      "        elif m<10:\n",
      "            word=ones[m]\n",
      "        else:\n",
      "            word=twenties[divmod(int(mstr),10)[0]]+ones[int(mstr[-1])]\n",
      "    elif length==1:\n",
      "        word=ones[m]\n",
      "    return word\n",
      "def numtostr(n):\n",
      "    nstrc=format(n,',d') #String form, with commas in appropriate locations\n",
      "    nstr=str(n)\n",
      "    commas=nstrc.count(',') #Count commas to get the maximum place\n",
      "    start=[]\n",
      "    first_units=n/10**(commas*3) #For instance, 12,345,678 will give first_units=12\n",
      "    length=len(str(first_units))\n",
      "    for i in range(commas):\n",
      "        if int(nstr[length+3*i:length+3*i+3])==0:\n",
      "            start.append(0)\n",
      "        else:\n",
      "            start.append(int(nstr[(length+3*i):])/(10**(3*(commas-i-1))))\n",
      "    start.insert(0,first_units) #List of number of units in each power of 10\n",
      "    word=\"\"\n",
      "    for j in range(len(start)):\n",
      "        if  start[j]==0:\n",
      "            pass\n",
      "        else:\n",
      "            word=word+numlessthan1000(start[j])+thousands[commas-j] \n",
      "    return word\n",
      "\n",
      "num=input('Enter a number greater than 0: ')\n",
      "print(numtostr(num))"
     ],
     "language": "python",
     "metadata": {},
     "outputs": [
      {
       "name": "stdout",
       "output_type": "stream",
       "stream": "stdout",
       "text": [
        "Enter a number greater than 0: 128568983246\n"
       ]
      },
      {
       "output_type": "stream",
       "stream": "stdout",
       "text": [
        "one hundred twenty eight billion five hundred sixty eight million nine hundred eighty three thousand two hundred forty six \n"
       ]
      }
     ],
     "prompt_number": 17
    },
    {
     "cell_type": "markdown",
     "metadata": {},
     "source": [
      "### Nathan Nichols"
     ]
    },
    {
     "cell_type": "code",
     "collapsed": false,
     "input": [
      "a=[]\n",
      "b=raw_input('Enter a number: \\n')\n",
      "ones = [\"\", \"one\", \"two\", \"three\", \"four\", \"five\", \"six\", \"seven\", \"eight\", \"nine \"]\n",
      "teens = [\"\", \"eleven\", \"twelve\", \"thirteen\", \"fourteen\", \"fifteen\", \"sixteen\",\\\n",
      "        \"seventeen\", \"eighteen\", \"nineteen\"]\n",
      "tens = [\"\", \"ten\", \"twenty\", \"thirty\", \"forty\", \"fifty\", \"sixty\", \"seventy\",\\\n",
      "       \"eighty\", \"ninety\"]\n",
      "largenums = [\"\",\"thousand\", \"million\", \"billion\", \"trillion\", \"quadrillion\",\\\n",
      "            \"quintillion\", \"sextillion\", \"septillion\", \"octillion\",\\\n",
      "            \"nonillion\", \"decillion\", \"undecillion\", \"duodecillion\",\\\n",
      "            \"tredecillion\", \"quattuordecillion\", \"quindecillion\",\\\n",
      "            \"sexdecillion\", \"septendecillion\", \"octodecillion\",\\\n",
      "            \"novemdecillion\", \"vigintillion\", \"unvigintillion\",\\\n",
      "            \"duovigintillion\", \"trevigintillion\", \"quattuorvigintillion\",\\\n",
      "            \"quinvigintillion\", \"septemvigintilion\", \"octovigintillion\",\\\n",
      "            \"novemvigintillion\", \"trigintillion\"]\n",
      "zzz=[]\n",
      "\n",
      "if int(b) == 0:\n",
      "   zzz.append(\"zero\")\n",
      "else:\n",
      "   b = b.rjust(len(b)+(3-len(b)) % 3,'0')\n",
      "   for d in range(0,len(b),3):\n",
      "       a = a+[b[d:d+3]]\n",
      "   for n in range(len(a)):\n",
      "       if not int(a[n][0]) == 0:\n",
      "           zzz.append(ones[int(a[n][0])])\n",
      "           zzz.append('hundred')\n",
      "           zzz.append(tens[int(a[n][1])])\n",
      "           if int(a[n][1]) == 1:\n",
      "               if not int(a[n][0]) == 0:\n",
      "                   zzz.pop()\n",
      "                   zzz.append(teens[int(a[n][2])])\n",
      "           if not int(a[n][1]) == 1:\n",
      "               zzz.append(ones[int(a[n][2])])\n",
      "           zzz.append(largenums[len(a)-n-1])\n",
      "       else:\n",
      "           zzz.append(tens[int(a[n][1])])\n",
      "           if int(a[n][1]) == 1:\n",
      "               if not int(a[n][0]) == 0:\n",
      "                   zzz.pop()\n",
      "                   zzz.append(teens[int(a[n][2])])\n",
      "           if not int(a[n][1]) == 1:\n",
      "               zzz.append(ones[int(a[n][2])])\n",
      "           if not int(a[n]) == 0:\n",
      "               zzz.append(largenums[len(a)-n-1])\n",
      "zzzz = \" \".join(zzz).split()\n",
      "print \" \".join(zzzz)"
     ],
     "language": "python",
     "metadata": {},
     "outputs": [
      {
       "name": "stdout",
       "output_type": "stream",
       "stream": "stdout",
       "text": [
        "Enter a number: \n",
        "128787\n"
       ]
      },
      {
       "output_type": "stream",
       "stream": "stdout",
       "text": [
        "one hundred twenty eight thousand seven hundred eighty seven\n"
       ]
      }
     ],
     "prompt_number": 10
    },
    {
     "cell_type": "markdown",
     "metadata": {},
     "source": [
      "### 2. The Knapsack Problem\n",
      "<img src=\"http://upload.wikimedia.org/wikipedia/commons/thumb/f/fd/Knapsack.svg/1182px-Knapsack.svg.png\" width=400px>\n",
      "\n",
      "\n",
      "There is a knapsack of capacity $c>0$ and $N$ items.  Each item has a value $v_i > 0$ and a weight $w_i>0$.  Find the slection of items ($\\delta_i = 1$ if selected and $\\delta_i=0$ if not) that fit with the total value maximized:\n",
      "\\begin{align}\n",
      "c &\\ge \\sum_{i=1}^N \\delta_i w_i  \\\\\n",
      "V &= \\max_{\\delta} \\left [ \\sum_{i=1}^N \\delta_i v_i\\right]\n",
      "\\end{align}"
     ]
    },
    {
     "cell_type": "markdown",
     "metadata": {},
     "source": [
      "### Dan Allman"
     ]
    },
    {
     "cell_type": "code",
     "collapsed": false,
     "input": [
      "from random import random\n",
      "#Knapsack Problem:\n",
      "#Each item has a label, a weight, and a price, stored in a triple (label,weight,price)\n",
      "N=10 #number of items\n",
      "W=100 #Max weight\n",
      "def item_list(n): #generate a random list of n items\n",
      "    start=[]\n",
      "    for i in range(n):\n",
      "        start.append((i,1+int(9*random()),1+int(9*random())))\n",
      "    return start\n",
      "def combo_list(items): #Generate combinations of items to be put in sack\n",
      "    start=[[]]\n",
      "    for i in items:\n",
      "        setlist=[r+[i] for r in start]\n",
      "        start.extend(setlist)\n",
      "    return start\n",
      "def sack(items,W): #Build sack with weight constraints and optimize price\n",
      "    sack=[]\n",
      "    weight=0\n",
      "    price=0\n",
      "    for combo in combo_list(items):\n",
      "        combo_weight=sum([i[1] for i in combo])\n",
      "        combo_price=sum([i[2] for i in combo])\n",
      "        if combo_weight<=W and combo_price>price:\n",
      "            price=combo_price\n",
      "            weight=combo_weight\n",
      "            sack=combo\n",
      "    return sack,weight,price\n",
      "d=item_list(N)\n",
      "%timeit knapsack,optimum_weight,optimum_price=sack(d,W)\n",
      "print '\\nBest Knapsack (label,weight,price):\\n', knapsack\n",
      "print 'Optimum weight is:' ,optimum_weight\n",
      "print 'Maximum price is:' , optimum_price"
     ],
     "language": "python",
     "metadata": {},
     "outputs": [
      {
       "output_type": "stream",
       "stream": "stdout",
       "text": [
        "10 loops, best of 3: 17.7 ms per loop\n",
        "\n",
        "Best Knapsack (label,weight,price):\n",
        "[(0, 1, 8), (1, 2, 9), (2, 8, 8), (3, 2, 9), (4, 2, 1), (5, 2, 8), (6, 3, 1), (7, 3, 1), (8, 1, 7), (9, 8, 1), (10, 2, 3), (11, 5, 7), (12, 5, 8), (13, 8, 7), (14, 4, 3), (15, 1, 1), (16, 9, 1), (17, 6, 6), (18, 5, 3), (19, 9, 2)]\n",
        "Optimum weight is: 86\n",
        "Maximum price is: 94\n"
       ]
      }
     ],
     "prompt_number": 20
    },
    {
     "cell_type": "markdown",
     "metadata": {},
     "source": [
      "### Nathan Nichols"
     ]
    },
    {
     "cell_type": "code",
     "collapsed": false,
     "input": [
      "#Create some variables to hold the items and max weight that the knapsack can hold\n",
      "#Each item in the list is of the form (value,weight)\n",
      "items = [(4, 12), (2, 1), (6, 4), (1, 1), (2,2), (2, 2)]\n",
      "maxweight = 15\n",
      "\n",
      "#Create an empty variable to hold some info ((value,weight),weight,value/weight)\n",
      "values = []\n",
      "\n",
      "#This for loop will return the info above and add it to value if the item\n",
      "#is not heavier than the max weight of the bag\n",
      "for x in items:\n",
      "   y,z = x\n",
      "   if z < maxweight:\n",
      "       values=values+[(x,z,float(y)/float(z))]\n",
      "\n",
      "#This next line sorts the list of tuples by value/weight\n",
      "values = sorted(values, key=lambda zzz: zzz[2])\n",
      "\n",
      "#This next variable will be used to break the next for loop if the bag gets\n",
      "#too heavy.\n",
      "weightinbag=0.0\n",
      "\n",
      "#These next two variables will be used to store the answer\n",
      "result=[]\n",
      "totalvalue=0.0\n",
      "\n",
      "#This for loop starts adding items to the bag until it is full\n",
      "for xx in xrange(len(values)-1,0,-1):\n",
      "   n,m,o=values[xx]\n",
      "   nn,mm=n\n",
      "   weightinbag+=m\n",
      "   if weightinbag > maxweight:\n",
      "       break\n",
      "   totalvalue+=nn\n",
      "   result=result+[n]\n",
      "\n",
      "#Print the result!\n",
      "print result\n",
      "print 'The total value of goods is %d' % totalvalue"
     ],
     "language": "python",
     "metadata": {},
     "outputs": [
      {
       "output_type": "stream",
       "stream": "stdout",
       "text": [
        "[(2, 1), (6, 4), (2, 2), (2, 2), (1, 1)]\n",
        "The total value of goods is 13\n"
       ]
      }
     ],
     "prompt_number": 11
    },
    {
     "cell_type": "code",
     "collapsed": false,
     "input": [],
     "language": "python",
     "metadata": {},
     "outputs": []
    }
   ],
   "metadata": {}
  }
 ]
}