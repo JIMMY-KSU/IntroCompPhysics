{
 "cells": [
  {
   "cell_type": "markdown",
   "metadata": {},
   "source": [
    "# Physics 256\n",
    "## Relaxation Methods\n",
    "\n",
    "<img src=\"http://touchingthestillness.org/wp-content/uploads/2011/07/meditation.jpg\" width=400px>\n"
   ]
  },
  {
   "cell_type": "markdown",
   "metadata": {},
   "source": [
    "## Last Time\n",
    "\n",
    "- Elliptical differential equations\n",
    "- Spatial discretization and the Laplace equation\n",
    "- Connection to the diffusion equation\n",
    "\n",
    "## Today\n",
    "\n",
    "- Relaxation methods including:\n",
    " - Jacobi method\n",
    " - Guass-Siedel method\n",
    " - Simultaneous over-relaxation\n",
    "- Computing the electric field"
   ]
  },
  {
   "cell_type": "markdown",
   "metadata": {},
   "source": [
    "## Setting up the Notebook"
   ]
  },
  {
   "cell_type": "code",
   "execution_count": 11,
   "metadata": {
    "collapsed": false
   },
   "outputs": [],
   "source": [
    "import matplotlib.pyplot as plt\n",
    "import numpy as np\n",
    "%matplotlib inline\n",
    "plt.style.use('notebook');\n",
    "%config InlineBackend.figure_format = 'retina'\n",
    "colors = [\"#2078B5\", \"#FF7F0F\", \"#2CA12C\", \"#D72827\", \"#9467BE\", \"#8C574B\",\n",
    "            \"#E478C2\", \"#808080\", \"#BCBE20\", \"#17BED0\", \"#AEC8E9\", \"#FFBC79\", \n",
    "            \"#98E08B\", \"#FF9896\", \"#C6B1D6\", \"#C59D94\", \"#F8B7D3\", \"#C8C8C8\", \n",
    "           \"#DCDC8E\", \"#9EDAE6\"]"
   ]
  },
  {
   "cell_type": "markdown",
   "metadata": {},
   "source": [
    "## Laplace's Equation\n",
    "\n",
    "Recall that we were able to write the Laplace equation:\n",
    "\n",
    "\\begin{equation}\n",
    "\\nabla^2 V = 0\n",
    "\\end{equation}\n",
    "\n",
    "on a three-dimensional grid (with isotropic grid size $\\Delta x = \\Delta y = \\Delta z = \\Delta$ as a difference equation that required that the value on each grid point be equal to the average of all its neighbors:\n",
    "\n",
    "\\begin{equation}\n",
    "V(i,j,k) = \\frac{1}{6} \\left[V(i+1,j,k) + V(i-1,j,k) + V(i,j+1,k) + V(i,j-1,k) + V(i,j,k+1) + V(i,j,k-1) \\right].\n",
    "\\end{equation}\n",
    "\n",
    "If we assume that we have full translational symmetry in the $z$-direction, we can simply our problem to only two spatial dimensions, the $x-y$ plane and thus:\n",
    "\n",
    "\\begin{equation}\n",
    "V(i,j) = \\frac{1}{4} \\left[V(i+1,j) + V(i-1,j) + V(i,j+1) + V(i,j-1)  \\right].\n",
    "\\end{equation}\n",
    "\n",
    "## Jacobi Method\n",
    "\n",
    "Let's consider some pseudocode for an iterative solution to this equation.  We will require two arrays corresponding to the *old* and *new* iteration.  These can be swapped at every second iteration.\n",
    "\n",
    "1. Initialze $V$ and $V'$ to some guessed configuration that obeys any boundary conditions\n",
    "2. Perform an update: $V' \\leftarrow V$ and compute the change per site $\\Delta V = |V'-V|$.\n",
    "3. Perform an update: $V \\leftarrow V'$ and compute the change per site $\\Delta V = |V'-V|$.\n",
    "4. If we have converged based on the value of $\\Delta V$ exit, othersise, go to 2.\n",
    "\n",
    "## Potential in a box\n",
    "\n",
    "Find the potential inside a hole in a metal box made of four plates held at potential $V = -1,0,+1,0$ as shown."
   ]
  },
  {
   "cell_type": "code",
   "execution_count": 12,
   "metadata": {
    "collapsed": false
   },
   "outputs": [
    {
     "data": {
      "image/png": "[encoded data removed]",
      "text/plain": [
       "<matplotlib.figure.Figure at 0x10d369e48>"
      ]
     },
     "metadata": {
      "image/png": {
       "height": 347,
       "width": 406
      }
     },
     "output_type": "display_data"
    }
   ],
   "source": [
    "plt.axis('off')\n",
    "plt.plot((-1,-1),(-1,1),'b', lw=15)\n",
    "plt.plot((1,1),(-1,1),'r', lw=15)\n",
    "plt.plot((-1,1),(1,1),'k', lw=15)\n",
    "plt.plot((-1,1),(-1,-1),'k', lw=15)\n",
    "\n",
    "V = [-1,0,1,0]\n",
    "for i,loc in enumerate([(-1.25,0),(0,-1.15),(1.15,0),(0,1.05)]):\n",
    "    plt.text(*loc,r'$V=%d$'%V[i], fontsize=20, horizontalalignment='center')\n",
    "plt.axes().set_aspect('equal')\n"
   ]
  },
  {
   "cell_type": "markdown",
   "metadata": {},
   "source": [
    "### Step 1: Initialze the potential"
   ]
  },
  {
   "cell_type": "code",
   "execution_count": null,
   "metadata": {
    "collapsed": true
   },
   "outputs": [],
   "source": [
    "def init(N):\n",
    "    '''Initialize the potential with boundary conditions.'''\n",
    "\n",
    "    # the potential\n",
    "    V  = np.zeros([N,N])\n",
    "\n",
    "    # set the boundary conditions \n",
    "    V[:,0] = -1.0\n",
    "    V[:,-1] = 1.0\n",
    "    \n",
    "    # create the copy\n",
    "    Vp = np.copy(V)\n",
    "\n",
    "    return V,Vp"
   ]
  },
  {
   "cell_type": "markdown",
   "metadata": {},
   "source": [
    "### Step 2: Perform the Jacobi update"
   ]
  },
  {
   "cell_type": "code",
   "execution_count": null,
   "metadata": {
    "collapsed": true
   },
   "outputs": [],
   "source": [
    "def jacobi_update(V,Vp):\n",
    "    '''Update the potential according to the Jacobi method.'''\n",
    "    \n",
    "    ΔV = 0.0\n",
    "    for i in range(1,V.shape[0]-1):\n",
    "        for j in range(1,V.shape[1]-1):\n",
    "            Vp[i,j] = 0.25*(V[i-1,j] + V[i+1,j] + V[i,j+1] + V[i,j-1])\n",
    "            ΔV += abs(Vp[i,j]-V[i,j])\n",
    "\n",
    "    return ΔV"
   ]
  },
  {
   "cell_type": "markdown",
   "metadata": {},
   "source": [
    "### Step 3: Iterate until convergence"
   ]
  },
  {
   "cell_type": "code",
   "execution_count": null,
   "metadata": {
    "collapsed": false
   },
   "outputs": [],
   "source": [
    "# the number of lattice points in the x and y direction\n",
    "N = 50\n",
    "\n",
    "# the tolerance for convergence\n",
    "ϵ = 1.0E-5\n",
    "\n",
    "# initialize \n",
    "V,Vp = init(N)\n",
    "\n",
    "# Plot the initial configuration\n",
    "fig = plt.figure(figsize=(8,5))\n",
    "plt.title('Initial Configuration')\n",
    "im = plt.imshow(1.0*V, extent=[-1,1,-1,1], cmap='bwr')\n",
    "plt.xlabel('x')\n",
    "plt.ylabel('y')\n",
    "cb = plt.colorbar(label='Electric Potential', pad=0.1)\n",
    "\n",
    "# Iterate until convergence\n",
    "n = 0\n",
    "ΔV = 1.0\n",
    "\n",
    "while ΔV/(N*N) > ϵ:\n",
    "    ΔV = jacobi_update(V,Vp)\n",
    "    ΔV += jacobi_update(Vp,V)\n",
    "    n+= 1\n",
    "\n",
    "# plot the final converged potential\n",
    "fig = plt.figure(figsize=(8,5))\n",
    "plt.title('Converged Potential')\n",
    "im = plt.imshow(1.0*V, extent=[-1,1,-1,1], cmap='bwr')\n",
    "plt.xlabel('x')\n",
    "plt.ylabel('y')\n",
    "cb = plt.colorbar(label='Electric Potential', pad=0.1)\n",
    "\n",
    "# plot equipotential lines\n",
    "fig = plt.figure(figsize=(5,5))\n",
    "X,Y = np.meshgrid(np.linspace(-1.0,1.0,N),np.linspace(-1.0,1.0,N))\n",
    "cs = plt.contour(X,Y,V,20, cmap='bwr')\n",
    "plt.xlabel('x')\n",
    "plt.ylabel('y')\n",
    "plt.clabel(cs, inline=1, fontsize=12)\n",
    "plt.title('Equipotential Lines')\n",
    "\n",
    "print(\"ΔV = %8.5E in %d steps\" % ((ΔV/N**2),n))"
   ]
  },
  {
   "cell_type": "markdown",
   "metadata": {},
   "source": [
    "### Visualizing the Relaxation"
   ]
  },
  {
   "cell_type": "code",
   "execution_count": null,
   "metadata": {
    "collapsed": false
   },
   "outputs": [],
   "source": [
    "%matplotlib notebook\n",
    "from matplotlib import animation\n",
    "\n",
    "# initialize \n",
    "N = 50\n",
    "V,Vp = init(N)\n",
    "\n",
    "# Plot the initial configuration\n",
    "fig = plt.figure(figsize=(12,8))\n",
    "im = plt.imshow(V, extent=[-1,1,-1,1], cmap='bwr')\n",
    "plt.xlabel('x')\n",
    "plt.ylabel('y')\n",
    "cb = plt.colorbar(label='Electric Potential', pad=0.1)\n",
    "ims = [[plt.imshow(V, cmap=plt.get_cmap('bwr'), animated=True)]]\n",
    "\n",
    "# Iterate until convergence\n",
    "n = 0\n",
    "ΔV = 1.0\n",
    "while ΔV/(N*N) > ϵ:\n",
    "    ΔV = jacobi_update(V,Vp)\n",
    "    ΔV += jacobi_update(Vp,V)\n",
    "    \n",
    "    # plot the intermediate results\n",
    "    if n < 200:\n",
    "        ims.append([plt.imshow(V, extent=[-1,1,-1,1], cmap=plt.get_cmap('bwr'), animated=True)])\n",
    "    n+= 1\n",
    "\n",
    "# animate the final result\n",
    "anim = animation.ArtistAnimation(fig, ims, interval=10, blit=False, repeat_delay=1, repeat=True)"
   ]
  },
  {
   "cell_type": "markdown",
   "metadata": {},
   "source": [
    "## The Electric Field\n",
    "\n",
    "We can determine the electric field $\\vec{E}$ via: \n",
    "\n",
    "\\begin{equation}\n",
    "\\vec{E} = -\\nabla V\n",
    "\\end{equation}\n",
    "\n",
    "using our discrete centered approximation for the derivative in the $x$ and $y$ direction:\n",
    "\n",
    "\\begin{align}\n",
    "E_x(i,j) &= - \\frac{V(i+1,j) - V(i-1,j)}{2 \\Delta x} \\newline\n",
    "E_y(i,j) &= - \\frac{V(i,j+1) - V(i,j-1)}{2 \\Delta y} .\n",
    "\\end{align}"
   ]
  },
  {
   "cell_type": "code",
   "execution_count": null,
   "metadata": {
    "collapsed": false
   },
   "outputs": [],
   "source": [
    "def getE(V):\n",
    "    '''Compute the electric field using a centered derivative for an isotropic discretization\n",
    "       equal to 1.'''\n",
    "\n",
    "    # initialize the E-Field arrays    \n",
    "    Ex = np.zeros(V.shape)\n",
    "    Ey = np.zeros_like(Ex)\n",
    "\n",
    "    #Compute the electric field as the gradient of the potential\n",
    "    for i in range(1,N-1):\n",
    "        for j in range(1,N-1):\n",
    "            Ex[i,j] = -0.5*(V[i,j+1]-V[i,j-1])\n",
    "            Ey[i,j] = -0.5*(V[i+1,j]-V[i-1,j])\n",
    "\n",
    "    # Return the electric field\n",
    "    return Ex,Ey"
   ]
  },
  {
   "cell_type": "code",
   "execution_count": null,
   "metadata": {
    "collapsed": false
   },
   "outputs": [],
   "source": [
    "Ex,Ey = getE(V)\n",
    "X,Y = np.meshgrid(np.linspace(-1.0,1.0,N),np.linspace(-1.0,1.0,N))\n",
    "plt.contourf(X,Y,V,50, cmap='bwr')\n",
    "plt.quiver(X,Y,Ex,Ey)\n",
    "plt.axis([-1.0,1.0,-1.0,1.0])\n",
    "plt.xlabel('x')\n",
    "plt.ylabel('y')\n",
    "plt.title('Electric Field')"
   ]
  },
  {
   "cell_type": "markdown",
   "metadata": {
    "collapsed": true
   },
   "source": [
    "## Scaling and Speedup\n",
    "\n",
    "As we have seen, relaxation algorithms scale poorly with the system size, $O(N^d)$ where $N$ is the number of grid points in each dimension.  We an make a simple change analogous to the Euler-Cromer method to obtain a constant speedup factor of 2 by simply using the new values of the potential as they become available.  This is known as the **Gauss-Seidel** method and also allows us to only use a single array."
   ]
  },
  {
   "cell_type": "code",
   "execution_count": null,
   "metadata": {
    "collapsed": true
   },
   "outputs": [],
   "source": [
    "def gauss_seidel_update(V):\n",
    "    '''Update the potential according to the Gauss-Seidel method.'''\n",
    "\n",
    "    ΔV = 0.0\n",
    "    for i in range(1,V.shape[0]-1):\n",
    "        for j in range(1,V.shape[1]-1):\n",
    "            V_old = V[i,j]\n",
    "            V[i,j] = 0.25*(V[i-1,j] + V[i+1,j] + V[i,j+1] + V[i,j-1])\n",
    "            ΔV += abs(V_old - V[i,j])\n",
    "\n",
    "    return ΔV"
   ]
  },
  {
   "cell_type": "code",
   "execution_count": null,
   "metadata": {
    "collapsed": false
   },
   "outputs": [],
   "source": [
    "%matplotlib notebook\n",
    "from matplotlib import animation\n",
    "\n",
    "# initialize \n",
    "N = 50\n",
    "ϵ = 1.0E-5\n",
    "V = -1 + 2.0*np.random.random([N,N])\n",
    "V[:,0] = -1.0\n",
    "V[:,-1] = 1.0\n",
    "V[0,:] = 0.0\n",
    "V[-1,:] = 0.0\n",
    "\n",
    "# Plot the initial configuration\n",
    "fig = plt.figure(figsize=(12,8))\n",
    "im = plt.imshow(V, extent=[-1,1,-1,1], cmap='bwr')\n",
    "plt.xlabel('x')\n",
    "plt.ylabel('y')\n",
    "cb = plt.colorbar(label='Electric Potential', pad=0.1)\n",
    "ims = [[plt.imshow(V, cmap=plt.get_cmap('bwr'), animated=True, origin='lower', interpolation='None')]]\n",
    "\n",
    "# Iterate until convergence\n",
    "n = 0\n",
    "ΔV = 1.0\n",
    "while ΔV/(N*N) > ϵ:\n",
    "    ΔV = gauss_seidel_update(V)\n",
    "    \n",
    "    # plot the intermediate results\n",
    "    if n < 500:\n",
    "        ims.append([plt.imshow(V, extent=[-1,1,-1,1], cmap=plt.get_cmap('bwr'), animated=True, origin='lower', interpolation='None')])\n",
    "    n+= 1\n",
    "\n",
    "# animate the final result\n",
    "anim = animation.ArtistAnimation(fig, ims, interval=10, blit=False, repeat_delay=1, repeat=True)\n",
    "print(\"ΔV = %8.5E in %d steps\" % ((ΔV/N**2),n))"
   ]
  },
  {
   "cell_type": "markdown",
   "metadata": {},
   "source": [
    "### This is better but still slow.  There must be a better way!"
   ]
  },
  {
   "cell_type": "code",
   "execution_count": null,
   "metadata": {
    "collapsed": true
   },
   "outputs": [],
   "source": []
  }
 ],
 "metadata": {
  "kernelspec": {
   "display_name": "Python 3",
   "language": "python",
   "name": "python3"
  },
  "language_info": {
   "codemirror_mode": {
    "name": "ipython",
    "version": 3
   },
   "file_extension": ".py",
   "mimetype": "text/x-python",
   "name": "python",
   "nbconvert_exporter": "python",
   "pygments_lexer": "ipython3",
   "version": "3.5.2"
  }
 },
 "nbformat": 4,
 "nbformat_minor": 0
}
