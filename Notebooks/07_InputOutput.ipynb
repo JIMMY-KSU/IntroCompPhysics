{
 "cells": [
  {
   "cell_type": "markdown",
   "metadata": {},
   "source": [
    "# Physics 296\n",
    "## Lecture 07 - Modules & I/O"
   ]
  },
  {
   "cell_type": "markdown",
   "metadata": {},
   "source": [
    "<img src=\"http://upload.wikimedia.org/wikipedia/commons/d/d4/Pi_pie2.jpg\" width=300px>"
   ]
  },
  {
   "cell_type": "markdown",
   "metadata": {},
   "source": [
    "## Last Time\n",
    "\n",
    "- functions\n",
    "- leap years\n",
    "- introduction to modules\n",
    "\n",
    "## Today\n",
    "- more modules\n",
    "- input and output\n"
   ]
  },
  {
   "cell_type": "markdown",
   "metadata": {},
   "source": [
    "### Writing modules\n",
    "\n",
    "Any code or collection of methods we write can be included in a module by writing them in a text editor (i.e. not in the iPython notebook or interpreter) and saving them with a unqiue filename `mymodule.py`.  We can treat these as complete python programs that can be run, or we can import them from other scripts to maximize effeciency and build collections of useful libraries.\n",
    "\n",
    "Modules and scripts can both named `mymodule.py` and both can contain variables, functions/methods and classes.\n",
    "\n",
    "** What's the difference?**\n",
    "\n",
    "When imported, a module's `__name__` attribute is set to the module's file name, without *.py*.\n",
    "When executed as a script, the `__name__` attribute is set to `__main__`.\n",
    "Except for special cases, you shouldn't put any major executable code at the top-level. Put code in functions, classes, methods, and guard it with if `__name__ == __main__`."
   ]
  },
  {
   "cell_type": "code",
   "execution_count": null,
   "metadata": {
    "collapsed": false
   },
   "outputs": [],
   "source": [
    "# filename: mymodule.py \n",
    "\n",
    "def foo():\n",
    "    # some function\n",
    "    return 1\n",
    "\n",
    "# Main Function\n",
    "def main():\n",
    "    # put all your main program driver code here\n",
    "    \n",
    "# main is called once when the script is executed.    \n",
    "if __name__ == \"__main__\":\n",
    "    main()"
   ]
  },
  {
   "cell_type": "code",
   "execution_count": null,
   "metadata": {
    "collapsed": false
   },
   "outputs": [],
   "source": [
    "# then from another script (or from the iPython notebook) \n",
    "# we can import the functions defined in this script\n",
    "import mymodule\n",
    "\n",
    "mymodule.foo()"
   ]
  },
  {
   "cell_type": "markdown",
   "metadata": {},
   "source": [
    "## Computing $\\pi$\n",
    "\n",
    "Let's put these ideas into practice by writing a module containing functions that compute the value of $\\pi$ in various ways."
   ]
  },
  {
   "cell_type": "markdown",
   "metadata": {},
   "source": [
    "### Gottfried Wilhelm Leibniz 1646-1716\n",
    "<img src=\"http://upload.wikimedia.org/wikipedia/commons/6/6a/Gottfried_Wilhelm_von_Leibniz.jpg\" width=200px>\n",
    "\n",
    "\\begin{equation}\n",
    "\\pi = 4 \\sum_{n=1}^\\infty \\frac{(-1)^{n+1}}{2n-1}\n",
    "\\end{equation}\n",
    "\n",
    "Abraham Sharp 1653-1742\n",
    "<img src=\"http://upload.wikimedia.org/wikipedia/commons/4/43/Sharp_Abraham.jpg\" width=200px>\n",
    "\\begin{equation}\n",
    "\\pi = \\sum_{n=0}^\\infty \\frac{2(-1)^{n}3^{1/2-n}}{2n+1}\n",
    "\\end{equation}\n",
    "\n",
    "Monte Carlo Calculation using `random.random()`\n",
    "<img src=\"http://upload.wikimedia.org/wikipedia/commons/thumb/c/ce/Circle_Area.svg/265px-Circle_Area.svg.png\" width=265px>"
   ]
  },
  {
   "cell_type": "code",
   "execution_count": null,
   "metadata": {
    "collapsed": false
   },
   "outputs": [],
   "source": [
    "%load pi.py"
   ]
  },
  {
   "cell_type": "code",
   "execution_count": null,
   "metadata": {
    "collapsed": false
   },
   "outputs": [],
   "source": [
    "# File: pi.py\n",
    "# Functions that can be used to approximate pi.\n",
    "\n",
    "def leibniz(N):\n",
    "    '''Compute pi via an accelerated Leibniz summation.'''\n",
    "    lpi = 0.0\n",
    "    for n in range(1,N):\n",
    "        if n % 2:\n",
    "            sign = 1\n",
    "        else:\n",
    "            sign = -1\n",
    "        lpi += 1.0*sign/(2*n-1)\n",
    "    return 4.0*lpi\n",
    "\n",
    "def sharp(N):\n",
    "    '''Compute pi via the Sharp summation.'''\n",
    "    spi = 0.0\n",
    "    for n in range(N):\n",
    "        if n % 2:\n",
    "            sign = -1\n",
    "        else:\n",
    "            sign = 1\n",
    "        num = 2*sign*3**(0.5-n)\n",
    "        denom = 2*n+1\n",
    "        spi += num/denom\n",
    "    return spi\n",
    "\n",
    "def monteCarlo(N):\n",
    "    '''Compute pi via Monte Carlo.'''\n",
    "\n",
    "    import random,math\n",
    "    inCircle = 0\n",
    "\n",
    "    for n in range(N):\n",
    "        x = -0.5 + random.random()\n",
    "        y = -0.5 + random.random()\n",
    "        r = math.sqrt(x**2 + y**2)\n",
    "\n",
    "        if r <= 0.5:\n",
    "            inCircle += 1\n",
    "\n",
    "    mcpi = 4.0*inCircle / (1.0*N)\n",
    "    return mcpi\n"
   ]
  },
  {
   "cell_type": "markdown",
   "metadata": {},
   "source": [
    "Let's compare the accuracy of our various methods"
   ]
  },
  {
   "cell_type": "code",
   "execution_count": null,
   "metadata": {
    "collapsed": false
   },
   "outputs": [],
   "source": [
    "# import our module\n",
    "import pi\n",
    "\n",
    "N = [10**n for n in range(3,7)]\n",
    "\n",
    "# Get the Leibniz and Sharp approximations to pi\n",
    "leibPi = map(pi.leibniz,N)\n",
    "sharpPi = map(pi.sharp,N)\n",
    "mcPi = map(pi.monteCarlo,N)\n",
    "\n",
    "# Output the results to the terminal\n",
    "print '%16s%16s%16s%16s' % ('N','Leibniz','Sharp','Monte Carlo')\n",
    "for i,cN in enumerate(N):\n",
    "    print '%16d%16.8f%16.8f%16.8f' % (cN,leibPi[i],sharpPi[i],mcPi[i])"
   ]
  },
  {
   "cell_type": "markdown",
   "metadata": {},
   "source": [
    "## Input & Output\n",
    "\n",
    "So far, we have mostly been setting the values of variables used in our programs by hand and writing things to the terminal with the `print` statement.  We can use python to easily get data from a user, either form the command line, or from a file, and save our program output to a well-formatted file."
   ]
  },
  {
   "cell_type": "code",
   "execution_count": 3,
   "metadata": {
    "collapsed": false
   },
   "outputs": [
    {
     "name": "stdout",
     "output_type": "stream",
     "text": [
      "Number of elements: 10\n",
      "10\n"
     ]
    }
   ],
   "source": [
    "# asking the user for input\n",
    "N = raw_input(\"Number of elements: \")\n",
    "print N"
   ]
  },
  {
   "cell_type": "code",
   "execution_count": 4,
   "metadata": {
    "collapsed": false
   },
   "outputs": [
    {
     "name": "stdout",
     "output_type": "stream",
     "text": [
      "<type 'str'>\n"
     ]
    }
   ],
   "source": [
    "# all input is treating like a string\n",
    "print type(N)"
   ]
  },
  {
   "cell_type": "code",
   "execution_count": 7,
   "metadata": {
    "collapsed": false
   },
   "outputs": [
    {
     "name": "stdout",
     "output_type": "stream",
     "text": [
      "13\n",
      "13.658\n",
      "enter a float: 354.13\n",
      "<type 'float'>\n"
     ]
    }
   ],
   "source": [
    "# we must manually convert if we need numerical data\n",
    "Ni = int(N)\n",
    "print Ni\n",
    "\n",
    "Nf = float(N)\n",
    "print Nf\n",
    "\n",
    "N = float(raw_input(\"enter a float: \"))\n",
    "print type(N)"
   ]
  },
  {
   "cell_type": "markdown",
   "metadata": {},
   "source": [
    "### Working with files\n",
    "We can use the keyword `open` to open a file, but we must specify the mode, either `r` for read, `w` for write `r+` for read/write and `a` for append"
   ]
  },
  {
   "cell_type": "code",
   "execution_count": 8,
   "metadata": {
    "collapsed": false
   },
   "outputs": [
    {
     "name": "stdout",
     "output_type": "stream",
     "text": [
      "1\r\n",
      "2\r\n",
      "3\r\n",
      "4\r\n",
      "5\r\n",
      "6\r\n",
      "7\r\n",
      "8\r\n",
      "9\r\n",
      "10\r\n"
     ]
    }
   ],
   "source": [
    "!cat 'in.dat'"
   ]
  },
  {
   "cell_type": "code",
   "execution_count": 9,
   "metadata": {
    "collapsed": false
   },
   "outputs": [],
   "source": [
    "in_file = open('in.dat', 'r')"
   ]
  },
  {
   "cell_type": "code",
   "execution_count": 10,
   "metadata": {
    "collapsed": false
   },
   "outputs": [
    {
     "name": "stdout",
     "output_type": "stream",
     "text": [
      "1\n",
      "2\n",
      "3\n",
      "4\n",
      "5\n",
      "6\n",
      "7\n",
      "8\n",
      "9\n",
      "10\n",
      "\n"
     ]
    }
   ],
   "source": [
    "# reading an entire file\n",
    "print in_file.read()\n",
    "\n",
    "# we close when we are finished\n",
    "in_file.close()"
   ]
  },
  {
   "cell_type": "code",
   "execution_count": 11,
   "metadata": {
    "collapsed": false
   },
   "outputs": [
    {
     "name": "stdout",
     "output_type": "stream",
     "text": [
      "['1\\n', '2\\n', '3\\n', '4\\n', '5\\n', '6\\n', '7\\n', '8\\n', '9\\n', '10\\n']\n"
     ]
    }
   ],
   "source": [
    "# we can get a list of all lines\n",
    "in_file = open('in.dat', 'r')\n",
    "lines = in_file.readlines()\n",
    "print lines\n",
    "in_file.close()"
   ]
  },
  {
   "cell_type": "markdown",
   "metadata": {},
   "source": [
    "<div class=\"row\">\n",
    "<div class=\"span alert alert-error\">\n",
    "Note that the newline characters are included!\n",
    "</div>\n",
    "</div>\n",
    "\n",
    "|  0 | 1  | 2  | 3  | 4  |\n",
    "| 10 | 11 | 12 | 13 | 14 |\n",
    "| 20 | 21 | 22 | 23 | 24 |\n",
    "| 30 | 31 | 32 | 33 | 34 |\n",
    "| 40 | 41 | 42 | 43 |    |"
   ]
  },
  {
   "cell_type": "code",
   "execution_count": 12,
   "metadata": {
    "collapsed": false
   },
   "outputs": [
    {
     "name": "stdout",
     "output_type": "stream",
     "text": [
      "1\n",
      "\n"
     ]
    }
   ],
   "source": [
    "# or just a single line\n",
    "in_file = open('in.dat', 'r')\n",
    "line = in_file.readline()\n",
    "print line\n",
    "in_file.close()"
   ]
  },
  {
   "cell_type": "code",
   "execution_count": 15,
   "metadata": {
    "collapsed": false
   },
   "outputs": [
    {
     "name": "stdout",
     "output_type": "stream",
     "text": [
      "1\n",
      "2\n",
      "3\n",
      "4\n",
      "5\n",
      "6\n",
      "7\n",
      "8\n",
      "9\n",
      "10\n"
     ]
    }
   ],
   "source": [
    "# let's iterate through all the lines in the file\n",
    "in_file = open('in.dat', 'r')\n",
    "lines = in_file.readlines()\n",
    "for line in lines:\n",
    "    print line,\n",
    "in_file.close()"
   ]
  },
  {
   "cell_type": "markdown",
   "metadata": {},
   "source": [
    "### Writing to files"
   ]
  },
  {
   "cell_type": "code",
   "execution_count": 17,
   "metadata": {
    "collapsed": false
   },
   "outputs": [],
   "source": [
    "# specifiying 'w' will create a file if it doesn't exist and replace the content if it does\n",
    "out_file = open('out.dat', 'w')"
   ]
  },
  {
   "cell_type": "code",
   "execution_count": 18,
   "metadata": {
    "collapsed": false
   },
   "outputs": [],
   "source": [
    "# we can only write strings to files, so we must convert on input and output\n",
    "for line in lines:\n",
    "    a = int(line)\n",
    "    b = a**2\n",
    "    out_file.write('%d\\n' % b)\n",
    "out_file.close()   "
   ]
  },
  {
   "cell_type": "code",
   "execution_count": 19,
   "metadata": {
    "collapsed": false
   },
   "outputs": [
    {
     "name": "stdout",
     "output_type": "stream",
     "text": [
      "1\r\n",
      "4\r\n",
      "9\r\n",
      "16\r\n",
      "25\r\n",
      "36\r\n",
      "49\r\n",
      "64\r\n",
      "81\r\n",
      "100\r\n"
     ]
    }
   ],
   "source": [
    "!cat out.dat"
   ]
  },
  {
   "cell_type": "markdown",
   "metadata": {},
   "source": [
    "### Output formatting\n",
    "\n",
    "Python supports various ways of formatting i/o. We have already seen the c-style `%` method which is my preferred method. There is a new-fangled way which is more flexible and\n",
    "powerful,see: http://docs.python.org/tutorial/inputoutput.html use whichever you like for assignments.\n",
    "\n",
    "A fully descriptive list of all formatting options can be found at https://docs.python.org/2/library/stdtypes.html#string-formatting"
   ]
  },
  {
   "cell_type": "code",
   "execution_count": 1,
   "metadata": {
    "collapsed": false
   },
   "outputs": [
    {
     "data": {
      "text/html": [
       "<iframe src=https://docs.python.org/2/library/stdtypes.html#string-formatting width=700 height=350></iframe>"
      ],
      "text/plain": [
       "<IPython.core.display.HTML at 0x109553050>"
      ]
     },
     "execution_count": 1,
     "metadata": {},
     "output_type": "execute_result"
    }
   ],
   "source": [
    "from IPython.display import HTML\n",
    "HTML('<iframe src=https://docs.python.org/2/library/stdtypes.html#string-formatting width=700 height=350></iframe>')"
   ]
  },
  {
   "cell_type": "markdown",
   "metadata": {},
   "source": [
    "<div class=\"row\">\n",
    "<div class=\"span alert alert-info\">\n",
    "<h2> Team programming challenge </h2>\n",
    "<h3> Average energy for the simple harmonic oscillator at finite temperature</h3>\n",
    "</div>\n",
    "</div>\n",
    "\n",
    "I have uploaded a data file on BlackBoard in the Week 03 Course Materials called `sho_energy.dat`.  The line contains column headings with units in kelvin.\n",
    "\n",
    "The next set of lines contain quantum Monte Carlo measurements for the kinetic and potential energy of the simple harmonic osscilator at $T = 0.5~\\mathrm{K}$ where $\\hbar \\omega/k_{\\mathrm{B}} = 1$.  The exact answer is known to be:\n",
    "\\begin{equation}\n",
    "E(T) = \\frac{\\hbar \\omega}{2} \\coth \\frac{\\hbar \\omega}{2 k_{\\mathrm{B}} T}.\n",
    "\\end{equation}\n",
    "\n",
    "Download the data file to your computer and write a program that loads the file from disk and stores it in a dictionary with labels taken from the column headers.  Compute the average total energy of all lines.  If you have extra time, compare with the exact result."
   ]
  }
 ],
 "metadata": {
  "kernelspec": {
   "display_name": "Python 3",
   "language": "python",
   "name": "python3"
  },
  "language_info": {
   "codemirror_mode": {
    "name": "ipython",
    "version": 3
   },
   "file_extension": ".py",
   "mimetype": "text/x-python",
   "name": "python",
   "nbconvert_exporter": "python",
   "pygments_lexer": "ipython3",
   "version": "3.5.2"
  }
 },
 "nbformat": 4,
 "nbformat_minor": 0
}
