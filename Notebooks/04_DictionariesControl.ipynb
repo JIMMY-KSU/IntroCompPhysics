{
 "cells": [
  {
   "cell_type": "markdown",
   "metadata": {},
   "source": [
    "# Physics 256\n",
    "## Lecture 04 - Dictionaries and Control"
   ]
  },
  {
   "cell_type": "markdown",
   "metadata": {},
   "source": [
    "<img src=\"http://imgs.xkcd.com/comics/pointers.png\" width=400px>\n",
    "http://xkcd.com/138/"
   ]
  },
  {
   "cell_type": "markdown",
   "metadata": {},
   "source": [
    "## Last Time\n",
    "\n",
    "- lists\n",
    "    - heterogeneous collections\n",
    "    - create and index with `[a,b,c]`\n",
    "    - slice with `l[start:finish:step]`\n",
    "\n",
    "## Today\n",
    "\n",
    "- Dictionaries\n",
    "- Tuples\n",
    "- Control structures\n",
    "- Repitition"
   ]
  },
  {
   "cell_type": "markdown",
   "metadata": {},
   "source": [
    "## Programming Challenges\n",
    "\n",
    "<div class=\"row\">\n",
    "<div class=\"span alert alert-success\">\n",
    "1. Given two strings, return their concatenation, except omit the first character of each.\n",
    "<code>\n",
    "s1 = 'hello'\n",
    "s2 = 'there'\n",
    "output --> 'ellohere'\n",
    "</code>\n",
    "</div>\n",
    "</div>"
   ]
  },
  {
   "cell_type": "code",
   "execution_count": 2,
   "metadata": {
    "collapsed": false
   },
   "outputs": [
    {
     "name": "stdout",
     "output_type": "stream",
     "text": [
      "ellohere\n"
     ]
    }
   ],
   "source": [
    "s1 = 'hello'\n",
    "s2 = 'there'\n",
    "out_string = s1[1:] + s2[1:]\n",
    "print(out_string)"
   ]
  },
  {
   "cell_type": "markdown",
   "metadata": {},
   "source": [
    "<div class=\"span alert alert-success\">\n",
    "2. Given a list of 5 elements, create a right cyclic permutation of length 1.\n",
    "<code>\n",
    "l1 = [1,2,3,4,5]\n",
    "output --> [5,1,2,3,4]\n",
    "</code>\n",
    "</div>\n",
    "\n",
    "<!-- [l1[-1]]+l1[:-1] -->"
   ]
  },
  {
   "cell_type": "code",
   "execution_count": 7,
   "metadata": {
    "collapsed": false
   },
   "outputs": [
    {
     "data": {
      "text/plain": [
       "[7, 1, 2, 3, 4, 5, 6]"
      ]
     },
     "execution_count": 7,
     "metadata": {},
     "output_type": "execute_result"
    }
   ],
   "source": [
    "l1 = [1,2,3,4,5,6,7]\n",
    "l1[-1:]+l1[0:-1]"
   ]
  },
  {
   "cell_type": "markdown",
   "metadata": {},
   "source": [
    "## Dictionaries\n",
    "\n",
    "Extremely useful hetrogeneous container that stores key/value pairs.  This generalizes a list which maps an integer to some data.  Indexing a dictionary by a key returns the value associated with it"
   ]
  },
  {
   "cell_type": "code",
   "execution_count": 8,
   "metadata": {
    "collapsed": false
   },
   "outputs": [
    {
     "name": "stdout",
     "output_type": "stream",
     "text": [
      "{'first': 'James', 'last': 'Maxwell', 'born': 1831}\n"
     ]
    }
   ],
   "source": [
    "# create an empty dictionary using curly brackets \n",
    "record = {} \n",
    "record['first'] = 'James'\n",
    "record['last'] = 'Maxwell'\n",
    "record['born'] = 1831 \n",
    "print(record)"
   ]
  },
  {
   "cell_type": "code",
   "execution_count": 9,
   "metadata": {
    "collapsed": false
   },
   "outputs": [],
   "source": [
    "# create another dictionary with initial entries \n",
    "new_record = {'middle':'Clerk'} "
   ]
  },
  {
   "cell_type": "code",
   "execution_count": 10,
   "metadata": {
    "collapsed": false
   },
   "outputs": [
    {
     "name": "stdout",
     "output_type": "stream",
     "text": [
      "{'first': 'James', 'last': 'Maxwell', 'middle': 'Clerk', 'born': 1831}\n"
     ]
    }
   ],
   "source": [
    "# now update the first dictionary with values from the new one  \n",
    "record.update(new_record)\n",
    "print(record)"
   ]
  },
  {
   "cell_type": "code",
   "execution_count": 11,
   "metadata": {
    "collapsed": false
   },
   "outputs": [
    {
     "name": "stdout",
     "output_type": "stream",
     "text": [
      "{'first': 'James', 'died': 1879, 'last': 'Maxwell', 'middle': 'Clerk', 'born': 1831}\n"
     ]
    }
   ],
   "source": [
    "# we could have also just inserted it directly\n",
    "record['died'] = 1879\n",
    "print(record)"
   ]
  },
  {
   "cell_type": "code",
   "execution_count": 12,
   "metadata": {
    "collapsed": false
   },
   "outputs": [
    {
     "name": "stdout",
     "output_type": "stream",
     "text": [
      "James\n"
     ]
    }
   ],
   "source": [
    "print(record['first'])"
   ]
  },
  {
   "cell_type": "markdown",
   "metadata": {},
   "source": [
    "<div class=\"span alert alert-danger\">\n",
    "Notice that the elements don't seem to be stored in any particular order.\n",
    "</div>\n",
    "\n",
    "### Dictionary methods"
   ]
  },
  {
   "cell_type": "code",
   "execution_count": null,
   "metadata": {
    "collapsed": false
   },
   "outputs": [],
   "source": [
    "# can create a dictionary all in one shot\n",
    "physics = {'theory':1, 'experiment':4, 'computational':10}\n",
    "print(physics['computational'])"
   ]
  },
  {
   "cell_type": "code",
   "execution_count": null,
   "metadata": {
    "collapsed": false
   },
   "outputs": [],
   "source": [
    "# or we can use the zip method\n",
    "keys = ['theory','experiment','computational']\n",
    "values = [1, 4, 10]\n",
    "physics_256 = dict(zip(keys, values))\n",
    "print(physics_256)"
   ]
  },
  {
   "cell_type": "code",
   "execution_count": null,
   "metadata": {
    "collapsed": false
   },
   "outputs": [],
   "source": [
    "# testing for a key\n",
    "'experiment' in physics_256"
   ]
  },
  {
   "cell_type": "code",
   "execution_count": null,
   "metadata": {
    "collapsed": false
   },
   "outputs": [],
   "source": [
    "# get a list of all keys\n",
    "physics_256.keys()"
   ]
  },
  {
   "cell_type": "code",
   "execution_count": null,
   "metadata": {
    "collapsed": false
   },
   "outputs": [],
   "source": [
    "# get a list of all values\n",
    "physics_256.values()"
   ]
  },
  {
   "cell_type": "code",
   "execution_count": null,
   "metadata": {
    "collapsed": false
   },
   "outputs": [],
   "source": [
    "# get a list of all key/val pairs\n",
    "physics_256.items()"
   ]
  },
  {
   "cell_type": "code",
   "execution_count": null,
   "metadata": {
    "collapsed": false
   },
   "outputs": [],
   "source": [
    "# remove a key/val pair\n",
    "del physics_256['experiment']\n",
    "print(physics_256)"
   ]
  },
  {
   "cell_type": "markdown",
   "metadata": {},
   "source": [
    "## Tuples\n",
    "\n",
    "Tuples are sequences of values, created with square brackets.  However, unlike lists, they are immutable."
   ]
  },
  {
   "cell_type": "code",
   "execution_count": null,
   "metadata": {
    "collapsed": false
   },
   "outputs": [],
   "source": [
    "# can be created with our without round brackets\n",
    "d = 1,2,3\n",
    "print(d)\n",
    "\n",
    "d = (4,5,6)\n",
    "print(d)"
   ]
  },
  {
   "cell_type": "code",
   "execution_count": null,
   "metadata": {
    "collapsed": false
   },
   "outputs": [],
   "source": [
    "# they are indexed in the same way as lists\n",
    "d[0]"
   ]
  },
  {
   "cell_type": "code",
   "execution_count": null,
   "metadata": {
    "collapsed": false
   },
   "outputs": [],
   "source": [
    "# they are immutable, so assignments fail\n",
    "d[0] = 8"
   ]
  },
  {
   "cell_type": "code",
   "execution_count": null,
   "metadata": {
    "collapsed": false
   },
   "outputs": [],
   "source": [
    "test = {(0,1):'test'}\n",
    "print(test[(0,1)])"
   ]
  },
  {
   "cell_type": "code",
   "execution_count": null,
   "metadata": {
    "collapsed": false
   },
   "outputs": [],
   "source": [
    "# you have already seen them when formatting output\n",
    "print('%s = %7.5f' % ('pi', 3.14159265358979))"
   ]
  },
  {
   "cell_type": "code",
   "execution_count": null,
   "metadata": {
    "collapsed": false
   },
   "outputs": [],
   "source": [
    "# and when doing multiple assignments\n",
    "a,b,c = 1,2,3\n",
    "print(b)\n",
    "\n",
    "d = 4,5,6\n",
    "a,b,c = d\n",
    "print(b)"
   ]
  },
  {
   "cell_type": "markdown",
   "metadata": {},
   "source": [
    "## Control\n",
    "\n",
    "`if/elif/else` blocks provide conditional execuation of code.  Each boolean expression is terminated with a colon `:` and the related code indented."
   ]
  },
  {
   "cell_type": "code",
   "execution_count": null,
   "metadata": {
    "collapsed": false
   },
   "outputs": [],
   "source": [
    "x = 1\n",
    "if x > 10:\n",
    "    print(1)\n",
    "elif x == 0:\n",
    "    print(0)\n",
    "else:\n",
    "    print(-1)"
   ]
  },
  {
   "cell_type": "markdown",
   "metadata": {},
   "source": [
    "### Things to know about control\n",
    "- Brackets are not required unless we need to specify the order of operations\n",
    "- Combine boolean expressions with the `and`, `or`, `not` keywords\n",
    "- Whitespace (tabs) are used to denote code blocks\n",
    "- `True` means any non-zero number or non-empty object\n",
    "- `False` means not true: zero, an empty object or None"
   ]
  },
  {
   "cell_type": "code",
   "execution_count": null,
   "metadata": {
    "collapsed": false
   },
   "outputs": [],
   "source": [
    "# empty vs non-empty\n",
    "x = []\n",
    "if x:\n",
    "    print('non-empy list')\n",
    "else:\n",
    "    print('empty list')"
   ]
  },
  {
   "cell_type": "code",
   "execution_count": null,
   "metadata": {
    "collapsed": false
   },
   "outputs": [],
   "source": [
    "# logical operators are: and,or,not\n",
    "x = 1\n",
    "y = 2\n",
    "if x > 0 and y > 0:\n",
    "    print('both true')"
   ]
  },
  {
   "cell_type": "code",
   "execution_count": null,
   "metadata": {
    "collapsed": false
   },
   "outputs": [],
   "source": [
    "if x < 1 or y > 1:\n",
    "    print('x is small and y is big')"
   ]
  },
  {
   "cell_type": "code",
   "execution_count": null,
   "metadata": {
    "collapsed": false
   },
   "outputs": [],
   "source": [
    "if not x < 1:\n",
    "    print ('x is big')"
   ]
  },
  {
   "cell_type": "code",
   "execution_count": null,
   "metadata": {
    "collapsed": false
   },
   "outputs": [],
   "source": [
    "# we have already seen that we can assign a control statement to a variable\n",
    "truthiness = 0 < x <= 1\n",
    "if truthiness:\n",
    "    print('yes')\n",
    "else:\n",
    "    print('no')"
   ]
  },
  {
   "cell_type": "markdown",
   "metadata": {},
   "source": [
    "## Repetition\n",
    "\n",
    "We use `for` loops to iterate over a sequence of objects.  Doing tasks again and again is what computers are good at."
   ]
  },
  {
   "cell_type": "markdown",
   "metadata": {},
   "source": [
    "### for loops"
   ]
  },
  {
   "cell_type": "code",
   "execution_count": null,
   "metadata": {
    "collapsed": false
   },
   "outputs": [],
   "source": [
    "for i in range(5):\n",
    "    print(i, end=' ')"
   ]
  },
  {
   "cell_type": "code",
   "execution_count": null,
   "metadata": {
    "collapsed": false
   },
   "outputs": [],
   "source": [
    "# we have already seen that strings are iterable\n",
    "for i in 'abcdefghijklmnopqrstuvwxyz':\n",
    "    print(i, end=' ')"
   ]
  },
  {
   "cell_type": "code",
   "execution_count": null,
   "metadata": {
    "collapsed": false
   },
   "outputs": [],
   "source": [
    "# we can loop over a list\n",
    "teams = ['Sox','O\\'s','Jays','Rays','Yanks']\n",
    "for team in teams:\n",
    "    print('The %s are doing' % team, end=' ')\n",
    "    if team in ['Sox','Rays']:\n",
    "        print('terribly')\n",
    "    elif team == 'Jays' or team == 'Yanks':\n",
    "        print('well')\n",
    "    else:\n",
    "        print('great')"
   ]
  },
  {
   "cell_type": "code",
   "execution_count": null,
   "metadata": {
    "collapsed": false
   },
   "outputs": [],
   "source": [
    "# or iterate through a dictionary\n",
    "al_east_wins = {'Orioles':80, 'Yankees':70, 'Blue Jays':70, 'Rays':67, 'Red Sox':61}\n",
    "\n",
    "for team,wins in al_east_wins.items():\n",
    "    print('%12s\\t%s' % (team,wins))"
   ]
  },
  {
   "cell_type": "markdown",
   "metadata": {},
   "source": [
    "### while loops\n",
    "\n",
    "`while` loops iterate until a condition is met"
   ]
  },
  {
   "cell_type": "code",
   "execution_count": null,
   "metadata": {
    "collapsed": false
   },
   "outputs": [],
   "source": [
    "# test whether a list is empty\n",
    "l = range(5)\n",
    "while l:\n",
    "    print l.pop()"
   ]
  },
  {
   "cell_type": "code",
   "execution_count": null,
   "metadata": {
    "collapsed": false
   },
   "outputs": [],
   "source": [
    "# use the 'break' keyword to exit an infinte loop\n",
    "i = 0\n",
    "while 1:\n",
    "    if i < 5: \n",
    "        print(i, end=' ')\n",
    "    else:\n",
    "        break\n",
    "    i += 1"
   ]
  },
  {
   "cell_type": "code",
   "execution_count": null,
   "metadata": {
    "collapsed": true
   },
   "outputs": [],
   "source": []
  }
 ],
 "metadata": {
  "kernelspec": {
   "display_name": "Python 3",
   "language": "python",
   "name": "python3"
  },
  "language_info": {
   "codemirror_mode": {
    "name": "ipython",
    "version": 3
   },
   "file_extension": ".py",
   "mimetype": "text/x-python",
   "name": "python",
   "nbconvert_exporter": "python",
   "pygments_lexer": "ipython3",
   "version": "3.4.5"
  }
 },
 "nbformat": 4,
 "nbformat_minor": 0
}
