{
 "metadata": {
  "name": "",
  "signature": "sha256:46935d34943db34d8fb5ddae7d476469a4a075b8c71887d1b402138a7f04c6c3"
 },
 "nbformat": 3,
 "nbformat_minor": 0,
 "worksheets": [
  {
   "cells": [
    {
     "cell_type": "markdown",
     "metadata": {},
     "source": [
      "# Physics 296\n",
      "## Lecture 04 - Dictionaries and Control"
     ]
    },
    {
     "cell_type": "markdown",
     "metadata": {},
     "source": [
      "<img src=\"http://imgs.xkcd.com/comics/pointers.png\" width=400px>\n",
      "http://xkcd.com/138/"
     ]
    },
    {
     "cell_type": "markdown",
     "metadata": {},
     "source": [
      "## Last Time\n",
      "\n",
      "- lists\n",
      "    - heterogeneous collections\n",
      "    - create and index with `[a,b,c]`\n",
      "    - slice with `l[start:finish:step]`\n",
      "\n",
      "## Today\n",
      "\n",
      "- Dictionaries\n",
      "- Tuples\n",
      "- Control structures\n",
      "- Repitition"
     ]
    },
    {
     "cell_type": "markdown",
     "metadata": {},
     "source": [
      "## Programming Challenges\n",
      "\n",
      "<div class=\"row\">\n",
      "<div class=\"span alert alert-info\">\n",
      "1. Given two strings, return their concatenation, except omit the first character of each.\n",
      "<code>\n",
      "s1 = 'hello'\n",
      "s2 = 'there'\n",
      "output --> 'ellohere'\n",
      "</code>\n",
      "</div>\n",
      "</div>"
     ]
    },
    {
     "cell_type": "code",
     "collapsed": false,
     "input": [
      "s1 = 'hello'\n",
      "s2 = 'there'\n",
      "s3 = s1[1:]+s2[1:]\n",
      "print s3"
     ],
     "language": "python",
     "metadata": {},
     "outputs": [
      {
       "output_type": "stream",
       "stream": "stdout",
       "text": [
        "ellohere\n"
       ]
      }
     ],
     "prompt_number": 42
    },
    {
     "cell_type": "markdown",
     "metadata": {},
     "source": [
      "<div class=\"row\">\n",
      "<div class=\"span alert alert-info\">\n",
      "2. Given a list of 5 elements, create a right cyclic permutation of length 1.\n",
      "<code>\n",
      "l1 = [1,2,3,4,5]\n",
      "output --> [5,1,2,3,4]\n",
      "</code>\n",
      "</div>\n",
      "</div>"
     ]
    },
    {
     "cell_type": "code",
     "collapsed": false,
     "input": [
      "l1 = [1,2,3,4,5]\n",
      "[l1[-1]]+l1[:-1]"
     ],
     "language": "python",
     "metadata": {},
     "outputs": [
      {
       "metadata": {},
       "output_type": "pyout",
       "prompt_number": 44,
       "text": [
        "[5, 1, 2, 3, 4]"
       ]
      }
     ],
     "prompt_number": 44
    },
    {
     "cell_type": "code",
     "collapsed": false,
     "input": [
      "l1=[1,2,3,4,5]\n",
      "l1.remove(5)\n",
      "l1.insert(0,5)\n",
      "print l1"
     ],
     "language": "python",
     "metadata": {},
     "outputs": [
      {
       "output_type": "stream",
       "stream": "stdout",
       "text": [
        "[5, 1, 2, 3, 4]\n"
       ]
      }
     ],
     "prompt_number": 46
    },
    {
     "cell_type": "markdown",
     "metadata": {},
     "source": [
      "## Dictionaries\n",
      "\n",
      "Extremely useful hetrogeneous container that stores key/value pairs.  This generalizes a list which maps an integer to some data.  Indexing a dictionary by a key returns the value associated with it"
     ]
    },
    {
     "cell_type": "code",
     "collapsed": false,
     "input": [
      "# create an empty dictionary using curly brackets \n",
      "record = {} \n",
      "record['first'] = 'James'\n",
      "record['last'] = 'Maxwell'\n",
      "record['born'] = 1831 \n",
      "print record "
     ],
     "language": "python",
     "metadata": {},
     "outputs": [
      {
       "output_type": "stream",
       "stream": "stdout",
       "text": [
        "{'born': 1831, 'last': 'Maxwell', 'first': 'James'}\n"
       ]
      }
     ],
     "prompt_number": 47
    },
    {
     "cell_type": "code",
     "collapsed": false,
     "input": [
      "# create another dictionary with initial entries \n",
      "new_record = {'middle':'Clerk'} "
     ],
     "language": "python",
     "metadata": {},
     "outputs": [],
     "prompt_number": 49
    },
    {
     "cell_type": "code",
     "collapsed": false,
     "input": [
      "# now update the first dictionary with values from the new one  \n",
      "record.update(new_record)\n",
      "print record"
     ],
     "language": "python",
     "metadata": {},
     "outputs": [
      {
       "output_type": "stream",
       "stream": "stdout",
       "text": [
        "{'middle': 'Clerk', 'born': 1831, 'last': 'Maxwell', 'first': 'James'}\n"
       ]
      }
     ],
     "prompt_number": 50
    },
    {
     "cell_type": "code",
     "collapsed": false,
     "input": [
      "# we could have also just inserted it directly\n",
      "record['died'] = 1879\n",
      "print record"
     ],
     "language": "python",
     "metadata": {},
     "outputs": [
      {
       "output_type": "stream",
       "stream": "stdout",
       "text": [
        "{'middle': 'Clerk', 'born': 1831, 'last': 'Maxwell', 'died': 1879, 'first': 'James'}\n"
       ]
      }
     ],
     "prompt_number": 51
    },
    {
     "cell_type": "markdown",
     "metadata": {},
     "source": [
      "<div class=\"row\">\n",
      "<div class=\"span alert alert-error\">\n",
      "!Notice that the elements don't seem to be stored in any particular order.\n",
      "</div>\n",
      "</div>\n",
      "\n",
      "### Dictionary methods"
     ]
    },
    {
     "cell_type": "code",
     "collapsed": false,
     "input": [
      "# can create a dictionary all in one shot\n",
      "physics = {'theory':1, 'experiment':4, 'computational':10}\n",
      "print physics['computational']"
     ],
     "language": "python",
     "metadata": {},
     "outputs": [
      {
       "output_type": "stream",
       "stream": "stdout",
       "text": [
        "10\n"
       ]
      }
     ],
     "prompt_number": 52
    },
    {
     "cell_type": "code",
     "collapsed": false,
     "input": [
      "# or we can use the zip method\n",
      "keys = ['theory','experiment','computational']\n",
      "values = [1, 4, 10]\n",
      "physics_296 = dict(zip(keys, values))\n",
      "print physics_296"
     ],
     "language": "python",
     "metadata": {},
     "outputs": [
      {
       "output_type": "stream",
       "stream": "stdout",
       "text": [
        "{'computational': 10, 'experiment': 4, 'theory': 1}\n"
       ]
      }
     ],
     "prompt_number": 53
    },
    {
     "cell_type": "code",
     "collapsed": false,
     "input": [
      "# testing for a key\n",
      "physics_296.has_key('experiment')"
     ],
     "language": "python",
     "metadata": {},
     "outputs": [
      {
       "metadata": {},
       "output_type": "pyout",
       "prompt_number": 54,
       "text": [
        "True"
       ]
      }
     ],
     "prompt_number": 54
    },
    {
     "cell_type": "code",
     "collapsed": false,
     "input": [
      "# get a list of all keys\n",
      "physics_296.keys()"
     ],
     "language": "python",
     "metadata": {},
     "outputs": [
      {
       "metadata": {},
       "output_type": "pyout",
       "prompt_number": 57,
       "text": [
        "['computational', 'experiment', 'theory']"
       ]
      }
     ],
     "prompt_number": 57
    },
    {
     "cell_type": "code",
     "collapsed": false,
     "input": [
      "# get a list of all values\n",
      "physics_296.values()"
     ],
     "language": "python",
     "metadata": {},
     "outputs": [
      {
       "metadata": {},
       "output_type": "pyout",
       "prompt_number": 55,
       "text": [
        "[10, 4, 1]"
       ]
      }
     ],
     "prompt_number": 55
    },
    {
     "cell_type": "code",
     "collapsed": false,
     "input": [
      "# get a list of all key/val pairs\n",
      "physics_296.items()"
     ],
     "language": "python",
     "metadata": {},
     "outputs": [
      {
       "metadata": {},
       "output_type": "pyout",
       "prompt_number": 59,
       "text": [
        "[('computational', 10), ('experiment', 4), ('theory', 1)]"
       ]
      }
     ],
     "prompt_number": 59
    },
    {
     "cell_type": "code",
     "collapsed": false,
     "input": [
      "# remove a key/val pair\n",
      "del physics_296['experiment']\n",
      "print physics_296"
     ],
     "language": "python",
     "metadata": {},
     "outputs": [
      {
       "output_type": "stream",
       "stream": "stdout",
       "text": [
        "{'computational': 10, 'theory': 1}\n"
       ]
      }
     ],
     "prompt_number": 60
    },
    {
     "cell_type": "code",
     "collapsed": false,
     "input": [
      "# test for a key\n",
      "'experiment' in physics_296"
     ],
     "language": "python",
     "metadata": {},
     "outputs": [
      {
       "metadata": {},
       "output_type": "pyout",
       "prompt_number": 61,
       "text": [
        "False"
       ]
      }
     ],
     "prompt_number": 61
    },
    {
     "cell_type": "markdown",
     "metadata": {},
     "source": [
      "## Tuples\n",
      "\n",
      "Tuples are sequences of values, created with square brackets.  However, unlike lists, they are immutable."
     ]
    },
    {
     "cell_type": "code",
     "collapsed": false,
     "input": [
      "# can be created with our without round brackets\n",
      "d = 1,2,3\n",
      "print d\n",
      "\n",
      "d = (4,5,6)\n",
      "print d"
     ],
     "language": "python",
     "metadata": {},
     "outputs": [
      {
       "output_type": "stream",
       "stream": "stdout",
       "text": [
        "(1, 2, 3)\n",
        "(4, 5, 6)\n"
       ]
      }
     ],
     "prompt_number": 62
    },
    {
     "cell_type": "code",
     "collapsed": false,
     "input": [
      "# they are indexed in the same way as lists\n",
      "d[0]"
     ],
     "language": "python",
     "metadata": {},
     "outputs": [
      {
       "metadata": {},
       "output_type": "pyout",
       "prompt_number": 63,
       "text": [
        "4"
       ]
      }
     ],
     "prompt_number": 63
    },
    {
     "cell_type": "code",
     "collapsed": false,
     "input": [
      "# they are immutable, so assignments fail\n",
      "d[0] = 8"
     ],
     "language": "python",
     "metadata": {},
     "outputs": [
      {
       "ename": "TypeError",
       "evalue": "'tuple' object does not support item assignment",
       "output_type": "pyerr",
       "traceback": [
        "\u001b[0;31m---------------------------------------------------------------------------\u001b[0m\n\u001b[0;31mTypeError\u001b[0m                                 Traceback (most recent call last)",
        "\u001b[0;32m<ipython-input-64-984bef9f77c6>\u001b[0m in \u001b[0;36m<module>\u001b[0;34m()\u001b[0m\n\u001b[1;32m      1\u001b[0m \u001b[0;31m# they are immutable, so assignments fail\u001b[0m\u001b[0;34m\u001b[0m\u001b[0;34m\u001b[0m\u001b[0m\n\u001b[0;32m----> 2\u001b[0;31m \u001b[0md\u001b[0m\u001b[0;34m[\u001b[0m\u001b[0;36m0\u001b[0m\u001b[0;34m]\u001b[0m \u001b[0;34m=\u001b[0m \u001b[0;36m8\u001b[0m\u001b[0;34m\u001b[0m\u001b[0m\n\u001b[0m",
        "\u001b[0;31mTypeError\u001b[0m: 'tuple' object does not support item assignment"
       ]
      }
     ],
     "prompt_number": 64
    },
    {
     "cell_type": "code",
     "collapsed": false,
     "input": [
      "test = {(0,1):'test'}\n",
      "print test[(0,1)]"
     ],
     "language": "python",
     "metadata": {},
     "outputs": [
      {
       "output_type": "stream",
       "stream": "stdout",
       "text": [
        "test\n"
       ]
      }
     ],
     "prompt_number": 66
    },
    {
     "cell_type": "code",
     "collapsed": false,
     "input": [
      "# you have already seen them when formatting output\n",
      "print '%s = %7.5f' % ('pi', 3.14159265358979)"
     ],
     "language": "python",
     "metadata": {},
     "outputs": [
      {
       "output_type": "stream",
       "stream": "stdout",
       "text": [
        "pi = 3.14159\n"
       ]
      }
     ],
     "prompt_number": 68
    },
    {
     "cell_type": "code",
     "collapsed": false,
     "input": [
      "# and when doing multiple assignments\n",
      "a,b,c = 1,2,3\n",
      "print b\n",
      "\n",
      "d = 4,5,6\n",
      "a,b,c = d\n",
      "print b"
     ],
     "language": "python",
     "metadata": {},
     "outputs": [
      {
       "output_type": "stream",
       "stream": "stdout",
       "text": [
        "2\n",
        "5\n"
       ]
      }
     ],
     "prompt_number": 69
    },
    {
     "cell_type": "markdown",
     "metadata": {},
     "source": [
      "## Control\n",
      "\n",
      "`if/elif/else` blocks provide conditional execuation of code.  Each boolean expression is terminated with a colon `:` and the related code indented."
     ]
    },
    {
     "cell_type": "code",
     "collapsed": false,
     "input": [
      "x = 1\n",
      "if x > 10:\n",
      "    print 1\n",
      "elif x == 0:\n",
      "    print 0\n",
      "else:\n",
      "    print -1 "
     ],
     "language": "python",
     "metadata": {},
     "outputs": [
      {
       "output_type": "stream",
       "stream": "stdout",
       "text": [
        "-1\n"
       ]
      }
     ],
     "prompt_number": 70
    },
    {
     "cell_type": "markdown",
     "metadata": {},
     "source": [
      "### Things to know about control\n",
      "- Brackets are not required unless we need to specify the order of operations\n",
      "- Combine boolean expressions with the `and`, `or`, `not` keywords\n",
      "- Whitespace (tabs) are used to denote code blocks\n",
      "- `True` means any non-zero number or non-empty object\n",
      "- `False` means not true: zero, an empty object or None"
     ]
    },
    {
     "cell_type": "code",
     "collapsed": false,
     "input": [
      "# empty vs non-empty\n",
      "x = []\n",
      "if x:\n",
      "    print \"non-empy list\"\n",
      "else:\n",
      "    print \"empty list\""
     ],
     "language": "python",
     "metadata": {},
     "outputs": [
      {
       "output_type": "stream",
       "stream": "stdout",
       "text": [
        "empty list\n"
       ]
      }
     ],
     "prompt_number": 71
    },
    {
     "cell_type": "code",
     "collapsed": false,
     "input": [
      "# logical operators are: and,or,not\n",
      "x = 1\n",
      "y = 2\n",
      "if x > 0 and y > 0:\n",
      "    print \"both true\""
     ],
     "language": "python",
     "metadata": {},
     "outputs": [
      {
       "output_type": "stream",
       "stream": "stdout",
       "text": [
        "both true\n"
       ]
      }
     ],
     "prompt_number": 72
    },
    {
     "cell_type": "code",
     "collapsed": false,
     "input": [
      "if x < 1 or y > 1:\n",
      "    print \"x is small and y is big\""
     ],
     "language": "python",
     "metadata": {},
     "outputs": [
      {
       "output_type": "stream",
       "stream": "stdout",
       "text": [
        "x is small and y is big\n"
       ]
      }
     ],
     "prompt_number": 73
    },
    {
     "cell_type": "code",
     "collapsed": false,
     "input": [
      "if not x < 1:\n",
      "    print \"x is big\""
     ],
     "language": "python",
     "metadata": {},
     "outputs": [
      {
       "output_type": "stream",
       "stream": "stdout",
       "text": [
        "x is big\n"
       ]
      }
     ],
     "prompt_number": 74
    },
    {
     "cell_type": "code",
     "collapsed": false,
     "input": [
      "# we have already seen that we can assign a control statement to a variable\n",
      "truthiness = 0 < x <= 1\n",
      "if truthiness:\n",
      "    print \"yes\"\n",
      "else:\n",
      "    print \"no\""
     ],
     "language": "python",
     "metadata": {},
     "outputs": [
      {
       "output_type": "stream",
       "stream": "stdout",
       "text": [
        "yes\n"
       ]
      }
     ],
     "prompt_number": 75
    },
    {
     "cell_type": "markdown",
     "metadata": {},
     "source": [
      "## Repetition\n",
      "\n",
      "We use `for` loops to iterate over a sequence of objects.  Doing tasks again and again is what computers are good at."
     ]
    },
    {
     "cell_type": "markdown",
     "metadata": {},
     "source": [
      "### for loops"
     ]
    },
    {
     "cell_type": "code",
     "collapsed": false,
     "input": [
      "for i in range(5):\n",
      "    print i,"
     ],
     "language": "python",
     "metadata": {},
     "outputs": [
      {
       "output_type": "stream",
       "stream": "stdout",
       "text": [
        "0 1 2 3 4\n"
       ]
      }
     ],
     "prompt_number": 76
    },
    {
     "cell_type": "code",
     "collapsed": false,
     "input": [
      "# we have already seen that strings are iterable\n",
      "for i in 'abcdefghijklmnopqrstuvwxyz':\n",
      "    print i,"
     ],
     "language": "python",
     "metadata": {},
     "outputs": [
      {
       "output_type": "stream",
       "stream": "stdout",
       "text": [
        "a b c d e f g h i j k l m n o p q r s t u v w x y z\n"
       ]
      }
     ],
     "prompt_number": 77
    },
    {
     "cell_type": "code",
     "collapsed": false,
     "input": [
      "# we can loop over a list\n",
      "teams = ['Sox','O\\'s','Jays','Rays','Yanks']\n",
      "for team in teams:\n",
      "    print 'The %s are doing' % team,\n",
      "    if team in ['Sox','Rays']:\n",
      "        print 'terribly'\n",
      "    elif team == 'Jays' or team == 'Yanks':\n",
      "        print 'well'\n",
      "    else:\n",
      "        print 'great'"
     ],
     "language": "python",
     "metadata": {},
     "outputs": [
      {
       "output_type": "stream",
       "stream": "stdout",
       "text": [
        "The Sox are doing terribly\n",
        "The O's are doing great\n",
        "The Jays are doing well\n",
        "The Rays are doing terribly\n",
        "The Yanks are doing well\n"
       ]
      }
     ],
     "prompt_number": 78
    },
    {
     "cell_type": "code",
     "collapsed": false,
     "input": [
      "# or iterate through a dictionary\n",
      "al_east_wins = {'Orioles':80, 'Yankees':70, 'Blue Jays':70, 'Rays':67, 'Red Sox':61}\n",
      "\n",
      "for team,wins in al_east_wins.items():\n",
      "    print '%12s\\t%s' % (team,wins)"
     ],
     "language": "python",
     "metadata": {},
     "outputs": [
      {
       "output_type": "stream",
       "stream": "stdout",
       "text": [
        "     Red Sox\t61\n",
        "     Orioles\t80\n",
        "        Rays\t67\n",
        "   Blue Jays\t70\n",
        "     Yankees\t70\n"
       ]
      }
     ],
     "prompt_number": 79
    },
    {
     "cell_type": "markdown",
     "metadata": {},
     "source": [
      "### while loops\n",
      "\n",
      "`while` loops iterate until a condition is met"
     ]
    },
    {
     "cell_type": "code",
     "collapsed": false,
     "input": [
      "# test whether a list is empty\n",
      "l = range(5)\n",
      "while l:\n",
      "    print l.pop()"
     ],
     "language": "python",
     "metadata": {},
     "outputs": [
      {
       "output_type": "stream",
       "stream": "stdout",
       "text": [
        "4\n",
        "3\n",
        "2\n",
        "1\n",
        "0\n"
       ]
      }
     ],
     "prompt_number": 80
    },
    {
     "cell_type": "code",
     "collapsed": false,
     "input": [
      "# use the 'break' keyword to exit an infinte loop\n",
      "i = 0\n",
      "while 1:\n",
      "    if i < 5: \n",
      "        print i,\n",
      "    else:\n",
      "        break\n",
      "    i += 1"
     ],
     "language": "python",
     "metadata": {},
     "outputs": [
      {
       "output_type": "stream",
       "stream": "stdout",
       "text": [
        "0 1 2 3 4\n"
       ]
      }
     ],
     "prompt_number": 81
    }
   ],
   "metadata": {}
  }
 ]
}