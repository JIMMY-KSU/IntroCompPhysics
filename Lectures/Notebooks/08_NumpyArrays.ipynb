{
 "metadata": {
  "name": "",
  "signature": "sha256:ef24d4a3027d7d9c26889526886b68714c2225088bb9949fa179c216697473fd"
 },
 "nbformat": 3,
 "nbformat_minor": 0,
 "worksheets": [
  {
   "cells": [
    {
     "cell_type": "markdown",
     "metadata": {},
     "source": [
      "# Physics 296\n",
      "## Lecture 08 - I/O & Numpy"
     ]
    },
    {
     "cell_type": "markdown",
     "metadata": {},
     "source": [
      "<img src=\"http://www.numpy.org/_static/numpy_logo.png\" width=300px>"
     ]
    },
    {
     "cell_type": "markdown",
     "metadata": {},
     "source": [
      "## Last Time\n",
      "\n",
      "- wrote a module to compute $\\pi$ in various ways\n",
      "- saw Monte Carlo for the first time!\n",
      "- file input/output\n",
      "\n",
      "## Today\n",
      "- working with numerical data\n",
      "- introduction to Numpy\n"
     ]
    },
    {
     "cell_type": "markdown",
     "metadata": {},
     "source": [
      "<div class=\"row\">\n",
      "<div class=\"span alert alert-info\">\n",
      "<h2> Team programming challenge </h2>\n",
      "<h3> Average energy for the simple harmonic oscillator at finite temperature</h3>\n",
      "</div>\n",
      "</div>\n",
      "\n",
      "I have uploaded a data file on BlackBoard in the Week 03 Course Materials called `sho_energy.dat`.  The line contains column headings with units in kelvin.\n",
      "\n",
      "The next set of lines contain quantum Monte Carlo measurements for the kinetic and potential energy of the simple harmonic osscilator at $T = 0.5~\\mathrm{K}$ where $\\hbar \\omega/k_{\\mathrm{B}} = 1$.  The exact answer is known to be:\n",
      "\\begin{equation}\n",
      "E(T) = \\frac{\\hbar \\omega}{2} \\coth \\frac{\\hbar \\omega}{2 k_{\\mathrm{B}} T}.\n",
      "\\end{equation}\n",
      "\n",
      "Download the data file to your computer and write a program that loads the file from disk and computes the average total energy of all lines.  If you have extra time, compare with the exact result."
     ]
    },
    {
     "cell_type": "code",
     "collapsed": false,
     "input": [
      "!cat Examples/sho_energy.dat"
     ],
     "language": "python",
     "metadata": {},
     "outputs": [
      {
       "output_type": "stream",
       "stream": "stdout",
       "text": [
        "#         Kinetic       Potential \r\n",
        "   6.22407909E-01  3.77134851E-01  \r\n",
        "   4.29547101E-01  2.42379252E-01  \r\n",
        "   2.37001671E-01  2.67495403E-01  \r\n",
        "   3.01818649E-01  2.58392255E-01  \r\n",
        "   4.09565316E-01  3.15222495E-01  \r\n",
        "   2.14317707E-01  4.51218376E-01  \r\n",
        "   4.18641845E-01  2.89516631E-01  \r\n",
        "   3.66230261E-01  2.80669596E-01  \r\n",
        "   2.39985912E-01  3.49197015E-01  \r\n",
        "   4.08868551E-01  2.73554341E-01  \r\n",
        "   4.29891894E-01  2.28270437E-01  \r\n",
        "   1.76880098E-01  3.74807008E-01  \r\n",
        "   4.50146777E-01  2.60430892E-01  \r\n",
        "   2.94294733E-01  3.82058897E-01  \r\n",
        "   4.52161080E-01  2.44881829E-01  \r\n",
        "   3.44609451E-01  3.31618376E-01  \r\n",
        "   4.01977123E-01  2.86437236E-01  \r\n",
        "   1.95875270E-01  3.09855155E-01  \r\n",
        "   4.07812408E-01  3.67230198E-01  \r\n",
        "   2.81732855E-01  3.38656673E-01  \r\n",
        "   3.49238393E-01  2.34915354E-01  \r\n",
        "   7.58970450E-02  3.47864555E-01  \r\n",
        "   2.35324623E-01  2.41883096E-01  \r\n",
        "   4.14538771E-01  4.14814837E-01  \r\n",
        "   3.56186180E-01  2.82852947E-01  \r\n",
        "   3.08263779E-01  2.61148485E-01  \r\n",
        "   3.51531602E-01  3.84750836E-01  \r\n",
        "   4.13973099E-01  3.53702293E-01  \r\n",
        "   3.92675219E-01  2.93938978E-01  \r\n",
        "   3.77202537E-01  4.25175485E-01  \r\n",
        "   3.91846384E-02  2.84571148E-01  \r\n",
        "   3.13953529E-01  2.54153321E-01  \r\n",
        "   2.28571815E-01  2.92566869E-01  \r\n",
        "   2.74552363E-01  2.89681106E-01  \r\n",
        "   3.64345023E-01  3.22662317E-01  \r\n",
        "   3.89081119E-01  3.38496063E-01  \r\n",
        "   3.77922421E-01  3.09245215E-01  \r\n",
        "   5.17570876E-01  3.25877265E-01  \r\n",
        "   3.42106263E-01  4.10930330E-01  \r\n",
        "   2.55002349E-01  2.98024797E-01  \r\n",
        "   2.73946972E-01  3.60943726E-01  \r\n",
        "   4.73668443E-01  2.82561209E-01  \r\n",
        "   2.15570473E-01  2.87773625E-01  \r\n",
        "   2.91227918E-01  2.97038660E-01  \r\n",
        "   4.92027933E-01  2.31306192E-01  \r\n",
        "   4.51321203E-01  3.22497257E-01  \r\n",
        "   3.80368393E-01  3.18374448E-01  \r\n",
        "   2.83040980E-01  3.94547678E-01  \r\n",
        "   1.91338598E-01  3.24232481E-01  \r\n",
        "   3.83124905E-01  3.48084719E-01  \r\n",
        "   7.03530693E-01  2.92183381E-01  \r\n",
        "   2.88021063E-01  2.59222498E-01  \r\n",
        "   4.01169774E-01  3.28670954E-01  \r\n",
        "   3.48408046E-01  2.46565661E-01  \r\n",
        "   2.36968115E-01  4.54009582E-01  \r\n",
        "   3.47970254E-01  3.05955359E-01  \r\n",
        "   2.49724515E-01  3.19558030E-01  \r\n",
        "   3.34760811E-01  4.06845566E-01  \r\n",
        "   3.24031817E-01  3.07531962E-01  \r\n",
        "   3.65594753E-01  3.89643864E-01  \r\n",
        "   3.88699997E-01  4.36493534E-01  \r\n",
        "   3.29836468E-01  2.58774211E-01  \r\n",
        "   3.23400860E-01  3.78085173E-01  \r\n",
        "   4.63049001E-01  3.07513186E-01  \r\n",
        "   4.44633551E-01  3.66748225E-01  \r\n",
        "   3.39814276E-01  2.40358766E-01  \r\n",
        "   3.14019128E-01  4.29008452E-01  \r\n",
        "   3.89176739E-01  3.35800721E-01  \r\n",
        "   4.81341340E-01  3.39699264E-01  \r\n",
        "   3.15593205E-01  3.65387024E-01  \r\n",
        "   4.76383731E-01  4.20763294E-01  \r\n",
        "   2.69194023E-01  2.44221724E-01  \r\n",
        "   4.42198677E-01  2.70598324E-01  \r\n",
        "   3.45566563E-01  2.84435538E-01  \r\n",
        "   2.70550257E-01  2.47907442E-01  \r\n",
        "   3.81645592E-01  3.36414677E-01  \r\n",
        "   3.39137567E-01  3.63777691E-01  \r\n",
        "   3.09287864E-01  4.29483297E-01  \r\n",
        "   3.23417573E-01  4.01822556E-01  \r\n",
        "   5.26935059E-01  3.13494948E-01  \r\n",
        "   2.64787335E-01  2.31303281E-01  \r\n",
        "   4.20643867E-01  2.84629321E-01  \r\n",
        "   3.13134670E-01  3.30908498E-01  \r\n",
        "   2.98123445E-01  3.02906045E-01  \r\n",
        "   4.32025154E-01  3.58888404E-01  \r\n",
        "   2.66027526E-01  3.59500162E-01  \r\n",
        "   3.39630196E-01  4.07672065E-01  \r\n",
        "   1.74118580E-01  2.91727021E-01  \r\n",
        "   3.88839520E-01  2.94189326E-01  \r\n",
        "   2.81309277E-01  3.02944548E-01  \r\n",
        "   1.81360485E-01  3.23353421E-01  \r\n",
        "   5.22785861E-01  4.28154275E-01  \r\n",
        "   4.90592941E-01  2.95281401E-01  \r\n",
        "   3.28699565E-01  3.69066102E-01  \r\n",
        "   2.79856415E-01  2.67487067E-01  \r\n",
        "   2.58883053E-01  3.36661227E-01  \r\n",
        "   2.64961515E-01  3.03649091E-01  \r\n",
        "   3.05785016E-01  3.53010333E-01  \r\n",
        "   2.96897274E-01  2.75480925E-01  \r\n",
        "   3.47161034E-01  3.11490141E-01  \r\n"
       ]
      }
     ],
     "prompt_number": 95
    },
    {
     "cell_type": "code",
     "collapsed": false,
     "input": [
      "%load \"Examples/sho_average.py\""
     ],
     "language": "python",
     "metadata": {},
     "outputs": [],
     "prompt_number": 96
    },
    {
     "cell_type": "code",
     "collapsed": false,
     "input": [
      "# sho_average.py\n",
      "# Compute the average energy of the simple harmonic osscilator from an input\n",
      "# file\n",
      "\n",
      "import math\n",
      "\n",
      "# -----------------------------------------------------------------------------\n",
      "def sho_energy(T):\n",
      "    '''Return the energy of a simple harmonic osscilator at temperature T.'''\n",
      "    # \\hbar \\omega / k_B = 1\n",
      "    return 0.5/math.tanh(0.5/T)\n",
      "\n",
      "\n",
      "# -----------------------------------------------------------------------------\n",
      "def main():\n",
      "    # open the file for reading\n",
      "    data_file = open('sho_energy.dat', 'r')\n",
      "\n",
      "    # get the column labels\n",
      "    data_labels = data_file.readline()\n",
      "\n",
      "    # split it at the spaces\n",
      "    labels = data_labels.split()\n",
      "\n",
      "    # remove the comment character\n",
      "    labels.remove('#')\n",
      "\n",
      "    # create an empty dictionary that will hold the data\n",
      "    data = {}\n",
      "\n",
      "    # initialize it with empty lists\n",
      "    for label in labels:\n",
      "        data[label] = []\n",
      "\n",
      "    # go through each line of the file\n",
      "    for line in data_file.readlines():\n",
      "        \n",
      "        # get a list of columns\n",
      "        values = line.split()\n",
      "        \n",
      "        # go through each value, convert to float and add to our list\n",
      "        for n,value in enumerate(values):\n",
      "            data[labels[n]].append(float(value))\n",
      "\n",
      "    # close the file\n",
      "    data_file.close()\n",
      "\n",
      "    # now that we have all the data, we can compute the averages\n",
      "    data_average = {}\n",
      "    for label in labels:\n",
      "        data_average[label] = 0.0\n",
      "        \n",
      "        for value in data[label]:\n",
      "            data_average[label] += value\n",
      "\n",
      "        data_average[label] /= len(data[label]) \n",
      "            \n",
      "    print 'Total Energy = %6.3f K' % (data_average['Kinetic'] + data_average['Potential'])\n",
      "    print 'Exact Energy = %6.3f K' % sho_energy(0.5)\n",
      "\n",
      "# -----------------------------------------------------------------------------\n",
      "if __name__ == '__main__':\n",
      "    main()\n"
     ],
     "language": "python",
     "metadata": {},
     "outputs": []
    },
    {
     "cell_type": "markdown",
     "metadata": {},
     "source": [
      "## NumPy\n",
      "\n",
      "NumPy is the fundamental package needed for scientific computing with Python. It contains among other things:\n",
      "- a powerful N-dimensional array object \n",
      "- sophisticated and optimized array (broadcasting) functions\n",
      "- tools for integrating C/C++ and Fortran code \n",
      "- useful linear algebra, Fourier transform, and random number capabilities\n",
      "\n",
      "We can import all this functionality using the `import` command.  It is customary to use the shortform `np`"
     ]
    },
    {
     "cell_type": "code",
     "collapsed": false,
     "input": [
      "import numpy as np"
     ],
     "language": "python",
     "metadata": {},
     "outputs": [],
     "prompt_number": 97
    },
    {
     "cell_type": "markdown",
     "metadata": {},
     "source": [
      "NumPy contains array-optimized versions of all the standard library math functions."
     ]
    },
    {
     "cell_type": "code",
     "collapsed": false,
     "input": [
      "print np.sqrt(1.234)\n",
      "\n",
      "# can deal with complex numbers\n",
      "print np.conjugate(1+3j)"
     ],
     "language": "python",
     "metadata": {},
     "outputs": [
      {
       "output_type": "stream",
       "stream": "stdout",
       "text": [
        "1.11085552616\n",
        "(1-3j)\n"
       ]
      }
     ],
     "prompt_number": 98
    },
    {
     "cell_type": "markdown",
     "metadata": {},
     "source": [
      "The most important part of NumPy for us is the array datatype.  We can create arrays using:\n",
      "- python lists\n",
      "- special functions `zeros`, `ones`, `arange`, `linspace`, etc.\n",
      "- directy from files"
     ]
    },
    {
     "cell_type": "markdown",
     "metadata": {},
     "source": [
      "### Creation from lists"
     ]
    },
    {
     "cell_type": "code",
     "collapsed": false,
     "input": [
      "a = np.array([0,1,2,3,4])"
     ],
     "language": "python",
     "metadata": {},
     "outputs": [],
     "prompt_number": 99
    },
    {
     "cell_type": "code",
     "collapsed": false,
     "input": [
      "# It will try to dynamically guess\n",
      "# the type unless we specify with \u2018dtype\u2019\n",
      "a = np.array([0,1,2],dtype=float)\n",
      "a"
     ],
     "language": "python",
     "metadata": {},
     "outputs": [
      {
       "metadata": {},
       "output_type": "pyout",
       "prompt_number": 100,
       "text": [
        "array([ 0.,  1.,  2.])"
       ]
      }
     ],
     "prompt_number": 100
    },
    {
     "cell_type": "markdown",
     "metadata": {},
     "source": [
      "<div class=\"row\">\n",
      "<div class=\"span alert alert-error\">\n",
      "Numpy arrays are **statically typed**.  This allows them to be extremely fast with highly optimized array operations.  However, we cannot use them as heterogenous object collections.\n",
      "</div>\n",
      "</div>\n"
     ]
    },
    {
     "cell_type": "code",
     "collapsed": false,
     "input": [
      "a[0] = 'hello'"
     ],
     "language": "python",
     "metadata": {},
     "outputs": [
      {
       "ename": "ValueError",
       "evalue": "could not convert string to float: hello",
       "output_type": "pyerr",
       "traceback": [
        "\u001b[0;31m---------------------------------------------------------------------------\u001b[0m\n\u001b[0;31mValueError\u001b[0m                                Traceback (most recent call last)",
        "\u001b[0;32m<ipython-input-101-e0a44f677ee5>\u001b[0m in \u001b[0;36m<module>\u001b[0;34m()\u001b[0m\n\u001b[0;32m----> 1\u001b[0;31m \u001b[0ma\u001b[0m\u001b[0;34m[\u001b[0m\u001b[0;36m0\u001b[0m\u001b[0;34m]\u001b[0m \u001b[0;34m=\u001b[0m \u001b[0;34m'hello'\u001b[0m\u001b[0;34m\u001b[0m\u001b[0m\n\u001b[0m",
        "\u001b[0;31mValueError\u001b[0m: could not convert string to float: hello"
       ]
      }
     ],
     "prompt_number": 101
    },
    {
     "cell_type": "code",
     "collapsed": false,
     "input": [
      "# use dtype to see the type of an array\n",
      "a.dtype"
     ],
     "language": "python",
     "metadata": {},
     "outputs": [
      {
       "metadata": {},
       "output_type": "pyout",
       "prompt_number": 102,
       "text": [
        "dtype('float64')"
       ]
      }
     ],
     "prompt_number": 102
    },
    {
     "cell_type": "markdown",
     "metadata": {},
     "source": [
      "### Using array creation functions"
     ]
    },
    {
     "cell_type": "code",
     "collapsed": false,
     "input": [
      "# `arange` is like `range` except it can produce lists of floats\n",
      "a = np.arange(0,10,0.5)\n",
      "a"
     ],
     "language": "python",
     "metadata": {},
     "outputs": [
      {
       "metadata": {},
       "output_type": "pyout",
       "prompt_number": 103,
       "text": [
        "array([ 0. ,  0.5,  1. ,  1.5,  2. ,  2.5,  3. ,  3.5,  4. ,  4.5,  5. ,\n",
        "        5.5,  6. ,  6.5,  7. ,  7.5,  8. ,  8.5,  9. ,  9.5])"
       ]
      }
     ],
     "prompt_number": 103
    },
    {
     "cell_type": "code",
     "collapsed": false,
     "input": [
      "# zeros and ones work as expected\n",
      "a0 = np.zeros(10)\n",
      "a1 = np.ones(10)\n",
      "\n",
      "a2 = np.zeros_like(a1)\n",
      "\n",
      "print a0\n",
      "print a1"
     ],
     "language": "python",
     "metadata": {},
     "outputs": [
      {
       "output_type": "stream",
       "stream": "stdout",
       "text": [
        "[ 0.  0.  0.  0.  0.  0.  0.  0.  0.  0.]\n",
        "[ 1.  1.  1.  1.  1.  1.  1.  1.  1.  1.]\n"
       ]
      }
     ],
     "prompt_number": 107
    },
    {
     "cell_type": "code",
     "collapsed": false,
     "input": [
      "# linspace allows us to divide a region in to N linear pieces\n",
      "a = np.linspace(0,1,10)\n",
      "a"
     ],
     "language": "python",
     "metadata": {},
     "outputs": [
      {
       "metadata": {},
       "output_type": "pyout",
       "prompt_number": 108,
       "text": [
        "array([ 0.        ,  0.11111111,  0.22222222,  0.33333333,  0.44444444,\n",
        "        0.55555556,  0.66666667,  0.77777778,  0.88888889,  1.        ])"
       ]
      }
     ],
     "prompt_number": 108
    },
    {
     "cell_type": "code",
     "collapsed": false,
     "input": [
      "# `logspace` can do the same for exponential functions\n",
      "l = np.logspace(0, 10, 10, base=np.e)\n",
      "l"
     ],
     "language": "python",
     "metadata": {},
     "outputs": [
      {
       "metadata": {},
       "output_type": "pyout",
       "prompt_number": 109,
       "text": [
        "array([  1.00000000e+00,   3.03773178e+00,   9.22781435e+00,\n",
        "         2.80316249e+01,   8.51525577e+01,   2.58670631e+02,\n",
        "         7.85771994e+02,   2.38696456e+03,   7.25095809e+03,\n",
        "         2.20264658e+04])"
       ]
      }
     ],
     "prompt_number": 109
    },
    {
     "cell_type": "markdown",
     "metadata": {},
     "source": [
      "<div class=\"row\">\n",
      "<div class=\"span alert alert-error\">\n",
      "Note that when using linspace, the endpoints are included!!!\n",
      "</div>\n",
      "</div>\n",
      "\n",
      "The numpy routines are **much** faster than the built in python methods"
     ]
    },
    {
     "cell_type": "code",
     "collapsed": false,
     "input": [
      "# making an array of squares\n",
      "%timeit [i**2 for i in range(1000)]"
     ],
     "language": "python",
     "metadata": {},
     "outputs": [
      {
       "output_type": "stream",
       "stream": "stdout",
       "text": [
        "10000 loops, best of 3: 78.2 \u00b5s per loop\n"
       ]
      }
     ],
     "prompt_number": 110
    },
    {
     "cell_type": "code",
     "collapsed": false,
     "input": [
      "%timeit np.arange(1000)**2"
     ],
     "language": "python",
     "metadata": {},
     "outputs": [
      {
       "output_type": "stream",
       "stream": "stdout",
       "text": [
        "100000 loops, best of 3: 3.53 \u00b5s per loop\n"
       ]
      }
     ],
     "prompt_number": 111
    },
    {
     "cell_type": "markdown",
     "metadata": {},
     "source": [
      "### Indexing\n",
      "\n",
      "Works exactly the same as for python lists"
     ]
    },
    {
     "cell_type": "code",
     "collapsed": false,
     "input": [
      "a = np.arange(10)**3\n",
      "print a\n",
      "print a[1]\n",
      "print a[:3]\n",
      "print a[-1:-3:-1]"
     ],
     "language": "python",
     "metadata": {},
     "outputs": [
      {
       "output_type": "stream",
       "stream": "stdout",
       "text": [
        "[  0   1   8  27  64 125 216 343 512 729]\n",
        "1\n",
        "[0 1 8]\n",
        "[729 512]\n"
       ]
      }
     ],
     "prompt_number": 112
    },
    {
     "cell_type": "markdown",
     "metadata": {},
     "source": [
      "## Getting help\n",
      "\n",
      "In addition to the regular help command, numpy has interactive help"
     ]
    },
    {
     "cell_type": "code",
     "collapsed": false,
     "input": [
      "np.lookfor('create array')"
     ],
     "language": "python",
     "metadata": {},
     "outputs": [
      {
       "output_type": "stream",
       "stream": "stdout",
       "text": [
        "Search results for 'create array'\n",
        "---------------------------------\n",
        "numpy.array\n",
        "    Create an array.\n",
        "numpy.memmap\n",
        "    Create a memory-map to an array stored in a *binary* file on disk.\n",
        "numpy.diagflat\n",
        "    Create a two-dimensional array with the flattened input as a diagonal.\n",
        "numpy.fromiter\n",
        "    Create a new 1-dimensional array from an iterable object.\n",
        "numpy.partition\n",
        "    Return a partitioned copy of an array.\n",
        "numpy.ma.diagflat\n",
        "    Create a two-dimensional array with the flattened input as a diagonal.\n",
        "numpy.ctypeslib.as_array\n",
        "    Create a numpy array from a ctypes array or a ctypes POINTER.\n",
        "numpy.ma.make_mask\n",
        "    Create a boolean mask from an array.\n",
        "numpy.ctypeslib.as_ctypes\n",
        "    Create and return a ctypes object from a numpy array.  Actually\n",
        "numpy.ma.mrecords.fromarrays\n",
        "    Creates a mrecarray from a (flat) list of masked arrays.\n",
        "numpy.lib.format.open_memmap\n",
        "    Open a .npy file as a memory-mapped array.\n",
        "numpy.ma.MaskedArray.__new__\n",
        "    Create a new masked array from scratch.\n",
        "numpy.lib.arrayterator.Arrayterator\n",
        "    Buffered iterator for big arrays.\n",
        "numpy.ma.mrecords.fromtextfile\n",
        "    Creates a mrecarray from data stored in the file `filename`.\n",
        "numpy.oldnumeric.ma.fromfunction\n",
        "    apply f to s to create array as in umath.\n",
        "numpy.oldnumeric.ma.masked_object\n",
        "    Create array masked where exactly data equal to value\n",
        "numpy.oldnumeric.ma.masked_values\n",
        "    Create a masked array; mask is nomask if possible.\n",
        "numpy.asarray\n",
        "    Convert the input to an array.\n",
        "numpy.ndarray\n",
        "    ndarray(shape, dtype=float, buffer=None, offset=0,\n",
        "numpy.recarray\n",
        "    Construct an ndarray that allows field access using attributes.\n",
        "numpy.chararray\n",
        "    chararray(shape, itemsize=1, unicode=False, buffer=None, offset=0,\n",
        "numpy.pad\n",
        "    Pads an array.\n",
        "numpy.sum\n",
        "    Sum of array elements over a given axis.\n",
        "numpy.asanyarray\n",
        "    Convert the input to an ndarray, but pass ndarray subclasses through.\n",
        "numpy.copy\n",
        "    Return an array copy of the given object.\n",
        "numpy.diag\n",
        "    Extract a diagonal or construct a diagonal array.\n",
        "numpy.load\n",
        "    Load an array(s) or pickled objects from .npy, .npz, or pickled files.\n",
        "numpy.sort\n",
        "    Return a sorted copy of an array.\n",
        "numpy.array_equiv\n",
        "    Returns True if input arrays are shape consistent and all elements equal.\n",
        "numpy.dtype\n",
        "    Create a data type object.\n",
        "numpy.choose\n",
        "    Construct an array from an index array and a set of arrays to choose from.\n",
        "numpy.nditer\n",
        "    Efficient multi-dimensional iterator object to iterate over arrays.\n",
        "numpy.swapaxes\n",
        "    Interchange two axes of an array.\n",
        "numpy.full_like\n",
        "    Return a full array with the same shape and type as a given array.\n",
        "numpy.ones_like\n",
        "    Return an array of ones with the same shape and type as a given array.\n",
        "numpy.empty_like\n",
        "    Return a new array with the same shape and type as a given array.\n",
        "numpy.zeros_like\n",
        "    Return an array of zeros with the same shape and type as a given array.\n",
        "numpy.asarray_chkfinite\n",
        "    Convert the input to an array, checking for NaNs or Infs.\n",
        "numpy.diag_indices\n",
        "    Return the indices to access the main diagonal of an array.\n",
        "numpy.ma.choose\n",
        "    Use an index array to construct a new array from a set of choices.\n",
        "numpy.chararray.tolist\n",
        "    a.tolist()\n",
        "numpy.matlib.rand\n",
        "    Return a matrix of random values with given shape.\n",
        "numpy.savez_compressed\n",
        "    Save several arrays into a single file in compressed ``.npz`` format.\n",
        "numpy.ma.empty_like\n",
        "    Return a new array with the same shape and type as a given array.\n",
        "numpy.ma.make_mask_none\n",
        "    Return a boolean mask of the given shape, filled with False.\n",
        "numpy.ma.mrecords.fromrecords\n",
        "    Creates a MaskedRecords from a list of records.\n",
        "numpy.around\n",
        "    Evenly round to the given number of decimals.\n",
        "numpy.source\n",
        "    Print or write to a file the source code for a Numpy object.\n",
        "numpy.diagonal\n",
        "    Return specified diagonals.\n",
        "numpy.histogram2d\n",
        "    Compute the bi-dimensional histogram of two data samples.\n",
        "numpy.fft.ifft\n",
        "    Compute the one-dimensional inverse discrete Fourier Transform.\n",
        "numpy.fft.ifftn\n",
        "    Compute the N-dimensional inverse discrete Fourier Transform.\n",
        "numpy.busdaycalendar\n",
        "    A business day calendar object that efficiently stores information"
       ]
      }
     ],
     "prompt_number": 113
    },
    {
     "cell_type": "code",
     "collapsed": false,
     "input": [
      "help(np.diagflat)"
     ],
     "language": "python",
     "metadata": {},
     "outputs": [
      {
       "output_type": "stream",
       "stream": "stdout",
       "text": [
        "Help on function diagflat in module numpy.lib.twodim_base:\n",
        "\n",
        "diagflat(v, k=0)\n",
        "    Create a two-dimensional array with the flattened input as a diagonal.\n",
        "    \n",
        "    Parameters\n",
        "    ----------\n",
        "    v : array_like\n",
        "        Input data, which is flattened and set as the `k`-th\n",
        "        diagonal of the output.\n",
        "    k : int, optional\n",
        "        Diagonal to set; 0, the default, corresponds to the \"main\" diagonal,\n",
        "        a positive (negative) `k` giving the number of the diagonal above\n",
        "        (below) the main.\n",
        "    \n",
        "    Returns\n",
        "    -------\n",
        "    out : ndarray\n",
        "        The 2-D output array.\n",
        "    \n",
        "    See Also\n",
        "    --------\n",
        "    diag : MATLAB work-alike for 1-D and 2-D arrays.\n",
        "    diagonal : Return specified diagonals.\n",
        "    trace : Sum along diagonals.\n",
        "    \n",
        "    Examples\n",
        "    --------\n",
        "    >>> np.diagflat([[1,2], [3,4]])\n",
        "    array([[1, 0, 0, 0],\n",
        "           [0, 2, 0, 0],\n",
        "           [0, 0, 3, 0],\n",
        "           [0, 0, 0, 4]])\n",
        "    \n",
        "    >>> np.diagflat([1,2], 1)\n",
        "    array([[0, 1, 0],\n",
        "           [0, 0, 2],\n",
        "           [0, 0, 0]])\n",
        "\n"
       ]
      }
     ],
     "prompt_number": 114
    },
    {
     "cell_type": "markdown",
     "metadata": {},
     "source": [
      "### Array operations\n",
      "\n",
      "These work on an element-by-element basis, and operate mathematically, unlike python lists"
     ]
    },
    {
     "cell_type": "code",
     "collapsed": false,
     "input": [
      "a1 = np.arange(0.0,2.0*np.pi,np.pi/6)\n",
      "a1\n",
      "a2 = np.ones_like(a1)"
     ],
     "language": "python",
     "metadata": {},
     "outputs": [],
     "prompt_number": 118
    },
    {
     "cell_type": "code",
     "collapsed": false,
     "input": [
      "a1 + a2"
     ],
     "language": "python",
     "metadata": {},
     "outputs": [
      {
       "metadata": {},
       "output_type": "pyout",
       "prompt_number": 119,
       "text": [
        "array([ 1.        ,  1.52359878,  2.04719755,  2.57079633,  3.0943951 ,\n",
        "        3.61799388,  4.14159265,  4.66519143,  5.1887902 ,  5.71238898,\n",
        "        6.23598776,  6.75958653])"
       ]
      }
     ],
     "prompt_number": 119
    },
    {
     "cell_type": "code",
     "collapsed": false,
     "input": [
      "2*(a1+a2)"
     ],
     "language": "python",
     "metadata": {},
     "outputs": [
      {
       "metadata": {},
       "output_type": "pyout",
       "prompt_number": 120,
       "text": [
        "array([  2.        ,   3.04719755,   4.0943951 ,   5.14159265,\n",
        "         6.1887902 ,   7.23598776,   8.28318531,   9.33038286,\n",
        "        10.37758041,  11.42477796,  12.47197551,  13.51917306])"
       ]
      }
     ],
     "prompt_number": 120
    },
    {
     "cell_type": "code",
     "collapsed": false,
     "input": [
      "(a1+a2)**3"
     ],
     "language": "python",
     "metadata": {},
     "outputs": [
      {
       "metadata": {},
       "output_type": "pyout",
       "prompt_number": 121,
       "text": [
        "array([   1.        ,    3.53681094,    8.57984141,   16.99037687,\n",
        "         29.62970278,   47.35910462,   71.03986784,  101.53327791,\n",
        "        139.70062029,  186.40318044,  242.50224383,  308.85909592])"
       ]
      }
     ],
     "prompt_number": 121
    },
    {
     "cell_type": "code",
     "collapsed": false,
     "input": [
      "np.log(a1+a2)"
     ],
     "language": "python",
     "metadata": {},
     "outputs": [
      {
       "metadata": {},
       "output_type": "pyout",
       "prompt_number": 122,
       "text": [
        "array([ 0.        ,  0.42107515,  0.71647181,  0.94421571,  1.12959244,\n",
        "        1.28591969,  1.42108041,  1.54012887,  1.64650057,  1.74263732,\n",
        "        1.83033699,  1.91096172])"
       ]
      }
     ],
     "prompt_number": 122
    },
    {
     "cell_type": "markdown",
     "metadata": {},
     "source": [
      "### Multi-dimensional arrays\n",
      "\n",
      "We can create them with nested lists"
     ]
    },
    {
     "cell_type": "code",
     "collapsed": false,
     "input": [
      "M = np.array([[1,2,3,4],[5,6,7,8]])\n",
      "M"
     ],
     "language": "python",
     "metadata": {},
     "outputs": []
    },
    {
     "cell_type": "code",
     "collapsed": false,
     "input": [
      "# `shape` gives us information about an array\n",
      "M.shape"
     ],
     "language": "python",
     "metadata": {},
     "outputs": []
    },
    {
     "cell_type": "code",
     "collapsed": false,
     "input": [
      "# while `size` gives us the total number of elements\n",
      "M.size"
     ],
     "language": "python",
     "metadata": {},
     "outputs": []
    },
    {
     "cell_type": "code",
     "collapsed": false,
     "input": [
      "# index using a simple list of indices\n",
      "M[1,3]"
     ],
     "language": "python",
     "metadata": {},
     "outputs": []
    },
    {
     "cell_type": "markdown",
     "metadata": {},
     "source": [
      "We can pass our array creation functions the size of a desired multi-dimensional array"
     ]
    },
    {
     "cell_type": "code",
     "collapsed": false,
     "input": [
      "M1 = np.ones([3,3])\n",
      "M1"
     ],
     "language": "python",
     "metadata": {},
     "outputs": []
    },
    {
     "cell_type": "code",
     "collapsed": false,
     "input": [
      "# can go beyond matrices\n",
      "M0 = np.zeros([3,3,3])\n",
      "M0"
     ],
     "language": "python",
     "metadata": {},
     "outputs": []
    },
    {
     "cell_type": "code",
     "collapsed": false,
     "input": [
      "# there are some speical matrix creaters\n",
      "II = np.identity(4)\n",
      "II"
     ],
     "language": "python",
     "metadata": {},
     "outputs": []
    }
   ],
   "metadata": {}
  }
 ]
}