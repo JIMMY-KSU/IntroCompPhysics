{
 "metadata": {
  "name": "",
  "signature": "sha256:b7dfbe59362ceeea132822465fd1e2c554f9f57c6149025350521b163c19e814"
 },
 "nbformat": 3,
 "nbformat_minor": 0,
 "worksheets": [
  {
   "cells": [
    {
     "cell_type": "markdown",
     "metadata": {},
     "source": [
      "# Physics 296\n",
      "## Lecture 08 - I/O & Numpy"
     ]
    },
    {
     "cell_type": "markdown",
     "metadata": {},
     "source": [
      "<img src=\"http://www.numpy.org/_static/numpy_logo.png\" width=300px>"
     ]
    },
    {
     "cell_type": "markdown",
     "metadata": {},
     "source": [
      "## Last Time\n",
      "\n",
      "- wrote a module to compute $\\pi$ in various ways\n",
      "- saw Monte Carlo for the first time!\n",
      "- file input/output\n",
      "\n",
      "## Today\n",
      "- working with numerical data\n",
      "- introduction to Numpy\n"
     ]
    },
    {
     "cell_type": "markdown",
     "metadata": {},
     "source": [
      "<div class=\"row\">\n",
      "<div class=\"span alert alert-info\">\n",
      "<h2> Team programming challenge </h2>\n",
      "<h3> Average energy for the simple harmonic oscillator at finite temperature</h3>\n",
      "</div>\n",
      "</div>\n",
      "\n",
      "I have uploaded a data file on BlackBoard in the Week 03 Course Materials called `sho_energy.dat`.  The line contains column headings with units in kelvin.\n",
      "\n",
      "The next set of lines contain quantum Monte Carlo measurements for the kinetic and potential energy of the simple harmonic osscilator at $T = 0.5~\\mathrm{K}$ where $\\hbar \\omega/k_{\\mathrm{B}} = 1$.  The exact answer is known to be:\n",
      "\\begin{equation}\n",
      "E(T) = \\frac{\\hbar \\omega}{2} \\coth \\frac{\\hbar \\omega}{2 k_{\\mathrm{B}} T}.\n",
      "\\end{equation}\n",
      "\n",
      "Download the data file to your computer and write a program that loads the file from disk and computes the average total energy of all lines.  If you have extra time, compare with the exact result."
     ]
    },
    {
     "cell_type": "code",
     "collapsed": false,
     "input": [
      "%load \"Examples/sho_average.py\""
     ],
     "language": "python",
     "metadata": {},
     "outputs": [],
     "prompt_number": 1
    },
    {
     "cell_type": "markdown",
     "metadata": {},
     "source": [
      "## NumPy\n",
      "\n",
      "NumPy is the fundamental package needed for scientific computing with Python. It contains among other things:\n",
      "- a powerful N-dimensional array object \n",
      "- sophisticated and optimized array (broadcasting) functions\n",
      "- tools for integrating C/C++ and Fortran code \n",
      "- useful linear algebra, Fourier transform, and random number capabilities\n",
      "\n",
      "We can import all this functionality using the `import` command.  It is customary to use the shortform `np`"
     ]
    },
    {
     "cell_type": "code",
     "collapsed": false,
     "input": [
      "import numpy as np"
     ],
     "language": "python",
     "metadata": {},
     "outputs": [],
     "prompt_number": 2
    },
    {
     "cell_type": "markdown",
     "metadata": {},
     "source": [
      "NumPy contains array-optimized versions of all the standard library math functions."
     ]
    },
    {
     "cell_type": "code",
     "collapsed": false,
     "input": [
      "print np.sqrt(1.234)\n",
      "\n",
      "# can deal with complex numbers\n",
      "print np.conjugate(1+3j)"
     ],
     "language": "python",
     "metadata": {},
     "outputs": [
      {
       "output_type": "stream",
       "stream": "stdout",
       "text": [
        "1.11085552616\n",
        "(1-3j)\n"
       ]
      }
     ],
     "prompt_number": 6
    },
    {
     "cell_type": "markdown",
     "metadata": {},
     "source": [
      "The most important part of NumPy for us is the array datatype.  We can create arrays using:\n",
      "- python lists\n",
      "- special functions `zeros`, `ones`, `arange`, `linspace`, etc.\n",
      "- directy from files"
     ]
    },
    {
     "cell_type": "markdown",
     "metadata": {},
     "source": [
      "### Creation from lists"
     ]
    },
    {
     "cell_type": "code",
     "collapsed": false,
     "input": [
      "a = np.array([0,1,2,3,4])"
     ],
     "language": "python",
     "metadata": {},
     "outputs": [
      {
       "metadata": {},
       "output_type": "pyout",
       "prompt_number": 9,
       "text": [
        "array([ 0,  1,  4,  9, 16])"
       ]
      }
     ],
     "prompt_number": 9
    },
    {
     "cell_type": "code",
     "collapsed": false,
     "input": [
      "# It will try to dynamically guess\n",
      "# the type unless we specify with \u2018dtype\u2019\n",
      "a = np.array([0,1,2],dtype=float)\n",
      "a"
     ],
     "language": "python",
     "metadata": {},
     "outputs": [
      {
       "metadata": {},
       "output_type": "pyout",
       "prompt_number": 35,
       "text": [
        "array([ 0.,  1.,  2.])"
       ]
      }
     ],
     "prompt_number": 35
    },
    {
     "cell_type": "markdown",
     "metadata": {},
     "source": [
      "<div class=\"row\">\n",
      "<div class=\"span alert alert-error\">\n",
      "Numpy arrays are **statically typed**.  This allows them to be extremely fast with highly optimized array operations.  However, we cannot use them as heterogenous object collections.\n",
      "</div>\n",
      "</div>\n"
     ]
    },
    {
     "cell_type": "code",
     "collapsed": false,
     "input": [
      "a[0] = 'hello'"
     ],
     "language": "python",
     "metadata": {},
     "outputs": [
      {
       "ename": "ValueError",
       "evalue": "could not convert string to float: hello",
       "output_type": "pyerr",
       "traceback": [
        "\u001b[0;31m---------------------------------------------------------------------------\u001b[0m\n\u001b[0;31mValueError\u001b[0m                                Traceback (most recent call last)",
        "\u001b[0;32m<ipython-input-40-e0a44f677ee5>\u001b[0m in \u001b[0;36m<module>\u001b[0;34m()\u001b[0m\n\u001b[0;32m----> 1\u001b[0;31m \u001b[0ma\u001b[0m\u001b[0;34m[\u001b[0m\u001b[0;36m0\u001b[0m\u001b[0;34m]\u001b[0m \u001b[0;34m=\u001b[0m \u001b[0;34m'hello'\u001b[0m\u001b[0;34m\u001b[0m\u001b[0m\n\u001b[0m",
        "\u001b[0;31mValueError\u001b[0m: could not convert string to float: hello"
       ]
      }
     ],
     "prompt_number": 40
    },
    {
     "cell_type": "code",
     "collapsed": false,
     "input": [
      "# use dtype to see the type of an array\n",
      "a.dtype"
     ],
     "language": "python",
     "metadata": {},
     "outputs": [
      {
       "metadata": {},
       "output_type": "pyout",
       "prompt_number": 41,
       "text": [
        "dtype('float64')"
       ]
      }
     ],
     "prompt_number": 41
    },
    {
     "cell_type": "markdown",
     "metadata": {},
     "source": [
      "### Using array creation functions"
     ]
    },
    {
     "cell_type": "code",
     "collapsed": false,
     "input": [
      "# `arange` is like `range` except it can produce lists of floats\n",
      "a = np.arange(0,10,0.5)\n",
      "a"
     ],
     "language": "python",
     "metadata": {},
     "outputs": [
      {
       "metadata": {},
       "output_type": "pyout",
       "prompt_number": 36,
       "text": [
        "array([ 0. ,  0.5,  1. ,  1.5,  2. ,  2.5,  3. ,  3.5,  4. ,  4.5,  5. ,\n",
        "        5.5,  6. ,  6.5,  7. ,  7.5,  8. ,  8.5,  9. ,  9.5])"
       ]
      }
     ],
     "prompt_number": 36
    },
    {
     "cell_type": "code",
     "collapsed": false,
     "input": [
      "# zeros and ones work as expected\n",
      "a0 = np.zeros(10)\n",
      "a1 = np.ones(10)\n",
      "\n",
      "print a0\n",
      "print a1"
     ],
     "language": "python",
     "metadata": {},
     "outputs": [
      {
       "metadata": {},
       "output_type": "pyout",
       "prompt_number": 38,
       "text": [
        "array([ 1.,  1.,  1.,  1.,  1.,  1.,  1.,  1.,  1.,  1.])"
       ]
      }
     ],
     "prompt_number": 38
    },
    {
     "cell_type": "code",
     "collapsed": false,
     "input": [
      "# linspace allows us to divide a region in to N linear pieces\n",
      "a = np.linspace(0,1,10)\n",
      "a"
     ],
     "language": "python",
     "metadata": {},
     "outputs": [
      {
       "metadata": {},
       "output_type": "pyout",
       "prompt_number": 39,
       "text": [
        "array([ 0.        ,  0.11111111,  0.22222222,  0.33333333,  0.44444444,\n",
        "        0.55555556,  0.66666667,  0.77777778,  0.88888889,  1.        ])"
       ]
      }
     ],
     "prompt_number": 39
    },
    {
     "cell_type": "code",
     "collapsed": false,
     "input": [
      "# `logspace` can do the same for exponential functions\n",
      "l = np.logspace(0, 10, 10, base=np.e)\n",
      "l"
     ],
     "language": "python",
     "metadata": {},
     "outputs": [
      {
       "metadata": {},
       "output_type": "pyout",
       "prompt_number": 47,
       "text": [
        "array([  1.00000000e+00,   3.03773178e+00,   9.22781435e+00,\n",
        "         2.80316249e+01,   8.51525577e+01,   2.58670631e+02,\n",
        "         7.85771994e+02,   2.38696456e+03,   7.25095809e+03,\n",
        "         2.20264658e+04])"
       ]
      }
     ],
     "prompt_number": 47
    },
    {
     "cell_type": "markdown",
     "metadata": {},
     "source": [
      "<div class=\"row\">\n",
      "<div class=\"span alert alert-error\">\n",
      "Note that when using linspace, the endpoints are included!!!\n",
      "</div>\n",
      "</div>\n",
      "\n",
      "The numpy routines are **much** faster than the built in python methods"
     ]
    },
    {
     "cell_type": "code",
     "collapsed": false,
     "input": [
      "# making an array of squares\n",
      "%timeit [i**2 for i in range(1000)]"
     ],
     "language": "python",
     "metadata": {},
     "outputs": [
      {
       "output_type": "stream",
       "stream": "stdout",
       "text": [
        "10000 loops, best of 3: 77.9 \u00b5s per loop\n"
       ]
      }
     ],
     "prompt_number": 21
    },
    {
     "cell_type": "code",
     "collapsed": false,
     "input": [
      "%timeit np.arange(1000)**2"
     ],
     "language": "python",
     "metadata": {},
     "outputs": [
      {
       "output_type": "stream",
       "stream": "stdout",
       "text": [
        "100000 loops, best of 3: 3.52 \u00b5s per loop\n"
       ]
      }
     ],
     "prompt_number": 22
    },
    {
     "cell_type": "markdown",
     "metadata": {},
     "source": [
      "### Indexing\n",
      "\n",
      "Works exactly the same as for python lists"
     ]
    },
    {
     "cell_type": "code",
     "collapsed": false,
     "input": [
      "a = np.arange(10)**3\n",
      "print a\n",
      "print a[1]\n",
      "print a[:3]\n",
      "print a[-1:-3:-1]"
     ],
     "language": "python",
     "metadata": {},
     "outputs": [
      {
       "output_type": "stream",
       "stream": "stdout",
       "text": [
        "[  0   1   8  27  64 125 216 343 512 729]\n",
        "1\n",
        "[0 1 8]\n",
        "[729 512]\n"
       ]
      }
     ],
     "prompt_number": 32
    },
    {
     "cell_type": "markdown",
     "metadata": {},
     "source": [
      "## Getting help\n",
      "\n",
      "In addition to the regular help command, numpy has interactive help"
     ]
    },
    {
     "cell_type": "code",
     "collapsed": false,
     "input": [
      "np.lookfor('create array')"
     ],
     "language": "python",
     "metadata": {},
     "outputs": [
      {
       "output_type": "stream",
       "stream": "stdout",
       "text": [
        "Search results for 'create array'\n",
        "---------------------------------\n",
        "numpy.array\n",
        "    Create an array.\n",
        "numpy.memmap\n",
        "    Create a memory-map to an array stored in a *binary* file on disk.\n",
        "numpy.diagflat\n",
        "    Create a two-dimensional array with the flattened input as a diagonal.\n",
        "numpy.fromiter\n",
        "    Create a new 1-dimensional array from an iterable object.\n",
        "numpy.partition\n",
        "    Return a partitioned copy of an array.\n",
        "numpy.ma.diagflat\n",
        "    Create a two-dimensional array with the flattened input as a diagonal.\n",
        "numpy.ctypeslib.as_array\n",
        "    Create a numpy array from a ctypes array or a ctypes POINTER.\n",
        "numpy.ma.make_mask\n",
        "    Create a boolean mask from an array.\n",
        "numpy.ctypeslib.as_ctypes\n",
        "    Create and return a ctypes object from a numpy array.  Actually\n",
        "numpy.ma.mrecords.fromarrays\n",
        "    Creates a mrecarray from a (flat) list of masked arrays.\n",
        "numpy.lib.format.open_memmap\n",
        "    Open a .npy file as a memory-mapped array.\n",
        "numpy.ma.MaskedArray.__new__\n",
        "    Create a new masked array from scratch.\n",
        "numpy.lib.arrayterator.Arrayterator\n",
        "    Buffered iterator for big arrays.\n",
        "numpy.ma.mrecords.fromtextfile\n",
        "    Creates a mrecarray from data stored in the file `filename`.\n",
        "numpy.oldnumeric.ma.fromfunction\n",
        "    apply f to s to create array as in umath.\n",
        "numpy.oldnumeric.ma.masked_object\n",
        "    Create array masked where exactly data equal to value\n",
        "numpy.oldnumeric.ma.masked_values\n",
        "    Create a masked array; mask is nomask if possible.\n",
        "numpy.asarray\n",
        "    Convert the input to an array.\n",
        "numpy.ndarray\n",
        "    ndarray(shape, dtype=float, buffer=None, offset=0,\n",
        "numpy.recarray\n",
        "    Construct an ndarray that allows field access using attributes.\n",
        "numpy.chararray\n",
        "    chararray(shape, itemsize=1, unicode=False, buffer=None, offset=0,\n",
        "numpy.pad\n",
        "    Pads an array.\n",
        "numpy.sum\n",
        "    Sum of array elements over a given axis.\n",
        "numpy.asanyarray\n",
        "    Convert the input to an ndarray, but pass ndarray subclasses through.\n",
        "numpy.copy\n",
        "    Return an array copy of the given object.\n",
        "numpy.diag\n",
        "    Extract a diagonal or construct a diagonal array.\n",
        "numpy.load\n",
        "    Load an array(s) or pickled objects from .npy, .npz, or pickled files.\n",
        "numpy.sort\n",
        "    Return a sorted copy of an array.\n",
        "numpy.array_equiv\n",
        "    Returns True if input arrays are shape consistent and all elements equal.\n",
        "numpy.dtype\n",
        "    Create a data type object.\n",
        "numpy.choose\n",
        "    Construct an array from an index array and a set of arrays to choose from.\n",
        "numpy.nditer\n",
        "    Efficient multi-dimensional iterator object to iterate over arrays.\n",
        "numpy.swapaxes\n",
        "    Interchange two axes of an array.\n",
        "numpy.full_like\n",
        "    Return a full array with the same shape and type as a given array.\n",
        "numpy.ones_like\n",
        "    Return an array of ones with the same shape and type as a given array.\n",
        "numpy.empty_like\n",
        "    Return a new array with the same shape and type as a given array.\n",
        "numpy.zeros_like\n",
        "    Return an array of zeros with the same shape and type as a given array.\n",
        "numpy.asarray_chkfinite\n",
        "    Convert the input to an array, checking for NaNs or Infs.\n",
        "numpy.diag_indices\n",
        "    Return the indices to access the main diagonal of an array.\n",
        "numpy.ma.choose\n",
        "    Use an index array to construct a new array from a set of choices.\n",
        "numpy.chararray.tolist\n",
        "    a.tolist()\n",
        "numpy.matlib.rand\n",
        "    Return a matrix of random values with given shape.\n",
        "numpy.savez_compressed\n",
        "    Save several arrays into a single file in compressed ``.npz`` format.\n",
        "numpy.ma.empty_like\n",
        "    Return a new array with the same shape and type as a given array.\n",
        "numpy.ma.make_mask_none\n",
        "    Return a boolean mask of the given shape, filled with False.\n",
        "numpy.ma.mrecords.fromrecords\n",
        "    Creates a MaskedRecords from a list of records.\n",
        "numpy.around\n",
        "    Evenly round to the given number of decimals.\n",
        "numpy.source\n",
        "    Print or write to a file the source code for a Numpy object.\n",
        "numpy.diagonal\n",
        "    Return specified diagonals.\n",
        "numpy.histogram2d\n",
        "    Compute the bi-dimensional histogram of two data samples.\n",
        "numpy.fft.ifft\n",
        "    Compute the one-dimensional inverse discrete Fourier Transform.\n",
        "numpy.fft.ifftn\n",
        "    Compute the N-dimensional inverse discrete Fourier Transform.\n",
        "numpy.busdaycalendar\n",
        "    A business day calendar object that efficiently stores information"
       ]
      }
     ],
     "prompt_number": 33
    },
    {
     "cell_type": "code",
     "collapsed": false,
     "input": [
      "help(np.diagflat)"
     ],
     "language": "python",
     "metadata": {},
     "outputs": [
      {
       "output_type": "stream",
       "stream": "stdout",
       "text": [
        "Help on function diagflat in module numpy.lib.twodim_base:\n",
        "\n",
        "diagflat(v, k=0)\n",
        "    Create a two-dimensional array with the flattened input as a diagonal.\n",
        "    \n",
        "    Parameters\n",
        "    ----------\n",
        "    v : array_like\n",
        "        Input data, which is flattened and set as the `k`-th\n",
        "        diagonal of the output.\n",
        "    k : int, optional\n",
        "        Diagonal to set; 0, the default, corresponds to the \"main\" diagonal,\n",
        "        a positive (negative) `k` giving the number of the diagonal above\n",
        "        (below) the main.\n",
        "    \n",
        "    Returns\n",
        "    -------\n",
        "    out : ndarray\n",
        "        The 2-D output array.\n",
        "    \n",
        "    See Also\n",
        "    --------\n",
        "    diag : MATLAB work-alike for 1-D and 2-D arrays.\n",
        "    diagonal : Return specified diagonals.\n",
        "    trace : Sum along diagonals.\n",
        "    \n",
        "    Examples\n",
        "    --------\n",
        "    >>> np.diagflat([[1,2], [3,4]])\n",
        "    array([[1, 0, 0, 0],\n",
        "           [0, 2, 0, 0],\n",
        "           [0, 0, 3, 0],\n",
        "           [0, 0, 0, 4]])\n",
        "    \n",
        "    >>> np.diagflat([1,2], 1)\n",
        "    array([[0, 1, 0],\n",
        "           [0, 0, 2],\n",
        "           [0, 0, 0]])\n",
        "\n"
       ]
      }
     ],
     "prompt_number": 34
    },
    {
     "cell_type": "markdown",
     "metadata": {},
     "source": [
      "### Array operations\n",
      "\n",
      "These work on an element-by-element basis, and operate mathematically, unlike python lists"
     ]
    },
    {
     "cell_type": "code",
     "collapsed": false,
     "input": [
      "a1 = np.arange(0.0,2.0*np.pi,np.pi/6)\n",
      "a1"
     ],
     "language": "python",
     "metadata": {},
     "outputs": [
      {
       "metadata": {},
       "output_type": "pyout",
       "prompt_number": 44,
       "text": [
        "array([ 0.        ,  0.52359878,  1.04719755,  1.57079633,  2.0943951 ,\n",
        "        2.61799388,  3.14159265,  3.66519143,  4.1887902 ,  4.71238898,\n",
        "        5.23598776,  5.75958653])"
       ]
      }
     ],
     "prompt_number": 44
    },
    {
     "cell_type": "code",
     "collapsed": false,
     "input": [
      "a1 + a2"
     ],
     "language": "python",
     "metadata": {},
     "outputs": [
      {
       "metadata": {},
       "output_type": "pyout",
       "prompt_number": 45,
       "text": [
        "array([ 1.        ,  1.52359878,  2.04719755,  2.57079633,  3.0943951 ,\n",
        "        3.61799388,  4.14159265,  4.66519143,  5.1887902 ,  5.71238898,\n",
        "        6.23598776,  6.75958653])"
       ]
      }
     ],
     "prompt_number": 45
    },
    {
     "cell_type": "code",
     "collapsed": false,
     "input": [
      "2*(a1+a2)"
     ],
     "language": "python",
     "metadata": {},
     "outputs": [
      {
       "metadata": {},
       "output_type": "pyout",
       "prompt_number": 48,
       "text": [
        "array([  2.        ,   3.04719755,   4.0943951 ,   5.14159265,\n",
        "         6.1887902 ,   7.23598776,   8.28318531,   9.33038286,\n",
        "        10.37758041,  11.42477796,  12.47197551,  13.51917306])"
       ]
      }
     ],
     "prompt_number": 48
    },
    {
     "cell_type": "code",
     "collapsed": false,
     "input": [
      "(a1+a2)**3"
     ],
     "language": "python",
     "metadata": {},
     "outputs": [
      {
       "metadata": {},
       "output_type": "pyout",
       "prompt_number": 52,
       "text": [
        "array([   1.        ,    3.53681094,    8.57984141,   16.99037687,\n",
        "         29.62970278,   47.35910462,   71.03986784,  101.53327791,\n",
        "        139.70062029,  186.40318044,  242.50224383,  308.85909592])"
       ]
      }
     ],
     "prompt_number": 52
    },
    {
     "cell_type": "code",
     "collapsed": false,
     "input": [
      "np.log(a1+a2)"
     ],
     "language": "python",
     "metadata": {},
     "outputs": [
      {
       "metadata": {},
       "output_type": "pyout",
       "prompt_number": 54,
       "text": [
        "array([ 0.        ,  0.42107515,  0.71647181,  0.94421571,  1.12959244,\n",
        "        1.28591969,  1.42108041,  1.54012887,  1.64650057,  1.74263732,\n",
        "        1.83033699,  1.91096172])"
       ]
      }
     ],
     "prompt_number": 54
    },
    {
     "cell_type": "markdown",
     "metadata": {},
     "source": [
      "### Multi-dimensional arrays\n",
      "\n",
      "We can create them with nested lists"
     ]
    },
    {
     "cell_type": "code",
     "collapsed": false,
     "input": [
      "M = np.array([[1,2,3,4],[5,6,7,8]])\n",
      "M"
     ],
     "language": "python",
     "metadata": {},
     "outputs": [
      {
       "metadata": {},
       "output_type": "pyout",
       "prompt_number": 56,
       "text": [
        "array([[1, 2, 3, 4],\n",
        "       [5, 6, 7, 8]])"
       ]
      }
     ],
     "prompt_number": 56
    },
    {
     "cell_type": "code",
     "collapsed": false,
     "input": [
      "# `shape` gives us information about an array\n",
      "M.shape"
     ],
     "language": "python",
     "metadata": {},
     "outputs": [
      {
       "metadata": {},
       "output_type": "pyout",
       "prompt_number": 57,
       "text": [
        "(2, 4)"
       ]
      }
     ],
     "prompt_number": 57
    },
    {
     "cell_type": "code",
     "collapsed": false,
     "input": [
      "# while `size` gives us the total number of elements\n",
      "M.size"
     ],
     "language": "python",
     "metadata": {},
     "outputs": [
      {
       "metadata": {},
       "output_type": "pyout",
       "prompt_number": 60,
       "text": [
        "8"
       ]
      }
     ],
     "prompt_number": 60
    },
    {
     "cell_type": "code",
     "collapsed": false,
     "input": [
      "# index using a simple list of indices\n",
      "M[1,3]"
     ],
     "language": "python",
     "metadata": {},
     "outputs": [
      {
       "metadata": {},
       "output_type": "pyout",
       "prompt_number": 65,
       "text": [
        "8"
       ]
      }
     ],
     "prompt_number": 65
    },
    {
     "cell_type": "markdown",
     "metadata": {},
     "source": [
      "We can pass our array creation functions the size of a desired multi-dimensional array"
     ]
    },
    {
     "cell_type": "code",
     "collapsed": false,
     "input": [
      "M1 = np.ones([3,3])\n",
      "M1"
     ],
     "language": "python",
     "metadata": {},
     "outputs": [
      {
       "metadata": {},
       "output_type": "pyout",
       "prompt_number": 63,
       "text": [
        "array([[ 1.,  1.,  1.],\n",
        "       [ 1.,  1.,  1.],\n",
        "       [ 1.,  1.,  1.]])"
       ]
      }
     ],
     "prompt_number": 63
    },
    {
     "cell_type": "code",
     "collapsed": false,
     "input": [
      "# can go beyond matrices\n",
      "M0 = np.zeros([3,3,3])\n",
      "M0"
     ],
     "language": "python",
     "metadata": {},
     "outputs": [
      {
       "metadata": {},
       "output_type": "pyout",
       "prompt_number": 71,
       "text": [
        "array([[[ 0.,  0.,  0.],\n",
        "        [ 0.,  0.,  0.],\n",
        "        [ 0.,  0.,  0.]],\n",
        "\n",
        "       [[ 0.,  0.,  0.],\n",
        "        [ 0.,  0.,  0.],\n",
        "        [ 0.,  0.,  0.]],\n",
        "\n",
        "       [[ 0.,  0.,  0.],\n",
        "        [ 0.,  0.,  0.],\n",
        "        [ 0.,  0.,  0.]]])"
       ]
      }
     ],
     "prompt_number": 71
    },
    {
     "cell_type": "code",
     "collapsed": false,
     "input": [
      "# there are some speical matrix creaters\n",
      "II = np.identity(4)\n",
      "II"
     ],
     "language": "python",
     "metadata": {},
     "outputs": [
      {
       "metadata": {},
       "output_type": "pyout",
       "prompt_number": 76,
       "text": [
        "array([[ 1.,  0.,  0.,  0.],\n",
        "       [ 0.,  1.,  0.,  0.],\n",
        "       [ 0.,  0.,  1.,  0.],\n",
        "       [ 0.,  0.,  0.,  1.]])"
       ]
      }
     ],
     "prompt_number": 76
    },
    {
     "cell_type": "markdown",
     "metadata": {},
     "source": [
      "<div class=\"row\">\n",
      "<div class=\"span alert alert-info\">\n",
      "<h2> Programming Challenge</h2>\n",
      "<h3> Create the following 5x5 matrix </h3>\n",
      "</div>\n",
      "</div>\n",
      "\n",
      "<table>\n",
      "  <tr>\n",
      "    <td >0</td>\n",
      "    <td>1</td>\n",
      "    <td >2</td>\n",
      "    <td >3</td>\n",
      "    <td >4</td>\n",
      "  </tr>\n",
      "  <tr>\n",
      "    <td class=\"tg-s6z2\">10</td>\n",
      "    <td class=\"tg-031e\">11</td>\n",
      "    <td class=\"tg-031e\">12</td>\n",
      "    <td class=\"tg-031e\">13</td>\n",
      "    <td class=\"tg-031e\">14</td>\n",
      "  </tr>\n",
      "  <tr>\n",
      "    <td class=\"tg-s6z2\">20</td>\n",
      "    <td class=\"tg-031e\">21</td>\n",
      "    <td class=\"tg-031e\">22</td>\n",
      "    <td class=\"tg-031e\">23</td>\n",
      "    <td class=\"tg-031e\">24</td>\n",
      "  </tr>\n",
      "  <tr>\n",
      "    <td class=\"tg-s6z2\">30</td>\n",
      "    <td class=\"tg-031e\">31</td>\n",
      "    <td class=\"tg-031e\">32</td>\n",
      "    <td class=\"tg-031e\">33</td>\n",
      "    <td class=\"tg-031e\">34</td>\n",
      "  </tr>\n",
      "  <tr>\n",
      "    <td class=\"tg-s6z2\">40</td>\n",
      "    <td class=\"tg-031e\">41</td>\n",
      "    <td class=\"tg-031e\">42</td>\n",
      "    <td class=\"tg-031e\">43</td>\n",
      "    <td class=\"tg-031e\">44</td>\n",
      "  </tr>\n",
      "</table>\n",
      "\n",
      "<!--\n",
      "M = np.array([[10*j+i for i in range(5)] for j in range(5)])\n",
      "-->"
     ]
    },
    {
     "cell_type": "markdown",
     "metadata": {},
     "source": [
      "### Matrix slicing"
     ]
    },
    {
     "cell_type": "code",
     "collapsed": false,
     "input": [
      "M[0,2:4]"
     ],
     "language": "python",
     "metadata": {},
     "outputs": [
      {
       "metadata": {},
       "output_type": "pyout",
       "prompt_number": 81,
       "text": [
        "array([2, 3])"
       ]
      }
     ],
     "prompt_number": 81
    },
    {
     "cell_type": "code",
     "collapsed": false,
     "input": [
      "M[1:3,1:3]"
     ],
     "language": "python",
     "metadata": {},
     "outputs": [
      {
       "metadata": {},
       "output_type": "pyout",
       "prompt_number": 82,
       "text": [
        "array([[11, 12],\n",
        "       [21, 22]])"
       ]
      }
     ],
     "prompt_number": 82
    },
    {
     "cell_type": "code",
     "collapsed": false,
     "input": [
      "M[:,2]"
     ],
     "language": "python",
     "metadata": {},
     "outputs": [
      {
       "metadata": {},
       "output_type": "pyout",
       "prompt_number": 83,
       "text": [
        "array([ 2, 12, 22, 32, 42])"
       ]
      }
     ],
     "prompt_number": 83
    },
    {
     "cell_type": "code",
     "collapsed": false,
     "input": [
      "M[2::2,::3]"
     ],
     "language": "python",
     "metadata": {},
     "outputs": [
      {
       "metadata": {},
       "output_type": "pyout",
       "prompt_number": 84,
       "text": [
        "array([[20, 23],\n",
        "       [40, 43]])"
       ]
      }
     ],
     "prompt_number": 84
    },
    {
     "cell_type": "markdown",
     "metadata": {},
     "source": [
      "<div class=\"row\">\n",
      "<div class=\"span alert alert-error\">\n",
      "Slices are references to memory in the original array.  If any slice changs, the data in the array will change.\n",
      "</div>\n",
      "</div>"
     ]
    },
    {
     "cell_type": "code",
     "collapsed": false,
     "input": [
      "M[2::2,::3] = -1000\n",
      "M"
     ],
     "language": "python",
     "metadata": {},
     "outputs": [
      {
       "metadata": {},
       "output_type": "pyout",
       "prompt_number": 86,
       "text": [
        "array([[    0,     1,     2,     3,     4],\n",
        "       [   10,    11,    12,    13,    14],\n",
        "       [-1000,    21,    22, -1000,    24],\n",
        "       [   30,    31,    32,    33,    34],\n",
        "       [-1000,    41,    42, -1000,    44]])"
       ]
      }
     ],
     "prompt_number": 86
    },
    {
     "cell_type": "markdown",
     "metadata": {},
     "source": [
      "We need to use copies to avoid this problem"
     ]
    },
    {
     "cell_type": "code",
     "collapsed": false,
     "input": [
      "M2 = np.copy(M)\n",
      "M2"
     ],
     "language": "python",
     "metadata": {},
     "outputs": [
      {
       "metadata": {},
       "output_type": "pyout",
       "prompt_number": 88,
       "text": [
        "array([[    0,     1,     2,     3,     4],\n",
        "       [   10,    11,    12,    13,    14],\n",
        "       [-1000,    21,    22, -1000,    24],\n",
        "       [   30,    31,    32,    33,    34],\n",
        "       [-1000,    41,    42, -1000,    44]])"
       ]
      }
     ],
     "prompt_number": 88
    },
    {
     "cell_type": "code",
     "collapsed": false,
     "input": [
      "M2[2::2,::3] = 1000\n",
      "M2"
     ],
     "language": "python",
     "metadata": {},
     "outputs": [
      {
       "metadata": {},
       "output_type": "pyout",
       "prompt_number": 89,
       "text": [
        "array([[   0,    1,    2,    3,    4],\n",
        "       [  10,   11,   12,   13,   14],\n",
        "       [1000,   21,   22, 1000,   24],\n",
        "       [  30,   31,   32,   33,   34],\n",
        "       [1000,   41,   42, 1000,   44]])"
       ]
      }
     ],
     "prompt_number": 89
    },
    {
     "cell_type": "code",
     "collapsed": false,
     "input": [
      "M"
     ],
     "language": "python",
     "metadata": {},
     "outputs": [
      {
       "metadata": {},
       "output_type": "pyout",
       "prompt_number": 90,
       "text": [
        "array([[    0,     1,     2,     3,     4],\n",
        "       [   10,    11,    12,    13,    14],\n",
        "       [-1000,    21,    22, -1000,    24],\n",
        "       [   30,    31,    32,    33,    34],\n",
        "       [-1000,    41,    42, -1000,    44]])"
       ]
      }
     ],
     "prompt_number": 90
    },
    {
     "cell_type": "markdown",
     "metadata": {},
     "source": [
      "### Reading/Writing arrays to/from disk\n",
      "\n",
      "We can use np.loadtxt() and np.savetxt() to drastically simplify numerical file input/output.  Let's redo our programming challenge with numpy"
     ]
    },
    {
     "cell_type": "code",
     "collapsed": false,
     "input": [
      "# loadtxt ignores comments with '#' by default\n",
      "data = np.loadtxt('Examples/sho_energy.dat')\n",
      "\n",
      "# construct the total energy\n",
      "energy = data[:,0] + data[:,1]\n",
      "\n",
      "# Compute the average along the '0th' axis, rows here\n",
      "ave_energy = np.average(energy,0)\n",
      "\n",
      "# compute the standard deviation\n",
      "std_energy = np.std(energy,0)\n",
      "\n",
      "# Output the results\n",
      "print '%16s\\t%16s' % ('Average Energy','Std. Deviation')\n",
      "print '%16.8f\\t%16.8f' % (ave_energy,std_energy)"
     ],
     "language": "python",
     "metadata": {},
     "outputs": [
      {
       "output_type": "stream",
       "stream": "stdout",
       "text": [
        "  Average Energy\t  Std. Deviation\n",
        "      0.66699128\t      0.11669583\n"
       ]
      }
     ],
     "prompt_number": 94
    },
    {
     "cell_type": "code",
     "collapsed": false,
     "input": [],
     "language": "python",
     "metadata": {},
     "outputs": []
    }
   ],
   "metadata": {}
  }
 ]
}