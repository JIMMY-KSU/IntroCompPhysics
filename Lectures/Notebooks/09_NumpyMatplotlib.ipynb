{
 "metadata": {
  "name": "",
  "signature": "sha256:29a17aea7e9cae8954dfb7b9aef6504d1aede2ea4e4d861054426f3f4d399a75"
 },
 "nbformat": 3,
 "nbformat_minor": 0,
 "worksheets": [
  {
   "cells": [
    {
     "cell_type": "markdown",
     "metadata": {},
     "source": [
      "# Physics 296\n",
      "## Lecture 08 - More Numpy and Matplotlib"
     ]
    },
    {
     "cell_type": "markdown",
     "metadata": {},
     "source": [
      "<img src=\"http://matplotlib.org/_static/logo2.png\" width=400px>"
     ]
    },
    {
     "cell_type": "markdown",
     "metadata": {},
     "source": [
      "## Last Time\n",
      "\n",
      "- reading and writing numerical data to files\n",
      "- an introduction to numpy arrays\n",
      "\n",
      "## Today\n",
      "- multidimensional arrays with numpy\n",
      "- introduction to plotting with matplotlib\n"
     ]
    },
    {
     "cell_type": "markdown",
     "metadata": {},
     "source": [
      "## NumPy\n",
      "\n",
      "Recall: NumPy is the fundamental package needed for scientific computing with Python. It contains among other things:\n",
      "- a powerful N-dimensional array object \n",
      "- sophisticated and optimized array (broadcasting) functions\n",
      "- tools for integrating C/C++ and Fortran code \n",
      "- useful linear algebra, Fourier transform, and random number capabilities\n",
      "\n",
      "We can import all this functionality using the `import` command.  It is customary to use the shortform `np`"
     ]
    },
    {
     "cell_type": "code",
     "collapsed": false,
     "input": [
      "import numpy as np"
     ],
     "language": "python",
     "metadata": {},
     "outputs": [],
     "prompt_number": 2
    },
    {
     "cell_type": "markdown",
     "metadata": {},
     "source": [
      "### Multi-dimensional arrays\n",
      "\n",
      "We can create them with nested lists"
     ]
    },
    {
     "cell_type": "code",
     "collapsed": false,
     "input": [
      "M = np.array([[1,2,3,4],[5,6,7,8]])\n",
      "M"
     ],
     "language": "python",
     "metadata": {},
     "outputs": [
      {
       "metadata": {},
       "output_type": "pyout",
       "prompt_number": 3,
       "text": [
        "array([[1, 2, 3, 4],\n",
        "       [5, 6, 7, 8]])"
       ]
      }
     ],
     "prompt_number": 3
    },
    {
     "cell_type": "code",
     "collapsed": false,
     "input": [
      "# `shape` gives us information about an array\n",
      "M.shape"
     ],
     "language": "python",
     "metadata": {},
     "outputs": [
      {
       "metadata": {},
       "output_type": "pyout",
       "prompt_number": 4,
       "text": [
        "(2, 4)"
       ]
      }
     ],
     "prompt_number": 4
    },
    {
     "cell_type": "code",
     "collapsed": false,
     "input": [
      "# while `size` gives us the total number of elements\n",
      "M.size"
     ],
     "language": "python",
     "metadata": {},
     "outputs": [
      {
       "metadata": {},
       "output_type": "pyout",
       "prompt_number": 5,
       "text": [
        "8"
       ]
      }
     ],
     "prompt_number": 5
    },
    {
     "cell_type": "code",
     "collapsed": false,
     "input": [
      "# index using a simple list of indices\n",
      "M[1,3]"
     ],
     "language": "python",
     "metadata": {},
     "outputs": []
    },
    {
     "cell_type": "markdown",
     "metadata": {},
     "source": [
      "We can pass our array creation functions the size of a desired multi-dimensional array"
     ]
    },
    {
     "cell_type": "code",
     "collapsed": false,
     "input": [
      "M1 = np.ones([3,3])\n",
      "M1"
     ],
     "language": "python",
     "metadata": {},
     "outputs": []
    },
    {
     "cell_type": "code",
     "collapsed": false,
     "input": [
      "# can go beyond matrices\n",
      "M0 = np.zeros([3,3,3])\n",
      "M0"
     ],
     "language": "python",
     "metadata": {},
     "outputs": []
    },
    {
     "cell_type": "code",
     "collapsed": false,
     "input": [
      "# there are some speical matrix creaters\n",
      "II = np.identity(4)\n",
      "II"
     ],
     "language": "python",
     "metadata": {},
     "outputs": [
      {
       "metadata": {},
       "output_type": "pyout",
       "prompt_number": 6,
       "text": [
        "array([[ 1.,  0.,  0.,  0.],\n",
        "       [ 0.,  1.,  0.,  0.],\n",
        "       [ 0.,  0.,  1.,  0.],\n",
        "       [ 0.,  0.,  0.,  1.]])"
       ]
      }
     ],
     "prompt_number": 6
    },
    {
     "cell_type": "markdown",
     "metadata": {},
     "source": [
      "<div class=\"row\">\n",
      "<div class=\"span alert alert-info\">\n",
      "<h2> Programming Challenge</h2>\n",
      "<h3> Create the following 5x5 matrix </h3>\n",
      "</div>\n",
      "</div>\n",
      "\n",
      "<table>\n",
      "  <tr>\n",
      "    <td >0</td>\n",
      "    <td>1</td>\n",
      "    <td >2</td>\n",
      "    <td >3</td>\n",
      "    <td >4</td>\n",
      "  </tr>\n",
      "  <tr>\n",
      "    <td class=\"tg-s6z2\">10</td>\n",
      "    <td class=\"tg-031e\">11</td>\n",
      "    <td class=\"tg-031e\">12</td>\n",
      "    <td class=\"tg-031e\">13</td>\n",
      "    <td class=\"tg-031e\">14</td>\n",
      "  </tr>\n",
      "  <tr>\n",
      "    <td class=\"tg-s6z2\">20</td>\n",
      "    <td class=\"tg-031e\">21</td>\n",
      "    <td class=\"tg-031e\">22</td>\n",
      "    <td class=\"tg-031e\">23</td>\n",
      "    <td class=\"tg-031e\">24</td>\n",
      "  </tr>\n",
      "  <tr>\n",
      "    <td class=\"tg-s6z2\">30</td>\n",
      "    <td class=\"tg-031e\">31</td>\n",
      "    <td class=\"tg-031e\">32</td>\n",
      "    <td class=\"tg-031e\">33</td>\n",
      "    <td class=\"tg-031e\">34</td>\n",
      "  </tr>\n",
      "  <tr>\n",
      "    <td class=\"tg-s6z2\">40</td>\n",
      "    <td class=\"tg-031e\">41</td>\n",
      "    <td class=\"tg-031e\">42</td>\n",
      "    <td class=\"tg-031e\">43</td>\n",
      "    <td class=\"tg-031e\">44</td>\n",
      "  </tr>\n",
      "</table>\n",
      "\n",
      "<!--\n",
      "M = np.array([[10*j+i for i in range(5)] for j in range(5)])\n",
      "-->"
     ]
    },
    {
     "cell_type": "markdown",
     "metadata": {},
     "source": [
      "### Matrix slicing"
     ]
    },
    {
     "cell_type": "code",
     "collapsed": false,
     "input": [
      "M[0,2:4]"
     ],
     "language": "python",
     "metadata": {},
     "outputs": []
    },
    {
     "cell_type": "code",
     "collapsed": false,
     "input": [
      "M[1:3,1:3]"
     ],
     "language": "python",
     "metadata": {},
     "outputs": []
    },
    {
     "cell_type": "code",
     "collapsed": false,
     "input": [
      "M[:,2]"
     ],
     "language": "python",
     "metadata": {},
     "outputs": []
    },
    {
     "cell_type": "code",
     "collapsed": false,
     "input": [
      "M[2::2,::3]"
     ],
     "language": "python",
     "metadata": {},
     "outputs": []
    },
    {
     "cell_type": "markdown",
     "metadata": {},
     "source": [
      "<div class=\"row\">\n",
      "<div class=\"span alert alert-error\">\n",
      "Slices are references to memory in the original array.  If any slice changs, the data in the array will change.\n",
      "</div>\n",
      "</div>"
     ]
    },
    {
     "cell_type": "code",
     "collapsed": false,
     "input": [
      "M[2::2,::3] = -1000\n",
      "M"
     ],
     "language": "python",
     "metadata": {},
     "outputs": []
    },
    {
     "cell_type": "markdown",
     "metadata": {},
     "source": [
      "We need to use copies to avoid this problem"
     ]
    },
    {
     "cell_type": "code",
     "collapsed": false,
     "input": [
      "M2 = np.copy(M)\n",
      "M2"
     ],
     "language": "python",
     "metadata": {},
     "outputs": []
    },
    {
     "cell_type": "code",
     "collapsed": false,
     "input": [
      "M2[2::2,::3] = 1000\n",
      "M2"
     ],
     "language": "python",
     "metadata": {},
     "outputs": []
    },
    {
     "cell_type": "code",
     "collapsed": false,
     "input": [
      "M"
     ],
     "language": "python",
     "metadata": {},
     "outputs": []
    },
    {
     "cell_type": "markdown",
     "metadata": {},
     "source": [
      "### Reading/Writing arrays to/from disk\n",
      "\n",
      "We can use np.loadtxt() and np.savetxt() to drastically simplify numerical file input/output.  Let's redo our programming challenge with numpy"
     ]
    },
    {
     "cell_type": "code",
     "collapsed": false,
     "input": [
      "# loadtxt ignores comments with '#' by default\n",
      "data = np.loadtxt('Examples/sho_energy.dat')\n",
      "\n",
      "# construct the total energy\n",
      "energy = data[:,0] + data[:,1]\n",
      "\n",
      "# Compute the average along the '0th' axis, rows here\n",
      "ave_energy = np.average(energy,0)\n",
      "\n",
      "# compute the standard deviation\n",
      "std_energy = np.std(energy,0)\n",
      "\n",
      "# Output the results\n",
      "print '%16s\\t%16s' % ('Average Energy','Std. Deviation')\n",
      "print '%16.8f\\t%16.8f' % (ave_energy,std_energy)"
     ],
     "language": "python",
     "metadata": {},
     "outputs": []
    },
    {
     "cell_type": "markdown",
     "metadata": {},
     "source": [
      "## Matplotlib\n",
      "\n",
      "This is an extremely flexible plotting library that can do almost everything we need from simple 1d plots, to matrices of supbplots, 3d plots and animations with full support for LaTeX.  It was created by John Hunter as a replacement for matlab, so many of the command may be familiar to you already.\n",
      "\n",
      "<img src=\"http://matplotlib.org/_static/John-hunter-crop-2.jpg\">\n",
      "\n",
      "<blockquote>\n",
      "Matplotlib tries to make easy things easy and hard things possible.\n",
      "  -- John Hunter\n",
      "</blockquote>\n",
      "\n",
      "Nobody can memorize all the configuration options and plot types.  Plan to make heavy use of the example code on the matplotlib website:\n",
      "\n",
      "http://matplotlib.org\n",
      "\n",
      "There are many different ways to import it.  It is conventional to use:"
     ]
    },
    {
     "cell_type": "code",
     "collapsed": false,
     "input": [
      "import matplotlib.pyplot as plt"
     ],
     "language": "python",
     "metadata": {},
     "outputs": [],
     "prompt_number": 5
    },
    {
     "cell_type": "markdown",
     "metadata": {},
     "source": [
      "Historically (I still do this sometimes) people used `import pylab as pl` which is a convenicnce module that imports both pyplot and numpy in one package.  It is better programming form to use:\n",
      "\n",
      "    import numpy as np\n",
      "    import matplotlib.pyplot as plt\n",
      "\n",
      "as there is no guarentee that as `numpy` continues to evolve, all its latest features will be in pylab.\n",
      "\n",
      "If you are using the iPython notebook, you can have plots displayed inline using an iPython magic:"
     ]
    },
    {
     "cell_type": "code",
     "collapsed": false,
     "input": [
      "%matplotlib inline"
     ],
     "language": "python",
     "metadata": {},
     "outputs": [],
     "prompt_number": 6
    },
    {
     "cell_type": "markdown",
     "metadata": {},
     "source": [
      "If you are writing scripts or using canopy, you will need to explicitly type the `plt.show()` command to see a plot appear.\n",
      "\n",
      "<div class=\"row\">\n",
      "<div class=\"span alert alert-error\">\n",
      "The default backend (GUI display) will differ depending on your OS.  Some may draw the plot to the screen without the use of the `show` command, but it is good practice to use it.\n",
      "</div>\n",
      "</div>"
     ]
    },
    {
     "cell_type": "markdown",
     "metadata": {},
     "source": [
      "### Basic plotting "
     ]
    },
    {
     "cell_type": "code",
     "collapsed": false,
     "input": [
      "# Our first plot, a list\n",
      "plt.plot([0,1,4,9,15])"
     ],
     "language": "python",
     "metadata": {},
     "outputs": [
      {
       "metadata": {},
       "output_type": "pyout",
       "prompt_number": 4,
       "text": [
        "[<matplotlib.lines.Line2D at 0x104542610>]"
       ]
      },
      {
       "metadata": {},
       "output_type": "display_data",
       "png": "[encoded data removed]",
       "text": [
        "<matplotlib.figure.Figure at 0x10449a150>"
       ]
      }
     ],
     "prompt_number": 4
    },
    {
     "cell_type": "markdown",
     "metadata": {},
     "source": [
      "Providing a single list to `plot()` causes the x-axis to be taken as the integer indices of the list."
     ]
    },
    {
     "cell_type": "code",
     "collapsed": false,
     "input": [
      "# can use all the python tricks we have learned so far\n",
      "x = range(6)\n",
      "plt.plot(x,[xi**2 for xi in x])"
     ],
     "language": "python",
     "metadata": {},
     "outputs": [
      {
       "metadata": {},
       "output_type": "pyout",
       "prompt_number": 7,
       "text": [
        "[<matplotlib.lines.Line2D at 0x10482c690>]"
       ]
      },
      {
       "metadata": {},
       "output_type": "display_data",
       "png": "[encoded data removed]",
       "text": [
        "<matplotlib.figure.Figure at 0x104818810>"
       ]
      }
     ],
     "prompt_number": 7
    },
    {
     "cell_type": "code",
     "collapsed": false,
     "input": [
      "# We can use numpy array operations to simplify things\n",
      "x = np.arange(0,6,0.001)\n",
      "plt.plot(x,x**2)"
     ],
     "language": "python",
     "metadata": {},
     "outputs": [
      {
       "metadata": {},
       "output_type": "pyout",
       "prompt_number": 7,
       "text": [
        "[<matplotlib.lines.Line2D at 0x10bcf8990>]"
       ]
      },
      {
       "metadata": {},
       "output_type": "display_data",
       "png": "[encoded data removed]",
       "text": [
        "<matplotlib.figure.Figure at 0x10bc525d0>"
       ]
      }
     ],
     "prompt_number": 7
    },
    {
     "cell_type": "markdown",
     "metadata": {},
     "source": [
      "### Combining data\n",
      "\n",
      "Until we explicitly issue the `show()` command or shange the figure number with `figure(num=?)` all data will be included on the same plot"
     ]
    },
    {
     "cell_type": "code",
     "collapsed": false,
     "input": [
      "plt.figure(num=3)\n",
      "plt.plot(x,x**1.5)\n",
      "plt.plot(x,x**2)\n",
      "plt.plot(x,x**2.5)"
     ],
     "language": "python",
     "metadata": {},
     "outputs": [
      {
       "metadata": {},
       "output_type": "pyout",
       "prompt_number": 13,
       "text": [
        "[<matplotlib.lines.Line2D at 0x104f74d50>]"
       ]
      },
      {
       "metadata": {},
       "output_type": "display_data",
       "png": "[encoded data removed]",
       "text": [
        "<matplotlib.figure.Figure at 0x104e79bd0>"
       ]
      }
     ],
     "prompt_number": 13
    },
    {
     "cell_type": "code",
     "collapsed": false,
     "input": [
      "# we could have included them all in a single line\n",
      "plt.plot(x,x**1.5,x,x**2,x,x**2.5)"
     ],
     "language": "python",
     "metadata": {},
     "outputs": [
      {
       "metadata": {},
       "output_type": "pyout",
       "prompt_number": 14,
       "text": [
        "[<matplotlib.lines.Line2D at 0x104eb3410>,\n",
        " <matplotlib.lines.Line2D at 0x1050b9110>,\n",
        " <matplotlib.lines.Line2D at 0x1050b97d0>]"
       ]
      },
      {
       "metadata": {},
       "output_type": "display_data",
       "png": "[encoded data removed]",
       "text": [
        "<matplotlib.figure.Figure at 0x104d57dd0>"
       ]
      }
     ],
     "prompt_number": 14
    },
    {
     "cell_type": "markdown",
     "metadata": {},
     "source": [
      "### Customizing\n",
      "\n",
      "There are multitudinous ways to customize the look of yoru plots"
     ]
    },
    {
     "cell_type": "code",
     "collapsed": false,
     "input": [
      "# grids\n",
      "plt.plot(x,0*x,x,x,x,-x)\n",
      "plt.grid(True)"
     ],
     "language": "python",
     "metadata": {},
     "outputs": [
      {
       "metadata": {},
       "output_type": "display_data",
       "png": "[encoded data removed]",
       "text": [
        "<matplotlib.figure.Figure at 0x1051ac150>"
       ]
      }
     ],
     "prompt_number": 16
    },
    {
     "cell_type": "code",
     "collapsed": false,
     "input": [
      "# specifying axes bounds, labels and titles\n",
      "y = x - 4*x**2 + x**3\n",
      "plt.plot(x,y)\n",
      "plt.xlim(1,3)\n",
      "plt.ylim(-8,0)\n",
      "plt.xlabel('x')\n",
      "plt.ylabel('y')\n",
      "plt.title(r'$y = x - 4x^2 + x^3$')"
     ],
     "language": "python",
     "metadata": {},
     "outputs": [
      {
       "metadata": {},
       "output_type": "pyout",
       "prompt_number": 9,
       "text": [
        "<matplotlib.text.Text at 0x10bea6850>"
       ]
      },
      {
       "metadata": {},
       "output_type": "display_data",
       "png": "[encoded data removed]",
       "text": [
        "<matplotlib.figure.Figure at 0x10be13c10>"
       ]
      }
     ],
     "prompt_number": 9
    },
    {
     "cell_type": "code",
     "collapsed": false,
     "input": [
      "# adding a legend\n",
      "plt.plot(x,0*x,label=r'$y=0$')\n",
      "plt.plot(x,y,label=r'$y=x-4x^2+x^3$')\n",
      "plt.plot(x,-y,label=r'$y=-x+4x^2-x^3$')\n",
      "plt.ylim(-20,20)\n",
      "plt.legend(loc='upper left', fontsize=13)"
     ],
     "language": "python",
     "metadata": {},
     "outputs": [
      {
       "metadata": {},
       "output_type": "pyout",
       "prompt_number": 28,
       "text": [
        "<matplotlib.legend.Legend at 0x10601ee50>"
       ]
      },
      {
       "metadata": {},
       "output_type": "display_data",
       "png": "[encoded data removed]",
       "text": [
        "<matplotlib.figure.Figure at 0x105f6a550>"
       ]
      }
     ],
     "prompt_number": 28
    },
    {
     "cell_type": "markdown",
     "metadata": {},
     "source": [
      "`legend` locations are: \u2018best\u2019, \u2018upper right\u2019, \u2018upper left\u2019, \u2018lower left\u2019, \u2018lower right\u2019, \u2018right\u2019, \u2018center left\u2019, \u2018center right\u2019, \u2018lower center\u2019, \u2018upper center\u2019 and \u2018center\u2019\n",
      "\n",
      "<div class=\"row\">\n",
      "<div class=\"span alert alert-success\">\n",
      "If any label argument is set to the literal string `_nolegend_`, then\n",
      "that line is excluded from the legend.</div>\n",
      "</div>"
     ]
    },
    {
     "cell_type": "code",
     "collapsed": false,
     "input": [
      "plt.plot(x,0*x,label='_nolegend_')\n",
      "plt.plot(x,y,label=r'$y=x-4x^2+x^3$')\n",
      "plt.plot(x,-y,label=r'$y=-x+4x^2-x^3$')\n",
      "plt.ylim(-20,20)\n",
      "plt.legend(loc='upper left', fontsize=13)"
     ],
     "language": "python",
     "metadata": {},
     "outputs": [
      {
       "ename": "NameError",
       "evalue": "name 'plt' is not defined",
       "output_type": "pyerr",
       "traceback": [
        "\u001b[0;31m---------------------------------------------------------------------------\u001b[0m\n\u001b[0;31mNameError\u001b[0m                                 Traceback (most recent call last)",
        "\u001b[0;32m<ipython-input-7-74d54812336c>\u001b[0m in \u001b[0;36m<module>\u001b[0;34m()\u001b[0m\n\u001b[0;32m----> 1\u001b[0;31m \u001b[0mplt\u001b[0m\u001b[0;34m.\u001b[0m\u001b[0mplot\u001b[0m\u001b[0;34m(\u001b[0m\u001b[0mx\u001b[0m\u001b[0;34m,\u001b[0m\u001b[0;36m0\u001b[0m\u001b[0;34m*\u001b[0m\u001b[0mx\u001b[0m\u001b[0;34m,\u001b[0m\u001b[0mlabel\u001b[0m\u001b[0;34m=\u001b[0m\u001b[0;34m'_nolegend_'\u001b[0m\u001b[0;34m)\u001b[0m\u001b[0;34m\u001b[0m\u001b[0m\n\u001b[0m\u001b[1;32m      2\u001b[0m \u001b[0mplt\u001b[0m\u001b[0;34m.\u001b[0m\u001b[0mplot\u001b[0m\u001b[0;34m(\u001b[0m\u001b[0mx\u001b[0m\u001b[0;34m,\u001b[0m\u001b[0my\u001b[0m\u001b[0;34m,\u001b[0m\u001b[0mlabel\u001b[0m\u001b[0;34m=\u001b[0m\u001b[0;34mr'$y=x-4x^2+x^3$'\u001b[0m\u001b[0;34m)\u001b[0m\u001b[0;34m\u001b[0m\u001b[0m\n\u001b[1;32m      3\u001b[0m \u001b[0mplt\u001b[0m\u001b[0;34m.\u001b[0m\u001b[0mplot\u001b[0m\u001b[0;34m(\u001b[0m\u001b[0mx\u001b[0m\u001b[0;34m,\u001b[0m\u001b[0;34m-\u001b[0m\u001b[0my\u001b[0m\u001b[0;34m,\u001b[0m\u001b[0mlabel\u001b[0m\u001b[0;34m=\u001b[0m\u001b[0;34mr'$y=-x+4x^2-x^3$'\u001b[0m\u001b[0;34m)\u001b[0m\u001b[0;34m\u001b[0m\u001b[0m\n\u001b[1;32m      4\u001b[0m \u001b[0mplt\u001b[0m\u001b[0;34m.\u001b[0m\u001b[0mylim\u001b[0m\u001b[0;34m(\u001b[0m\u001b[0;34m-\u001b[0m\u001b[0;36m20\u001b[0m\u001b[0;34m,\u001b[0m\u001b[0;36m20\u001b[0m\u001b[0;34m)\u001b[0m\u001b[0;34m\u001b[0m\u001b[0m\n\u001b[1;32m      5\u001b[0m \u001b[0mplt\u001b[0m\u001b[0;34m.\u001b[0m\u001b[0mlegend\u001b[0m\u001b[0;34m(\u001b[0m\u001b[0mloc\u001b[0m\u001b[0;34m=\u001b[0m\u001b[0;34m'upper left'\u001b[0m\u001b[0;34m,\u001b[0m \u001b[0mfontsize\u001b[0m\u001b[0;34m=\u001b[0m\u001b[0;36m13\u001b[0m\u001b[0;34m)\u001b[0m\u001b[0;34m\u001b[0m\u001b[0m\n",
        "\u001b[0;31mNameError\u001b[0m: name 'plt' is not defined"
       ]
      }
     ],
     "prompt_number": 7
    },
    {
     "cell_type": "markdown",
     "metadata": {},
     "source": [
      "<div class=\"row\">\n",
      "<div class=\"span alert alert-success\">\n",
      "Note the use of LaTeX in the legend.  This works in all captions and labels by using raw strings with $$</div>\n",
      "</div>"
     ]
    },
    {
     "cell_type": "markdown",
     "metadata": {},
     "source": [
      "### Plot options\n",
      "\n",
      "We can add keyword options to control the properties of lines and markers in our plots.  Check out:"
     ]
    },
    {
     "cell_type": "code",
     "collapsed": false,
     "input": [
      "from IPython.display import HTML\n",
      "HTML('<iframe src=http://matplotlib.org/users/pyplot_tutorial.html#controlling-line-properties width=700 height=350></iframe>')"
     ],
     "language": "python",
     "metadata": {},
     "outputs": [
      {
       "html": [
        "<iframe src=http://matplotlib.org/users/pyplot_tutorial.html#controlling-line-properties width=700 height=350></iframe>"
       ],
       "metadata": {},
       "output_type": "pyout",
       "prompt_number": 12,
       "text": [
        "<IPython.core.display.HTML at 0x10bd667d0>"
       ]
      }
     ],
     "prompt_number": 12
    },
    {
     "cell_type": "code",
     "collapsed": false,
     "input": [
      "# For all the details\n",
      "HTML('<iframe src=http://matplotlib.org/api/pyplot_api.html#matplotlib.pyplot.plot width=700 height=350></iframe>')"
     ],
     "language": "python",
     "metadata": {},
     "outputs": [
      {
       "html": [
        "<iframe src=http://matplotlib.org/api/pyplot_api.html#matplotlib.pyplot.plot width=700 height=350></iframe>"
       ],
       "metadata": {},
       "output_type": "pyout",
       "prompt_number": 15,
       "text": [
        "<IPython.core.display.HTML at 0x10bd66f10>"
       ]
      }
     ],
     "prompt_number": 15
    },
    {
     "cell_type": "markdown",
     "metadata": {},
     "source": [
      "### Putting it all together"
     ]
    },
    {
     "cell_type": "code",
     "collapsed": false,
     "input": [
      "theta = np.linspace(0,2*np.pi,20)\n",
      "sinlabel = r'$\\sin(\\theta)$'\n",
      "coslabel = r'$\\cos(\\theta)$'\n",
      "plt.figure(figsize=(8,6))\n",
      "plt.plot(theta,np.sin(theta),label=sinlabel,color=(0.0,0.0,0.6),linestyle='-',linewidth=2.5,marker='o',markeredgecolor='green',\\\n",
      "    markerfacecolor='#0FDDAF',markersize=12.0,markeredgewidth=0.8)\n",
      "plt.plot(theta,np.cos(theta),label=coslabel,color='red',linestyle='None',\\\n",
      "         linewidth=0.5,marker='s',markeredgecolor='None',\\\n",
      "         markerfacecolor='pink',markersize=15.0)\n",
      "plt.xlabel(r'$\\theta$')\n",
      "plt.xlim(0,2*np.pi)\n",
      "plt.legend(loc='lower left', fontsize=15)\n"
     ],
     "language": "python",
     "metadata": {},
     "outputs": [
      {
       "metadata": {},
       "output_type": "pyout",
       "prompt_number": 22,
       "text": [
        "<matplotlib.legend.Legend at 0x10a80c7d0>"
       ]
      },
      {
       "metadata": {},
       "output_type": "display_data",
       "png": "[encoded data removed]",
       "text": [
        "<matplotlib.figure.Figure at 0x10bf109d0>"
       ]
      }
     ],
     "prompt_number": 22
    },
    {
     "cell_type": "markdown",
     "metadata": {},
     "source": [
      "<div class=\"row\">\n",
      "<div class=\"span alert alert-info\">\n",
      "<h2> Team programming challenge </h2>\n",
      "<h3> Given a list of all marker types produce a plot of a family parabolas showing them off.</h3>\n",
      "</div>\n",
      "</div>\n",
      "\n",
      "`marker_list = ['o','s','p','^','v','>','<','D','*','H']`"
     ]
    },
    {
     "cell_type": "code",
     "collapsed": false,
     "input": [],
     "language": "python",
     "metadata": {},
     "outputs": []
    }
   ],
   "metadata": {}
  }
 ]
}