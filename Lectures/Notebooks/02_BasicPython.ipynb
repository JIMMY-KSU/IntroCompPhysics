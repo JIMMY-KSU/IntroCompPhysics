{
 "metadata": {
  "name": "",
  "signature": "sha256:5adf7ae7e17cc4457e27f65d1481003f90a1ebe992e1365496a316c06ec1c975"
 },
 "nbformat": 3,
 "nbformat_minor": 0,
 "worksheets": [
  {
   "cells": [
    {
     "cell_type": "markdown",
     "metadata": {},
     "source": [
      "# Physics 296\n",
      "## Lecture 02 - Introduction to Python"
     ]
    },
    {
     "cell_type": "code",
     "collapsed": false,
     "input": [
      "from IPython.display import Image\n",
      "Image(url=\"http://upload.wikimedia.org/wikipedia/commons/1/16/Allison_Randal.jpg\")"
     ],
     "language": "python",
     "metadata": {},
     "outputs": [
      {
       "html": [
        "<img src=\"http://upload.wikimedia.org/wikipedia/commons/1/16/Allison_Randal.jpg\"/>"
       ],
       "metadata": {},
       "output_type": "pyout",
       "prompt_number": 5,
       "text": [
        "<IPython.core.display.Image at 0x109ccdd90>"
       ]
      }
     ],
     "prompt_number": 5
    },
    {
     "cell_type": "markdown",
     "metadata": {},
     "source": [
      "*Free software is a fundamentally superior model for development.*\n",
      "\n",
      "-- Allison Randal, Hewlett Packard"
     ]
    },
    {
     "cell_type": "markdown",
     "metadata": {},
     "source": [
      "## Last Time\n",
      "\n",
      "We talked about the various benefits of python.\n",
      "\n",
      "- automatic garbage collection\n",
      "- dynamic typing\n",
      "- interpreted and interactive\n",
      "- object-orientated\n",
      "- *batteries included*\n",
      "- free (as in beer and speech)\n",
      "- portable (works on any architecture or OS)\n",
      "- **easy to learn**\n",
      "- modular\n",
      "- advanced constructs \n",
      "\n",
      "## Today\n",
      "\n",
      "We will dive into the details and start writing some code.\n",
      "\n",
      "## Interacting With Python\n",
      "\n",
      "Depending on how you decided to install python, there are various ways of interacting with it:\n",
      "\n",
      "1. Using the interpreter\n",
      "2. Writing a script and running from the command line\n",
      "3. Within the Enthought Canopy IDE\n",
      "\n",
      "We begin with the ubiquoutous *Hello World* program"
     ]
    },
    {
     "cell_type": "code",
     "collapsed": false,
     "input": [
      "print 'Hello World'"
     ],
     "language": "python",
     "metadata": {},
     "outputs": [
      {
       "output_type": "stream",
       "stream": "stdout",
       "text": [
        "Hello World\n"
       ]
      }
     ],
     "prompt_number": 6
    },
    {
     "cell_type": "markdown",
     "metadata": {},
     "source": [
      "If you are using the interpreter, some things to remember:\n",
      "\n",
      "1. Exit using `exit()` or `ctrl-d`\n",
      "2. Recall previous commands using the up arrow\n",
      "3. Try experimenting with tab-completion"
     ]
    },
    {
     "cell_type": "markdown",
     "metadata": {},
     "source": [
      "### Python as an interactive calculator"
     ]
    },
    {
     "cell_type": "code",
     "collapsed": false,
     "input": [
      "# adding two values\n",
      "1+1"
     ],
     "language": "python",
     "metadata": {},
     "outputs": [
      {
       "metadata": {},
       "output_type": "pyout",
       "prompt_number": 7,
       "text": [
        "2"
       ]
      }
     ],
     "prompt_number": 7
    },
    {
     "cell_type": "markdown",
     "metadata": {},
     "source": [
      "## Variables and Types\n",
      "\n",
      "The names of variables in Python can contain alphanumerical characters a-z, A-Z, 0-9 and some special characters such as _. All Normal variable names must start with a letter.\n",
      "\n",
      "It is conventional to start all variable names with a lower case letter.\n",
      "\n",
      "In addition, there are a number of Python keywords that cannot be used as variable names. These keywords are:\n",
      "\n",
      "    and, as, assert, break, class, continue, def, del, elif, else, except, \n",
      "    exec, finally, for, from, global, if, import, in, is, lambda, not, or,\n",
      "    pass, print, raise, return, try, while, with, yield\n",
      "\n",
      "<div class=\"row\">\n",
      "<div class=\"span alert alert-error\">\n",
      "Be aware of the keyword lambda, which might naturally appear in a physics related program is actually a keyword and cannot be used for a variable name.\n",
      "</div>\n",
      "</div>"
     ]
    },
    {
     "cell_type": "markdown",
     "metadata": {},
     "source": [
      "### Assignment\n",
      "\n",
      "The assignment operator in Python is `=`. As we discussed in Lecture 01, python is a dynamically typed language, so we do not need to specify the type of a variable when we create one."
     ]
    },
    {
     "cell_type": "code",
     "collapsed": false,
     "input": [
      "# setting a variable\n",
      "a = 1\n",
      "a"
     ],
     "language": "python",
     "metadata": {},
     "outputs": [
      {
       "metadata": {},
       "output_type": "pyout",
       "prompt_number": 8,
       "text": [
        "1"
       ]
      }
     ],
     "prompt_number": 8
    },
    {
     "cell_type": "code",
     "collapsed": false,
     "input": [
      "# checking the type of a variable\n",
      "print type(a)"
     ],
     "language": "python",
     "metadata": {},
     "outputs": [
      {
       "output_type": "stream",
       "stream": "stdout",
       "text": [
        "<type 'int'>\n"
       ]
      }
     ],
     "prompt_number": 9
    },
    {
     "cell_type": "code",
     "collapsed": false,
     "input": [
      "# We can reasign both the type and value\n",
      "a = 1.7E-6\n",
      "print a\n",
      "print type(a)"
     ],
     "language": "python",
     "metadata": {},
     "outputs": [
      {
       "output_type": "stream",
       "stream": "stdout",
       "text": [
        "1.7e-06\n",
        "<type 'float'>\n"
       ]
      }
     ],
     "prompt_number": 11
    },
    {
     "cell_type": "code",
     "collapsed": false,
     "input": [
      "# determining the type\n",
      "b = 1.2 + 3.1\n",
      "print b\n",
      "print type(b)"
     ],
     "language": "python",
     "metadata": {},
     "outputs": [
      {
       "output_type": "stream",
       "stream": "stdout",
       "text": [
        "4.3\n",
        "<type 'float'>\n"
       ]
      }
     ],
     "prompt_number": 12
    },
    {
     "cell_type": "code",
     "collapsed": false,
     "input": [
      "# python allows self-assignment through increment/modify operators\n",
      "x = 1\n",
      "x += 2\n",
      "x"
     ],
     "language": "python",
     "metadata": {},
     "outputs": [
      {
       "metadata": {},
       "output_type": "pyout",
       "prompt_number": 13,
       "text": [
        "3"
       ]
      }
     ],
     "prompt_number": 13
    },
    {
     "cell_type": "code",
     "collapsed": false,
     "input": [
      "# this works for all allowed operations\n",
      "x -= 1\n",
      "x *= 2\n",
      "x /= 2\n",
      "x **= 2\n",
      "x %= 3\n",
      "x //= 2\n",
      "x "
     ],
     "language": "python",
     "metadata": {},
     "outputs": [
      {
       "metadata": {},
       "output_type": "pyout",
       "prompt_number": 14,
       "text": [
        "0"
       ]
      }
     ],
     "prompt_number": 14
    },
    {
     "cell_type": "code",
     "collapsed": false,
     "input": [
      "# Can assign multiple variables at the same time\n",
      "x,y,z = 1,2,3\n",
      "print x + y + z"
     ],
     "language": "python",
     "metadata": {},
     "outputs": [
      {
       "output_type": "stream",
       "stream": "stdout",
       "text": [
        "6\n"
       ]
      }
     ],
     "prompt_number": 15
    },
    {
     "cell_type": "markdown",
     "metadata": {},
     "source": [
      "### Complex Numbers\n",
      "\n",
      "Use `j` or `J` for the imaginary part\n",
      "Create with `real + imagj` or `complex(real,imag)`"
     ]
    },
    {
     "cell_type": "code",
     "collapsed": false,
     "input": [
      "c = 2 + 1.5j\n",
      "c"
     ],
     "language": "python",
     "metadata": {},
     "outputs": [
      {
       "metadata": {},
       "output_type": "pyout",
       "prompt_number": 16,
       "text": [
        "(2+1.5j)"
       ]
      }
     ],
     "prompt_number": 16
    },
    {
     "cell_type": "code",
     "collapsed": false,
     "input": [
      "# once they have been defined, we can manipulate and perform all operations\n",
      "d = 1j * complex(0,1)\n",
      "print d\n",
      "print (1+2j)/(1+1J)"
     ],
     "language": "python",
     "metadata": {},
     "outputs": [
      {
       "output_type": "stream",
       "stream": "stdout",
       "text": [
        "(-1+0j)\n",
        "(1.5+0.5j)\n"
       ]
      }
     ],
     "prompt_number": 17
    },
    {
     "cell_type": "code",
     "collapsed": false,
     "input": [
      "# We can extract the real and imaginary parts\n",
      "a = 1.5 + 0.5j\n",
      "print 'Real[a] = ', a.real\n",
      "print 'Imag[a] = ', a.imag"
     ],
     "language": "python",
     "metadata": {},
     "outputs": [
      {
       "output_type": "stream",
       "stream": "stdout",
       "text": [
        "Real[a] =  1.5\n",
        "Imag[a] =  0.5\n"
       ]
      }
     ],
     "prompt_number": 20
    },
    {
     "cell_type": "code",
     "collapsed": false,
     "input": [
      "# Use `abs` to compute the modulus\n",
      "a = 1.5 + 0.5j\n",
      "print '|a| = ', abs(a)"
     ],
     "language": "python",
     "metadata": {},
     "outputs": [
      {
       "output_type": "stream",
       "stream": "stdout",
       "text": [
        "|a| =  1.58113883008\n"
       ]
      }
     ],
     "prompt_number": 21
    },
    {
     "cell_type": "markdown",
     "metadata": {},
     "source": [
      "<div class=\"row\">\n",
      "<div class=\"span4 alert alert-info\">\n",
      "Question: What is the output of:\n",
      "<code>\n",
      "    a = complex(3,3)\n",
      "    b = a + 1j\n",
      "    print abs(b)\n",
      "</code>\n",
      "<ol class=\"a\">\n",
      "<li> 4.24264\n",
      "<li> 25.0\n",
      "<li> 5.0\n",
      "<li> 18\n",
      "</ol>\n",
      "</div>\n",
      "</div>"
     ]
    },
    {
     "cell_type": "code",
     "collapsed": false,
     "input": [
      "a = complex(3,3)\n",
      "b = a + 1j\n",
      "print abs(b)"
     ],
     "language": "python",
     "metadata": {},
     "outputs": [
      {
       "output_type": "stream",
       "stream": "stdout",
       "text": [
        "5.0\n"
       ]
      }
     ],
     "prompt_number": 22
    },
    {
     "cell_type": "markdown",
     "metadata": {},
     "source": [
      "### Comparing Numbers\n",
      "When comparing two floats we should compare the difference against a small number."
     ]
    },
    {
     "cell_type": "code",
     "collapsed": false,
     "input": [
      "a = (3.0*1.0)/5.0\n",
      "b = 3.0*(1.0/5.0)"
     ],
     "language": "python",
     "metadata": {},
     "outputs": [],
     "prompt_number": 23
    },
    {
     "cell_type": "code",
     "collapsed": false,
     "input": [
      "a == b"
     ],
     "language": "python",
     "metadata": {},
     "outputs": [
      {
       "metadata": {},
       "output_type": "pyout",
       "prompt_number": 24,
       "text": [
        "False"
       ]
      }
     ],
     "prompt_number": 24
    },
    {
     "cell_type": "code",
     "collapsed": false,
     "input": [
      "epsilon = 1.0E-15\n",
      "truthiness = abs(a-b) < epsilon\n",
      "print truthiness"
     ],
     "language": "python",
     "metadata": {},
     "outputs": [
      {
       "output_type": "stream",
       "stream": "stdout",
       "text": [
        "True\n"
       ]
      }
     ],
     "prompt_number": 26
    },
    {
     "cell_type": "markdown",
     "metadata": {},
     "source": [
      "### Special numbers\n",
      "\n",
      "Unlike some other progmmaing languages, the python standard library does not have special symbols for \u201cNot a Number\u201d"
     ]
    },
    {
     "cell_type": "code",
     "collapsed": false,
     "input": [
      "0/0"
     ],
     "language": "python",
     "metadata": {},
     "outputs": [
      {
       "ename": "ZeroDivisionError",
       "evalue": "integer division or modulo by zero",
       "output_type": "pyerr",
       "traceback": [
        "\u001b[0;31m---------------------------------------------------------------------------\u001b[0m\n\u001b[0;31mZeroDivisionError\u001b[0m                         Traceback (most recent call last)",
        "\u001b[0;32m<ipython-input-27-6549dea6d1ae>\u001b[0m in \u001b[0;36m<module>\u001b[0;34m()\u001b[0m\n\u001b[0;32m----> 1\u001b[0;31m \u001b[0;36m0\u001b[0m\u001b[0;34m/\u001b[0m\u001b[0;36m0\u001b[0m\u001b[0;34m\u001b[0m\u001b[0m\n\u001b[0m",
        "\u001b[0;31mZeroDivisionError\u001b[0m: integer division or modulo by zero"
       ]
      }
     ],
     "prompt_number": 27
    },
    {
     "cell_type": "code",
     "collapsed": false,
     "input": [
      "# or infinity\n",
      "1/0"
     ],
     "language": "python",
     "metadata": {},
     "outputs": [
      {
       "ename": "ZeroDivisionError",
       "evalue": "integer division or modulo by zero",
       "output_type": "pyerr",
       "traceback": [
        "\u001b[0;31m---------------------------------------------------------------------------\u001b[0m\n\u001b[0;31mZeroDivisionError\u001b[0m                         Traceback (most recent call last)",
        "\u001b[0;32m<ipython-input-28-514130368afd>\u001b[0m in \u001b[0;36m<module>\u001b[0;34m()\u001b[0m\n\u001b[1;32m      1\u001b[0m \u001b[0;31m# or infinity\u001b[0m\u001b[0;34m\u001b[0m\u001b[0;34m\u001b[0m\u001b[0m\n\u001b[0;32m----> 2\u001b[0;31m \u001b[0;36m1\u001b[0m\u001b[0;34m/\u001b[0m\u001b[0;36m0\u001b[0m\u001b[0;34m\u001b[0m\u001b[0m\n\u001b[0m",
        "\u001b[0;31mZeroDivisionError\u001b[0m: integer division or modulo by zero"
       ]
      }
     ],
     "prompt_number": 28
    },
    {
     "cell_type": "markdown",
     "metadata": {},
     "source": [
      "### Integer division\n",
      "\n",
      "Division by an integer can lead to some unexpected results"
     ]
    },
    {
     "cell_type": "code",
     "collapsed": false,
     "input": [
      "3/4"
     ],
     "language": "python",
     "metadata": {},
     "outputs": [
      {
       "metadata": {},
       "output_type": "pyout",
       "prompt_number": 29,
       "text": [
        "0"
       ]
      }
     ],
     "prompt_number": 29
    },
    {
     "cell_type": "code",
     "collapsed": false,
     "input": [
      "10/3"
     ],
     "language": "python",
     "metadata": {},
     "outputs": [
      {
       "metadata": {},
       "output_type": "pyout",
       "prompt_number": 30,
       "text": [
        "3"
       ]
      }
     ],
     "prompt_number": 30
    },
    {
     "cell_type": "markdown",
     "metadata": {},
     "source": [
      "The result is always rounded down to the closest integer.  Unless this is what you want, it is good programming practice to include an explicit decimal in all operations."
     ]
    },
    {
     "cell_type": "code",
     "collapsed": false,
     "input": [
      "3/4.0"
     ],
     "language": "python",
     "metadata": {},
     "outputs": [
      {
       "metadata": {},
       "output_type": "pyout",
       "prompt_number": 31,
       "text": [
        "0.75"
       ]
      }
     ],
     "prompt_number": 31
    },
    {
     "cell_type": "code",
     "collapsed": false,
     "input": [
      "3.0/4"
     ],
     "language": "python",
     "metadata": {},
     "outputs": [
      {
       "metadata": {},
       "output_type": "pyout",
       "prompt_number": 32,
       "text": [
        "0.75"
       ]
      }
     ],
     "prompt_number": 32
    },
    {
     "cell_type": "markdown",
     "metadata": {},
     "source": [
      "The integer remainder can be extracted with the modulus operator `%`"
     ]
    },
    {
     "cell_type": "code",
     "collapsed": false,
     "input": [
      "10 % 3"
     ],
     "language": "python",
     "metadata": {},
     "outputs": [
      {
       "metadata": {},
       "output_type": "pyout",
       "prompt_number": 38,
       "text": [
        "1"
       ]
      }
     ],
     "prompt_number": 38
    },
    {
     "cell_type": "markdown",
     "metadata": {},
     "source": [
      "## Strings"
     ]
    },
    {
     "cell_type": "code",
     "collapsed": false,
     "input": [
      "# we can use single quotes \n",
      "s = 'Hello World'\n",
      "print s"
     ],
     "language": "python",
     "metadata": {},
     "outputs": [
      {
       "output_type": "stream",
       "stream": "stdout",
       "text": [
        "Hello World\n"
       ]
      }
     ],
     "prompt_number": 39
    },
    {
     "cell_type": "code",
     "collapsed": false,
     "input": [
      "# but double quotes also work\n",
      "s = \"Hello World\"\n",
      "print s"
     ],
     "language": "python",
     "metadata": {},
     "outputs": [
      {
       "output_type": "stream",
       "stream": "stdout",
       "text": [
        "Hello World\n"
       ]
      }
     ],
     "prompt_number": 40
    },
    {
     "cell_type": "code",
     "collapsed": false,
     "input": [
      "# but don't mix them\n",
      "s = 'Goodbye World\"\n",
      "print s"
     ],
     "language": "python",
     "metadata": {},
     "outputs": [
      {
       "ename": "SyntaxError",
       "evalue": "EOL while scanning string literal (<ipython-input-41-757378997ace>, line 2)",
       "output_type": "pyerr",
       "traceback": [
        "\u001b[0;36m  File \u001b[0;32m\"<ipython-input-41-757378997ace>\"\u001b[0;36m, line \u001b[0;32m2\u001b[0m\n\u001b[0;31m    s = 'Goodbye World\"\u001b[0m\n\u001b[0m                      ^\u001b[0m\n\u001b[0;31mSyntaxError\u001b[0m\u001b[0;31m:\u001b[0m EOL while scanning string literal\n"
       ]
      }
     ],
     "prompt_number": 41
    },
    {
     "cell_type": "markdown",
     "metadata": {},
     "source": [
      "### String Operations"
     ]
    },
    {
     "cell_type": "code",
     "collapsed": false,
     "input": [
      "# concatenating two strings \n",
      "s = 'Hello' + 'World'\n",
      "s"
     ],
     "language": "python",
     "metadata": {},
     "outputs": [
      {
       "metadata": {},
       "output_type": "pyout",
       "prompt_number": 42,
       "text": [
        "'HelloWorld'"
       ]
      }
     ],
     "prompt_number": 42
    },
    {
     "cell_type": "code",
     "collapsed": false,
     "input": [
      "# repeating a string\n",
      "s = 'Hello '\n",
      "s*4"
     ],
     "language": "python",
     "metadata": {},
     "outputs": [
      {
       "metadata": {},
       "output_type": "pyout",
       "prompt_number": 43,
       "text": [
        "'Hello Hello Hello Hello '"
       ]
      }
     ],
     "prompt_number": 43
    },
    {
     "cell_type": "code",
     "collapsed": false,
     "input": [
      "# string length\n",
      "s = '12345'\n",
      "len(s)"
     ],
     "language": "python",
     "metadata": {},
     "outputs": [
      {
       "metadata": {},
       "output_type": "pyout",
       "prompt_number": 44,
       "text": [
        "5"
       ]
      }
     ],
     "prompt_number": 44
    },
    {
     "cell_type": "markdown",
     "metadata": {},
     "source": [
      "### Formatting strings\n",
      "\n",
      "The `%` operator allows you to supply a format string which follows the c programming conventions"
     ]
    },
    {
     "cell_type": "code",
     "collapsed": false,
     "input": [
      "s = 'some numbers:'\n",
      "x = 1.346\n",
      "y = 2\n",
      "s = '%s %4.2f, %d' % (s,x,y)\n",
      "print s"
     ],
     "language": "python",
     "metadata": {},
     "outputs": [
      {
       "output_type": "stream",
       "stream": "stdout",
       "text": [
        "some numbers: 1.35, 2\n"
       ]
      }
     ],
     "prompt_number": 45
    },
    {
     "cell_type": "code",
     "collapsed": false,
     "input": [
      "print '%8.4E' % (x*x)"
     ],
     "language": "python",
     "metadata": {},
     "outputs": [
      {
       "output_type": "stream",
       "stream": "stdout",
       "text": [
        "1.8117E+00\n"
       ]
      }
     ],
     "prompt_number": 46
    },
    {
     "cell_type": "markdown",
     "metadata": {},
     "source": [
      "### String methods"
     ]
    },
    {
     "cell_type": "code",
     "collapsed": false,
     "input": [
      "s = 'hello world'\n",
      "\n",
      "# split a string at a space\n",
      "s.split()"
     ],
     "language": "python",
     "metadata": {},
     "outputs": [
      {
       "metadata": {},
       "output_type": "pyout",
       "prompt_number": 49,
       "text": [
        "['hello', 'world']"
       ]
      }
     ],
     "prompt_number": 49
    },
    {
     "cell_type": "code",
     "collapsed": false,
     "input": [
      "# join string with character '_'\n",
      "'_'.join(s.split())"
     ],
     "language": "python",
     "metadata": {},
     "outputs": [
      {
       "metadata": {},
       "output_type": "pyout",
       "prompt_number": 50,
       "text": [
        "'hello_world'"
       ]
      }
     ],
     "prompt_number": 50
    },
    {
     "cell_type": "code",
     "collapsed": false,
     "input": [
      "# replace word\n",
      "s.replace('world','Burlington')"
     ],
     "language": "python",
     "metadata": {},
     "outputs": [
      {
       "metadata": {},
       "output_type": "pyout",
       "prompt_number": 53,
       "text": [
        "'hello Burlington'"
       ]
      }
     ],
     "prompt_number": 53
    },
    {
     "cell_type": "code",
     "collapsed": false,
     "input": [
      "# strip whitespace\n",
      "s = '\\t        hello        \\n'\n",
      "print s\n",
      "print s.strip()\n",
      "print s"
     ],
     "language": "python",
     "metadata": {},
     "outputs": [
      {
       "output_type": "stream",
       "stream": "stdout",
       "text": [
        "\t        hello        \n",
        "\n",
        "hello\n",
        "\t        hello        \n",
        "\n"
       ]
      }
     ],
     "prompt_number": 55
    },
    {
     "cell_type": "markdown",
     "metadata": {},
     "source": [
      "<div class=\"row\">\n",
      "<div class=\"span alert alert-error\">\n",
      "! String methods preserve the content of the original string\n",
      "</div>\n",
      "</div>"
     ]
    },
    {
     "cell_type": "code",
     "collapsed": false,
     "input": [
      "# triple quotes can be used for multi-line strings\n",
      "a = '''hello\n",
      "world'''\n",
      "print a"
     ],
     "language": "python",
     "metadata": {},
     "outputs": [
      {
       "output_type": "stream",
       "stream": "stdout",
       "text": [
        "hello\n",
        "world\n"
       ]
      }
     ],
     "prompt_number": 56
    },
    {
     "cell_type": "code",
     "collapsed": false,
     "input": [
      "# for long strings we can use '\\' to indicate continuation\n",
      "a = 'hello \\\n",
      "world'\n",
      "print a"
     ],
     "language": "python",
     "metadata": {},
     "outputs": [
      {
       "output_type": "stream",
       "stream": "stdout",
       "text": [
        "hello world\n"
       ]
      }
     ],
     "prompt_number": 57
    },
    {
     "cell_type": "code",
     "collapsed": false,
     "input": [
      "# escape sequences\n",
      "a = 'newline \\n character'\n",
      "print a"
     ],
     "language": "python",
     "metadata": {},
     "outputs": [
      {
       "output_type": "stream",
       "stream": "stdout",
       "text": [
        "newline \n",
        " character\n"
       ]
      }
     ],
     "prompt_number": 58
    },
    {
     "cell_type": "code",
     "collapsed": false,
     "input": [
      "# use raw strings by pre-pending a 'r' to prevent any special processing\n",
      "a = r'\\n: newline character'\n",
      "print a"
     ],
     "language": "python",
     "metadata": {},
     "outputs": [
      {
       "output_type": "stream",
       "stream": "stdout",
       "text": [
        "\\n: newline character\n"
       ]
      }
     ],
     "prompt_number": 59
    },
    {
     "cell_type": "code",
     "collapsed": false,
     "input": [
      "# what do you do if you string has a single or double quote in it?\n",
      "\n",
      "# method 1, use a double quoted string\n",
      "a = \"What's your name?\"\n",
      "print a\n",
      "\n",
      "# method 2, use an escape sequcne\n",
      "b = 'What\\'s your name?'\n",
      "print b"
     ],
     "language": "python",
     "metadata": {},
     "outputs": [
      {
       "output_type": "stream",
       "stream": "stdout",
       "text": [
        "What's your name?\n",
        "What's your name?\n"
       ]
      }
     ],
     "prompt_number": 60
    },
    {
     "cell_type": "markdown",
     "metadata": {},
     "source": [
      "<div class=\"row\">\n",
      "<div class=\"span alert alert-error\">\n",
      "! Strings are immutable: once we have created one, we can't change any elements\n",
      "</div>\n",
      "</div>\n"
     ]
    },
    {
     "cell_type": "code",
     "collapsed": false,
     "input": [
      "a = '12345'\n",
      "a[0] = 2"
     ],
     "language": "python",
     "metadata": {},
     "outputs": [
      {
       "ename": "TypeError",
       "evalue": "'str' object does not support item assignment",
       "output_type": "pyerr",
       "traceback": [
        "\u001b[0;31m---------------------------------------------------------------------------\u001b[0m\n\u001b[0;31mTypeError\u001b[0m                                 Traceback (most recent call last)",
        "\u001b[0;32m<ipython-input-61-133351931fd4>\u001b[0m in \u001b[0;36m<module>\u001b[0;34m()\u001b[0m\n\u001b[1;32m      1\u001b[0m \u001b[0ma\u001b[0m \u001b[0;34m=\u001b[0m \u001b[0;34m'12345'\u001b[0m\u001b[0;34m\u001b[0m\u001b[0m\n\u001b[0;32m----> 2\u001b[0;31m \u001b[0ma\u001b[0m\u001b[0;34m[\u001b[0m\u001b[0;36m0\u001b[0m\u001b[0;34m]\u001b[0m \u001b[0;34m=\u001b[0m \u001b[0;36m2\u001b[0m\u001b[0;34m\u001b[0m\u001b[0m\n\u001b[0m",
        "\u001b[0;31mTypeError\u001b[0m: 'str' object does not support item assignment"
       ]
      }
     ],
     "prompt_number": 61
    },
    {
     "cell_type": "markdown",
     "metadata": {},
     "source": [
      "## Getting Help"
     ]
    },
    {
     "cell_type": "code",
     "collapsed": false,
     "input": [
      "# for general help\n",
      "help()"
     ],
     "language": "python",
     "metadata": {},
     "outputs": [
      {
       "output_type": "stream",
       "stream": "stdout",
       "text": [
        "\n",
        "Welcome to Python 2.7!  This is the online help utility.\n",
        "\n",
        "If this is your first time using Python, you should definitely check out\n",
        "the tutorial on the Internet at http://docs.python.org/2.7/tutorial/.\n",
        "\n",
        "Enter the name of any module, keyword, or topic to get help on writing\n",
        "Python programs and using Python modules.  To quit this help utility and\n",
        "return to the interpreter, just type \"quit\".\n",
        "\n",
        "To get a list of available modules, keywords, or topics, type \"modules\",\n",
        "\"keywords\", or \"topics\".  Each module also comes with a one-line summary\n",
        "of what it does; to list the modules whose summaries contain a given word\n",
        "such as \"spam\", type \"modules spam\".\n",
        "\n"
       ]
      },
      {
       "name": "stdout",
       "output_type": "stream",
       "stream": "stdout",
       "text": [
        "help> str\n"
       ]
      },
      {
       "output_type": "stream",
       "stream": "stdout",
       "text": [
        "Help on class str in module __builtin__:\n",
        "\n",
        "class str(basestring)\n",
        " |  str(object='') -> string\n",
        " |  \n",
        " |  Return a nice string representation of the object.\n",
        " |  If the argument is a string, the return value is the same object.\n",
        " |  \n",
        " |  Method resolution order:\n",
        " |      str\n",
        " |      basestring\n",
        " |      object\n",
        " |  \n",
        " |  Methods defined here:\n",
        " |  \n",
        " |  __add__(...)\n",
        " |      x.__add__(y) <==> x+y\n",
        " |  \n",
        " |  __contains__(...)\n",
        " |      x.__contains__(y) <==> y in x\n",
        " |  \n",
        " |  __eq__(...)\n",
        " |      x.__eq__(y) <==> x==y\n",
        " |  \n",
        " |  __format__(...)\n",
        " |      S.__format__(format_spec) -> string\n",
        " |      \n",
        " |      Return a formatted version of S as described by format_spec.\n",
        " |  \n",
        " |  __ge__(...)\n",
        " |      x.__ge__(y) <==> x>=y\n",
        " |  \n",
        " |  __getattribute__(...)\n",
        " |      x.__getattribute__('name') <==> x.name\n",
        " |  \n",
        " |  __getitem__(...)\n",
        " |      x.__getitem__(y) <==> x[y]\n",
        " |  \n",
        " |  __getnewargs__(...)\n",
        " |  \n",
        " |  __getslice__(...)\n",
        " |      x.__getslice__(i, j) <==> x[i:j]\n",
        " |      \n",
        " |      Use of negative indices is not supported.\n",
        " |  \n",
        " |  __gt__(...)\n",
        " |      x.__gt__(y) <==> x>y\n",
        " |  \n",
        " |  __hash__(...)\n",
        " |      x.__hash__() <==> hash(x)\n",
        " |  \n",
        " |  __le__(...)\n",
        " |      x.__le__(y) <==> x<=y\n",
        " |  \n",
        " |  __len__(...)\n",
        " |      x.__len__() <==> len(x)\n",
        " |  \n",
        " |  __lt__(...)\n",
        " |      x.__lt__(y) <==> x<y\n",
        " |  \n",
        " |  __mod__(...)\n",
        " |      x.__mod__(y) <==> x%y\n",
        " |  \n",
        " |  __mul__(...)\n",
        " |      x.__mul__(n) <==> x*n\n",
        " |  \n",
        " |  __ne__(...)\n",
        " |      x.__ne__(y) <==> x!=y\n",
        " |  \n",
        " |  __repr__(...)\n",
        " |      x.__repr__() <==> repr(x)\n",
        " |  \n",
        " |  __rmod__(...)\n",
        " |      x.__rmod__(y) <==> y%x\n",
        " |  \n",
        " |  __rmul__(...)\n",
        " |      x.__rmul__(n) <==> n*x\n",
        " |  \n",
        " |  __sizeof__(...)\n",
        " |      S.__sizeof__() -> size of S in memory, in bytes\n",
        " |  \n",
        " |  __str__(...)\n",
        " |      x.__str__() <==> str(x)\n",
        " |  \n",
        " |  capitalize(...)\n",
        " |      S.capitalize() -> string\n",
        " |      \n",
        " |      Return a copy of the string S with only its first character\n",
        " |      capitalized.\n",
        " |  \n",
        " |  center(...)\n",
        " |      S.center(width[, fillchar]) -> string\n",
        " |      \n",
        " |      Return S centered in a string of length width. Padding is\n",
        " |      done using the specified fill character (default is a space)\n",
        " |  \n",
        " |  count(...)\n",
        " |      S.count(sub[, start[, end]]) -> int\n",
        " |      \n",
        " |      Return the number of non-overlapping occurrences of substring sub in\n",
        " |      string S[start:end].  Optional arguments start and end are interpreted\n",
        " |      as in slice notation.\n",
        " |  \n",
        " |  decode(...)\n",
        " |      S.decode([encoding[,errors]]) -> object\n",
        " |      \n",
        " |      Decodes S using the codec registered for encoding. encoding defaults\n",
        " |      to the default encoding. errors may be given to set a different error\n",
        " |      handling scheme. Default is 'strict' meaning that encoding errors raise\n",
        " |      a UnicodeDecodeError. Other possible values are 'ignore' and 'replace'\n",
        " |      as well as any other name registered with codecs.register_error that is\n",
        " |      able to handle UnicodeDecodeErrors.\n",
        " |  \n",
        " |  encode(...)\n",
        " |      S.encode([encoding[,errors]]) -> object\n",
        " |      \n",
        " |      Encodes S using the codec registered for encoding. encoding defaults\n",
        " |      to the default encoding. errors may be given to set a different error\n",
        " |      handling scheme. Default is 'strict' meaning that encoding errors raise\n",
        " |      a UnicodeEncodeError. Other possible values are 'ignore', 'replace' and\n",
        " |      'xmlcharrefreplace' as well as any other name registered with\n",
        " |      codecs.register_error that is able to handle UnicodeEncodeErrors.\n",
        " |  \n",
        " |  endswith(...)\n",
        " |      S.endswith(suffix[, start[, end]]) -> bool\n",
        " |      \n",
        " |      Return True if S ends with the specified suffix, False otherwise.\n",
        " |      With optional start, test S beginning at that position.\n",
        " |      With optional end, stop comparing S at that position.\n",
        " |      suffix can also be a tuple of strings to try.\n",
        " |  \n",
        " |  expandtabs(...)\n",
        " |      S.expandtabs([tabsize]) -> string\n",
        " |      \n",
        " |      Return a copy of S where all tab characters are expanded using spaces.\n",
        " |      If tabsize is not given, a tab size of 8 characters is assumed.\n",
        " |  \n",
        " |  find(...)\n",
        " |      S.find(sub [,start [,end]]) -> int\n",
        " |      \n",
        " |      Return the lowest index in S where substring sub is found,\n",
        " |      such that sub is contained within S[start:end].  Optional\n",
        " |      arguments start and end are interpreted as in slice notation.\n",
        " |      \n",
        " |      Return -1 on failure.\n",
        " |  \n",
        " |  format(...)\n",
        " |      S.format(*args, **kwargs) -> string\n",
        " |      \n",
        " |      Return a formatted version of S, using substitutions from args and kwargs.\n",
        " |      The substitutions are identified by braces ('{' and '}').\n",
        " |  \n",
        " |  index(...)\n",
        " |      S.index(sub [,start [,end]]) -> int\n",
        " |      \n",
        " |      Like S.find() but raise ValueError when the substring is not found.\n",
        " |  \n",
        " |  isalnum(...)\n",
        " |      S.isalnum() -> bool\n",
        " |      \n",
        " |      Return True if all characters in S are alphanumeric\n",
        " |      and there is at least one character in S, False otherwise.\n",
        " |  \n",
        " |  isalpha(...)\n",
        " |      S.isalpha() -> bool\n",
        " |      \n",
        " |      Return True if all characters in S are alphabetic\n",
        " |      and there is at least one character in S, False otherwise.\n",
        " |  \n",
        " |  isdigit(...)\n",
        " |      S.isdigit() -> bool\n",
        " |      \n",
        " |      Return True if all characters in S are digits\n",
        " |      and there is at least one character in S, False otherwise.\n",
        " |  \n",
        " |  islower(...)\n",
        " |      S.islower() -> bool\n",
        " |      \n",
        " |      Return True if all cased characters in S are lowercase and there is\n",
        " |      at least one cased character in S, False otherwise.\n",
        " |  \n",
        " |  isspace(...)\n",
        " |      S.isspace() -> bool\n",
        " |      \n",
        " |      Return True if all characters in S are whitespace\n",
        " |      and there is at least one character in S, False otherwise.\n",
        " |  \n",
        " |  istitle(...)\n",
        " |      S.istitle() -> bool\n",
        " |      \n",
        " |      Return True if S is a titlecased string and there is at least one\n",
        " |      character in S, i.e. uppercase characters may only follow uncased\n",
        " |      characters and lowercase characters only cased ones. Return False\n",
        " |      otherwise.\n",
        " |  \n",
        " |  isupper(...)\n",
        " |      S.isupper() -> bool\n",
        " |      \n",
        " |      Return True if all cased characters in S are uppercase and there is\n",
        " |      at least one cased character in S, False otherwise.\n",
        " |  \n",
        " |  join(...)\n",
        " |      S.join(iterable) -> string\n",
        " |      \n",
        " |      Return a string which is the concatenation of the strings in the\n",
        " |      iterable.  The separator between elements is S.\n",
        " |  \n",
        " |  ljust(...)\n",
        " |      S.ljust(width[, fillchar]) -> string\n",
        " |      \n",
        " |      Return S left-justified in a string of length width. Padding is\n",
        " |      done using the specified fill character (default is a space).\n",
        " |  \n",
        " |  lower(...)\n",
        " |      S.lower() -> string\n",
        " |      \n",
        " |      Return a copy of the string S converted to lowercase.\n",
        " |  \n",
        " |  lstrip(...)\n",
        " |      S.lstrip([chars]) -> string or unicode\n",
        " |      \n",
        " |      Return a copy of the string S with leading whitespace removed.\n",
        " |      If chars is given and not None, remove characters in chars instead.\n",
        " |      If chars is unicode, S will be converted to unicode before stripping\n",
        " |  \n",
        " |  partition(...)\n",
        " |      S.partition(sep) -> (head, sep, tail)\n",
        " |      \n",
        " |      Search for the separator sep in S, and return the part before it,\n",
        " |      the separator itself, and the part after it.  If the separator is not\n",
        " |      found, return S and two empty strings.\n",
        " |  \n",
        " |  replace(...)\n",
        " |      S.replace(old, new[, count]) -> string\n",
        " |      \n",
        " |      Return a copy of string S with all occurrences of substring\n",
        " |      old replaced by new.  If the optional argument count is\n",
        " |      given, only the first count occurrences are replaced.\n",
        " |  \n",
        " |  rfind(...)\n",
        " |      S.rfind(sub [,start [,end]]) -> int\n",
        " |      \n",
        " |      Return the highest index in S where substring sub is found,\n",
        " |      such that sub is contained within S[start:end].  Optional\n",
        " |      arguments start and end are interpreted as in slice notation.\n",
        " |      \n",
        " |      Return -1 on failure.\n",
        " |  \n",
        " |  rindex(...)\n",
        " |      S.rindex(sub [,start [,end]]) -> int\n",
        " |      \n",
        " |      Like S.rfind() but raise ValueError when the substring is not found.\n",
        " |  \n",
        " |  rjust(...)\n",
        " |      S.rjust(width[, fillchar]) -> string\n",
        " |      \n",
        " |      Return S right-justified in a string of length width. Padding is\n",
        " |      done using the specified fill character (default is a space)\n",
        " |  \n",
        " |  rpartition(...)\n",
        " |      S.rpartition(sep) -> (head, sep, tail)\n",
        " |      \n",
        " |      Search for the separator sep in S, starting at the end of S, and return\n",
        " |      the part before it, the separator itself, and the part after it.  If the\n",
        " |      separator is not found, return two empty strings and S.\n",
        " |  \n",
        " |  rsplit(...)\n",
        " |      S.rsplit([sep [,maxsplit]]) -> list of strings\n",
        " |      \n",
        " |      Return a list of the words in the string S, using sep as the\n",
        " |      delimiter string, starting at the end of the string and working\n",
        " |      to the front.  If maxsplit is given, at most maxsplit splits are\n",
        " |      done. If sep is not specified or is None, any whitespace string\n",
        " |      is a separator.\n",
        " |  \n",
        " |  rstrip(...)\n",
        " |      S.rstrip([chars]) -> string or unicode\n",
        " |      \n",
        " |      Return a copy of the string S with trailing whitespace removed.\n",
        " |      If chars is given and not None, remove characters in chars instead.\n",
        " |      If chars is unicode, S will be converted to unicode before stripping\n",
        " |  \n",
        " |  split(...)\n",
        " |      S.split([sep [,maxsplit]]) -> list of strings\n",
        " |      \n",
        " |      Return a list of the words in the string S, using sep as the\n",
        " |      delimiter string.  If maxsplit is given, at most maxsplit\n",
        " |      splits are done. If sep is not specified or is None, any\n",
        " |      whitespace string is a separator and empty strings are removed\n",
        " |      from the result.\n",
        " |  \n",
        " |  splitlines(...)\n",
        " |      S.splitlines(keepends=False) -> list of strings\n",
        " |      \n",
        " |      Return a list of the lines in S, breaking at line boundaries.\n",
        " |      Line breaks are not included in the resulting list unless keepends\n",
        " |      is given and true.\n",
        " |  \n",
        " |  startswith(...)\n",
        " |      S.startswith(prefix[, start[, end]]) -> bool\n",
        " |      \n",
        " |      Return True if S starts with the specified prefix, False otherwise.\n",
        " |      With optional start, test S beginning at that position.\n",
        " |      With optional end, stop comparing S at that position.\n",
        " |      prefix can also be a tuple of strings to try.\n",
        " |  \n",
        " |  strip(...)\n",
        " |      S.strip([chars]) -> string or unicode\n",
        " |      \n",
        " |      Return a copy of the string S with leading and trailing\n",
        " |      whitespace removed.\n",
        " |      If chars is given and not None, remove characters in chars instead.\n",
        " |      If chars is unicode, S will be converted to unicode before stripping\n",
        " |  \n",
        " |  swapcase(...)\n",
        " |      S.swapcase() -> string\n",
        " |      \n",
        " |      Return a copy of the string S with uppercase characters\n",
        " |      converted to lowercase and vice versa.\n",
        " |  \n",
        " |  title(...)\n",
        " |      S.title() -> string\n",
        " |      \n",
        " |      Return a titlecased version of S, i.e. words start with uppercase\n",
        " |      characters, all remaining cased characters have lowercase.\n",
        " |  \n",
        " |  translate(...)\n",
        " |      S.translate(table [,deletechars]) -> string\n",
        " |      \n",
        " |      Return a copy of the string S, where all characters occurring\n",
        " |      in the optional argument deletechars are removed, and the\n",
        " |      remaining characters have been mapped through the given\n",
        " |      translation table, which must be a string of length 256 or None.\n",
        " |      If the table argument is None, no translation is applied and\n",
        " |      the operation simply removes the characters in deletechars.\n",
        " |  \n",
        " |  upper(...)\n",
        " |      S.upper() -> string\n",
        " |      \n",
        " |      Return a copy of the string S converted to uppercase.\n",
        " |  \n",
        " |  zfill(...)\n",
        " |      S.zfill(width) -> string\n",
        " |      \n",
        " |      Pad a numeric string S with zeros on the left, to fill a field\n",
        " |      of the specified width.  The string S is never truncated.\n",
        " |  \n",
        " |  ----------------------------------------------------------------------\n",
        " |  Data and other attributes defined here:\n",
        " |  \n",
        " |  __new__ = <built-in method __new__ of type object>\n",
        " |      T.__new__(S, ...) -> a new object with type S, a subtype of T\n",
        "\n"
       ]
      },
      {
       "output_type": "stream",
       "stream": "stdout",
       "text": [
        "\n",
        "You are now leaving help and returning to the Python interpreter.\n",
        "If you want to ask for help on a particular object directly from the\n",
        "interpreter, you can type \"help(object)\".  Executing \"help('string')\"\n",
        "has the same effect as typing a particular string at the help> prompt.\n"
       ]
      }
     ],
     "prompt_number": 62
    },
    {
     "cell_type": "code",
     "collapsed": false,
     "input": [
      "# for help with a type\n",
      "help(str)"
     ],
     "language": "python",
     "metadata": {},
     "outputs": [
      {
       "output_type": "stream",
       "stream": "stdout",
       "text": [
        "Help on class str in module __builtin__:\n",
        "\n",
        "class str(basestring)\n",
        " |  str(object='') -> string\n",
        " |  \n",
        " |  Return a nice string representation of the object.\n",
        " |  If the argument is a string, the return value is the same object.\n",
        " |  \n",
        " |  Method resolution order:\n",
        " |      str\n",
        " |      basestring\n",
        " |      object\n",
        " |  \n",
        " |  Methods defined here:\n",
        " |  \n",
        " |  __add__(...)\n",
        " |      x.__add__(y) <==> x+y\n",
        " |  \n",
        " |  __contains__(...)\n",
        " |      x.__contains__(y) <==> y in x\n",
        " |  \n",
        " |  __eq__(...)\n",
        " |      x.__eq__(y) <==> x==y\n",
        " |  \n",
        " |  __format__(...)\n",
        " |      S.__format__(format_spec) -> string\n",
        " |      \n",
        " |      Return a formatted version of S as described by format_spec.\n",
        " |  \n",
        " |  __ge__(...)\n",
        " |      x.__ge__(y) <==> x>=y\n",
        " |  \n",
        " |  __getattribute__(...)\n",
        " |      x.__getattribute__('name') <==> x.name\n",
        " |  \n",
        " |  __getitem__(...)\n",
        " |      x.__getitem__(y) <==> x[y]\n",
        " |  \n",
        " |  __getnewargs__(...)\n",
        " |  \n",
        " |  __getslice__(...)\n",
        " |      x.__getslice__(i, j) <==> x[i:j]\n",
        " |      \n",
        " |      Use of negative indices is not supported.\n",
        " |  \n",
        " |  __gt__(...)\n",
        " |      x.__gt__(y) <==> x>y\n",
        " |  \n",
        " |  __hash__(...)\n",
        " |      x.__hash__() <==> hash(x)\n",
        " |  \n",
        " |  __le__(...)\n",
        " |      x.__le__(y) <==> x<=y\n",
        " |  \n",
        " |  __len__(...)\n",
        " |      x.__len__() <==> len(x)\n",
        " |  \n",
        " |  __lt__(...)\n",
        " |      x.__lt__(y) <==> x<y\n",
        " |  \n",
        " |  __mod__(...)\n",
        " |      x.__mod__(y) <==> x%y\n",
        " |  \n",
        " |  __mul__(...)\n",
        " |      x.__mul__(n) <==> x*n\n",
        " |  \n",
        " |  __ne__(...)\n",
        " |      x.__ne__(y) <==> x!=y\n",
        " |  \n",
        " |  __repr__(...)\n",
        " |      x.__repr__() <==> repr(x)\n",
        " |  \n",
        " |  __rmod__(...)\n",
        " |      x.__rmod__(y) <==> y%x\n",
        " |  \n",
        " |  __rmul__(...)\n",
        " |      x.__rmul__(n) <==> n*x\n",
        " |  \n",
        " |  __sizeof__(...)\n",
        " |      S.__sizeof__() -> size of S in memory, in bytes\n",
        " |  \n",
        " |  __str__(...)\n",
        " |      x.__str__() <==> str(x)\n",
        " |  \n",
        " |  capitalize(...)\n",
        " |      S.capitalize() -> string\n",
        " |      \n",
        " |      Return a copy of the string S with only its first character\n",
        " |      capitalized.\n",
        " |  \n",
        " |  center(...)\n",
        " |      S.center(width[, fillchar]) -> string\n",
        " |      \n",
        " |      Return S centered in a string of length width. Padding is\n",
        " |      done using the specified fill character (default is a space)\n",
        " |  \n",
        " |  count(...)\n",
        " |      S.count(sub[, start[, end]]) -> int\n",
        " |      \n",
        " |      Return the number of non-overlapping occurrences of substring sub in\n",
        " |      string S[start:end].  Optional arguments start and end are interpreted\n",
        " |      as in slice notation.\n",
        " |  \n",
        " |  decode(...)\n",
        " |      S.decode([encoding[,errors]]) -> object\n",
        " |      \n",
        " |      Decodes S using the codec registered for encoding. encoding defaults\n",
        " |      to the default encoding. errors may be given to set a different error\n",
        " |      handling scheme. Default is 'strict' meaning that encoding errors raise\n",
        " |      a UnicodeDecodeError. Other possible values are 'ignore' and 'replace'\n",
        " |      as well as any other name registered with codecs.register_error that is\n",
        " |      able to handle UnicodeDecodeErrors.\n",
        " |  \n",
        " |  encode(...)\n",
        " |      S.encode([encoding[,errors]]) -> object\n",
        " |      \n",
        " |      Encodes S using the codec registered for encoding. encoding defaults\n",
        " |      to the default encoding. errors may be given to set a different error\n",
        " |      handling scheme. Default is 'strict' meaning that encoding errors raise\n",
        " |      a UnicodeEncodeError. Other possible values are 'ignore', 'replace' and\n",
        " |      'xmlcharrefreplace' as well as any other name registered with\n",
        " |      codecs.register_error that is able to handle UnicodeEncodeErrors.\n",
        " |  \n",
        " |  endswith(...)\n",
        " |      S.endswith(suffix[, start[, end]]) -> bool\n",
        " |      \n",
        " |      Return True if S ends with the specified suffix, False otherwise.\n",
        " |      With optional start, test S beginning at that position.\n",
        " |      With optional end, stop comparing S at that position.\n",
        " |      suffix can also be a tuple of strings to try.\n",
        " |  \n",
        " |  expandtabs(...)\n",
        " |      S.expandtabs([tabsize]) -> string\n",
        " |      \n",
        " |      Return a copy of S where all tab characters are expanded using spaces.\n",
        " |      If tabsize is not given, a tab size of 8 characters is assumed.\n",
        " |  \n",
        " |  find(...)\n",
        " |      S.find(sub [,start [,end]]) -> int\n",
        " |      \n",
        " |      Return the lowest index in S where substring sub is found,\n",
        " |      such that sub is contained within S[start:end].  Optional\n",
        " |      arguments start and end are interpreted as in slice notation.\n",
        " |      \n",
        " |      Return -1 on failure.\n",
        " |  \n",
        " |  format(...)\n",
        " |      S.format(*args, **kwargs) -> string\n",
        " |      \n",
        " |      Return a formatted version of S, using substitutions from args and kwargs.\n",
        " |      The substitutions are identified by braces ('{' and '}').\n",
        " |  \n",
        " |  index(...)\n",
        " |      S.index(sub [,start [,end]]) -> int\n",
        " |      \n",
        " |      Like S.find() but raise ValueError when the substring is not found.\n",
        " |  \n",
        " |  isalnum(...)\n",
        " |      S.isalnum() -> bool\n",
        " |      \n",
        " |      Return True if all characters in S are alphanumeric\n",
        " |      and there is at least one character in S, False otherwise.\n",
        " |  \n",
        " |  isalpha(...)\n",
        " |      S.isalpha() -> bool\n",
        " |      \n",
        " |      Return True if all characters in S are alphabetic\n",
        " |      and there is at least one character in S, False otherwise.\n",
        " |  \n",
        " |  isdigit(...)\n",
        " |      S.isdigit() -> bool\n",
        " |      \n",
        " |      Return True if all characters in S are digits\n",
        " |      and there is at least one character in S, False otherwise.\n",
        " |  \n",
        " |  islower(...)\n",
        " |      S.islower() -> bool\n",
        " |      \n",
        " |      Return True if all cased characters in S are lowercase and there is\n",
        " |      at least one cased character in S, False otherwise.\n",
        " |  \n",
        " |  isspace(...)\n",
        " |      S.isspace() -> bool\n",
        " |      \n",
        " |      Return True if all characters in S are whitespace\n",
        " |      and there is at least one character in S, False otherwise.\n",
        " |  \n",
        " |  istitle(...)\n",
        " |      S.istitle() -> bool\n",
        " |      \n",
        " |      Return True if S is a titlecased string and there is at least one\n",
        " |      character in S, i.e. uppercase characters may only follow uncased\n",
        " |      characters and lowercase characters only cased ones. Return False\n",
        " |      otherwise.\n",
        " |  \n",
        " |  isupper(...)\n",
        " |      S.isupper() -> bool\n",
        " |      \n",
        " |      Return True if all cased characters in S are uppercase and there is\n",
        " |      at least one cased character in S, False otherwise.\n",
        " |  \n",
        " |  join(...)\n",
        " |      S.join(iterable) -> string\n",
        " |      \n",
        " |      Return a string which is the concatenation of the strings in the\n",
        " |      iterable.  The separator between elements is S.\n",
        " |  \n",
        " |  ljust(...)\n",
        " |      S.ljust(width[, fillchar]) -> string\n",
        " |      \n",
        " |      Return S left-justified in a string of length width. Padding is\n",
        " |      done using the specified fill character (default is a space).\n",
        " |  \n",
        " |  lower(...)\n",
        " |      S.lower() -> string\n",
        " |      \n",
        " |      Return a copy of the string S converted to lowercase.\n",
        " |  \n",
        " |  lstrip(...)\n",
        " |      S.lstrip([chars]) -> string or unicode\n",
        " |      \n",
        " |      Return a copy of the string S with leading whitespace removed.\n",
        " |      If chars is given and not None, remove characters in chars instead.\n",
        " |      If chars is unicode, S will be converted to unicode before stripping\n",
        " |  \n",
        " |  partition(...)\n",
        " |      S.partition(sep) -> (head, sep, tail)\n",
        " |      \n",
        " |      Search for the separator sep in S, and return the part before it,\n",
        " |      the separator itself, and the part after it.  If the separator is not\n",
        " |      found, return S and two empty strings.\n",
        " |  \n",
        " |  replace(...)\n",
        " |      S.replace(old, new[, count]) -> string\n",
        " |      \n",
        " |      Return a copy of string S with all occurrences of substring\n",
        " |      old replaced by new.  If the optional argument count is\n",
        " |      given, only the first count occurrences are replaced.\n",
        " |  \n",
        " |  rfind(...)\n",
        " |      S.rfind(sub [,start [,end]]) -> int\n",
        " |      \n",
        " |      Return the highest index in S where substring sub is found,\n",
        " |      such that sub is contained within S[start:end].  Optional\n",
        " |      arguments start and end are interpreted as in slice notation.\n",
        " |      \n",
        " |      Return -1 on failure.\n",
        " |  \n",
        " |  rindex(...)\n",
        " |      S.rindex(sub [,start [,end]]) -> int\n",
        " |      \n",
        " |      Like S.rfind() but raise ValueError when the substring is not found.\n",
        " |  \n",
        " |  rjust(...)\n",
        " |      S.rjust(width[, fillchar]) -> string\n",
        " |      \n",
        " |      Return S right-justified in a string of length width. Padding is\n",
        " |      done using the specified fill character (default is a space)\n",
        " |  \n",
        " |  rpartition(...)\n",
        " |      S.rpartition(sep) -> (head, sep, tail)\n",
        " |      \n",
        " |      Search for the separator sep in S, starting at the end of S, and return\n",
        " |      the part before it, the separator itself, and the part after it.  If the\n",
        " |      separator is not found, return two empty strings and S.\n",
        " |  \n",
        " |  rsplit(...)\n",
        " |      S.rsplit([sep [,maxsplit]]) -> list of strings\n",
        " |      \n",
        " |      Return a list of the words in the string S, using sep as the\n",
        " |      delimiter string, starting at the end of the string and working\n",
        " |      to the front.  If maxsplit is given, at most maxsplit splits are\n",
        " |      done. If sep is not specified or is None, any whitespace string\n",
        " |      is a separator.\n",
        " |  \n",
        " |  rstrip(...)\n",
        " |      S.rstrip([chars]) -> string or unicode\n",
        " |      \n",
        " |      Return a copy of the string S with trailing whitespace removed.\n",
        " |      If chars is given and not None, remove characters in chars instead.\n",
        " |      If chars is unicode, S will be converted to unicode before stripping\n",
        " |  \n",
        " |  split(...)\n",
        " |      S.split([sep [,maxsplit]]) -> list of strings\n",
        " |      \n",
        " |      Return a list of the words in the string S, using sep as the\n",
        " |      delimiter string.  If maxsplit is given, at most maxsplit\n",
        " |      splits are done. If sep is not specified or is None, any\n",
        " |      whitespace string is a separator and empty strings are removed\n",
        " |      from the result.\n",
        " |  \n",
        " |  splitlines(...)\n",
        " |      S.splitlines(keepends=False) -> list of strings\n",
        " |      \n",
        " |      Return a list of the lines in S, breaking at line boundaries.\n",
        " |      Line breaks are not included in the resulting list unless keepends\n",
        " |      is given and true.\n",
        " |  \n",
        " |  startswith(...)\n",
        " |      S.startswith(prefix[, start[, end]]) -> bool\n",
        " |      \n",
        " |      Return True if S starts with the specified prefix, False otherwise.\n",
        " |      With optional start, test S beginning at that position.\n",
        " |      With optional end, stop comparing S at that position.\n",
        " |      prefix can also be a tuple of strings to try.\n",
        " |  \n",
        " |  strip(...)\n",
        " |      S.strip([chars]) -> string or unicode\n",
        " |      \n",
        " |      Return a copy of the string S with leading and trailing\n",
        " |      whitespace removed.\n",
        " |      If chars is given and not None, remove characters in chars instead.\n",
        " |      If chars is unicode, S will be converted to unicode before stripping\n",
        " |  \n",
        " |  swapcase(...)\n",
        " |      S.swapcase() -> string\n",
        " |      \n",
        " |      Return a copy of the string S with uppercase characters\n",
        " |      converted to lowercase and vice versa.\n",
        " |  \n",
        " |  title(...)\n",
        " |      S.title() -> string\n",
        " |      \n",
        " |      Return a titlecased version of S, i.e. words start with uppercase\n",
        " |      characters, all remaining cased characters have lowercase.\n",
        " |  \n",
        " |  translate(...)\n",
        " |      S.translate(table [,deletechars]) -> string\n",
        " |      \n",
        " |      Return a copy of the string S, where all characters occurring\n",
        " |      in the optional argument deletechars are removed, and the\n",
        " |      remaining characters have been mapped through the given\n",
        " |      translation table, which must be a string of length 256 or None.\n",
        " |      If the table argument is None, no translation is applied and\n",
        " |      the operation simply removes the characters in deletechars.\n",
        " |  \n",
        " |  upper(...)\n",
        " |      S.upper() -> string\n",
        " |      \n",
        " |      Return a copy of the string S converted to uppercase.\n",
        " |  \n",
        " |  zfill(...)\n",
        " |      S.zfill(width) -> string\n",
        " |      \n",
        " |      Pad a numeric string S with zeros on the left, to fill a field\n",
        " |      of the specified width.  The string S is never truncated.\n",
        " |  \n",
        " |  ----------------------------------------------------------------------\n",
        " |  Data and other attributes defined here:\n",
        " |  \n",
        " |  __new__ = <built-in method __new__ of type object>\n",
        " |      T.__new__(S, ...) -> a new object with type S, a subtype of T\n",
        "\n"
       ]
      }
     ],
     "prompt_number": 64
    },
    {
     "cell_type": "code",
     "collapsed": false,
     "input": [
      "# for help with a method\n",
      "help(str.replace)"
     ],
     "language": "python",
     "metadata": {},
     "outputs": [
      {
       "output_type": "stream",
       "stream": "stdout",
       "text": [
        "Help on method_descriptor:\n",
        "\n",
        "replace(...)\n",
        "    S.replace(old, new[, count]) -> string\n",
        "    \n",
        "    Return a copy of string S with all occurrences of substring\n",
        "    old replaced by new.  If the optional argument count is\n",
        "    given, only the first count occurrences are replaced.\n",
        "\n"
       ]
      }
     ],
     "prompt_number": 63
    }
   ],
   "metadata": {}
  }
 ]
}