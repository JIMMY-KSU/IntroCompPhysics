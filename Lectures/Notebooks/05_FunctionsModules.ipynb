{
 "metadata": {
  "name": "",
  "signature": "sha256:04770afb2489b7d07c259f6543f26c3c1a80c7e3ce989ad88a67776a6eca9b53"
 },
 "nbformat": 3,
 "nbformat_minor": 0,
 "worksheets": [
  {
   "cells": [
    {
     "cell_type": "markdown",
     "metadata": {},
     "source": [
      "# Physics 296\n",
      "## Lecture 04 - Dictionaries and Control"
     ]
    },
    {
     "cell_type": "markdown",
     "metadata": {},
     "source": [
      "<img src=\"http://imgs.xkcd.com/comics/pointers.png\" width=400px>\n",
      "http://xkcd.com/138/"
     ]
    },
    {
     "cell_type": "markdown",
     "metadata": {},
     "source": [
      "## Last Time\n",
      "\n",
      "- lists\n",
      "    - heterogeneous collections\n",
      "    - create and index with `[a,b,c]`\n",
      "    - slice with `l[start:finish:step]`\n",
      "\n",
      "## Today\n",
      "\n",
      "- Dictionaries\n",
      "- Tuples\n",
      "- Control structures\n",
      "- Repitition"
     ]
    },
    {
     "cell_type": "markdown",
     "metadata": {},
     "source": [
      "## Programming Challenges\n",
      "\n",
      "<div class=\"row\">\n",
      "<div class=\"span alert alert-info\">\n",
      "1. Given two strings, return their concatenation, except omit the first character of each.\n",
      "<code>\n",
      "s1 = 'hello'\n",
      "s2 = 'there'\n",
      "output --> 'ellohere'\n",
      "</code>\n",
      "</div>\n",
      "</div>"
     ]
    },
    {
     "cell_type": "markdown",
     "metadata": {},
     "source": [
      "<div class=\"row\">\n",
      "<div class=\"span4 alert alert-info\">\n",
      "What is the value of result after the loop terminates?\n",
      "<code>\n",
      "result,item = 0,0\n",
      "while item < 4:\n",
      "    item += 1\n",
      "    result += item\n",
      "    if result > 3: break \n",
      "</code>\n",
      "<ol class='a'>\n",
      "<li> 4 </li>\n",
      "<li>5</li>\n",
      "<li>6</li>\n",
      "<li>7</li>\n",
      "</ol>\n",
      "</div>\n",
      "</div>"
     ]
    },
    {
     "cell_type": "code",
     "collapsed": false,
     "input": [
      "result,item = 0,0\n",
      "while item < 4:\n",
      "    item += 1\n",
      "    result += item\n",
      "    print result,item\n",
      "    if result > 3: break \n",
      "print 'result = %d' % result"
     ],
     "language": "python",
     "metadata": {},
     "outputs": []
    },
    {
     "cell_type": "code",
     "collapsed": false,
     "input": [
      "# we can use 'enumerate' for access to both the integer index and value\n",
      "names = ['Mal', 'Zoe', 'Wash', 'Inara', 'Jayne', 'Kaylee', 'Simon', 'River', 'Book']\n",
      "for idx,name in enumerate(names):\n",
      "    print '%d\\t%s' % (idx,name)\n"
     ],
     "language": "python",
     "metadata": {},
     "outputs": []
    },
    {
     "cell_type": "markdown",
     "metadata": {},
     "source": [
      "### List comprehensions\n",
      "\n",
      "python contains a powerful construct called **list comprehensions**, they allow us to easily build and operate on the items in a list"
     ]
    },
    {
     "cell_type": "code",
     "collapsed": false,
     "input": [
      "n = ['   one   ', '   two   ', '   three   ']\n",
      "stripped = [num.strip() for num in n]\n",
      "print stripped"
     ],
     "language": "python",
     "metadata": {},
     "outputs": []
    },
    {
     "cell_type": "code",
     "collapsed": false,
     "input": [
      "# we can even throw in control\n",
      "odd = [i for i in range(10) if i % 2]\n",
      "print odd"
     ],
     "language": "python",
     "metadata": {},
     "outputs": []
    },
    {
     "cell_type": "code",
     "collapsed": false,
     "input": [
      "# they can be nested at any level\n",
      "cnum = [complex(x,y) for x in range(5) for y in range(5) if abs(complex(x,y)) < 3]\n",
      "print cnum\n"
     ],
     "language": "python",
     "metadata": {},
     "outputs": []
    },
    {
     "cell_type": "markdown",
     "metadata": {},
     "source": [
      "<div class=\"row\">\n",
      "<div class=\"span alert alert-info\">\n",
      "<h2> Team programming challenge </h2>\n",
      "<h3> The sieve of Eratosthenes</h3>\n",
      "Compute all the prime numbers up to 50.\n",
      "</div>\n",
      "</div>"
     ]
    },
    {
     "cell_type": "code",
     "collapsed": false,
     "input": [
      "%load primes.py"
     ],
     "language": "python",
     "metadata": {},
     "outputs": [],
     "prompt_number": 41
    }
   ],
   "metadata": {}
  }
 ]
}