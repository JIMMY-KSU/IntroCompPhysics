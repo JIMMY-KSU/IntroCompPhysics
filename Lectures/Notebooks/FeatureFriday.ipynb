{
 "metadata": {
  "name": "",
  "signature": "sha256:b1dbe7cf07147e914a932596a7a712dfb322ebdba261f05b9028e5e66074023e"
 },
 "nbformat": 3,
 "nbformat_minor": 0,
 "worksheets": [
  {
   "cells": [
    {
     "cell_type": "markdown",
     "metadata": {},
     "source": [
      "# Feature Friday"
     ]
    },
    {
     "cell_type": "markdown",
     "metadata": {},
     "source": [
      "## 08/29/2014 - Adrian Del Maestro\n",
      "\n",
      "### Fun Modules\n",
      "\n",
      "The python language contains th esmall number of keywords we dicussed last time.  However it's functionality can be greatly enhanced by loading various *modules*.  This is done with the `import` command and there are various forms that we will learn about going forward."
     ]
    },
    {
     "cell_type": "code",
     "collapsed": false,
     "input": [
      "import this"
     ],
     "language": "python",
     "metadata": {},
     "outputs": []
    },
    {
     "cell_type": "code",
     "collapsed": false,
     "input": [
      "import antigravity"
     ],
     "language": "python",
     "metadata": {},
     "outputs": []
    },
    {
     "cell_type": "markdown",
     "metadata": {},
     "source": [
      "A list of all python modules contained in the standard library can be found here: https://docs.python.org/2/py-modindex.html"
     ]
    },
    {
     "cell_type": "code",
     "collapsed": false,
     "input": [
      "import platform\n",
      "print platform.platform()"
     ],
     "language": "python",
     "metadata": {},
     "outputs": []
    }
   ],
   "metadata": {}
  }
 ]
}