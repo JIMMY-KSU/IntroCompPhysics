{
 "metadata": {
  "name": "",
  "signature": "sha256:bec07b6b97d3360f6381426c1e56455ce831b328acef82a8b86c7d972cddd206"
 },
 "nbformat": 3,
 "nbformat_minor": 0,
 "worksheets": [
  {
   "cells": [
    {
     "cell_type": "markdown",
     "metadata": {},
     "source": [
      "# Lecture Challenges"
     ]
    },
    {
     "cell_type": "markdown",
     "metadata": {},
     "source": [
      "----\n",
      "## 08/27/2014\n",
      "\n",
      "## 1. Generate a sequence of N Fibonacci numbers"
     ]
    },
    {
     "cell_type": "markdown",
     "metadata": {},
     "source": [
      "### Nathan Nichols"
     ]
    },
    {
     "cell_type": "code",
     "collapsed": false,
     "input": [
      "for N in range(1,(int(raw_input('How many Fibonacci numbers do you want? \\n'))+1)):\n",
      "   print int((1/(5**.5))*((((1+(5**.5))/2)**N)-(((1-(5**.5))/2)**N)))"
     ],
     "language": "python",
     "metadata": {},
     "outputs": []
    },
    {
     "cell_type": "markdown",
     "metadata": {},
     "source": [
      "### Ben Himberg"
     ]
    },
    {
     "cell_type": "code",
     "collapsed": false,
     "input": [
      "def fib(A,B,C):\n",
      "    print(A + B)\n",
      "    if(C != 0): fib(B,A+B,C-1)\n",
      "\n",
      "#calling the function\n",
      "fib(0,1,int(raw_input('Enter the length of the sequence: ')))"
     ],
     "language": "python",
     "metadata": {},
     "outputs": []
    },
    {
     "cell_type": "markdown",
     "metadata": {},
     "source": [
      "## 2. Write a program to determine if two integers are coprime"
     ]
    },
    {
     "cell_type": "markdown",
     "metadata": {},
     "source": [
      "### Dan Allman"
     ]
    },
    {
     "cell_type": "code",
     "collapsed": false,
     "input": [
      "def gcd (a,b):  #function to determine greatest common denominator of two numbers,based on the Euclidean algorithm.\n",
      "    while b != 0: #terminate when b=0, indicating last step of euclidean algorithm is complete. \n",
      "        a,b = b, a%b #Note that if a<b, this step will simply exchange the two integers, as required in the algorithm.\n",
      "    return a  #greatest common denominator\n",
      "\n",
      "def cptest (i,j):  #test the gcd of two numbers. If gcd=1, then the two are coprime.\n",
      "    if gcd(i,j) != 1:\n",
      "        print '%i and %i are not coprime integers. Their gcd is %i.' % (i,j,gcd(i,j))\n",
      "    else:\n",
      "        print '%i and %i are coprime integers.' % (i,j)\n",
      "\n",
      "cptest(int(raw_input('1st number: ')), int(raw_input('2nd number: ')))"
     ],
     "language": "python",
     "metadata": {},
     "outputs": []
    },
    {
     "cell_type": "markdown",
     "metadata": {},
     "source": [
      "### Kyle Robertson"
     ]
    },
    {
     "cell_type": "code",
     "collapsed": false,
     "input": [
      "a = input('What is the first number?: ')\n",
      "b = input('What is the second number?: ')\n",
      "\n",
      "Afactorlist = []\n",
      "for i in range(a): \n",
      "    i += 1\n",
      "    mod = a % i\n",
      "    if mod == 0:\n",
      "        Afactorlist.append(i)\n",
      "    else:\n",
      "        None \n",
      " \n",
      "Bfactorlist = []\n",
      "for i in range(b): \n",
      "    i += 1\n",
      "    mod = b % i\n",
      "    if mod == 0:\n",
      "        Bfactorlist.append(i)\n",
      "    else:\n",
      "        None \n",
      "\n",
      "commonfactors = []\n",
      "for i in Afactorlist:\n",
      "    for j in Bfactorlist:\n",
      "        if i == j:\n",
      "            commonfactors.append(i)\n",
      "        else:\n",
      "            None\n",
      "\n",
      "length = len(commonfactors)\n",
      "if length > 1:\n",
      "    print \"\\nYour numbers are not coprime\"\n",
      "else:\n",
      "    print \"\\nYour numbers are coprime!\" "
     ],
     "language": "python",
     "metadata": {},
     "outputs": []
    },
    {
     "cell_type": "markdown",
     "metadata": {},
     "source": [
      "----\n",
      "## 08/29/2014\n",
      "\n",
      "## 1. Build Pascal's triangle and output the formatted triangle to the terminal\n",
      "Pascal's triangle starts with a single 1 at the top, then each row after that is built from the previous one, where the first and last number on the row are the first and last number of the previous row, and each number in-between is the sum of the two numbers to the left and righ on the previous row. The n<sup>th</sup> row has n numbers on it. It looks like this:\n",
      "\n",
      "<code>\n",
      "    1\n",
      "   1 1\n",
      "  1 2 1\n",
      " 1 3 3 1\n",
      "1 4 6 4 1\n",
      "...\n",
      "</code>"
     ]
    },
    {
     "cell_type": "markdown",
     "metadata": {},
     "source": [
      "## 2. Solve the 8 Queen's Problem\n",
      "How can you place eight chess queens on an 8\u00d78 chessboard so that no two queens threaten each other?"
     ]
    }
   ],
   "metadata": {}
  }
 ]
}