{
 "metadata": {
  "name": "",
  "signature": "sha256:7cedfa9f68077947ea309cb62e13ca2eb9ed9fcbdd0051e3518dbe19eaab2cd2"
 },
 "nbformat": 3,
 "nbformat_minor": 0,
 "worksheets": [
  {
   "cells": [
    {
     "cell_type": "markdown",
     "metadata": {},
     "source": [
      "# Physics 296\n",
      "## Lecture 03 - Python Containers"
     ]
    },
    {
     "cell_type": "code",
     "collapsed": false,
     "input": [
      "from IPython.display import Image\n",
      "Image(url=\"\")"
     ],
     "language": "python",
     "metadata": {},
     "outputs": [
      {
       "html": [
        "<img src=\"\"/>"
       ],
       "metadata": {},
       "output_type": "pyout",
       "prompt_number": 1,
       "text": [
        "<IPython.core.display.Image at 0x109e13090>"
       ]
      }
     ],
     "prompt_number": 1
    },
    {
     "cell_type": "markdown",
     "metadata": {},
     "source": [
      "## Last Time\n",
      "\n",
      "- Got python up and running\n",
      "    - interpreter\n",
      "    - idle\n",
      "    - canopy\n",
      "    - iPython Notebook\n",
      "- Reserved Words\n",
      "- Variable types and assignment\n",
      "- Strings\n",
      "- getting help\n",
      "\n",
      "## Today\n",
      "\n",
      "Python containers: lists, dictionaries, sets"
     ]
    },
    {
     "cell_type": "markdown",
     "metadata": {},
     "source": [
      "<div class=\"row\">\n",
      "<div class=\"span4 alert alert-info\">\n",
      "Question: What is the output of:\n",
      "<code>\n",
      "    a = complex(3,3)\n",
      "    b = a + 1j\n",
      "    print abs(b)\n",
      "</code>\n",
      "<ol class=\"a\">\n",
      "<li> 4.24264\n",
      "<li> 25.0\n",
      "<li> 5.0\n",
      "<li> 18\n",
      "</ol>\n",
      "</div>\n",
      "</div>"
     ]
    },
    {
     "cell_type": "markdown",
     "metadata": {},
     "source": [
      "## Lists\n",
      "\n",
      "Lists are the basic container type in python.  \n",
      "\n",
      "### Creation"
     ]
    },
    {
     "cell_type": "code",
     "collapsed": false,
     "input": [
      "# create using square brackets []\n",
      "l = [1,2,3,4,5]\n",
      "print l"
     ],
     "language": "python",
     "metadata": {},
     "outputs": []
    },
    {
     "cell_type": "code",
     "collapsed": false,
     "input": [
      "# concatenating lists with +\n",
      "[1,2,3] + [4,5]"
     ],
     "language": "python",
     "metadata": {},
     "outputs": []
    },
    {
     "cell_type": "code",
     "collapsed": false,
     "input": [
      "# repeating elements in a list with *\n",
      "[1,2,3]*3"
     ],
     "language": "python",
     "metadata": {},
     "outputs": []
    },
    {
     "cell_type": "code",
     "collapsed": false,
     "input": [
      "# we can easily create an integer sequence with range\n",
      "print range(5)\n",
      "print range(2,7)\n",
      "print range(7,2,-1)"
     ],
     "language": "python",
     "metadata": {},
     "outputs": []
    },
    {
     "cell_type": "markdown",
     "metadata": {},
     "source": [
      "### Indexing"
     ]
    },
    {
     "cell_type": "code",
     "collapsed": false,
     "input": [
      "# retriving an element\n",
      "l = [1,2,3,4,5]\n",
      "l[0]"
     ],
     "language": "python",
     "metadata": {},
     "outputs": []
    },
    {
     "cell_type": "code",
     "collapsed": false,
     "input": [
      "# setting an element\n",
      "l[1] = 8\n",
      "print l"
     ],
     "language": "python",
     "metadata": {},
     "outputs": []
    },
    {
     "cell_type": "code",
     "collapsed": false,
     "input": [
      "# be careful to stay in bounds\n",
      "l[10]"
     ],
     "language": "python",
     "metadata": {},
     "outputs": []
    },
    {
     "cell_type": "markdown",
     "metadata": {},
     "source": [
      "<div class=\"row\">\n",
      "<div class=\"span alert alert-error\">\n",
      "They can hold nearly anything and are `0` indexed.  Be careful if you are coming from matlab.\n",
      "</div>\n",
      "</div>\n",
      "\n",
      "### Negative indices"
     ]
    },
    {
     "cell_type": "code",
     "collapsed": false,
     "input": [
      "# negative indices cound backwards from the end of the list\n",
      "l = [1,2,3,4,5]\n",
      "print l[-1]\n",
      "print l[-2]"
     ],
     "language": "python",
     "metadata": {},
     "outputs": []
    },
    {
     "cell_type": "markdown",
     "metadata": {},
     "source": [
      "### Mixed types"
     ]
    },
    {
     "cell_type": "code",
     "collapsed": false,
     "input": [
      "# a great benefit of python lists is that they are general \n",
      "# containers that can store mixed types\n",
      "l = [10,'eleven', [12,13]]"
     ],
     "language": "python",
     "metadata": {},
     "outputs": []
    },
    {
     "cell_type": "code",
     "collapsed": false,
     "input": [
      "l[0]"
     ],
     "language": "python",
     "metadata": {},
     "outputs": []
    },
    {
     "cell_type": "code",
     "collapsed": false,
     "input": [
      "l[2]"
     ],
     "language": "python",
     "metadata": {},
     "outputs": []
    },
    {
     "cell_type": "code",
     "collapsed": false,
     "input": [
      "# multiple indices are used to retrieve elements in nested lists \n",
      "l[2][0]"
     ],
     "language": "python",
     "metadata": {},
     "outputs": []
    },
    {
     "cell_type": "code",
     "collapsed": false,
     "input": [
      "# length of a list\n",
      "len(l)"
     ],
     "language": "python",
     "metadata": {},
     "outputs": []
    },
    {
     "cell_type": "code",
     "collapsed": false,
     "input": [
      "# deleting an object from a list\n",
      "del l[2]\n",
      "l"
     ],
     "language": "python",
     "metadata": {},
     "outputs": []
    },
    {
     "cell_type": "code",
     "collapsed": false,
     "input": [
      "# testing for membership\n",
      "l = [10,11,12,13,14]\n",
      "13 in l"
     ],
     "language": "python",
     "metadata": {},
     "outputs": []
    },
    {
     "cell_type": "code",
     "collapsed": false,
     "input": [
      "13 not in l"
     ],
     "language": "python",
     "metadata": {},
     "outputs": []
    },
    {
     "cell_type": "markdown",
     "metadata": {},
     "source": [
      "<div class=\"row\">\n",
      "<div class=\"span alert alert-error\">\n",
      "List assignment using '=' does not copy, but  adds an additional handle to the list.  \n",
      "This is a common GOTCHA for new python programmers!\n",
      "</div>\n",
      "</div>"
     ]
    },
    {
     "cell_type": "markdown",
     "metadata": {},
     "source": [
      "### Slicing"
     ]
    },
    {
     "cell_type": "code",
     "collapsed": false,
     "input": [
      "# slices extract a portion of a list that goes up to but does\n",
      "# not include the upper bound. Mathematically this corresponds \n",
      "# to [lower,upper)\n",
      "l = [10,11,12,13,14]\n",
      "l[1:3]"
     ],
     "language": "python",
     "metadata": {},
     "outputs": []
    },
    {
     "cell_type": "code",
     "collapsed": false,
     "input": [
      "# negative indices also work\n",
      "l[1:-2]"
     ],
     "language": "python",
     "metadata": {},
     "outputs": []
    },
    {
     "cell_type": "code",
     "collapsed": false,
     "input": [
      "l[-4:-3]"
     ],
     "language": "python",
     "metadata": {},
     "outputs": []
    },
    {
     "cell_type": "code",
     "collapsed": false,
     "input": [
      "# ommitted boundares are assumed to be either the start or end of the list\n",
      "l[:3]"
     ],
     "language": "python",
     "metadata": {},
     "outputs": []
    },
    {
     "cell_type": "code",
     "collapsed": false,
     "input": [
      "l[-2:]"
     ],
     "language": "python",
     "metadata": {},
     "outputs": []
    },
    {
     "cell_type": "code",
     "collapsed": false,
     "input": [
      "# we can use strides to extract odd\n",
      "l[::2]"
     ],
     "language": "python",
     "metadata": {},
     "outputs": []
    },
    {
     "cell_type": "code",
     "collapsed": false,
     "input": [
      "# even\n",
      "l[1::2]"
     ],
     "language": "python",
     "metadata": {},
     "outputs": []
    },
    {
     "cell_type": "code",
     "collapsed": false,
     "input": [
      "# or any equally spaced elements\n",
      "l[::3]"
     ],
     "language": "python",
     "metadata": {},
     "outputs": []
    },
    {
     "cell_type": "markdown",
     "metadata": {},
     "source": [
      "### List operations"
     ]
    },
    {
     "cell_type": "code",
     "collapsed": false,
     "input": [
      "# counting the number of times an item appears\n",
      "l = [10,10,10,11]\n",
      "l.count(10)"
     ],
     "language": "python",
     "metadata": {},
     "outputs": []
    },
    {
     "cell_type": "code",
     "collapsed": false,
     "input": [
      "# append an item to a list\n",
      "l = [10,11,12,13,14]\n",
      "l.append(15)\n",
      "l"
     ],
     "language": "python",
     "metadata": {},
     "outputs": []
    },
    {
     "cell_type": "code",
     "collapsed": false,
     "input": [
      "# inset an item into a list\n",
      "l.insert(3,12.5)\n",
      "l"
     ],
     "language": "python",
     "metadata": {},
     "outputs": []
    },
    {
     "cell_type": "code",
     "collapsed": false,
     "input": [
      "# remove a specified item from a list\n",
      "l.remove(13)\n",
      "l"
     ],
     "language": "python",
     "metadata": {},
     "outputs": []
    },
    {
     "cell_type": "code",
     "collapsed": false,
     "input": [
      "# get the index of a list element\n",
      "l.index(14)"
     ],
     "language": "python",
     "metadata": {},
     "outputs": []
    },
    {
     "cell_type": "code",
     "collapsed": false,
     "input": [
      "# extend a list\n",
      "l.extend([16,17])\n",
      "l"
     ],
     "language": "python",
     "metadata": {},
     "outputs": []
    },
    {
     "cell_type": "code",
     "collapsed": false,
     "input": [
      "# remove the last item and return it\n",
      "l.pop()\n",
      "l"
     ],
     "language": "python",
     "metadata": {},
     "outputs": []
    },
    {
     "cell_type": "code",
     "collapsed": false,
     "input": [
      "# reverse the list in place\n",
      "l.reverse()\n",
      "l"
     ],
     "language": "python",
     "metadata": {},
     "outputs": []
    },
    {
     "cell_type": "code",
     "collapsed": false,
     "input": [
      "# sort the list, a custom comparison can be used\n",
      "l.sort()\n",
      "l"
     ],
     "language": "python",
     "metadata": {},
     "outputs": []
    },
    {
     "cell_type": "markdown",
     "metadata": {},
     "source": [
      "### Extend vs. Append"
     ]
    },
    {
     "cell_type": "code",
     "collapsed": false,
     "input": [
      "# append adds an item to a list\n",
      "l = [1,2,3,4]\n",
      "l.append([5,6])\n",
      "l"
     ],
     "language": "python",
     "metadata": {},
     "outputs": []
    },
    {
     "cell_type": "code",
     "collapsed": false,
     "input": [
      "# while extend concatenates lists\n",
      "l = [1,2,3,4]\n",
      "l.extend([5,6])\n",
      "l"
     ],
     "language": "python",
     "metadata": {},
     "outputs": []
    },
    {
     "cell_type": "code",
     "collapsed": false,
     "input": [
      "# you can extend with an arbitrarily iterable\n",
      "l.extend('abc')\n",
      "l"
     ],
     "language": "python",
     "metadata": {},
     "outputs": []
    },
    {
     "cell_type": "code",
     "collapsed": false,
     "input": [
      "# a list can be easily used a stack\n",
      "stack = [3,4,5]\n",
      "stack.append(6)\n",
      "stack.append(7)\n",
      "stack"
     ],
     "language": "python",
     "metadata": {},
     "outputs": []
    },
    {
     "cell_type": "code",
     "collapsed": false,
     "input": [
      "stack.pop()\n",
      "stack"
     ],
     "language": "python",
     "metadata": {},
     "outputs": []
    },
    {
     "cell_type": "code",
     "collapsed": false,
     "input": [
      "stack.pop()\n",
      "stack.pop()\n",
      "stack"
     ],
     "language": "python",
     "metadata": {},
     "outputs": []
    },
    {
     "cell_type": "markdown",
     "metadata": {},
     "source": [
      "### Lists are mutable\n",
      "They can be changed in place"
     ]
    },
    {
     "cell_type": "code",
     "collapsed": false,
     "input": [
      "l = [10,11,12,13,14]\n",
      "l[1:3] = [5,6]"
     ],
     "language": "python",
     "metadata": {},
     "outputs": []
    },
    {
     "cell_type": "markdown",
     "metadata": {},
     "source": [
      "<div class=\"row\">\n",
      "<div class=\"span4 alert alert-info\">\n",
      "Question: What is the output of: `print l`\n",
      "<ol class=\"a\">\n",
      "<li>[5,6]</li>\n",
      "<li>[10,5,6,13,14]</li>\n",
      "<li>[5,6,12,13,14]</li>\n",
      "<li> None of the above</li>\n",
      "</ol>\n",
      "</div>\n",
      "</div>"
     ]
    },
    {
     "cell_type": "code",
     "collapsed": false,
     "input": [
      "print l"
     ],
     "language": "python",
     "metadata": {},
     "outputs": []
    },
    {
     "cell_type": "markdown",
     "metadata": {},
     "source": [
      "### Strings as list\n",
      "\n",
      "Strings can be treated as lists and indexed/sliced, but they are immutable!"
     ]
    },
    {
     "cell_type": "code",
     "collapsed": false,
     "input": [
      "s = 'abcde'\n",
      "s[1:3] = 'xy'"
     ],
     "language": "python",
     "metadata": {},
     "outputs": []
    },
    {
     "cell_type": "code",
     "collapsed": false,
     "input": [
      "# here's how we do it\n",
      "s = s[:1] + 'xy' + s[3:]\n",
      "print s"
     ],
     "language": "python",
     "metadata": {},
     "outputs": []
    },
    {
     "cell_type": "code",
     "collapsed": false,
     "input": [],
     "language": "python",
     "metadata": {},
     "outputs": []
    },
    {
     "cell_type": "code",
     "collapsed": false,
     "input": [],
     "language": "python",
     "metadata": {},
     "outputs": []
    }
   ],
   "metadata": {}
  }
 ]
}