{
 "metadata": {
  "name": "",
  "signature": "sha256:579a857d1dc243f9a8990581a0cbe8eb328ad20465e3311c4ec7d2d9d5e7397c"
 },
 "nbformat": 3,
 "nbformat_minor": 0,
 "worksheets": [
  {
   "cells": [
    {
     "cell_type": "markdown",
     "metadata": {},
     "source": [
      "# Physics 296\n",
      "## Lecture 03 - Python Containers"
     ]
    },
    {
     "cell_type": "markdown",
     "metadata": {},
     "source": [
      "<img src=\"http://upload.wikimedia.org/wikipedia/commons/d/df/Container_01_KMJ.jpg\" width=400px>"
     ]
    },
    {
     "cell_type": "markdown",
     "metadata": {},
     "source": [
      "## Last Time\n",
      "\n",
      "- got python up and running\n",
      "    - interpreter\n",
      "    - idle\n",
      "    - canopy\n",
      "    - iPython Notebook\n",
      "- reserved Words\n",
      "- variable types and assignment\n",
      "- strings\n",
      "- getting help\n",
      "\n",
      "## Today\n",
      "\n",
      "Python containers: lists, dictionaries, sets"
     ]
    },
    {
     "cell_type": "markdown",
     "metadata": {},
     "source": [
      "## Warm Up Questions\n",
      "\n",
      "<div class=\"row\">\n",
      "<div class=\"span alert alert-info\">\n",
      "What is the output of:\n",
      "<code>\n",
      "  print '9/4 = %s while 9.0/4 = %4.3f' % (9/4,9.0/4)\n",
      "</code>\n",
      "</div>\n",
      "</div>"
     ]
    },
    {
     "cell_type": "code",
     "collapsed": false,
     "input": [
      "print '9/4 = %s while 9.0/4 = %4.2f' % (9/4,9.0/4)"
     ],
     "language": "python",
     "metadata": {},
     "outputs": []
    },
    {
     "cell_type": "markdown",
     "metadata": {},
     "source": [
      "<div class=\"row\">\n",
      "<div class=\"span4 alert alert-info\">\n",
      "What is the output of:\n",
      "<code>\n",
      "  i,j = 1,1\n",
      "  i += j + j*5\n",
      "  print i\n",
      "</code>\n",
      "<ol class='a'>\n",
      "<li> 1 </li>\n",
      "<li>6</li>\n",
      "<li>7</li>\n",
      "<li>none/other/error</li>\n",
      "</ol>\n",
      "</div>\n",
      "</div>"
     ]
    },
    {
     "cell_type": "code",
     "collapsed": false,
     "input": [
      "i,j = 1,1\n",
      "i += j + j*5\n",
      "print i"
     ],
     "language": "python",
     "metadata": {},
     "outputs": []
    },
    {
     "cell_type": "markdown",
     "metadata": {},
     "source": [
      "## Lists\n",
      "\n",
      "Lists are the basic container type in python.  \n",
      "\n",
      "### Creation"
     ]
    },
    {
     "cell_type": "code",
     "collapsed": false,
     "input": [
      "# create using square brackets []\n",
      "l = [1,2,3,4,5]\n",
      "print l"
     ],
     "language": "python",
     "metadata": {},
     "outputs": []
    },
    {
     "cell_type": "code",
     "collapsed": false,
     "input": [
      "# concatenating lists with +\n",
      "[1,2,3] + [4,5]"
     ],
     "language": "python",
     "metadata": {},
     "outputs": []
    },
    {
     "cell_type": "code",
     "collapsed": false,
     "input": [
      "# repeating elements in a list with *\n",
      "[1,2,3]*3"
     ],
     "language": "python",
     "metadata": {},
     "outputs": []
    },
    {
     "cell_type": "code",
     "collapsed": false,
     "input": [
      "# we can easily create an integer sequence with range\n",
      "print range(5)\n",
      "print range(2,7)\n",
      "print range(7,2,-1)"
     ],
     "language": "python",
     "metadata": {},
     "outputs": []
    },
    {
     "cell_type": "markdown",
     "metadata": {},
     "source": [
      "### Indexing"
     ]
    },
    {
     "cell_type": "code",
     "collapsed": false,
     "input": [
      "# retriving an element\n",
      "l = [1,2,3,4,5]\n",
      "l[0]"
     ],
     "language": "python",
     "metadata": {},
     "outputs": []
    },
    {
     "cell_type": "code",
     "collapsed": false,
     "input": [
      "# setting an element\n",
      "l[1] = 8\n",
      "print l"
     ],
     "language": "python",
     "metadata": {},
     "outputs": []
    },
    {
     "cell_type": "code",
     "collapsed": false,
     "input": [
      "# be careful to stay in bounds\n",
      "l[10]"
     ],
     "language": "python",
     "metadata": {},
     "outputs": []
    },
    {
     "cell_type": "markdown",
     "metadata": {},
     "source": [
      "<div class=\"row\">\n",
      "<div class=\"span alert alert-error\">\n",
      "They can hold nearly anything and are `0` indexed.  Be careful if you are coming from matlab.\n",
      "</div>\n",
      "</div>\n",
      "\n",
      "### Negative indices"
     ]
    },
    {
     "cell_type": "code",
     "collapsed": false,
     "input": [
      "# negative indices cound backwards from the end of the list\n",
      "l = [1,2,3,4,5]\n",
      "print l[-1]\n",
      "print l[-2]"
     ],
     "language": "python",
     "metadata": {},
     "outputs": []
    },
    {
     "cell_type": "markdown",
     "metadata": {},
     "source": [
      "### Mixed types"
     ]
    },
    {
     "cell_type": "code",
     "collapsed": false,
     "input": [
      "# a great benefit of python lists is that they are general \n",
      "# containers that can store mixed types\n",
      "l = [10,'eleven', [12,13]]"
     ],
     "language": "python",
     "metadata": {},
     "outputs": []
    },
    {
     "cell_type": "code",
     "collapsed": false,
     "input": [
      "l[0]"
     ],
     "language": "python",
     "metadata": {},
     "outputs": []
    },
    {
     "cell_type": "code",
     "collapsed": false,
     "input": [
      "l[2]"
     ],
     "language": "python",
     "metadata": {},
     "outputs": []
    },
    {
     "cell_type": "code",
     "collapsed": false,
     "input": [
      "# multiple indices are used to retrieve elements in nested lists \n",
      "l[2][0]"
     ],
     "language": "python",
     "metadata": {},
     "outputs": []
    },
    {
     "cell_type": "code",
     "collapsed": false,
     "input": [
      "# length of a list\n",
      "len(l)"
     ],
     "language": "python",
     "metadata": {},
     "outputs": []
    },
    {
     "cell_type": "code",
     "collapsed": false,
     "input": [
      "# deleting an object from a list\n",
      "del l[2]\n",
      "l"
     ],
     "language": "python",
     "metadata": {},
     "outputs": []
    },
    {
     "cell_type": "code",
     "collapsed": false,
     "input": [
      "# testing for membership\n",
      "l = [10,11,12,13,14]\n",
      "13 in l"
     ],
     "language": "python",
     "metadata": {},
     "outputs": []
    },
    {
     "cell_type": "code",
     "collapsed": false,
     "input": [
      "13 not in l"
     ],
     "language": "python",
     "metadata": {},
     "outputs": []
    },
    {
     "cell_type": "markdown",
     "metadata": {},
     "source": [
      "<div class=\"row\">\n",
      "<div class=\"span alert alert-error\">\n",
      "List assignment using '=' does not copy, but  adds an additional handle to the list.  \n",
      "This is a common GOTCHA for new python programmers!\n",
      "</div>\n",
      "</div>"
     ]
    },
    {
     "cell_type": "markdown",
     "metadata": {},
     "source": [
      "### Slicing"
     ]
    },
    {
     "cell_type": "code",
     "collapsed": false,
     "input": [
      "# slices extract a portion of a list that goes up to but does\n",
      "# not include the upper bound. Mathematically this corresponds \n",
      "# to [lower,upper)\n",
      "l = [10,11,12,13,14]\n",
      "l[1:3]"
     ],
     "language": "python",
     "metadata": {},
     "outputs": []
    },
    {
     "cell_type": "code",
     "collapsed": false,
     "input": [
      "# negative indices also work\n",
      "l[1:-2]"
     ],
     "language": "python",
     "metadata": {},
     "outputs": []
    },
    {
     "cell_type": "code",
     "collapsed": false,
     "input": [
      "l[-4:-3]"
     ],
     "language": "python",
     "metadata": {},
     "outputs": []
    },
    {
     "cell_type": "code",
     "collapsed": false,
     "input": [
      "# ommitted boundares are assumed to be either the start or end of the list\n",
      "l[:3]"
     ],
     "language": "python",
     "metadata": {},
     "outputs": []
    },
    {
     "cell_type": "code",
     "collapsed": false,
     "input": [
      "l[-2:]"
     ],
     "language": "python",
     "metadata": {},
     "outputs": []
    },
    {
     "cell_type": "code",
     "collapsed": false,
     "input": [
      "# we can use strides to extract odd\n",
      "l[::2]"
     ],
     "language": "python",
     "metadata": {},
     "outputs": []
    },
    {
     "cell_type": "code",
     "collapsed": false,
     "input": [
      "# even\n",
      "l[1::2]"
     ],
     "language": "python",
     "metadata": {},
     "outputs": []
    },
    {
     "cell_type": "code",
     "collapsed": false,
     "input": [
      "# or any equally spaced elements\n",
      "l[::3]"
     ],
     "language": "python",
     "metadata": {},
     "outputs": []
    },
    {
     "cell_type": "markdown",
     "metadata": {},
     "source": [
      "<div class=\"row\">\n",
      "<div class=\"span4 alert alert-info\">\n",
      "Question: What is the output of:\n",
      "<code>\n",
      "grades_296 = [99,90,79,85,88]\n",
      "grades_296[1:-1:2]\n",
      "</code>\n",
      "<ol class=\"a\">\n",
      "<li>[90,85] </li>\n",
      "<li>[99,79,88] </li>\n",
      "<li>[79,90] </li>\n",
      "<li> none/other/error</li>\n",
      "</ol>\n",
      "</div>\n",
      "</div>"
     ]
    },
    {
     "cell_type": "code",
     "collapsed": false,
     "input": [
      "grades_296 = [99,90,78,85,88]\n",
      "grades_296[1:-1:2]"
     ],
     "language": "python",
     "metadata": {},
     "outputs": []
    },
    {
     "cell_type": "markdown",
     "metadata": {},
     "source": [
      "### List operations"
     ]
    },
    {
     "cell_type": "code",
     "collapsed": false,
     "input": [
      "# counting the number of times an item appears\n",
      "l = [10,10,10,11]\n",
      "l.count(10)"
     ],
     "language": "python",
     "metadata": {},
     "outputs": []
    },
    {
     "cell_type": "code",
     "collapsed": false,
     "input": [
      "# append an item to a list\n",
      "l = [10,11,12,13,14]\n",
      "l.append(15)\n",
      "l"
     ],
     "language": "python",
     "metadata": {},
     "outputs": []
    },
    {
     "cell_type": "code",
     "collapsed": false,
     "input": [
      "# inset an item into a list\n",
      "l.insert(3,12.5)\n",
      "l"
     ],
     "language": "python",
     "metadata": {},
     "outputs": []
    },
    {
     "cell_type": "code",
     "collapsed": false,
     "input": [
      "# remove a specified item from a list\n",
      "l.remove(13)\n",
      "l"
     ],
     "language": "python",
     "metadata": {},
     "outputs": []
    },
    {
     "cell_type": "code",
     "collapsed": false,
     "input": [
      "# get the index of a list element\n",
      "l.index(14)"
     ],
     "language": "python",
     "metadata": {},
     "outputs": []
    },
    {
     "cell_type": "code",
     "collapsed": false,
     "input": [
      "# extend a list\n",
      "l.extend([16,17])\n",
      "l"
     ],
     "language": "python",
     "metadata": {},
     "outputs": []
    },
    {
     "cell_type": "code",
     "collapsed": false,
     "input": [
      "# remove the last item and return it\n",
      "l.pop()\n",
      "l"
     ],
     "language": "python",
     "metadata": {},
     "outputs": []
    },
    {
     "cell_type": "code",
     "collapsed": false,
     "input": [
      "# reverse the list in place\n",
      "l.reverse()\n",
      "l"
     ],
     "language": "python",
     "metadata": {},
     "outputs": []
    },
    {
     "cell_type": "code",
     "collapsed": false,
     "input": [
      "# sort the list, a custom comparison can be used\n",
      "l.sort()\n",
      "l"
     ],
     "language": "python",
     "metadata": {},
     "outputs": []
    },
    {
     "cell_type": "markdown",
     "metadata": {},
     "source": [
      "### Extend vs. Append"
     ]
    },
    {
     "cell_type": "code",
     "collapsed": false,
     "input": [
      "# append adds an item to a list\n",
      "l = [1,2,3,4]\n",
      "l.append([5,6])\n",
      "l"
     ],
     "language": "python",
     "metadata": {},
     "outputs": []
    },
    {
     "cell_type": "code",
     "collapsed": false,
     "input": [
      "# while extend concatenates lists\n",
      "l = [1,2,3,4]\n",
      "l.extend([5,6])\n",
      "l"
     ],
     "language": "python",
     "metadata": {},
     "outputs": []
    },
    {
     "cell_type": "code",
     "collapsed": false,
     "input": [
      "# you can extend with an arbitrarily iterable\n",
      "l.extend('abc')\n",
      "l"
     ],
     "language": "python",
     "metadata": {},
     "outputs": []
    },
    {
     "cell_type": "code",
     "collapsed": false,
     "input": [
      "# a list can be easily used a stack\n",
      "stack = [3,4,5]\n",
      "stack.append(6)\n",
      "stack.append(7)\n",
      "stack"
     ],
     "language": "python",
     "metadata": {},
     "outputs": []
    },
    {
     "cell_type": "code",
     "collapsed": false,
     "input": [
      "stack.pop()\n",
      "stack"
     ],
     "language": "python",
     "metadata": {},
     "outputs": []
    },
    {
     "cell_type": "code",
     "collapsed": false,
     "input": [
      "stack.pop()\n",
      "stack.pop()\n",
      "stack"
     ],
     "language": "python",
     "metadata": {},
     "outputs": []
    },
    {
     "cell_type": "markdown",
     "metadata": {},
     "source": [
      "### Lists are mutable\n",
      "They can be changed in place"
     ]
    },
    {
     "cell_type": "code",
     "collapsed": false,
     "input": [
      "l = [10,11,12,13,14]\n",
      "l[1:3] = [5,6]"
     ],
     "language": "python",
     "metadata": {},
     "outputs": []
    },
    {
     "cell_type": "markdown",
     "metadata": {},
     "source": [
      "<div class=\"row\">\n",
      "<div class=\"span4 alert alert-info\">\n",
      "Question: What is the output of: `print l`\n",
      "<ol class=\"a\">\n",
      "<li>[5,6]</li>\n",
      "<li>[10,5,6,13,14]</li>\n",
      "<li>[5,6,12,13,14]</li>\n",
      "<li> None of the above</li>\n",
      "</ol>\n",
      "</div>\n",
      "</div>"
     ]
    },
    {
     "cell_type": "code",
     "collapsed": false,
     "input": [
      "print l"
     ],
     "language": "python",
     "metadata": {},
     "outputs": []
    },
    {
     "cell_type": "markdown",
     "metadata": {},
     "source": [
      "### List Assignment\n",
      "Assignment for lists provides a new *handle* for the data"
     ]
    },
    {
     "cell_type": "code",
     "collapsed": false,
     "input": [
      "l1 = [1,2,3,4,5]"
     ],
     "language": "python",
     "metadata": {},
     "outputs": []
    },
    {
     "cell_type": "code",
     "collapsed": false,
     "input": [
      "# using '=' adds a new name for a list stored in memory \n",
      "l2 = l1\n",
      "print l1,'\\n',l2"
     ],
     "language": "python",
     "metadata": {},
     "outputs": []
    },
    {
     "cell_type": "code",
     "collapsed": false,
     "input": [
      "# changes to l1 will also change l2\n",
      "l1[2] = -1\n",
      "print l1,'\\n',l2 "
     ],
     "language": "python",
     "metadata": {},
     "outputs": []
    },
    {
     "cell_type": "code",
     "collapsed": false,
     "input": [
      "# we can get around this by using the list() method to make a copy\n",
      "l3 = list(l1)\n",
      "l1[0] = -7\n",
      "print l1,'\\n',l2,'\\n',l3"
     ],
     "language": "python",
     "metadata": {},
     "outputs": []
    },
    {
     "cell_type": "code",
     "collapsed": false,
     "input": [
      "from IPython.display import Image\n",
      "Image(filename='lists.png')"
     ],
     "language": "python",
     "metadata": {},
     "outputs": []
    },
    {
     "cell_type": "markdown",
     "metadata": {},
     "source": [
      "<div class=\"row\">\n",
      "<div class=\"span alert alert-error\">\n",
      "Be careful when creating a new list from an old one. This may lead to unexpected results, as the original list will be changed when updating the new list.  If in doubt, make a copy.\n",
      "</div>\n",
      "</div>"
     ]
    },
    {
     "cell_type": "markdown",
     "metadata": {},
     "source": [
      "### Strings as lists\n",
      "\n",
      "Strings can be treated as lists and indexed/sliced, but they are immutable!"
     ]
    },
    {
     "cell_type": "code",
     "collapsed": false,
     "input": [
      "s = 'abcde'\n",
      "s[1:3] = 'xy'"
     ],
     "language": "python",
     "metadata": {},
     "outputs": []
    },
    {
     "cell_type": "code",
     "collapsed": false,
     "input": [
      "# here's how we do it\n",
      "s = s[:1] + 'xy' + s[3:]\n",
      "print s"
     ],
     "language": "python",
     "metadata": {},
     "outputs": []
    },
    {
     "cell_type": "markdown",
     "metadata": {},
     "source": [
      "## Dictionaries\n",
      "\n",
      "Extremely useful hetrogeneous container that stores key/value pairs.  This generalizes a list which maps an integer to some data.  Indexing a dictionary by a key returns the value associated with it"
     ]
    },
    {
     "cell_type": "code",
     "collapsed": false,
     "input": [
      "# create an empty dictionary using curly brackets \n",
      "record = {} \n",
      "record['first'] = 'James'\n",
      "record['last'] = 'Maxwell'\n",
      "record['born'] = 1831 \n",
      "print record "
     ],
     "language": "python",
     "metadata": {},
     "outputs": []
    },
    {
     "cell_type": "code",
     "collapsed": false,
     "input": [
      "# create another dictionary with initial entries \n",
      "new_record = {'middle':'Clerk'} "
     ],
     "language": "python",
     "metadata": {},
     "outputs": []
    },
    {
     "cell_type": "code",
     "collapsed": false,
     "input": [
      "# now update the first dictionary with values from the new one  \n",
      "record.update(new_record)\n",
      "print record"
     ],
     "language": "python",
     "metadata": {},
     "outputs": []
    },
    {
     "cell_type": "code",
     "collapsed": false,
     "input": [
      "# we could have also just inserted it directly\n",
      "record['died'] = 1879\n",
      "print record"
     ],
     "language": "python",
     "metadata": {},
     "outputs": []
    },
    {
     "cell_type": "markdown",
     "metadata": {},
     "source": [
      "notice that the elements don't seem to be stored in any particular order!\n",
      "\n",
      "### Dictionary methods"
     ]
    },
    {
     "cell_type": "code",
     "collapsed": false,
     "input": [
      "# can create a dictionary all in one shot\n",
      "physics = {'theory':1, 'experiment':4, 'computational':10}\n",
      "print physics['computational']"
     ],
     "language": "python",
     "metadata": {},
     "outputs": []
    },
    {
     "cell_type": "code",
     "collapsed": false,
     "input": [
      "# or we can use the zip method\n",
      "keys = ['theory','experiment','computational']\n",
      "values = [1, 4, 10]\n",
      "physics_296 = dict(zip(keys, values))\n",
      "print physics_296"
     ],
     "language": "python",
     "metadata": {},
     "outputs": []
    },
    {
     "cell_type": "code",
     "collapsed": false,
     "input": [
      "# testing for a key\n",
      "physics_296.has_key('experiment')"
     ],
     "language": "python",
     "metadata": {},
     "outputs": []
    },
    {
     "cell_type": "code",
     "collapsed": false,
     "input": [
      "# get a list of all keys\n",
      "physics_296.keys()"
     ],
     "language": "python",
     "metadata": {},
     "outputs": []
    },
    {
     "cell_type": "code",
     "collapsed": false,
     "input": [
      "# get a list of all values\n",
      "physics_296.values()"
     ],
     "language": "python",
     "metadata": {},
     "outputs": []
    },
    {
     "cell_type": "code",
     "collapsed": false,
     "input": [
      "# get a list of all key/val pairs\n",
      "physics_296.items()"
     ],
     "language": "python",
     "metadata": {},
     "outputs": []
    },
    {
     "cell_type": "code",
     "collapsed": false,
     "input": [
      "# remove a key/val pair\n",
      "del physics_296['experiment']\n",
      "print physics_296"
     ],
     "language": "python",
     "metadata": {},
     "outputs": []
    },
    {
     "cell_type": "code",
     "collapsed": false,
     "input": [
      "# test for a key\n",
      "'experiment' in physics_296"
     ],
     "language": "python",
     "metadata": {},
     "outputs": []
    },
    {
     "cell_type": "code",
     "collapsed": false,
     "input": [
      "# iterating through a dictionary\n",
      "al_east_wins = {'Orioles':75, 'Yankees':69, 'Blue Jays':67, 'Rays':65, 'Red Sox':58}\n",
      "\n",
      "for team,wins in al_east_wins.items():\n",
      "    print '%12s\\t%s' % (team,wins)"
     ],
     "language": "python",
     "metadata": {},
     "outputs": []
    },
    {
     "cell_type": "markdown",
     "metadata": {},
     "source": [
      "## Tuples\n",
      "\n",
      "Tuples are sequences of values, created with square brackets.  However, unlike lists, they are immutable."
     ]
    },
    {
     "cell_type": "code",
     "collapsed": false,
     "input": [
      "# can be created with our without round brackets\n",
      "d = 1,2,3\n",
      "print d\n",
      "\n",
      "d = (4,5,6)\n",
      "print d"
     ],
     "language": "python",
     "metadata": {},
     "outputs": []
    },
    {
     "cell_type": "code",
     "collapsed": false,
     "input": [
      "# they are indexed in the same way as lists\n",
      "d[0]"
     ],
     "language": "python",
     "metadata": {},
     "outputs": []
    },
    {
     "cell_type": "code",
     "collapsed": false,
     "input": [
      "# they are immutable, so assignments fail\n",
      "d[0] = 8"
     ],
     "language": "python",
     "metadata": {},
     "outputs": []
    },
    {
     "cell_type": "code",
     "collapsed": false,
     "input": [
      "# you have already seen them when formatting output\n",
      "print '%s = %6.4f' % ('pi', 3.14159265358979)"
     ],
     "language": "python",
     "metadata": {},
     "outputs": []
    },
    {
     "cell_type": "code",
     "collapsed": false,
     "input": [
      "# and when doing multiple assignments\n",
      "a,b,c = 1,2,3\n",
      "print b\n",
      "\n",
      "d = 4,5,6\n",
      "a,b,c = d\n",
      "print b"
     ],
     "language": "python",
     "metadata": {},
     "outputs": []
    }
   ],
   "metadata": {}
  }
 ]
}